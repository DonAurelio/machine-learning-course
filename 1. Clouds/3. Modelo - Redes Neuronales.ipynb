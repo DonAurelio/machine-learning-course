{
 "cells": [
  {
   "cell_type": "markdown",
   "metadata": {},
   "source": [
    "# Modelo de Redes Neuronales\n",
    "\n",
    "En el presente notebook se construye un modelo de Red Neuronal a partir del conjunto de datos que sigue la estructura de la tabla mostrada abajo. Para esta tabla **blue**, **green**, **red**, **nir**, **swir1** y **swir2** son las características de los pixeles de una escena landsat y **wofs**, **bosque**, **wofs_bosque**,  **ninguno**, **cloud** son las clases a la cual pertence casa pixel. Un pixel solo pertenece a una única clase.\n",
    "El modelo generado es guardado en el archivo **model.h5** para su posterior uso en otros notebooks.\n",
    "\n",
    "\n",
    "| blue | green | red | nir | swir1 | swir2 | wofs | bosque | wofs_bosque | ninguno  | cloud |\n",
    "|------|-------|-----|-----|-------|-------|------|--------|-------------|----------|-------|\n",
    "|      |       |     |     |       |       |      |        |             |          |       |\n"
   ]
  },
  {
   "cell_type": "code",
   "execution_count": 13,
   "metadata": {},
   "outputs": [],
   "source": [
    "%matplotlib inline\n",
    "\n",
    "from keras.datasets import fashion_mnist\n",
    "from keras.models import Sequential\n",
    "from keras import regularizers\n",
    "from sklearn.metrics import confusion_matrix\n",
    "from sklearn.model_selection import cross_val_score, train_test_split\n",
    "from sklearn.metrics import classification_report\n",
    "\n",
    "import keras\n",
    "import matplotlib.pyplot as plt\n",
    "from rasterio.plot import show\n",
    "import xarray as xr\n",
    "\n",
    "import rasterio\n",
    "import glob\n",
    "import os\n",
    "import numpy as np\n",
    "import pandas as pd"
   ]
  },
  {
   "cell_type": "markdown",
   "metadata": {},
   "source": [
    "## Lectura del Dataset por URL"
   ]
  },
  {
   "cell_type": "code",
   "execution_count": 2,
   "metadata": {},
   "outputs": [
    {
     "data": {
      "text/html": [
       "<div>\n",
       "<style scoped>\n",
       "    .dataframe tbody tr th:only-of-type {\n",
       "        vertical-align: middle;\n",
       "    }\n",
       "\n",
       "    .dataframe tbody tr th {\n",
       "        vertical-align: top;\n",
       "    }\n",
       "\n",
       "    .dataframe thead th {\n",
       "        text-align: right;\n",
       "    }\n",
       "</style>\n",
       "<table border=\"1\" class=\"dataframe\">\n",
       "  <thead>\n",
       "    <tr style=\"text-align: right;\">\n",
       "      <th></th>\n",
       "      <th>blue</th>\n",
       "      <th>green</th>\n",
       "      <th>red</th>\n",
       "      <th>nir</th>\n",
       "      <th>swir1</th>\n",
       "      <th>swir2</th>\n",
       "      <th>wofs</th>\n",
       "      <th>bosque</th>\n",
       "      <th>wofs_bosque</th>\n",
       "      <th>ninguno</th>\n",
       "      <th>cloud</th>\n",
       "    </tr>\n",
       "  </thead>\n",
       "  <tbody>\n",
       "    <tr>\n",
       "      <th>0</th>\n",
       "      <td>8452.0</td>\n",
       "      <td>8750.0</td>\n",
       "      <td>8900.0</td>\n",
       "      <td>9146.0</td>\n",
       "      <td>6759.0</td>\n",
       "      <td>4585.0</td>\n",
       "      <td>0</td>\n",
       "      <td>0</td>\n",
       "      <td>0</td>\n",
       "      <td>0</td>\n",
       "      <td>1</td>\n",
       "    </tr>\n",
       "    <tr>\n",
       "      <th>1</th>\n",
       "      <td>299.0</td>\n",
       "      <td>203.0</td>\n",
       "      <td>100.0</td>\n",
       "      <td>73.0</td>\n",
       "      <td>79.0</td>\n",
       "      <td>60.0</td>\n",
       "      <td>1</td>\n",
       "      <td>0</td>\n",
       "      <td>0</td>\n",
       "      <td>0</td>\n",
       "      <td>0</td>\n",
       "    </tr>\n",
       "    <tr>\n",
       "      <th>2</th>\n",
       "      <td>5167.0</td>\n",
       "      <td>4956.0</td>\n",
       "      <td>4945.0</td>\n",
       "      <td>5647.0</td>\n",
       "      <td>3920.0</td>\n",
       "      <td>2588.0</td>\n",
       "      <td>0</td>\n",
       "      <td>0</td>\n",
       "      <td>0</td>\n",
       "      <td>0</td>\n",
       "      <td>1</td>\n",
       "    </tr>\n",
       "    <tr>\n",
       "      <th>3</th>\n",
       "      <td>245.0</td>\n",
       "      <td>177.0</td>\n",
       "      <td>93.0</td>\n",
       "      <td>75.0</td>\n",
       "      <td>100.0</td>\n",
       "      <td>80.0</td>\n",
       "      <td>1</td>\n",
       "      <td>0</td>\n",
       "      <td>0</td>\n",
       "      <td>0</td>\n",
       "      <td>0</td>\n",
       "    </tr>\n",
       "    <tr>\n",
       "      <th>4</th>\n",
       "      <td>259.0</td>\n",
       "      <td>179.0</td>\n",
       "      <td>92.0</td>\n",
       "      <td>64.0</td>\n",
       "      <td>89.0</td>\n",
       "      <td>72.0</td>\n",
       "      <td>1</td>\n",
       "      <td>0</td>\n",
       "      <td>0</td>\n",
       "      <td>0</td>\n",
       "      <td>0</td>\n",
       "    </tr>\n",
       "  </tbody>\n",
       "</table>\n",
       "</div>"
      ],
      "text/plain": [
       "     blue   green     red     nir   swir1   swir2  wofs  bosque  wofs_bosque  \\\n",
       "0  8452.0  8750.0  8900.0  9146.0  6759.0  4585.0     0       0            0   \n",
       "1   299.0   203.0   100.0    73.0    79.0    60.0     1       0            0   \n",
       "2  5167.0  4956.0  4945.0  5647.0  3920.0  2588.0     0       0            0   \n",
       "3   245.0   177.0    93.0    75.0   100.0    80.0     1       0            0   \n",
       "4   259.0   179.0    92.0    64.0    89.0    72.0     1       0            0   \n",
       "\n",
       "   ninguno  cloud  \n",
       "0        0      1  \n",
       "1        0      0  \n",
       "2        0      1  \n",
       "3        0      0  \n",
       "4        0      0  "
      ]
     },
     "execution_count": 2,
     "metadata": {},
     "output_type": "execute_result"
    }
   ],
   "source": [
    "data = pd.read_csv('https://docs.google.com/uc?export=download&id=1zIf10M5nkLdneCYU1Kw_KyEOynNp3hb2')\n",
    "data.head()"
   ]
  },
  {
   "cell_type": "code",
   "execution_count": 3,
   "metadata": {},
   "outputs": [
    {
     "name": "stdout",
     "output_type": "stream",
     "text": [
      "<class 'pandas.core.frame.DataFrame'>\n",
      "RangeIndex: 1000000 entries, 0 to 999999\n",
      "Data columns (total 11 columns):\n",
      "blue           1000000 non-null float64\n",
      "green          1000000 non-null float64\n",
      "red            1000000 non-null float64\n",
      "nir            1000000 non-null float64\n",
      "swir1          1000000 non-null float64\n",
      "swir2          1000000 non-null float64\n",
      "wofs           1000000 non-null int64\n",
      "bosque         1000000 non-null int64\n",
      "wofs_bosque    1000000 non-null int64\n",
      "ninguno        1000000 non-null int64\n",
      "cloud          1000000 non-null int64\n",
      "dtypes: float64(6), int64(5)\n",
      "memory usage: 83.9 MB\n"
     ]
    }
   ],
   "source": [
    "data.info()"
   ]
  },
  {
   "cell_type": "markdown",
   "metadata": {},
   "source": [
    "Se preparan los datos separando las characteristicas de los pixeles y las etiquetas de los pixeles. Luego se separan los datos en datos de entrenamiento y datos de prueba."
   ]
  },
  {
   "cell_type": "code",
   "execution_count": 4,
   "metadata": {},
   "outputs": [],
   "source": [
    "dataset_X = data.drop(columns=['wofs','bosque','wofs_bosque','ninguno','cloud'], axis=1)\n",
    "dataset_Y = data[['wofs','bosque','wofs_bosque','ninguno','cloud']]\n",
    "\n",
    "X_train, X_test, y_train, y_test = train_test_split(dataset_X, dataset_Y, test_size=0.2)\n",
    "X_train = X_train.to_numpy()\n",
    "X_test = X_test.to_numpy()\n",
    "y_train = y_train.to_numpy()\n",
    "y_test = y_test.to_numpy()"
   ]
  },
  {
   "cell_type": "markdown",
   "metadata": {},
   "source": [
    "## Definición del Modelo"
   ]
  },
  {
   "cell_type": "markdown",
   "metadata": {},
   "source": [
    "Se experimento con varios modelos distintos. Inicialmente se probó con modelos de una sola capa con una neurona, 4 neuronas, 6 neuronas, y 9 neuronas, agregando más neuronas después de este punto no se obtuvieron mejoras significativas. Luego se experimentó agregando más capas al modelo, la exactitud mejoró significativamente hasta la tercera capa. \n",
    "\n",
    "Se utilizó la función de activacion ReLU en todas las capas. La función softmax en la capa de salida asegura una clasificación mutuamente excluyente."
   ]
  },
  {
   "cell_type": "code",
   "execution_count": 5,
   "metadata": {},
   "outputs": [
    {
     "name": "stdout",
     "output_type": "stream",
     "text": [
      "Model: \"sequential_1\"\n",
      "_________________________________________________________________\n",
      "Layer (type)                 Output Shape              Param #   \n",
      "=================================================================\n",
      "dense_1 (Dense)              (None, 9)                 63        \n",
      "_________________________________________________________________\n",
      "dense_2 (Dense)              (None, 9)                 90        \n",
      "_________________________________________________________________\n",
      "dense_3 (Dense)              (None, 9)                 90        \n",
      "_________________________________________________________________\n",
      "dense_4 (Dense)              (None, 5)                 50        \n",
      "=================================================================\n",
      "Total params: 293\n",
      "Trainable params: 293\n",
      "Non-trainable params: 0\n",
      "_________________________________________________________________\n"
     ]
    }
   ],
   "source": [
    "model = keras.Sequential([\n",
    "    keras.layers.Dense(9,input_dim=6, activation='relu'),\n",
    "    keras.layers.Dense(9, activation='relu'),\n",
    "    keras.layers.Dense(9, activation='relu'),\n",
    "    keras.layers.Dense(5, activation='softmax')\n",
    "])\n",
    "\n",
    "model.compile(\n",
    "    optimizer='adam',\n",
    "    loss='categorical_crossentropy',\n",
    "    metrics=['accuracy']\n",
    ")\n",
    "# Resumen de parámetros del modelo\n",
    "model.summary()"
   ]
  },
  {
   "cell_type": "code",
   "execution_count": 6,
   "metadata": {},
   "outputs": [
    {
     "name": "stdout",
     "output_type": "stream",
     "text": [
      "Epoch 1/2\n",
      "800000/800000 [==============================] - 11s 14us/step - loss: 0.4425 - accuracy: 0.9566\n",
      "Epoch 2/2\n",
      "800000/800000 [==============================] - 11s 14us/step - loss: 0.0836 - accuracy: 0.9691\n"
     ]
    },
    {
     "data": {
      "text/plain": [
       "<keras.callbacks.callbacks.History at 0x7fb4a72f9b70>"
      ]
     },
     "execution_count": 6,
     "metadata": {},
     "output_type": "execute_result"
    }
   ],
   "source": [
    "# ENTRENAMIENTO\n",
    "model.fit(X_train, y_train, epochs=2)"
   ]
  },
  {
   "cell_type": "code",
   "execution_count": 7,
   "metadata": {},
   "outputs": [
    {
     "name": "stdout",
     "output_type": "stream",
     "text": [
      "Saving model...\n"
     ]
    }
   ],
   "source": [
    "print(\"Saving model...\")\n",
    "model.save(\"model.h5\")"
   ]
  },
  {
   "cell_type": "markdown",
   "metadata": {},
   "source": [
    "## Resultados\n",
    "\n",
    "* Clase 0 (wofs): Agua\n",
    "* Clase 1 (bosque): Bosque\n",
    "* Clase 2 (wofs_bosque): Agua o Bosque\n",
    "* Clase 3 (cloud): Nubes\n",
    "* Clase 4 (ninguno): Ninguna de las coverturas anteriores. Puedes ser repreentar una urbanización."
   ]
  },
  {
   "cell_type": "code",
   "execution_count": 8,
   "metadata": {},
   "outputs": [
    {
     "name": "stdout",
     "output_type": "stream",
     "text": [
      "\n",
      "Test accuracy: 0.9689499735832214\n"
     ]
    }
   ],
   "source": [
    "# EVALUACIÓN\n",
    "test_loss, test_acc = model.evaluate(X_test, y_test, verbose=2)\n",
    "print('\\nTest accuracy:', test_acc)"
   ]
  },
  {
   "cell_type": "code",
   "execution_count": 9,
   "metadata": {},
   "outputs": [
    {
     "data": {
      "text/plain": [
       "array([1, 1, 1, ..., 0, 0, 1])"
      ]
     },
     "execution_count": 9,
     "metadata": {},
     "output_type": "execute_result"
    }
   ],
   "source": [
    "y_pred = model.predict(X_test)\n",
    "y_pred_classes = np.argmax(y_pred,axis=1)\n",
    "y_pred_classes"
   ]
  },
  {
   "cell_type": "code",
   "execution_count": 10,
   "metadata": {},
   "outputs": [
    {
     "data": {
      "text/plain": [
       "array([1, 1, 1, ..., 0, 0, 1])"
      ]
     },
     "execution_count": 10,
     "metadata": {},
     "output_type": "execute_result"
    }
   ],
   "source": [
    "y_test_classes = np.argmax(y_test,axis=1)\n",
    "y_test_classes"
   ]
  },
  {
   "cell_type": "code",
   "execution_count": 11,
   "metadata": {},
   "outputs": [
    {
     "data": {
      "text/plain": [
       "array([[67435,     0,     0,   230,   269],\n",
       "       [    9, 41094,     0,  2101,    90],\n",
       "       [   31,     0,     0,    10,     2],\n",
       "       [   81,   656,     0,  6293,  2082],\n",
       "       [   14,     9,     0,   626, 78968]])"
      ]
     },
     "execution_count": 11,
     "metadata": {},
     "output_type": "execute_result"
    }
   ],
   "source": [
    "confusion_matrix(y_test_classes, y_pred_classes)"
   ]
  },
  {
   "cell_type": "code",
   "execution_count": 14,
   "metadata": {},
   "outputs": [
    {
     "name": "stdout",
     "output_type": "stream",
     "text": [
      "              precision    recall  f1-score   support\n",
      "\n",
      "           0       1.00      0.99      1.00     67934\n",
      "           1       0.98      0.95      0.97     43294\n",
      "           2       0.00      0.00      0.00        43\n",
      "           3       0.68      0.69      0.69      9112\n",
      "           4       0.97      0.99      0.98     79617\n",
      "\n",
      "    accuracy                           0.97    200000\n",
      "   macro avg       0.73      0.72      0.73    200000\n",
      "weighted avg       0.97      0.97      0.97    200000\n",
      "\n"
     ]
    }
   ],
   "source": [
    "print(classification_report(y_test_classes, y_pred_classes))"
   ]
  },
  {
   "cell_type": "markdown",
   "metadata": {},
   "source": [
    "## Análisis y Conclusiones\n",
    "\n",
    "El modelo entrenado logra una exactitud del 96% sobre los datos de prueba. Comparandolo con el modelo sin la clase \"cloud\", este modelo logra una menor exactitud causado por una menor representación en los datos para las otras clases. La clase que fué más afectada fue \"ninguno\".\n",
    "\n",
    "Las clases de \"wofs\", \"bosque\", y \"cloud\" son las mejores representadas en el dataset, y consequentement, logra mejores resultados en las predicciones del modelo, con una precisión del 98%.\n",
    "\n",
    "La clase \"ninguno\" logra una precisión del 69%, y un recall del 75%, valores significativamente menores que aquellos obtenidos en el modelo sin nubes. A pesar de su poca representación en los datos, esta clase obtuvo metricas relativamente altas, estó parece indicar que esta clase posee caracteristicas faciles de identificar(Con valores del espectro de luz significativamente diferentes a los del bosque o el agua). Sin embargo, considerando que esta clase representa muchos terrenos, es posible que el modelo no generalice bien esta clase con otras imagenes satelitales.\n",
    "\n",
    "Al igual que el modelo sin nubes, la clase wofs_bosque, siendo la menos representada, no logra ser predecida por el modelo. Esto se evidencia en una precisión y un recall igual a 0.\n",
    "\n",
    "Para solucionar la poca representación de wofs_bosque, se podría buscar una imagen satelital con mayor superposición entre bosque y agua, como, por ejemplo, manglares, pantanos, o lagunas."
   ]
  }
 ],
 "metadata": {
  "kernelspec": {
   "display_name": "Python 3",
   "language": "python",
   "name": "python3"
  },
  "language_info": {
   "codemirror_mode": {
    "name": "ipython",
    "version": 3
   },
   "file_extension": ".py",
   "mimetype": "text/x-python",
   "name": "python",
   "nbconvert_exporter": "python",
   "pygments_lexer": "ipython3",
   "version": "3.6.5"
  }
 },
 "nbformat": 4,
 "nbformat_minor": 2
}
