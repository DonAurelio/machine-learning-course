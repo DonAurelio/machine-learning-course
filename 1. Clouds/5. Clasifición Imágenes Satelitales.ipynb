{
 "cells": [
  {
   "cell_type": "markdown",
   "metadata": {},
   "source": [
    "# Clasificación de un Compuesto de Medianas\n",
    "\n",
    "En el presente notebook se hace la clasificación de un compuesto temporal de medianas extraido del repositorio\n",
    "de imgágenes del **Cubo de Datos de Imágenes de Satélite de Colombia** en el IDEAM. Un compuesto es un una imagen\n",
    "libre de nubes contruida por medio de una serie de tomas en el tiempo.\n",
    "\n",
    "## Referencias\n",
    "\n",
    "1. http://cdcol.ideam.gov.co/profile/home/"
   ]
  },
  {
   "cell_type": "code",
   "execution_count": 1,
   "metadata": {},
   "outputs": [],
   "source": [
    "%matplotlib inline\n",
    "\n",
    "import xarray as xr\n",
    "import numpy as np\n",
    "import matplotlib.pyplot as plt\n",
    "from matplotlib.colors import ListedColormap"
   ]
  },
  {
   "cell_type": "markdown",
   "metadata": {},
   "source": [
    "## Carga de un Archivo tif\n",
    "\n",
    "La función **open_rasterio** permite cargar los datos deun archivo Geotiff en un arreglo multidimensional. La forma del arreglo depende de cómo haya sido generado el archivo por parte del IDEAM."
   ]
  },
  {
   "cell_type": "code",
   "execution_count": 2,
   "metadata": {},
   "outputs": [],
   "source": [
    "from rasterio.plot import show\n",
    "import pandas as pd\n",
    "import numpy as np\n",
    "import xarray as xr\n",
    "\n",
    "# Wofs imports\n",
    "import gc\n",
    "import collections\n",
    "# Genrales\n",
    "import rasterio\n",
    "import os\n",
    "import glob\n",
    "import random\n",
    "\n",
    "# ## Carga de Archivos .tif\n",
    "\n",
    "# path = '../data/choco/LC080100562018011001T1-SC20191101092114'\n",
    "# path = '../data/choco/LC080100562018022701T1-SC20191101092059'\n",
    "\n",
    "def find_band_path(band_name,path):\n",
    "    lookup = path + '/*.tif'\n",
    "    bands_paths = glob.glob(lookup)\n",
    "    \n",
    "    condition = lambda file_name: band_name in file_name\n",
    "    result = list(filter(condition,bands_paths))\n",
    "\n",
    "    # result debería tener un único valor desde que \n",
    "    # un único path contiene el string que representa\n",
    "    # la variable band_name\n",
    "    assert len(result) == 1, 'Nombre de la banda incompleto'\n",
    "    return result.pop(0)\n",
    "\n",
    "def load_data_array(tif_path):\n",
    "    array = xr.open_rasterio(tif_path)\n",
    "    # Remueve la primer dimensión\n",
    "    # para obtener un arreglo de dos dimensiones\n",
    "    return array.squeeze(axis=0)\n",
    "\n",
    "\n",
    "def load_data(path,bands_mapping):\n",
    "    bands_dict = {}\n",
    "    for band_name, alias in bands_mapping:\n",
    "        bands_dict[alias] = load_data_array(find_band_path(band_name,path))\n",
    "        \n",
    "    return bands_dict"
   ]
  },
  {
   "cell_type": "code",
   "execution_count": 3,
   "metadata": {},
   "outputs": [
    {
     "name": "stdout",
     "output_type": "stream",
     "text": [
      "../../data/choco\n"
     ]
    },
    {
     "data": {
      "text/plain": [
       "array([[[-9999, -9999, -9999, ..., -9999, -9999, -9999],\n",
       "        [-9999, -9999, -9999, ..., -9999, -9999, -9999],\n",
       "        [-9999, -9999, -9999, ..., -9999, -9999, -9999],\n",
       "        ...,\n",
       "        [-9999, -9999, -9999, ..., -9999, -9999, -9999],\n",
       "        [-9999, -9999, -9999, ..., -9999, -9999, -9999],\n",
       "        [-9999, -9999, -9999, ..., -9999, -9999, -9999]],\n",
       "\n",
       "       [[-9999, -9999, -9999, ..., -9999, -9999, -9999],\n",
       "        [-9999, -9999, -9999, ..., -9999, -9999, -9999],\n",
       "        [-9999, -9999, -9999, ..., -9999, -9999, -9999],\n",
       "        ...,\n",
       "        [-9999, -9999, -9999, ..., -9999, -9999, -9999],\n",
       "        [-9999, -9999, -9999, ..., -9999, -9999, -9999],\n",
       "        [-9999, -9999, -9999, ..., -9999, -9999, -9999]],\n",
       "\n",
       "       [[-9999, -9999, -9999, ..., -9999, -9999, -9999],\n",
       "        [-9999, -9999, -9999, ..., -9999, -9999, -9999],\n",
       "        [-9999, -9999, -9999, ..., -9999, -9999, -9999],\n",
       "        ...,\n",
       "        [-9999, -9999, -9999, ..., -9999, -9999, -9999],\n",
       "        [-9999, -9999, -9999, ..., -9999, -9999, -9999],\n",
       "        [-9999, -9999, -9999, ..., -9999, -9999, -9999]],\n",
       "\n",
       "       [[-9999, -9999, -9999, ..., -9999, -9999, -9999],\n",
       "        [-9999, -9999, -9999, ..., -9999, -9999, -9999],\n",
       "        [-9999, -9999, -9999, ..., -9999, -9999, -9999],\n",
       "        ...,\n",
       "        [-9999, -9999, -9999, ..., -9999, -9999, -9999],\n",
       "        [-9999, -9999, -9999, ..., -9999, -9999, -9999],\n",
       "        [-9999, -9999, -9999, ..., -9999, -9999, -9999]],\n",
       "\n",
       "       [[-9999, -9999, -9999, ..., -9999, -9999, -9999],\n",
       "        [-9999, -9999, -9999, ..., -9999, -9999, -9999],\n",
       "        [-9999, -9999, -9999, ..., -9999, -9999, -9999],\n",
       "        ...,\n",
       "        [-9999, -9999, -9999, ..., -9999, -9999, -9999],\n",
       "        [-9999, -9999, -9999, ..., -9999, -9999, -9999],\n",
       "        [-9999, -9999, -9999, ..., -9999, -9999, -9999]],\n",
       "\n",
       "       [[-9999, -9999, -9999, ..., -9999, -9999, -9999],\n",
       "        [-9999, -9999, -9999, ..., -9999, -9999, -9999],\n",
       "        [-9999, -9999, -9999, ..., -9999, -9999, -9999],\n",
       "        ...,\n",
       "        [-9999, -9999, -9999, ..., -9999, -9999, -9999],\n",
       "        [-9999, -9999, -9999, ..., -9999, -9999, -9999],\n",
       "        [-9999, -9999, -9999, ..., -9999, -9999, -9999]]], dtype=int16)"
      ]
     },
     "execution_count": 3,
     "metadata": {},
     "output_type": "execute_result"
    }
   ],
   "source": [
    "path = '../../data/choco'\n",
    "\n",
    "print(path)\n",
    "\n",
    "band_names = [\n",
    "    ('band2','blue'),\n",
    "    ('band3','green'),\n",
    "    ('band4','red'),\n",
    "    ('band5','nir'),\n",
    "    ('band6','swir1'),\n",
    "    ('band7','swir2'),\n",
    "    ('pixel_qa','pixel_qa'),\n",
    "]\n",
    "\n",
    "# | blue | green | red | nir | swir1 | swir2 | wofs | bosque |\n",
    "# |------|-------|-----|-----|-------|-------|------|--------|\n",
    "# |      |       |     |     |       |       |      |        |\n",
    "\n",
    "data_array = load_data(path,band_names)\n",
    "\n",
    "\n",
    "\n",
    "blue = data_array['blue'].values\n",
    "green = data_array['green'].values\n",
    "red = data_array['red'].values\n",
    "nir = data_array['nir'].values\n",
    "swir1 = data_array['swir1'].values\n",
    "swir2 = data_array['swir2'].values\n",
    "\n",
    "data = np.array([\n",
    "blue,\n",
    "green,\n",
    "red,\n",
    "nir,\n",
    "swir1,\n",
    "swir2]\n",
    ")\n",
    "\n",
    "data"
   ]
  },
  {
   "cell_type": "code",
   "execution_count": 4,
   "metadata": {},
   "outputs": [],
   "source": [
    "# Muestra de una banda de la imágen multi espectral\n",
    "# data[1].plot()"
   ]
  },
  {
   "cell_type": "markdown",
   "metadata": {},
   "source": [
    "## Transformación del Arreglo para la Clasificación\n",
    "\n",
    "La transformación consiste en transponer el arrleglo multidimensional de tal forma que los valores de las bandas queden en un arreglo y no dispersos en diferentes arreglos. El siguie ejemplo es una muestra de la salida anterior. El primer arreglo bidimencional (commienza con **275.5**) corresponde a los datos en latitud y longitud de la primera banda de la imagén. El segundo arreglo commienza con **181.**) corresponde a la segúnda banda de la imágen. \n",
    "\n",
    "```python\n",
    "[[ **275.5**,  260. ,  218. , ..., 1076. ,  999. ,  950.5],\n",
    "[ 325. ,  251. ,  264.5, ..., 1017. , 1002.5,  859. ],\n",
    "[ 278. ,  322. ,  262.5, ...,  961. ,  880.5,  801.5],\n",
    "...,\n",
    "[ 562. ,  599. ,  553. , ..., 1085.5, 1022. , 1139. ],\n",
    "[ 541. ,  564. ,  568. , ...,  879.5,  782. ,  803. ],\n",
    "[ 495. ,  509. ,  566. , ...,  973. ,  869. ,  793. ]],\n",
    "\n",
    "[[ **181.** ,  175.5,  155. , ..., 2120.5, 2009. , 1928. ],\n",
    "[ 205. ,  168.5,  178.5, ..., 2081. , 2016.5, 1807. ],\n",
    "[ 181. ,  185. ,  176. , ..., 2096. , 1915. , 1777. ],\n",
    "...,\n",
    "[ 815. ,  884. ,  815. , ..., 1032. , 1271. , 2090.5],\n",
    "[ 807. ,  855. ,  866. , ..., 1507. , 1274. , 1364. ],\n",
    "[ 699. ,  782. ,  852. , ..., 1195. , 1026. , 1370. ]]\n",
    "```\n",
    "\n",
    "El objetivo de este paso es que los valores de las bandas **275.5** **181.** queden en la misma lista para facilitar el procesamiento de la imágen. La salida entonces es algo similar a\n",
    "\n",
    "```python\n",
    "[[[ **275.5**,  **181.** ,  213.5,  377. ,  215. ,  213.5],\n",
    "    [ 325. ,  205. ,  251. ,  443. ,  254. ,  250. ],\n",
    "    [ 278. ,  181. ,  204. ,  406. ,  209. ,  224. ],\n",
    "    ...,\n",
    "```"
   ]
  },
  {
   "cell_type": "code",
   "execution_count": 5,
   "metadata": {},
   "outputs": [
    {
     "name": "stdout",
     "output_type": "stream",
     "text": [
      "Shape: (7611, 7761, 6)\n"
     ]
    },
    {
     "data": {
      "text/plain": [
       "array([[[-9999, -9999, -9999, -9999, -9999, -9999],\n",
       "        [-9999, -9999, -9999, -9999, -9999, -9999],\n",
       "        [-9999, -9999, -9999, -9999, -9999, -9999],\n",
       "        ...,\n",
       "        [-9999, -9999, -9999, -9999, -9999, -9999],\n",
       "        [-9999, -9999, -9999, -9999, -9999, -9999],\n",
       "        [-9999, -9999, -9999, -9999, -9999, -9999]],\n",
       "\n",
       "       [[-9999, -9999, -9999, -9999, -9999, -9999],\n",
       "        [-9999, -9999, -9999, -9999, -9999, -9999],\n",
       "        [-9999, -9999, -9999, -9999, -9999, -9999],\n",
       "        ...,\n",
       "        [-9999, -9999, -9999, -9999, -9999, -9999],\n",
       "        [-9999, -9999, -9999, -9999, -9999, -9999],\n",
       "        [-9999, -9999, -9999, -9999, -9999, -9999]],\n",
       "\n",
       "       [[-9999, -9999, -9999, -9999, -9999, -9999],\n",
       "        [-9999, -9999, -9999, -9999, -9999, -9999],\n",
       "        [-9999, -9999, -9999, -9999, -9999, -9999],\n",
       "        ...,\n",
       "        [-9999, -9999, -9999, -9999, -9999, -9999],\n",
       "        [-9999, -9999, -9999, -9999, -9999, -9999],\n",
       "        [-9999, -9999, -9999, -9999, -9999, -9999]],\n",
       "\n",
       "       ...,\n",
       "\n",
       "       [[-9999, -9999, -9999, -9999, -9999, -9999],\n",
       "        [-9999, -9999, -9999, -9999, -9999, -9999],\n",
       "        [-9999, -9999, -9999, -9999, -9999, -9999],\n",
       "        ...,\n",
       "        [-9999, -9999, -9999, -9999, -9999, -9999],\n",
       "        [-9999, -9999, -9999, -9999, -9999, -9999],\n",
       "        [-9999, -9999, -9999, -9999, -9999, -9999]],\n",
       "\n",
       "       [[-9999, -9999, -9999, -9999, -9999, -9999],\n",
       "        [-9999, -9999, -9999, -9999, -9999, -9999],\n",
       "        [-9999, -9999, -9999, -9999, -9999, -9999],\n",
       "        ...,\n",
       "        [-9999, -9999, -9999, -9999, -9999, -9999],\n",
       "        [-9999, -9999, -9999, -9999, -9999, -9999],\n",
       "        [-9999, -9999, -9999, -9999, -9999, -9999]],\n",
       "\n",
       "       [[-9999, -9999, -9999, -9999, -9999, -9999],\n",
       "        [-9999, -9999, -9999, -9999, -9999, -9999],\n",
       "        [-9999, -9999, -9999, -9999, -9999, -9999],\n",
       "        ...,\n",
       "        [-9999, -9999, -9999, -9999, -9999, -9999],\n",
       "        [-9999, -9999, -9999, -9999, -9999, -9999],\n",
       "        [-9999, -9999, -9999, -9999, -9999, -9999]]], dtype=int16)"
      ]
     },
     "execution_count": 5,
     "metadata": {},
     "output_type": "execute_result"
    }
   ],
   "source": [
    "inv = np.transpose(data)\n",
    "print('Shape:', inv.shape)\n",
    "inv"
   ]
  },
  {
   "cell_type": "markdown",
   "metadata": {},
   "source": [
    "## Carga del Modelo de Machine Learning y Clasificación de la Imágen Multiespectral\n",
    "\n",
    "* Clase 0:Color azul oscuro (wofs): Agua\n",
    "* Clase 1:Color azul (bosque): Bosque\n",
    "* Clase 2:Color azul verde (wofs_bosque): Agua o Bosque\n",
    "* Clase 3:Color verde (cloud): Nubes\n",
    "* Clase 4:Color amarillo (ninguno): Ninguna de las coverturas anteriores. Puedes ser repreentar una urbanización."
   ]
  },
  {
   "cell_type": "code",
   "execution_count": 6,
   "metadata": {},
   "outputs": [
    {
     "name": "stderr",
     "output_type": "stream",
     "text": [
      "Using TensorFlow backend.\n"
     ]
    }
   ],
   "source": [
    "from keras.models import load_model\n",
    "model = load_model(\"model.h5\")"
   ]
  },
  {
   "cell_type": "code",
   "execution_count": 7,
   "metadata": {},
   "outputs": [
    {
     "name": "stdout",
     "output_type": "stream",
     "text": [
      "CPU times: user 11min 31s, sys: 49.4 s, total: 12min 20s\n",
      "Wall time: 9min 42s\n"
     ]
    }
   ],
   "source": [
    "def compute(array):\n",
    "    probabilities = []\n",
    "    for i in range(0,array.shape[0]):\n",
    "        probabilities.append(model.predict(array[i]))\n",
    "    \n",
    "    result = np.array(probabilities)\n",
    "    # Axis = 2 es la dimesnion que contiene las probabilidad des \n",
    "    # de las predicciones realizadas sobre las bandas espectrales\n",
    "    result = np.argmax(result,axis=2)\n",
    "    result = np.transpose(result)\n",
    "    return result\n",
    "\n",
    "%time clasified = compute(inv)"
   ]
  },
  {
   "cell_type": "code",
   "execution_count": 8,
   "metadata": {},
   "outputs": [
    {
     "data": {
      "text/plain": [
       "array([[4, 4, 4, ..., 4, 4, 4],\n",
       "       [4, 4, 4, ..., 4, 4, 4],\n",
       "       [4, 4, 4, ..., 4, 4, 4],\n",
       "       ...,\n",
       "       [4, 4, 4, ..., 4, 4, 4],\n",
       "       [4, 4, 4, ..., 4, 4, 4],\n",
       "       [4, 4, 4, ..., 4, 4, 4]])"
      ]
     },
     "execution_count": 8,
     "metadata": {},
     "output_type": "execute_result"
    }
   ],
   "source": [
    "clasified"
   ]
  },
  {
   "cell_type": "markdown",
   "metadata": {},
   "source": [
    "## Predicciónes\n",
    "\n",
    "Como se puede observar en las predicciones generadas a partir de imagenes satelitales del rio amazonas, el modelo es capaz de predecir exitosamente la selva amazonica y las nubes. El agua del rio amazonas no es predecido correctamente, sin embargo, el modelo es capaz de detectar una anomalía en su area. Esto se puede deber a que los datos utilizados para el entrenamiento del modelo son de la costa del Chocó, por lo cual el color del agua es distinto. Corrimos el mismo algoritmo sobre imagenes de la costa en la Guajira, observamos que reconocia en mayor medida el color del mar, sin embargo, continuó prediciendo el agua como bosque en grandes areas."
   ]
  },
  {
   "cell_type": "code",
   "execution_count": 9,
   "metadata": {},
   "outputs": [
    {
     "data": {
      "image/png": "[encoded data removed]",
      "text/plain": [
       "<Figure size 432x288 with 2 Axes>"
      ]
     },
     "metadata": {
      "needs_background": "light"
     },
     "output_type": "display_data"
    }
   ],
   "source": [
    "# La imagen resultado no tiene sistema de coordenadas\n",
    "colors = [\"dodgerblue\", \"green\", \"darkcyan\", \"grey\",\"white\"]\n",
    "\n",
    "cmap = ListedColormap(colors)\n",
    "\n",
    "density_cmap = ListedColormap(colors,name='my_cmap')\n",
    "\n",
    "plt.imshow(clasified,cmap=density_cmap)\n",
    "plt.colorbar();\n",
    "plt.clim(-0.5,4.5)"
   ]
  },
  {
   "cell_type": "code",
   "execution_count": 10,
   "metadata": {},
   "outputs": [],
   "source": [
    "# Define las coordenadas de los puntos\n",
    "coords = {'x':data_array['blue'].x.values,'y':data_array['blue'].y.values}\n",
    "\n",
    "# Define el orden de las dimensiones\n",
    "dims = ('y','x')\n",
    "\n",
    "# Define los metadatos o atributos\n",
    "attrs = {\n",
    "    'crs': data_array['blue'].crs,\n",
    "    'transform': data_array['blue'].transform\n",
    "}\n",
    "\n",
    "data_array_nn = xr.DataArray(data=clasified,coords=coords,dims=dims)"
   ]
  },
  {
   "cell_type": "code",
   "execution_count": 11,
   "metadata": {},
   "outputs": [
    {
     "data": {
      "text/plain": [
       "<matplotlib.image.AxesImage at 0x7f4e2c1a1f28>"
      ]
     },
     "execution_count": 11,
     "metadata": {},
     "output_type": "execute_result"
    },
    {
     "data": {
      "image/png": "[encoded data removed]",
      "text/plain": [
       "<Figure size 432x288 with 1 Axes>"
      ]
     },
     "metadata": {
      "needs_background": "light"
     },
     "output_type": "display_data"
    }
   ],
   "source": [
    "plt.imshow(data[2])"
   ]
  },
  {
   "cell_type": "markdown",
   "metadata": {},
   "source": [
    "## Agregar Sistema de Coordenadas a la Imágen Clasificada\n",
    "\n",
    "Dado de la imágen que resulta de al clasificación es un arreglo **np.array** de dos dimensiones, no contiene\n",
    "los datos de localización de la imágen que permitirá su ubicación en el mapa. Usarémos los datos de localización que se obtuvieron al principio del notebook cuando se carga el archivo .tif."
   ]
  },
  {
   "cell_type": "code",
   "execution_count": 12,
   "metadata": {},
   "outputs": [],
   "source": [
    "# Define las coordenadas de los puntos\n",
    "coords = {'x':data_array['blue'].x.values,'y':data_array['blue'].y.values}\n",
    "\n",
    "# Define el orden de las dimensiones\n",
    "dims = ('y','x')\n",
    "\n",
    "# Define los metadatos o atributos\n",
    "attrs = {\n",
    "    'crs': data_array['blue'].crs,\n",
    "    'transform': data_array['blue'].transform\n",
    "}\n",
    "\n",
    "data_array_nn = xr.DataArray(data=clasified,coords=coords,dims=dims)"
   ]
  },
  {
   "cell_type": "code",
   "execution_count": 13,
   "metadata": {},
   "outputs": [],
   "source": [
    "# data_array.plot.save()\n",
    "plt.imsave('example1.png', clasified,cmap=density_cmap)\n",
    "plt.imsave('example2.png', data[0])"
   ]
  },
  {
   "cell_type": "code",
   "execution_count": 14,
   "metadata": {},
   "outputs": [
    {
     "data": {
      "text/plain": [
       "(138300.0, 366600.0, 523200.0, 756000.0)"
      ]
     },
     "execution_count": 14,
     "metadata": {},
     "output_type": "execute_result"
    }
   ],
   "source": [
    "x_min = min(data_array['blue'].x.values) \n",
    "x_max = max(data_array['blue'].x.values)\n",
    "y_min = min(data_array['blue'].y.values) \n",
    "y_max = max(data_array['blue'].y.values) \n",
    "(x_min,x_max,y_min,y_max)"
   ]
  },
  {
   "cell_type": "markdown",
   "metadata": {},
   "source": [
    "## Clasificación con Naive Bayes\n",
    "### Multinomial"
   ]
  },
  {
   "cell_type": "code",
   "execution_count": 15,
   "metadata": {},
   "outputs": [
    {
     "name": "stderr",
     "output_type": "stream",
     "text": [
      "/home/estudiante/fcrv/jupyter_notebooks/data_analisis_env_py3/lib/python3.5/site-packages/sklearn/externals/joblib/__init__.py:15: FutureWarning: sklearn.externals.joblib is deprecated in 0.21 and will be removed in 0.23. Please import this functionality directly from joblib, which can be installed with: pip install joblib. If this warning is raised when loading pickled models, you may need to re-serialize those models with scikit-learn 0.21+.\n",
      "  warnings.warn(msg, category=FutureWarning)\n"
     ]
    }
   ],
   "source": [
    "from sklearn.model_selection import train_test_split\n",
    "from sklearn.linear_model import LassoCV\n",
    "from sklearn import datasets\n",
    "from collections import Counter\n",
    "\n",
    "from joblib import dump\n",
    "from sklearn.externals import joblib\n",
    "\n",
    "#from keras.models import model_from_json\n",
    "\n",
    "#Import Gaussian Naive Bayes model\n",
    "from sklearn.naive_bayes import GaussianNB\n",
    "from sklearn.naive_bayes import MultinomialNB\n",
    "\n",
    "#Import scikit-learn metrics module for accuracy calculation\n",
    "from sklearn import metrics\n",
    "from sklearn.metrics import confusion_matrix\n",
    "from sklearn.metrics import classification_report\n",
    "from sklearn.model_selection import cross_val_score"
   ]
  },
  {
   "cell_type": "code",
   "execution_count": 16,
   "metadata": {},
   "outputs": [],
   "source": [
    "nb_model_path = './model_nb_multinomial.joblib'\n",
    "nb_model = joblib.load(nb_model_path)"
   ]
  },
  {
   "cell_type": "code",
   "execution_count": 17,
   "metadata": {},
   "outputs": [
    {
     "data": {
      "text/plain": [
       "array(['cloud'], dtype='<U11')"
      ]
     },
     "execution_count": 17,
     "metadata": {},
     "output_type": "execute_result"
    }
   ],
   "source": [
    "nb_model.predict([[4415.0,4694.0,4728.0,4888.0,4886.0,4312.0]])"
   ]
  },
  {
   "cell_type": "code",
   "execution_count": 18,
   "metadata": {},
   "outputs": [],
   "source": [
    "def compute_nb(array):\n",
    "    probabilities = []\n",
    "    for i in range(0,array.shape[0]):\n",
    "        probabilities.append(nb_model.predict(array[i]))\n",
    "    \n",
    "    result = np.array(probabilities)\n",
    "    # Axis = 2 es la dimesnion que contiene las probabilidad des \n",
    "    # de las predicciones realizadas sobre las bandas espectrales\n",
    "    result = np.transpose(result)\n",
    "    return result\n",
    "\n",
    "clasified_nb = compute_nb(inv)"
   ]
  },
  {
   "cell_type": "code",
   "execution_count": 19,
   "metadata": {
    "scrolled": true
   },
   "outputs": [
    {
     "data": {
      "text/plain": [
       "array([['bosque', 'bosque', 'bosque', ..., 'bosque', 'bosque', 'bosque'],\n",
       "       ['bosque', 'bosque', 'bosque', ..., 'bosque', 'bosque', 'bosque'],\n",
       "       ['bosque', 'bosque', 'bosque', ..., 'bosque', 'bosque', 'bosque'],\n",
       "       ...,\n",
       "       ['bosque', 'bosque', 'bosque', ..., 'bosque', 'bosque', 'bosque'],\n",
       "       ['bosque', 'bosque', 'bosque', ..., 'bosque', 'bosque', 'bosque'],\n",
       "       ['bosque', 'bosque', 'bosque', ..., 'bosque', 'bosque', 'bosque']],\n",
       "      dtype='<U11')"
      ]
     },
     "execution_count": 19,
     "metadata": {},
     "output_type": "execute_result"
    }
   ],
   "source": [
    "clasified_nb"
   ]
  },
  {
   "cell_type": "code",
   "execution_count": 20,
   "metadata": {},
   "outputs": [],
   "source": [
    "# El número corresponde con el orden en las columnas de las etiquetas \n",
    "# para el conjuto de entrenamiento\n",
    "\n",
    "clases = { \n",
    "    'wofs': 0,\n",
    "    'bosque': 1,\n",
    "    'wofs_bosque': 2,\n",
    "    'ninguno':3,\n",
    "    'cloud':4\n",
    "}\n",
    "\n",
    "for k,v in clases.items():\n",
    "    clasified_nb[clasified_nb == k] = v"
   ]
  },
  {
   "cell_type": "code",
   "execution_count": 21,
   "metadata": {},
   "outputs": [
    {
     "data": {
      "text/plain": [
       "array([[1, 1, 1, ..., 1, 1, 1],\n",
       "       [1, 1, 1, ..., 1, 1, 1],\n",
       "       [1, 1, 1, ..., 1, 1, 1],\n",
       "       ...,\n",
       "       [1, 1, 1, ..., 1, 1, 1],\n",
       "       [1, 1, 1, ..., 1, 1, 1],\n",
       "       [1, 1, 1, ..., 1, 1, 1]])"
      ]
     },
     "execution_count": 21,
     "metadata": {},
     "output_type": "execute_result"
    }
   ],
   "source": [
    "clasified_nb = clasified_nb.astype(int)\n",
    "clasified_nb"
   ]
  },
  {
   "cell_type": "code",
   "execution_count": 22,
   "metadata": {},
   "outputs": [],
   "source": [
    "# Define las coordenadas de los puntos\n",
    "coords = {'x':data_array['blue'].x.values,'y':data_array['blue'].y.values}\n",
    "\n",
    "# Define el orden de las dimensiones\n",
    "dims = ('y','x')\n",
    "\n",
    "# Define los metadatos o atributos\n",
    "attrs = {\n",
    "    'crs': data_array['blue'].crs,\n",
    "    'transform': data_array['blue'].transform\n",
    "}\n",
    "\n",
    "data_array_nb = xr.DataArray(data=clasified_nb,coords=coords,dims=dims)"
   ]
  },
  {
   "cell_type": "code",
   "execution_count": 23,
   "metadata": {},
   "outputs": [
    {
     "data": {
      "image/png": "[encoded data removed]",
      "text/plain": [
       "<Figure size 432x288 with 2 Axes>"
      ]
     },
     "metadata": {
      "needs_background": "light"
     },
     "output_type": "display_data"
    }
   ],
   "source": [
    "plt.imshow(data_array_nb,cmap=density_cmap)\n",
    "plt.colorbar();\n",
    "plt.clim(-0.5,4.5)\n"
   ]
  },
  {
   "cell_type": "code",
   "execution_count": 24,
   "metadata": {
    "scrolled": true
   },
   "outputs": [
    {
     "data": {
      "image/png": "[encoded data removed]",
      "text/plain": [
       "<Figure size 432x288 with 1 Axes>"
      ]
     },
     "metadata": {
      "needs_background": "light"
     },
     "output_type": "display_data"
    },
    {
     "data": {
      "text/plain": [
       "<matplotlib.axes._subplots.AxesSubplot at 0x7f4dbdaec4a8>"
      ]
     },
     "execution_count": 24,
     "metadata": {},
     "output_type": "execute_result"
    }
   ],
   "source": [
    "show(data_array_nb)"
   ]
  },
  {
   "cell_type": "code",
   "execution_count": 25,
   "metadata": {},
   "outputs": [],
   "source": [
    "plt.imsave('example_naive_bayes.png', data_array_nb,cmap=density_cmap)"
   ]
  },
  {
   "cell_type": "markdown",
   "metadata": {},
   "source": [
    "###  Gaussiano"
   ]
  },
  {
   "cell_type": "code",
   "execution_count": 26,
   "metadata": {},
   "outputs": [],
   "source": [
    "from sklearn.model_selection import train_test_split\n",
    "from sklearn.linear_model import LassoCV\n",
    "from sklearn import datasets\n",
    "from collections import Counter\n",
    "\n",
    "from joblib import dump\n",
    "from sklearn.externals import joblib\n",
    "\n",
    "#from keras.models import model_from_json\n",
    "\n",
    "#Import Gaussian Naive Bayes model\n",
    "from sklearn.naive_bayes import GaussianNB\n",
    "from sklearn.naive_bayes import MultinomialNB\n",
    "\n",
    "#Import scikit-learn metrics module for accuracy calculation\n",
    "from sklearn import metrics\n",
    "from sklearn.metrics import confusion_matrix\n",
    "from sklearn.metrics import classification_report\n",
    "from sklearn.model_selection import cross_val_score"
   ]
  },
  {
   "cell_type": "code",
   "execution_count": 27,
   "metadata": {},
   "outputs": [],
   "source": [
    "nb_model_path = './model_nb_gaussiano.joblib'\n",
    "nb_model = joblib.load(nb_model_path)"
   ]
  },
  {
   "cell_type": "code",
   "execution_count": 28,
   "metadata": {},
   "outputs": [
    {
     "data": {
      "text/plain": [
       "array(['cloud'], dtype='<U11')"
      ]
     },
     "execution_count": 28,
     "metadata": {},
     "output_type": "execute_result"
    }
   ],
   "source": [
    "nb_model.predict([[4415.0,4694.0,4728.0,4888.0,4886.0,4312.0]])"
   ]
  },
  {
   "cell_type": "code",
   "execution_count": 29,
   "metadata": {},
   "outputs": [],
   "source": [
    "def compute_nb(array):\n",
    "    probabilities = []\n",
    "    for i in range(0,array.shape[0]):\n",
    "        probabilities.append(nb_model.predict(array[i]))\n",
    "    \n",
    "    result = np.array(probabilities)\n",
    "    # Axis = 2 es la dimesnion que contiene las probabilidad des \n",
    "    # de las predicciones realizadas sobre las bandas espectrales\n",
    "    result = np.transpose(result)\n",
    "    return result\n",
    "\n",
    "clasified_nb = compute_nb(inv)"
   ]
  },
  {
   "cell_type": "code",
   "execution_count": 30,
   "metadata": {
    "scrolled": true
   },
   "outputs": [
    {
     "data": {
      "text/plain": [
       "array([['cloud', 'cloud', 'cloud', ..., 'cloud', 'cloud', 'cloud'],\n",
       "       ['cloud', 'cloud', 'cloud', ..., 'cloud', 'cloud', 'cloud'],\n",
       "       ['cloud', 'cloud', 'cloud', ..., 'cloud', 'cloud', 'cloud'],\n",
       "       ...,\n",
       "       ['cloud', 'cloud', 'cloud', ..., 'cloud', 'cloud', 'cloud'],\n",
       "       ['cloud', 'cloud', 'cloud', ..., 'cloud', 'cloud', 'cloud'],\n",
       "       ['cloud', 'cloud', 'cloud', ..., 'cloud', 'cloud', 'cloud']],\n",
       "      dtype='<U11')"
      ]
     },
     "execution_count": 30,
     "metadata": {},
     "output_type": "execute_result"
    }
   ],
   "source": [
    "clasified_nb"
   ]
  },
  {
   "cell_type": "code",
   "execution_count": 31,
   "metadata": {},
   "outputs": [],
   "source": [
    "# El número corresponde con el orden en las columnas de las etiquetas \n",
    "# para el conjuto de entrenamiento\n",
    "\n",
    "clases = { \n",
    "    'wofs': 0,\n",
    "    'bosque': 1,\n",
    "    'wofs_bosque': 2,\n",
    "    'ninguno':3,\n",
    "    'cloud':4\n",
    "}\n",
    "\n",
    "for k,v in clases.items():\n",
    "    clasified_nb[clasified_nb == k] = v"
   ]
  },
  {
   "cell_type": "code",
   "execution_count": 32,
   "metadata": {},
   "outputs": [
    {
     "data": {
      "text/plain": [
       "array([[4, 4, 4, ..., 4, 4, 4],\n",
       "       [4, 4, 4, ..., 4, 4, 4],\n",
       "       [4, 4, 4, ..., 4, 4, 4],\n",
       "       ...,\n",
       "       [4, 4, 4, ..., 4, 4, 4],\n",
       "       [4, 4, 4, ..., 4, 4, 4],\n",
       "       [4, 4, 4, ..., 4, 4, 4]])"
      ]
     },
     "execution_count": 32,
     "metadata": {},
     "output_type": "execute_result"
    }
   ],
   "source": [
    "clasified_nb = clasified_nb.astype(int)\n",
    "clasified_nb"
   ]
  },
  {
   "cell_type": "code",
   "execution_count": 33,
   "metadata": {},
   "outputs": [],
   "source": [
    "# Define las coordenadas de los puntos\n",
    "coords = {'x':data_array['blue'].x.values,'y':data_array['blue'].y.values}\n",
    "\n",
    "# Define el orden de las dimensiones\n",
    "dims = ('y','x')\n",
    "\n",
    "# Define los metadatos o atributos\n",
    "attrs = {\n",
    "    'crs': data_array['blue'].crs,\n",
    "    'transform': data_array['blue'].transform\n",
    "}\n",
    "\n",
    "data_array_nb = xr.DataArray(data=clasified_nb,coords=coords,dims=dims)"
   ]
  },
  {
   "cell_type": "code",
   "execution_count": 34,
   "metadata": {},
   "outputs": [
    {
     "data": {
      "image/png": "[encoded data removed]",
      "text/plain": [
       "<Figure size 432x288 with 2 Axes>"
      ]
     },
     "metadata": {
      "needs_background": "light"
     },
     "output_type": "display_data"
    }
   ],
   "source": [
    "plt.imshow(data_array_nb,cmap=density_cmap)\n",
    "plt.colorbar();\n",
    "plt.clim(-0.5,4.5)"
   ]
  },
  {
   "cell_type": "code",
   "execution_count": 35,
   "metadata": {
    "scrolled": false
   },
   "outputs": [
    {
     "data": {
      "image/png": "[encoded data removed]",
      "text/plain": [
       "<Figure size 432x288 with 1 Axes>"
      ]
     },
     "metadata": {
      "needs_background": "light"
     },
     "output_type": "display_data"
    },
    {
     "data": {
      "text/plain": [
       "<matplotlib.axes._subplots.AxesSubplot at 0x7f4dbda9ac18>"
      ]
     },
     "execution_count": 35,
     "metadata": {},
     "output_type": "execute_result"
    }
   ],
   "source": [
    "show(data_array_nb)"
   ]
  },
  {
   "cell_type": "code",
   "execution_count": 36,
   "metadata": {},
   "outputs": [],
   "source": [
    "plt.imsave('example_naive_bayes_gaussiano.png', data_array_nb,cmap=density_cmap)"
   ]
  },
  {
   "cell_type": "code",
   "execution_count": null,
   "metadata": {},
   "outputs": [],
   "source": []
  }
 ],
 "metadata": {
  "kernelspec": {
   "display_name": "Python 3",
   "language": "python",
   "name": "python3"
  },
  "language_info": {
   "codemirror_mode": {
    "name": "ipython",
    "version": 3
   },
   "file_extension": ".py",
   "mimetype": "text/x-python",
   "name": "python",
   "nbconvert_exporter": "python",
   "pygments_lexer": "ipython3",
   "version": "3.6.5"
  }
 },
 "nbformat": 4,
 "nbformat_minor": 2
}
