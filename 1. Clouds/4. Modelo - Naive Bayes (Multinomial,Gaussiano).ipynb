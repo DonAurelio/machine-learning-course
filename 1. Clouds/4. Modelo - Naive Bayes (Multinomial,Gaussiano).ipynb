{
 "cells": [
  {
   "cell_type": "markdown",
   "metadata": {},
   "source": [
    "# Modelo Naive Bayes (Multinomial y Gaussiano)\n",
    "\n",
    "En el presente notebook se construyen dos modelos Multinomial y Gaussiano a partir del conjunto de datos que sigue \n",
    "la estructura de la tabla mostrada abajo. Para esta tabla **blue**, **green**, **red**, **nir**, **swir1** y \n",
    "**swir2** son las características de los pixeles de una escena landsat y **wofs**, **bosque**, **wofs_bosque**,  \n",
    "**ninguno**, **cloud** son las clases a la cual pertence casa pixel. Un pixel solo pertenece a una única clase.\n",
    "\n",
    "\n",
    "| blue | green | red | nir | swir1 | swir2 | wofs | bosque | wofs_bosque | ninguno  | cloud |\n",
    "|------|-------|-----|-----|-------|-------|------|--------|-------------|----------|-------|\n",
    "|      |       |     |     |       |       |      |        |             |          |       |\n",
    "\n",
    "\n",
    "* El modelo generado para Multinomial es guardado en el archivo **model_nb_multinomial.joblib** \n",
    "* El modelo generado para Gaussiano es guardado en el archivo **model_nb_gaussiano.joblib** "
   ]
  },
  {
   "cell_type": "code",
   "execution_count": 1,
   "metadata": {},
   "outputs": [
    {
     "name": "stderr",
     "output_type": "stream",
     "text": [
      "/home/datacube/.local/lib/python3.6/site-packages/sklearn/externals/joblib/__init__.py:15: DeprecationWarning: sklearn.externals.joblib is deprecated in 0.21 and will be removed in 0.23. Please import this functionality directly from joblib, which can be installed with: pip install joblib. If this warning is raised when loading pickled models, you may need to re-serialize those models with scikit-learn 0.21+.\n",
      "  warnings.warn(msg, category=DeprecationWarning)\n"
     ]
    }
   ],
   "source": [
    "%matplotlib inline\n",
    "\n",
    "import os\n",
    "import pandas as pd\n",
    "import numpy as np\n",
    "#import pandas_profiling\n",
    "from sklearn.model_selection import train_test_split\n",
    "from sklearn.linear_model import LassoCV\n",
    "from sklearn import datasets\n",
    "from collections import Counter\n",
    "\n",
    "from joblib import dump\n",
    "from sklearn.externals import joblib\n",
    "\n",
    "#from keras.models import model_from_json\n",
    "\n",
    "#Import Gaussian Naive Bayes model\n",
    "from sklearn.naive_bayes import GaussianNB\n",
    "from sklearn.naive_bayes import MultinomialNB\n",
    "\n",
    "#Import scikit-learn metrics module for accuracy calculation\n",
    "from sklearn import metrics\n",
    "from sklearn.metrics import confusion_matrix\n",
    "from sklearn.metrics import classification_report\n",
    "from sklearn.model_selection import cross_val_score\n"
   ]
  },
  {
   "cell_type": "markdown",
   "metadata": {},
   "source": [
    "# Se importa el Dataset con informacion de nubes\n",
    "Como se ha descrito, las imagenes descargadas de los portales de imagenes satelitales presentan información en multiples bandas. Es con esta información que los algoritmos de clasificación pueden emitir un juicio para determinar a que tipo de información puede corresponder un pixel: bosque, no busque,nubes,agua, agua_bosque,ninguno.\n",
    "En este escenario se plantea probar el clasificador Naive Bayes con información de imagenes que contengan nubes y agregar una nueva clase: Nubes. \n",
    "Este escenario se plantea en respuesta a que la clasificación de imagenes satelitales cuyas nubes fueron removidas resultaban un problema facil de clasificar para este tipo de modelo. "
   ]
  },
  {
   "cell_type": "code",
   "execution_count": 2,
   "metadata": {
    "scrolled": true
   },
   "outputs": [
    {
     "data": {
      "text/html": [
       "<div>\n",
       "<style scoped>\n",
       "    .dataframe tbody tr th:only-of-type {\n",
       "        vertical-align: middle;\n",
       "    }\n",
       "\n",
       "    .dataframe tbody tr th {\n",
       "        vertical-align: top;\n",
       "    }\n",
       "\n",
       "    .dataframe thead th {\n",
       "        text-align: right;\n",
       "    }\n",
       "</style>\n",
       "<table border=\"1\" class=\"dataframe\">\n",
       "  <thead>\n",
       "    <tr style=\"text-align: right;\">\n",
       "      <th></th>\n",
       "      <th>blue</th>\n",
       "      <th>green</th>\n",
       "      <th>red</th>\n",
       "      <th>nir</th>\n",
       "      <th>swir1</th>\n",
       "      <th>swir2</th>\n",
       "      <th>wofs</th>\n",
       "      <th>bosque</th>\n",
       "      <th>wofs_bosque</th>\n",
       "      <th>ninguno</th>\n",
       "      <th>cloud</th>\n",
       "    </tr>\n",
       "  </thead>\n",
       "  <tbody>\n",
       "    <tr>\n",
       "      <th>0</th>\n",
       "      <td>8452.0</td>\n",
       "      <td>8750.0</td>\n",
       "      <td>8900.0</td>\n",
       "      <td>9146.0</td>\n",
       "      <td>6759.0</td>\n",
       "      <td>4585.0</td>\n",
       "      <td>0</td>\n",
       "      <td>0</td>\n",
       "      <td>0</td>\n",
       "      <td>0</td>\n",
       "      <td>1</td>\n",
       "    </tr>\n",
       "    <tr>\n",
       "      <th>1</th>\n",
       "      <td>299.0</td>\n",
       "      <td>203.0</td>\n",
       "      <td>100.0</td>\n",
       "      <td>73.0</td>\n",
       "      <td>79.0</td>\n",
       "      <td>60.0</td>\n",
       "      <td>1</td>\n",
       "      <td>0</td>\n",
       "      <td>0</td>\n",
       "      <td>0</td>\n",
       "      <td>0</td>\n",
       "    </tr>\n",
       "    <tr>\n",
       "      <th>2</th>\n",
       "      <td>5167.0</td>\n",
       "      <td>4956.0</td>\n",
       "      <td>4945.0</td>\n",
       "      <td>5647.0</td>\n",
       "      <td>3920.0</td>\n",
       "      <td>2588.0</td>\n",
       "      <td>0</td>\n",
       "      <td>0</td>\n",
       "      <td>0</td>\n",
       "      <td>0</td>\n",
       "      <td>1</td>\n",
       "    </tr>\n",
       "    <tr>\n",
       "      <th>3</th>\n",
       "      <td>245.0</td>\n",
       "      <td>177.0</td>\n",
       "      <td>93.0</td>\n",
       "      <td>75.0</td>\n",
       "      <td>100.0</td>\n",
       "      <td>80.0</td>\n",
       "      <td>1</td>\n",
       "      <td>0</td>\n",
       "      <td>0</td>\n",
       "      <td>0</td>\n",
       "      <td>0</td>\n",
       "    </tr>\n",
       "    <tr>\n",
       "      <th>4</th>\n",
       "      <td>259.0</td>\n",
       "      <td>179.0</td>\n",
       "      <td>92.0</td>\n",
       "      <td>64.0</td>\n",
       "      <td>89.0</td>\n",
       "      <td>72.0</td>\n",
       "      <td>1</td>\n",
       "      <td>0</td>\n",
       "      <td>0</td>\n",
       "      <td>0</td>\n",
       "      <td>0</td>\n",
       "    </tr>\n",
       "  </tbody>\n",
       "</table>\n",
       "</div>"
      ],
      "text/plain": [
       "     blue   green     red     nir   swir1   swir2  wofs  bosque  wofs_bosque  \\\n",
       "0  8452.0  8750.0  8900.0  9146.0  6759.0  4585.0     0       0            0   \n",
       "1   299.0   203.0   100.0    73.0    79.0    60.0     1       0            0   \n",
       "2  5167.0  4956.0  4945.0  5647.0  3920.0  2588.0     0       0            0   \n",
       "3   245.0   177.0    93.0    75.0   100.0    80.0     1       0            0   \n",
       "4   259.0   179.0    92.0    64.0    89.0    72.0     1       0            0   \n",
       "\n",
       "   ninguno  cloud  \n",
       "0        0      1  \n",
       "1        0      0  \n",
       "2        0      1  \n",
       "3        0      0  \n",
       "4        0      0  "
      ]
     },
     "execution_count": 2,
     "metadata": {},
     "output_type": "execute_result"
    }
   ],
   "source": [
    "satellite = pd.read_csv('https://docs.google.com/uc?export=download&id=1zIf10M5nkLdneCYU1Kw_KyEOynNp3hb2')\n",
    "satellite.head()"
   ]
  },
  {
   "cell_type": "markdown",
   "metadata": {},
   "source": [
    "# Filtro de valores negativos\n",
    "Se realiza una filtro de las columnas que en alguna banda contengan un valor negativo porque el clasificador multinomial Naive bayes no funciona bien con esta información."
   ]
  },
  {
   "cell_type": "code",
   "execution_count": 3,
   "metadata": {},
   "outputs": [],
   "source": [
    "satellite = satellite[satellite[\"blue\"] > 0]\n",
    "satellite = satellite[satellite[\"red\"] > 0]\n",
    "satellite = satellite[satellite[\"green\"] > 0]\n",
    "satellite = satellite[satellite[\"nir\"] > 0]\n",
    "satellite = satellite[satellite[\"swir1\"] > 0]\n",
    "satellite = satellite[satellite[\"swir2\"] > 0]"
   ]
  },
  {
   "cell_type": "code",
   "execution_count": 4,
   "metadata": {},
   "outputs": [],
   "source": [
    "#satellite['wofs'].value_counts()\n",
    "#satellite['bosque'].value_counts()\n",
    "#satellite['wofs_bosque'].value_counts()\n",
    "#satellite['cloud'].value_counts()\n",
    "#satellite['ninguno'].value_counts()"
   ]
  },
  {
   "cell_type": "markdown",
   "metadata": {},
   "source": [
    "# Se reemplaza los valores en columnas de clases\n",
    "Como parte de preparación de los datos para crear el modelo se deben hacer algunos ajustes a la forma en que el dataset muestra la infiromación.Como se puede observar el dataset, las columnas de las clases se encuentran categorizadas por un valor binario. Lo que se realiza a continuación es reemplazar estos valores binarios por NaN en caso de ser \"Cero\" y el nombre de la clase en caso de ser \"Uno\"."
   ]
  },
  {
   "cell_type": "code",
   "execution_count": 5,
   "metadata": {},
   "outputs": [],
   "source": [
    "# Reemplazar el valor de columna Wofs por NaN(0) y Wofs(1)\n",
    "satellite['wofs'] = satellite['wofs'].replace(0,np.nan)\n",
    "satellite['wofs'] = satellite['wofs'].replace(1,'wofs')\n"
   ]
  },
  {
   "cell_type": "code",
   "execution_count": 6,
   "metadata": {},
   "outputs": [],
   "source": [
    "# Reemplazar el valor de columna bosque por NaN(0) y bosque(1)\n",
    "satellite['bosque'] = satellite['bosque'].replace(0,np.nan)\n",
    "satellite['bosque'] = satellite['bosque'].replace(1,'bosque')"
   ]
  },
  {
   "cell_type": "code",
   "execution_count": 7,
   "metadata": {},
   "outputs": [],
   "source": [
    "# Reemplazar el valor de columna wofs_bosque por NaN(0) y wofs_bosque(1)\n",
    "satellite['wofs_bosque'] = satellite['wofs_bosque'].replace(0,np.nan)\n",
    "satellite['wofs_bosque'] = satellite['wofs_bosque'].replace(1,'wofs_bosque')"
   ]
  },
  {
   "cell_type": "code",
   "execution_count": 8,
   "metadata": {},
   "outputs": [],
   "source": [
    "# Reemplazar el valor de columna ninguno por NaN(0) y ninguno(1)\n",
    "satellite['ninguno'] = satellite['ninguno'].replace(0,np.nan)\n",
    "satellite['ninguno'] = satellite['ninguno'].replace(1,'ninguno')"
   ]
  },
  {
   "cell_type": "code",
   "execution_count": 9,
   "metadata": {},
   "outputs": [],
   "source": [
    "# Reemplazar el valor de columna ninguno por NaN(0) y cloud(1)\n",
    "satellite['cloud'] = satellite['cloud'].replace(0,np.nan)\n",
    "satellite['cloud'] = satellite['cloud'].replace(1,'cloud')"
   ]
  },
  {
   "cell_type": "markdown",
   "metadata": {},
   "source": [
    "# Nueva columna de clasificación\n",
    "Como ultima parte para la preparación de los datos debemos tener la clasificación en una sola columna. Procedemos a crearla con el nombre \"label\" y alli asignaremos el valor categorizado de cada conjunto de atributos."
   ]
  },
  {
   "cell_type": "code",
   "execution_count": 10,
   "metadata": {},
   "outputs": [
    {
     "data": {
      "text/html": [
       "<div>\n",
       "<style scoped>\n",
       "    .dataframe tbody tr th:only-of-type {\n",
       "        vertical-align: middle;\n",
       "    }\n",
       "\n",
       "    .dataframe tbody tr th {\n",
       "        vertical-align: top;\n",
       "    }\n",
       "\n",
       "    .dataframe thead th {\n",
       "        text-align: right;\n",
       "    }\n",
       "</style>\n",
       "<table border=\"1\" class=\"dataframe\">\n",
       "  <thead>\n",
       "    <tr style=\"text-align: right;\">\n",
       "      <th></th>\n",
       "      <th>blue</th>\n",
       "      <th>green</th>\n",
       "      <th>red</th>\n",
       "      <th>nir</th>\n",
       "      <th>swir1</th>\n",
       "      <th>swir2</th>\n",
       "      <th>wofs</th>\n",
       "      <th>bosque</th>\n",
       "      <th>wofs_bosque</th>\n",
       "      <th>ninguno</th>\n",
       "      <th>cloud</th>\n",
       "      <th>label</th>\n",
       "    </tr>\n",
       "  </thead>\n",
       "  <tbody>\n",
       "    <tr>\n",
       "      <th>0</th>\n",
       "      <td>8452.0</td>\n",
       "      <td>8750.0</td>\n",
       "      <td>8900.0</td>\n",
       "      <td>9146.0</td>\n",
       "      <td>6759.0</td>\n",
       "      <td>4585.0</td>\n",
       "      <td>NaN</td>\n",
       "      <td>NaN</td>\n",
       "      <td>NaN</td>\n",
       "      <td>NaN</td>\n",
       "      <td>cloud</td>\n",
       "      <td>cloud</td>\n",
       "    </tr>\n",
       "    <tr>\n",
       "      <th>1</th>\n",
       "      <td>299.0</td>\n",
       "      <td>203.0</td>\n",
       "      <td>100.0</td>\n",
       "      <td>73.0</td>\n",
       "      <td>79.0</td>\n",
       "      <td>60.0</td>\n",
       "      <td>wofs</td>\n",
       "      <td>NaN</td>\n",
       "      <td>NaN</td>\n",
       "      <td>NaN</td>\n",
       "      <td>NaN</td>\n",
       "      <td>wofs</td>\n",
       "    </tr>\n",
       "    <tr>\n",
       "      <th>2</th>\n",
       "      <td>5167.0</td>\n",
       "      <td>4956.0</td>\n",
       "      <td>4945.0</td>\n",
       "      <td>5647.0</td>\n",
       "      <td>3920.0</td>\n",
       "      <td>2588.0</td>\n",
       "      <td>NaN</td>\n",
       "      <td>NaN</td>\n",
       "      <td>NaN</td>\n",
       "      <td>NaN</td>\n",
       "      <td>cloud</td>\n",
       "      <td>cloud</td>\n",
       "    </tr>\n",
       "    <tr>\n",
       "      <th>3</th>\n",
       "      <td>245.0</td>\n",
       "      <td>177.0</td>\n",
       "      <td>93.0</td>\n",
       "      <td>75.0</td>\n",
       "      <td>100.0</td>\n",
       "      <td>80.0</td>\n",
       "      <td>wofs</td>\n",
       "      <td>NaN</td>\n",
       "      <td>NaN</td>\n",
       "      <td>NaN</td>\n",
       "      <td>NaN</td>\n",
       "      <td>wofs</td>\n",
       "    </tr>\n",
       "    <tr>\n",
       "      <th>4</th>\n",
       "      <td>259.0</td>\n",
       "      <td>179.0</td>\n",
       "      <td>92.0</td>\n",
       "      <td>64.0</td>\n",
       "      <td>89.0</td>\n",
       "      <td>72.0</td>\n",
       "      <td>wofs</td>\n",
       "      <td>NaN</td>\n",
       "      <td>NaN</td>\n",
       "      <td>NaN</td>\n",
       "      <td>NaN</td>\n",
       "      <td>wofs</td>\n",
       "    </tr>\n",
       "    <tr>\n",
       "      <th>5</th>\n",
       "      <td>1488.0</td>\n",
       "      <td>1590.0</td>\n",
       "      <td>1454.0</td>\n",
       "      <td>3237.0</td>\n",
       "      <td>2131.0</td>\n",
       "      <td>1409.0</td>\n",
       "      <td>NaN</td>\n",
       "      <td>NaN</td>\n",
       "      <td>NaN</td>\n",
       "      <td>NaN</td>\n",
       "      <td>cloud</td>\n",
       "      <td>cloud</td>\n",
       "    </tr>\n",
       "    <tr>\n",
       "      <th>6</th>\n",
       "      <td>148.0</td>\n",
       "      <td>315.0</td>\n",
       "      <td>226.0</td>\n",
       "      <td>2556.0</td>\n",
       "      <td>1159.0</td>\n",
       "      <td>507.0</td>\n",
       "      <td>NaN</td>\n",
       "      <td>bosque</td>\n",
       "      <td>NaN</td>\n",
       "      <td>NaN</td>\n",
       "      <td>NaN</td>\n",
       "      <td>bosque</td>\n",
       "    </tr>\n",
       "    <tr>\n",
       "      <th>7</th>\n",
       "      <td>2567.0</td>\n",
       "      <td>2692.0</td>\n",
       "      <td>2617.0</td>\n",
       "      <td>4737.0</td>\n",
       "      <td>3540.0</td>\n",
       "      <td>2621.0</td>\n",
       "      <td>NaN</td>\n",
       "      <td>NaN</td>\n",
       "      <td>NaN</td>\n",
       "      <td>NaN</td>\n",
       "      <td>cloud</td>\n",
       "      <td>cloud</td>\n",
       "    </tr>\n",
       "    <tr>\n",
       "      <th>8</th>\n",
       "      <td>214.0</td>\n",
       "      <td>386.0</td>\n",
       "      <td>224.0</td>\n",
       "      <td>3028.0</td>\n",
       "      <td>1363.0</td>\n",
       "      <td>564.0</td>\n",
       "      <td>NaN</td>\n",
       "      <td>bosque</td>\n",
       "      <td>NaN</td>\n",
       "      <td>NaN</td>\n",
       "      <td>NaN</td>\n",
       "      <td>bosque</td>\n",
       "    </tr>\n",
       "    <tr>\n",
       "      <th>9</th>\n",
       "      <td>351.0</td>\n",
       "      <td>204.0</td>\n",
       "      <td>143.0</td>\n",
       "      <td>178.0</td>\n",
       "      <td>160.0</td>\n",
       "      <td>139.0</td>\n",
       "      <td>wofs</td>\n",
       "      <td>NaN</td>\n",
       "      <td>NaN</td>\n",
       "      <td>NaN</td>\n",
       "      <td>NaN</td>\n",
       "      <td>wofs</td>\n",
       "    </tr>\n",
       "    <tr>\n",
       "      <th>10</th>\n",
       "      <td>6295.0</td>\n",
       "      <td>6514.0</td>\n",
       "      <td>6640.0</td>\n",
       "      <td>7350.0</td>\n",
       "      <td>5843.0</td>\n",
       "      <td>4293.0</td>\n",
       "      <td>NaN</td>\n",
       "      <td>NaN</td>\n",
       "      <td>NaN</td>\n",
       "      <td>NaN</td>\n",
       "      <td>cloud</td>\n",
       "      <td>cloud</td>\n",
       "    </tr>\n",
       "    <tr>\n",
       "      <th>11</th>\n",
       "      <td>5023.0</td>\n",
       "      <td>5175.0</td>\n",
       "      <td>5310.0</td>\n",
       "      <td>6468.0</td>\n",
       "      <td>5206.0</td>\n",
       "      <td>3848.0</td>\n",
       "      <td>NaN</td>\n",
       "      <td>NaN</td>\n",
       "      <td>NaN</td>\n",
       "      <td>NaN</td>\n",
       "      <td>cloud</td>\n",
       "      <td>cloud</td>\n",
       "    </tr>\n",
       "    <tr>\n",
       "      <th>12</th>\n",
       "      <td>270.0</td>\n",
       "      <td>362.0</td>\n",
       "      <td>239.0</td>\n",
       "      <td>1729.0</td>\n",
       "      <td>749.0</td>\n",
       "      <td>313.0</td>\n",
       "      <td>NaN</td>\n",
       "      <td>bosque</td>\n",
       "      <td>NaN</td>\n",
       "      <td>NaN</td>\n",
       "      <td>NaN</td>\n",
       "      <td>bosque</td>\n",
       "    </tr>\n",
       "    <tr>\n",
       "      <th>13</th>\n",
       "      <td>4337.0</td>\n",
       "      <td>4178.0</td>\n",
       "      <td>4139.0</td>\n",
       "      <td>4154.0</td>\n",
       "      <td>3182.0</td>\n",
       "      <td>3016.0</td>\n",
       "      <td>NaN</td>\n",
       "      <td>NaN</td>\n",
       "      <td>NaN</td>\n",
       "      <td>NaN</td>\n",
       "      <td>cloud</td>\n",
       "      <td>cloud</td>\n",
       "    </tr>\n",
       "    <tr>\n",
       "      <th>14</th>\n",
       "      <td>183.0</td>\n",
       "      <td>141.0</td>\n",
       "      <td>50.0</td>\n",
       "      <td>36.0</td>\n",
       "      <td>56.0</td>\n",
       "      <td>44.0</td>\n",
       "      <td>wofs</td>\n",
       "      <td>NaN</td>\n",
       "      <td>NaN</td>\n",
       "      <td>NaN</td>\n",
       "      <td>NaN</td>\n",
       "      <td>wofs</td>\n",
       "    </tr>\n",
       "    <tr>\n",
       "      <th>15</th>\n",
       "      <td>165.0</td>\n",
       "      <td>115.0</td>\n",
       "      <td>35.0</td>\n",
       "      <td>19.0</td>\n",
       "      <td>49.0</td>\n",
       "      <td>40.0</td>\n",
       "      <td>wofs</td>\n",
       "      <td>NaN</td>\n",
       "      <td>NaN</td>\n",
       "      <td>NaN</td>\n",
       "      <td>NaN</td>\n",
       "      <td>wofs</td>\n",
       "    </tr>\n",
       "    <tr>\n",
       "      <th>16</th>\n",
       "      <td>5555.0</td>\n",
       "      <td>5647.0</td>\n",
       "      <td>5795.0</td>\n",
       "      <td>6678.0</td>\n",
       "      <td>5459.0</td>\n",
       "      <td>4570.0</td>\n",
       "      <td>NaN</td>\n",
       "      <td>NaN</td>\n",
       "      <td>NaN</td>\n",
       "      <td>NaN</td>\n",
       "      <td>cloud</td>\n",
       "      <td>cloud</td>\n",
       "    </tr>\n",
       "    <tr>\n",
       "      <th>17</th>\n",
       "      <td>6597.0</td>\n",
       "      <td>6570.0</td>\n",
       "      <td>6600.0</td>\n",
       "      <td>6768.0</td>\n",
       "      <td>3522.0</td>\n",
       "      <td>2408.0</td>\n",
       "      <td>NaN</td>\n",
       "      <td>NaN</td>\n",
       "      <td>NaN</td>\n",
       "      <td>NaN</td>\n",
       "      <td>cloud</td>\n",
       "      <td>cloud</td>\n",
       "    </tr>\n",
       "    <tr>\n",
       "      <th>18</th>\n",
       "      <td>247.0</td>\n",
       "      <td>438.0</td>\n",
       "      <td>257.0</td>\n",
       "      <td>3418.0</td>\n",
       "      <td>1590.0</td>\n",
       "      <td>594.0</td>\n",
       "      <td>NaN</td>\n",
       "      <td>bosque</td>\n",
       "      <td>NaN</td>\n",
       "      <td>NaN</td>\n",
       "      <td>NaN</td>\n",
       "      <td>bosque</td>\n",
       "    </tr>\n",
       "    <tr>\n",
       "      <th>19</th>\n",
       "      <td>1067.0</td>\n",
       "      <td>1049.0</td>\n",
       "      <td>852.0</td>\n",
       "      <td>2868.0</td>\n",
       "      <td>1417.0</td>\n",
       "      <td>712.0</td>\n",
       "      <td>NaN</td>\n",
       "      <td>NaN</td>\n",
       "      <td>NaN</td>\n",
       "      <td>NaN</td>\n",
       "      <td>cloud</td>\n",
       "      <td>cloud</td>\n",
       "    </tr>\n",
       "  </tbody>\n",
       "</table>\n",
       "</div>"
      ],
      "text/plain": [
       "      blue   green     red     nir   swir1   swir2  wofs  bosque wofs_bosque  \\\n",
       "0   8452.0  8750.0  8900.0  9146.0  6759.0  4585.0   NaN     NaN         NaN   \n",
       "1    299.0   203.0   100.0    73.0    79.0    60.0  wofs     NaN         NaN   \n",
       "2   5167.0  4956.0  4945.0  5647.0  3920.0  2588.0   NaN     NaN         NaN   \n",
       "3    245.0   177.0    93.0    75.0   100.0    80.0  wofs     NaN         NaN   \n",
       "4    259.0   179.0    92.0    64.0    89.0    72.0  wofs     NaN         NaN   \n",
       "5   1488.0  1590.0  1454.0  3237.0  2131.0  1409.0   NaN     NaN         NaN   \n",
       "6    148.0   315.0   226.0  2556.0  1159.0   507.0   NaN  bosque         NaN   \n",
       "7   2567.0  2692.0  2617.0  4737.0  3540.0  2621.0   NaN     NaN         NaN   \n",
       "8    214.0   386.0   224.0  3028.0  1363.0   564.0   NaN  bosque         NaN   \n",
       "9    351.0   204.0   143.0   178.0   160.0   139.0  wofs     NaN         NaN   \n",
       "10  6295.0  6514.0  6640.0  7350.0  5843.0  4293.0   NaN     NaN         NaN   \n",
       "11  5023.0  5175.0  5310.0  6468.0  5206.0  3848.0   NaN     NaN         NaN   \n",
       "12   270.0   362.0   239.0  1729.0   749.0   313.0   NaN  bosque         NaN   \n",
       "13  4337.0  4178.0  4139.0  4154.0  3182.0  3016.0   NaN     NaN         NaN   \n",
       "14   183.0   141.0    50.0    36.0    56.0    44.0  wofs     NaN         NaN   \n",
       "15   165.0   115.0    35.0    19.0    49.0    40.0  wofs     NaN         NaN   \n",
       "16  5555.0  5647.0  5795.0  6678.0  5459.0  4570.0   NaN     NaN         NaN   \n",
       "17  6597.0  6570.0  6600.0  6768.0  3522.0  2408.0   NaN     NaN         NaN   \n",
       "18   247.0   438.0   257.0  3418.0  1590.0   594.0   NaN  bosque         NaN   \n",
       "19  1067.0  1049.0   852.0  2868.0  1417.0   712.0   NaN     NaN         NaN   \n",
       "\n",
       "   ninguno  cloud   label  \n",
       "0      NaN  cloud   cloud  \n",
       "1      NaN    NaN    wofs  \n",
       "2      NaN  cloud   cloud  \n",
       "3      NaN    NaN    wofs  \n",
       "4      NaN    NaN    wofs  \n",
       "5      NaN  cloud   cloud  \n",
       "6      NaN    NaN  bosque  \n",
       "7      NaN  cloud   cloud  \n",
       "8      NaN    NaN  bosque  \n",
       "9      NaN    NaN    wofs  \n",
       "10     NaN  cloud   cloud  \n",
       "11     NaN  cloud   cloud  \n",
       "12     NaN    NaN  bosque  \n",
       "13     NaN  cloud   cloud  \n",
       "14     NaN    NaN    wofs  \n",
       "15     NaN    NaN    wofs  \n",
       "16     NaN  cloud   cloud  \n",
       "17     NaN  cloud   cloud  \n",
       "18     NaN    NaN  bosque  \n",
       "19     NaN  cloud   cloud  "
      ]
     },
     "execution_count": 10,
     "metadata": {},
     "output_type": "execute_result"
    }
   ],
   "source": [
    "#Se crea una nueva columna para almacenar el valor de etiqueta\n",
    "satellite['label']=np.nan\n",
    "\n",
    "#Se indica en la columna 'label', la clasificacion de la columna 'wofs'. Se esribe \"Wofs\" en columna 'label' si en  \n",
    "#la columna 'wofs' esta este valor\n",
    "for label in [col for col in satellite.columns if 'wofs' in col]:\n",
    "    satellite['label'].fillna(satellite[label],inplace=True)\n",
    "    \n",
    "#Se indica en la columna 'label', la clasificacion de la columna 'bosque'. Se esribe \"bosque\" en columna 'label' si en  \n",
    "#la columna 'bosque' esta este valor\n",
    "for label in [col for col in satellite.columns if 'bosque' in col]:\n",
    "    satellite['label'].fillna(satellite[label],inplace=True)\n",
    "    \n",
    "#Se indica en la columna 'label', la clasificacion de la columna 'wofs_bosque'. Se esribe \"wofs_bosque\" en columna 'label' si en  \n",
    "#la columna 'wofs_bosque' esta este valor\n",
    "for label in [col for col in satellite.columns if 'wofs_bosque' in col]:\n",
    "    satellite['label'].fillna(satellite[label],inplace=True)\n",
    "    \n",
    "#Se indica en la columna 'label', la clasificacion de la columna 'ninguno'. Se esribe \"ninguno\" en columna 'label' si en  \n",
    "#la columna 'ninguno' esta este valor\n",
    "for label in [col for col in satellite.columns if 'ninguno' in col]:\n",
    "    satellite['label'].fillna(satellite[label],inplace=True)\n",
    "    \n",
    "#Se indica en la columna 'label', la clasificacion de la columna 'cloud'. Se esribe \"cloud\" en columna 'label' si en  \n",
    "#la columna 'cloud' esta este valor\n",
    "for label in [col for col in satellite.columns if 'cloud' in col]:\n",
    "    satellite['label'].fillna(satellite[label],inplace=True)\n",
    "satellite.head(20)"
   ]
  },
  {
   "cell_type": "markdown",
   "metadata": {},
   "source": [
    "wofs\n",
    "cloud\n",
    "ninguno\n",
    "boque\n",
    "wofs_bosque"
   ]
  },
  {
   "cell_type": "code",
   "execution_count": 11,
   "metadata": {
    "scrolled": true
   },
   "outputs": [
    {
     "data": {
      "text/plain": [
       "cloud          396285\n",
       "wofs           340457\n",
       "bosque         214883\n",
       "ninguno         45196\n",
       "wofs_bosque       167\n",
       "Name: label, dtype: int64"
      ]
     },
     "execution_count": 11,
     "metadata": {},
     "output_type": "execute_result"
    }
   ],
   "source": [
    "# Se crea el conjunto de clasificacion y el de entrenamiento\n",
    "Y = satellite[\"label\"]\n",
    "X = satellite.drop(columns=[\"label\",\"wofs\",\"bosque\",\"wofs_bosque\",\"cloud\",\"ninguno\"], axis=1)\n",
    "Y.value_counts()"
   ]
  },
  {
   "cell_type": "markdown",
   "metadata": {},
   "source": [
    "# Se crean los conjuntos de entrenamiento y de prueba\n",
    "Para hacer esto se deben dividir los datos en 4 conjuntos de datos de la siguiente manera: Conjuntos de entrenamiento(X_train, y_train) y Conjunto de test(X_test, y_test)"
   ]
  },
  {
   "cell_type": "code",
   "execution_count": 12,
   "metadata": {},
   "outputs": [],
   "source": [
    "# Se dividen los datos en los conjuntos de Train y test\n",
    "X_train, X_test, y_train, y_test = train_test_split(\n",
    "    X,\n",
    "    Y,\n",
    "    test_size=0.3,\n",
    "    random_state=0\n",
    ")"
   ]
  },
  {
   "cell_type": "code",
   "execution_count": 13,
   "metadata": {},
   "outputs": [
    {
     "data": {
      "text/html": [
       "<div>\n",
       "<style scoped>\n",
       "    .dataframe tbody tr th:only-of-type {\n",
       "        vertical-align: middle;\n",
       "    }\n",
       "\n",
       "    .dataframe tbody tr th {\n",
       "        vertical-align: top;\n",
       "    }\n",
       "\n",
       "    .dataframe thead th {\n",
       "        text-align: right;\n",
       "    }\n",
       "</style>\n",
       "<table border=\"1\" class=\"dataframe\">\n",
       "  <thead>\n",
       "    <tr style=\"text-align: right;\">\n",
       "      <th></th>\n",
       "      <th>blue</th>\n",
       "      <th>green</th>\n",
       "      <th>red</th>\n",
       "      <th>nir</th>\n",
       "      <th>swir1</th>\n",
       "      <th>swir2</th>\n",
       "    </tr>\n",
       "  </thead>\n",
       "  <tbody>\n",
       "    <tr>\n",
       "      <th>915922</th>\n",
       "      <td>259.0</td>\n",
       "      <td>175.0</td>\n",
       "      <td>81.0</td>\n",
       "      <td>61.0</td>\n",
       "      <td>83.0</td>\n",
       "      <td>68.0</td>\n",
       "    </tr>\n",
       "    <tr>\n",
       "      <th>176556</th>\n",
       "      <td>5675.0</td>\n",
       "      <td>5509.0</td>\n",
       "      <td>5560.0</td>\n",
       "      <td>5559.0</td>\n",
       "      <td>4377.0</td>\n",
       "      <td>3643.0</td>\n",
       "    </tr>\n",
       "    <tr>\n",
       "      <th>333568</th>\n",
       "      <td>2087.0</td>\n",
       "      <td>2062.0</td>\n",
       "      <td>1932.0</td>\n",
       "      <td>3399.0</td>\n",
       "      <td>2331.0</td>\n",
       "      <td>1652.0</td>\n",
       "    </tr>\n",
       "    <tr>\n",
       "      <th>655525</th>\n",
       "      <td>723.0</td>\n",
       "      <td>715.0</td>\n",
       "      <td>626.0</td>\n",
       "      <td>691.0</td>\n",
       "      <td>669.0</td>\n",
       "      <td>630.0</td>\n",
       "    </tr>\n",
       "    <tr>\n",
       "      <th>270124</th>\n",
       "      <td>197.0</td>\n",
       "      <td>443.0</td>\n",
       "      <td>229.0</td>\n",
       "      <td>3750.0</td>\n",
       "      <td>1564.0</td>\n",
       "      <td>597.0</td>\n",
       "    </tr>\n",
       "    <tr>\n",
       "      <th>...</th>\n",
       "      <td>...</td>\n",
       "      <td>...</td>\n",
       "      <td>...</td>\n",
       "      <td>...</td>\n",
       "      <td>...</td>\n",
       "      <td>...</td>\n",
       "    </tr>\n",
       "    <tr>\n",
       "      <th>845366</th>\n",
       "      <td>184.0</td>\n",
       "      <td>455.0</td>\n",
       "      <td>256.0</td>\n",
       "      <td>3583.0</td>\n",
       "      <td>1519.0</td>\n",
       "      <td>565.0</td>\n",
       "    </tr>\n",
       "    <tr>\n",
       "      <th>843822</th>\n",
       "      <td>194.0</td>\n",
       "      <td>153.0</td>\n",
       "      <td>67.0</td>\n",
       "      <td>55.0</td>\n",
       "      <td>79.0</td>\n",
       "      <td>61.0</td>\n",
       "    </tr>\n",
       "    <tr>\n",
       "      <th>476169</th>\n",
       "      <td>693.0</td>\n",
       "      <td>861.0</td>\n",
       "      <td>699.0</td>\n",
       "      <td>3076.0</td>\n",
       "      <td>1629.0</td>\n",
       "      <td>796.0</td>\n",
       "    </tr>\n",
       "    <tr>\n",
       "      <th>837933</th>\n",
       "      <td>257.0</td>\n",
       "      <td>556.0</td>\n",
       "      <td>329.0</td>\n",
       "      <td>3798.0</td>\n",
       "      <td>1766.0</td>\n",
       "      <td>732.0</td>\n",
       "    </tr>\n",
       "    <tr>\n",
       "      <th>42694</th>\n",
       "      <td>2214.0</td>\n",
       "      <td>2336.0</td>\n",
       "      <td>2278.0</td>\n",
       "      <td>3987.0</td>\n",
       "      <td>3041.0</td>\n",
       "      <td>2193.0</td>\n",
       "    </tr>\n",
       "  </tbody>\n",
       "</table>\n",
       "<p>299097 rows × 6 columns</p>\n",
       "</div>"
      ],
      "text/plain": [
       "          blue   green     red     nir   swir1   swir2\n",
       "915922   259.0   175.0    81.0    61.0    83.0    68.0\n",
       "176556  5675.0  5509.0  5560.0  5559.0  4377.0  3643.0\n",
       "333568  2087.0  2062.0  1932.0  3399.0  2331.0  1652.0\n",
       "655525   723.0   715.0   626.0   691.0   669.0   630.0\n",
       "270124   197.0   443.0   229.0  3750.0  1564.0   597.0\n",
       "...        ...     ...     ...     ...     ...     ...\n",
       "845366   184.0   455.0   256.0  3583.0  1519.0   565.0\n",
       "843822   194.0   153.0    67.0    55.0    79.0    61.0\n",
       "476169   693.0   861.0   699.0  3076.0  1629.0   796.0\n",
       "837933   257.0   556.0   329.0  3798.0  1766.0   732.0\n",
       "42694   2214.0  2336.0  2278.0  3987.0  3041.0  2193.0\n",
       "\n",
       "[299097 rows x 6 columns]"
      ]
     },
     "execution_count": 13,
     "metadata": {},
     "output_type": "execute_result"
    }
   ],
   "source": [
    "X_test"
   ]
  },
  {
   "cell_type": "code",
   "execution_count": 14,
   "metadata": {},
   "outputs": [
    {
     "data": {
      "text/plain": [
       "915922       wofs\n",
       "176556      cloud\n",
       "333568      cloud\n",
       "655525      cloud\n",
       "270124     bosque\n",
       "           ...   \n",
       "845366     bosque\n",
       "843822       wofs\n",
       "476169    ninguno\n",
       "837933     bosque\n",
       "42694       cloud\n",
       "Name: label, Length: 299097, dtype: object"
      ]
     },
     "execution_count": 14,
     "metadata": {},
     "output_type": "execute_result"
    }
   ],
   "source": [
    "y_test"
   ]
  },
  {
   "cell_type": "markdown",
   "metadata": {},
   "source": [
    "# Naive Bayes para multiples capas\n",
    "La clasificación multicapa del algoritmo Naive Bayes es conocida como \"Clasificación Naive Bayes Multinomial\". Como se puede apreciar la clasificación de nuestro conjunto de caracteristicas puede tener 4 valores: wofs, bosque, wofs_bosque y ninguno. \n",
    "En esta parte de creación del modelo se evaluaran dos variaciones del clasificador Naive Bayes: Gausiano y multinomial. En el analisis de resultados se contrastaran los resultados obtenidos para cada uno de ellos."
   ]
  },
  {
   "cell_type": "markdown",
   "metadata": {},
   "source": [
    "### Multinomial"
   ]
  },
  {
   "cell_type": "code",
   "execution_count": 15,
   "metadata": {},
   "outputs": [],
   "source": [
    "#Create a Gaussian Classifier\n",
    "gnb = MultinomialNB()"
   ]
  },
  {
   "cell_type": "code",
   "execution_count": 16,
   "metadata": {},
   "outputs": [
    {
     "data": {
      "text/plain": [
       "MultinomialNB(alpha=1.0, class_prior=None, fit_prior=True)"
      ]
     },
     "execution_count": 16,
     "metadata": {},
     "output_type": "execute_result"
    }
   ],
   "source": [
    "#Train the model using the training sets\n",
    "gnb.fit(X_train, y_train)"
   ]
  },
  {
   "cell_type": "code",
   "execution_count": 17,
   "metadata": {},
   "outputs": [],
   "source": [
    "#Predict the response for test dataset\n",
    "y_pred = gnb.predict(X_test)"
   ]
  },
  {
   "cell_type": "code",
   "execution_count": 18,
   "metadata": {},
   "outputs": [
    {
     "data": {
      "text/plain": [
       "Counter({'wofs': 100042,\n",
       "         'cloud': 109578,\n",
       "         'bosque': 59691,\n",
       "         'ninguno': 27763,\n",
       "         'wofs_bosque': 2023})"
      ]
     },
     "execution_count": 18,
     "metadata": {},
     "output_type": "execute_result"
    }
   ],
   "source": [
    "Counter(y_pred)"
   ]
  },
  {
   "cell_type": "code",
   "execution_count": 19,
   "metadata": {},
   "outputs": [
    {
     "data": {
      "text/plain": [
       "array([[ 58848,      6,   5576,      2,     16],\n",
       "       [     9, 105766,  11260,     90,   1370],\n",
       "       [   834,   1532,  10899,    100,    355],\n",
       "       [     0,   2268,     21,  99848,    254],\n",
       "       [     0,      6,      7,      2,     28]])"
      ]
     },
     "execution_count": 19,
     "metadata": {},
     "output_type": "execute_result"
    }
   ],
   "source": [
    "#wofs\n",
    "#cloud\n",
    "#ninguno\n",
    "#bosque\n",
    "#wofs_bosque\n",
    "confusion_matrix(y_test, y_pred)"
   ]
  },
  {
   "cell_type": "code",
   "execution_count": 20,
   "metadata": {},
   "outputs": [
    {
     "name": "stdout",
     "output_type": "stream",
     "text": [
      "              precision    recall  f1-score   support\n",
      "\n",
      "      bosque       0.99      0.91      0.95     64448\n",
      "       cloud       0.97      0.89      0.93    118495\n",
      "     ninguno       0.39      0.79      0.53     13720\n",
      "        wofs       1.00      0.98      0.99    102391\n",
      " wofs_bosque       0.01      0.65      0.03        43\n",
      "\n",
      "    accuracy                           0.92    299097\n",
      "   macro avg       0.67      0.85      0.68    299097\n",
      "weighted avg       0.95      0.92      0.93    299097\n",
      "\n"
     ]
    }
   ],
   "source": [
    "print(classification_report(y_test, y_pred))"
   ]
  },
  {
   "cell_type": "code",
   "execution_count": 21,
   "metadata": {},
   "outputs": [
    {
     "name": "stdout",
     "output_type": "stream",
     "text": [
      "Accuracy: 0.9207347449155291\n"
     ]
    }
   ],
   "source": [
    "# Model Accuracy\n",
    "print(\"Accuracy:\",metrics.accuracy_score(y_test, y_pred))"
   ]
  },
  {
   "cell_type": "code",
   "execution_count": 22,
   "metadata": {},
   "outputs": [
    {
     "data": {
      "text/plain": [
       "['model_nb_multinomial.joblib']"
      ]
     },
     "execution_count": 22,
     "metadata": {},
     "output_type": "execute_result"
    }
   ],
   "source": [
    "joblib.dump(gnb, 'model_nb_multinomial.joblib') "
   ]
  },
  {
   "cell_type": "markdown",
   "metadata": {},
   "source": [
    "### Gaussiano"
   ]
  },
  {
   "cell_type": "code",
   "execution_count": 23,
   "metadata": {},
   "outputs": [],
   "source": [
    "#Create a Gaussian Classifier\n",
    "gnb = GaussianNB()"
   ]
  },
  {
   "cell_type": "code",
   "execution_count": 24,
   "metadata": {},
   "outputs": [
    {
     "data": {
      "text/plain": [
       "GaussianNB(priors=None, var_smoothing=1e-09)"
      ]
     },
     "execution_count": 24,
     "metadata": {},
     "output_type": "execute_result"
    }
   ],
   "source": [
    "#Train the model using the training sets\n",
    "gnb.fit(X_train, y_train)"
   ]
  },
  {
   "cell_type": "code",
   "execution_count": 25,
   "metadata": {},
   "outputs": [],
   "source": [
    "#Predict the response for test dataset\n",
    "y_pred = gnb.predict(X_test)"
   ]
  },
  {
   "cell_type": "code",
   "execution_count": 26,
   "metadata": {},
   "outputs": [
    {
     "data": {
      "text/plain": [
       "Counter({'wofs': 98820,\n",
       "         'cloud': 102322,\n",
       "         'ninguno': 30141,\n",
       "         'bosque': 63233,\n",
       "         'wofs_bosque': 4581})"
      ]
     },
     "execution_count": 26,
     "metadata": {},
     "output_type": "execute_result"
    }
   ],
   "source": [
    "Counter(y_pred)"
   ]
  },
  {
   "cell_type": "code",
   "execution_count": 27,
   "metadata": {},
   "outputs": [
    {
     "data": {
      "text/plain": [
       "array([[ 59341,     51,   3229,     58,   1769],\n",
       "       [    48, 101716,  16719,      0,     12],\n",
       "       [  3804,    555,   8797,     31,    533],\n",
       "       [    36,      0,   1392,  98721,   2242],\n",
       "       [     4,      0,      4,     10,     25]])"
      ]
     },
     "execution_count": 27,
     "metadata": {},
     "output_type": "execute_result"
    }
   ],
   "source": [
    "#wofs\n",
    "#cloud\n",
    "#ninguno\n",
    "#bosque\n",
    "#wofs_bosque\n",
    "confusion_matrix(y_test, y_pred)"
   ]
  },
  {
   "cell_type": "code",
   "execution_count": 28,
   "metadata": {},
   "outputs": [
    {
     "name": "stdout",
     "output_type": "stream",
     "text": [
      "              precision    recall  f1-score   support\n",
      "\n",
      "      bosque       0.94      0.92      0.93     64448\n",
      "       cloud       0.99      0.86      0.92    118495\n",
      "     ninguno       0.29      0.64      0.40     13720\n",
      "        wofs       1.00      0.96      0.98    102391\n",
      " wofs_bosque       0.01      0.58      0.01        43\n",
      "\n",
      "    accuracy                           0.90    299097\n",
      "   macro avg       0.65      0.79      0.65    299097\n",
      "weighted avg       0.95      0.90      0.92    299097\n",
      "\n"
     ]
    }
   ],
   "source": [
    "print(classification_report(y_test, y_pred))"
   ]
  },
  {
   "cell_type": "code",
   "execution_count": 29,
   "metadata": {},
   "outputs": [
    {
     "name": "stdout",
     "output_type": "stream",
     "text": [
      "Accuracy: 0.8980364229664624\n"
     ]
    }
   ],
   "source": [
    "# Model Accuracy\n",
    "print(\"Accuracy:\",metrics.accuracy_score(y_test, y_pred))"
   ]
  },
  {
   "cell_type": "code",
   "execution_count": 30,
   "metadata": {},
   "outputs": [
    {
     "data": {
      "text/plain": [
       "['model_nb_gaussiano.joblib']"
      ]
     },
     "execution_count": 30,
     "metadata": {},
     "output_type": "execute_result"
    }
   ],
   "source": [
    "joblib.dump(gnb, 'model_nb_gaussiano.joblib') "
   ]
  },
  {
   "cell_type": "markdown",
   "metadata": {},
   "source": [
    "## Analisis de resultados y conclusiones\n",
    "\n",
    "El rendmiento obtenido con el modelo Multinomial llega a ser del 79.73% y el rendimiento con el modelo Gausiano alcanza el 87.11%. Por lo que logramos determinar que en este escenario funciona mejor el modelo Gassiano que el Multinomial por aproimadamente 8 puntos de diferencia. Revisando la matriz de confusión logramos evidenciar que el modelo Multinomial confunde mucho de los elementos de la clase 3(Ninguno) siendo esto logico porque los valores de caracteristicas de entrada.\n",
    "\n",
    "**Multinomial**\n",
    "\n",
    "**Accuracy:** 79.73%\n",
    "\n",
    "**Matriz de predicción**\n",
    "\n",
    "| Clase\\Predicción | WOFS  | Cloud  | Ninguno | Bosque | WOFS_Bosque |\n",
    "|------------------|-------|--------|---------|--------|-------------|\n",
    "| WOFS             | 28721 | 1      | 320     | 2      | 551         |\n",
    "| Cloud            | 43    | 120350 | 39851   | 240    | 1295        |\n",
    "| Ninguno          | 1895  | 8902   | 4897    | 1003   | 1646        |\n",
    "| Bosque           | 0     | 3826   | 175     | 82221  | 278         |\n",
    "| WOFS_Bosque      | 0     | 12     | 7       | 9      | 50          |\n",
    "       \n",
    "**Gaussiano**\n",
    "\n",
    "**Accuracy:** 87.11%\n",
    "\n",
    "**Matriz de predicción**\n",
    "\n",
    "| Clase\\Predicción | WOFS  | Cloud  | Ninguno | Bosque | WOFS_Bosque |\n",
    "|------------------|-------|--------|---------|--------|-------------|\n",
    "| WOFS             | 27133 | 74     | 1321    | 349    | 718         |\n",
    "| Cloud            | 68    | 134215 | 27495   | 1      | 0           |\n",
    "| Ninguno          | 2570  | 1176   | 13427   | 1065   | 105         |\n",
    "| Bosque           | 95    | 0      | 2685    | 8335   | 385         |\n",
    "| WOFS_Bosque      | 24    | 0      | 6       | 40     | 8           |\n",
    "\n",
    "En el Modelo multinomial las clases ninguno y wofs_bosque tienen muy bajas estadisticas de presicion y recall por las siguentes razones: una razón de forma general para obtener tan bajas estadísticas usando el modelo multinomiál es que el trabaja mejor con datos descretos, es decir, valores que esten en un rango de predefinido, por el contrario los datos de características de nuestro dataset se encuentran en valores continuos.\n",
    "En el modelo Gaussiano obtuvimos mejores características por la razón mencionada anteriormente. Sin embargo logramos apreciar que hay 2 clases(ninguno y wofs_bosque) que no estan teniendo buenas estadísticas de predicción(Precision y recall). Las razones a las que podemos llegar para esto son las siguientes: la clase wofs_bosque(Clase donde se categorizan los pixeles que se encuentran en un rango de valores que se pueden clasificar como Bosque y Agua) es una clase que se encuentra desbalanceada comparada con la cantidad de datos que otras clases tienen. Sin embargo como esta clase no es lo suficientemente determinante para nuestro ejercicio de clasificación decidimos dejarla de esta manera.\n",
    "Por otro lado la clasificación “ninguno” puede estar presentando un bajo recall comparado con sus demas clases porque es una clasificación donde pueden estar una gran diversidad de valores haciendo que este modelo no generalice bien para esta clase particular."
   ]
  },
  {
   "cell_type": "markdown",
   "metadata": {},
   "source": [
    "# Referencias\n",
    "https://www.datacamp.com/community/tutorials/naive-bayes-scikit-learn\n",
    "\n",
    "https://datascience.stackexchange.com/questions/40345/how-to-convert-multiple-columns-into-single-columns-in-pandas\n",
    "\n",
    "https://stackoverflow.com/questions/13295735/how-can-i-replace-all-the-nan-values-with-zeros-in-a-column-of-a-pandas-datafra"
   ]
  }
 ],
 "metadata": {
  "kernelspec": {
   "display_name": "Python 3",
   "language": "python",
   "name": "python3"
  },
  "language_info": {
   "codemirror_mode": {
    "name": "ipython",
    "version": 3
   },
   "file_extension": ".py",
   "mimetype": "text/x-python",
   "name": "python",
   "nbconvert_exporter": "python",
   "pygments_lexer": "ipython3",
   "version": "3.6.5"
  }
 },
 "nbformat": 4,
 "nbformat_minor": 2
}
