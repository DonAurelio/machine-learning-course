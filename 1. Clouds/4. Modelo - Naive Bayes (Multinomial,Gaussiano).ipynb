{
 "cells": [
  {
   "cell_type": "code",
   "execution_count": 1,
   "metadata": {},
   "outputs": [
    {
     "name": "stderr",
     "output_type": "stream",
     "text": [
      "C:\\Users\\a.larav\\AppData\\Local\\Continuum\\anaconda3\\lib\\site-packages\\sklearn\\externals\\joblib\\__init__.py:15: DeprecationWarning: sklearn.externals.joblib is deprecated in 0.21 and will be removed in 0.23. Please import this functionality directly from joblib, which can be installed with: pip install joblib. If this warning is raised when loading pickled models, you may need to re-serialize those models with scikit-learn 0.21+.\n",
      "  warnings.warn(msg, category=DeprecationWarning)\n"
     ]
    }
   ],
   "source": [
    "import os\n",
    "import pandas as pd\n",
    "import numpy as np\n",
    "#import pandas_profiling\n",
    "from sklearn.model_selection import train_test_split\n",
    "from sklearn.linear_model import LassoCV\n",
    "from sklearn import datasets\n",
    "from collections import Counter\n",
    "\n",
    "from joblib import dump\n",
    "from sklearn.externals import joblib\n",
    "\n",
    "#from keras.models import model_from_json\n",
    "\n",
    "#Import Gaussian Naive Bayes model\n",
    "from sklearn.naive_bayes import GaussianNB\n",
    "from sklearn.naive_bayes import MultinomialNB\n",
    "\n",
    "#Import scikit-learn metrics module for accuracy calculation\n",
    "from sklearn import metrics\n",
    "from sklearn.metrics import confusion_matrix\n",
    "from sklearn.metrics import classification_report\n",
    "from sklearn.model_selection import cross_val_score\n"
   ]
  },
  {
   "cell_type": "markdown",
   "metadata": {},
   "source": [
    "# Se importa el Dataset con informacion de nubes\n",
    "Como se ha descrito, las imagenes descargadas de los portales de imagenes satelitales presentan información en multiples bandas. Es con esta información que los algoritmos de clasificación pueden emitir un juicio para determinar a que tipo de información puede corresponder un pixel: bosque, no busque,nubes,agua, agua_bosque,ninguno.\n",
    "En este escenario se plantea probar el clasificador Naive Bayes con información de imagenes que contengan nubes y agregar una nueva clase: Nubes. \n",
    "Este escenario se plantea en respuesta a que la clasificación de imagenes satelitales cuyas nubes fueron removidas resultaban un problema facil de clasificar para este tipo de modelo. "
   ]
  },
  {
   "cell_type": "code",
   "execution_count": 2,
   "metadata": {
    "scrolled": true
   },
   "outputs": [
    {
     "data": {
      "text/html": [
       "<div>\n",
       "<style scoped>\n",
       "    .dataframe tbody tr th:only-of-type {\n",
       "        vertical-align: middle;\n",
       "    }\n",
       "\n",
       "    .dataframe tbody tr th {\n",
       "        vertical-align: top;\n",
       "    }\n",
       "\n",
       "    .dataframe thead th {\n",
       "        text-align: right;\n",
       "    }\n",
       "</style>\n",
       "<table border=\"1\" class=\"dataframe\">\n",
       "  <thead>\n",
       "    <tr style=\"text-align: right;\">\n",
       "      <th></th>\n",
       "      <th>blue</th>\n",
       "      <th>green</th>\n",
       "      <th>red</th>\n",
       "      <th>nir</th>\n",
       "      <th>swir1</th>\n",
       "      <th>swir2</th>\n",
       "      <th>wofs</th>\n",
       "      <th>bosque</th>\n",
       "      <th>wofs_bosque</th>\n",
       "      <th>cloud</th>\n",
       "      <th>ninguno</th>\n",
       "    </tr>\n",
       "  </thead>\n",
       "  <tbody>\n",
       "    <tr>\n",
       "      <td>0</td>\n",
       "      <td>286.0</td>\n",
       "      <td>197.0</td>\n",
       "      <td>96.0</td>\n",
       "      <td>83.0</td>\n",
       "      <td>116.0</td>\n",
       "      <td>95.0</td>\n",
       "      <td>1</td>\n",
       "      <td>0</td>\n",
       "      <td>0</td>\n",
       "      <td>0</td>\n",
       "      <td>0</td>\n",
       "    </tr>\n",
       "    <tr>\n",
       "      <td>1</td>\n",
       "      <td>280.0</td>\n",
       "      <td>217.0</td>\n",
       "      <td>108.0</td>\n",
       "      <td>83.0</td>\n",
       "      <td>118.0</td>\n",
       "      <td>96.0</td>\n",
       "      <td>1</td>\n",
       "      <td>0</td>\n",
       "      <td>0</td>\n",
       "      <td>0</td>\n",
       "      <td>0</td>\n",
       "    </tr>\n",
       "    <tr>\n",
       "      <td>2</td>\n",
       "      <td>3011.0</td>\n",
       "      <td>2996.0</td>\n",
       "      <td>2900.0</td>\n",
       "      <td>4186.0</td>\n",
       "      <td>1683.0</td>\n",
       "      <td>1373.0</td>\n",
       "      <td>0</td>\n",
       "      <td>0</td>\n",
       "      <td>0</td>\n",
       "      <td>1</td>\n",
       "      <td>0</td>\n",
       "    </tr>\n",
       "    <tr>\n",
       "      <td>3</td>\n",
       "      <td>3576.0</td>\n",
       "      <td>3303.0</td>\n",
       "      <td>3313.0</td>\n",
       "      <td>3369.0</td>\n",
       "      <td>2637.0</td>\n",
       "      <td>2339.0</td>\n",
       "      <td>0</td>\n",
       "      <td>0</td>\n",
       "      <td>0</td>\n",
       "      <td>1</td>\n",
       "      <td>0</td>\n",
       "    </tr>\n",
       "    <tr>\n",
       "      <td>4</td>\n",
       "      <td>1398.0</td>\n",
       "      <td>1345.0</td>\n",
       "      <td>1311.0</td>\n",
       "      <td>1389.0</td>\n",
       "      <td>1633.0</td>\n",
       "      <td>1355.0</td>\n",
       "      <td>0</td>\n",
       "      <td>0</td>\n",
       "      <td>0</td>\n",
       "      <td>0</td>\n",
       "      <td>1</td>\n",
       "    </tr>\n",
       "    <tr>\n",
       "      <td>...</td>\n",
       "      <td>...</td>\n",
       "      <td>...</td>\n",
       "      <td>...</td>\n",
       "      <td>...</td>\n",
       "      <td>...</td>\n",
       "      <td>...</td>\n",
       "      <td>...</td>\n",
       "      <td>...</td>\n",
       "      <td>...</td>\n",
       "      <td>...</td>\n",
       "      <td>...</td>\n",
       "    </tr>\n",
       "    <tr>\n",
       "      <td>95</td>\n",
       "      <td>1720.0</td>\n",
       "      <td>1848.0</td>\n",
       "      <td>1722.0</td>\n",
       "      <td>1650.0</td>\n",
       "      <td>1838.0</td>\n",
       "      <td>1476.0</td>\n",
       "      <td>0</td>\n",
       "      <td>0</td>\n",
       "      <td>0</td>\n",
       "      <td>1</td>\n",
       "      <td>0</td>\n",
       "    </tr>\n",
       "    <tr>\n",
       "      <td>96</td>\n",
       "      <td>584.0</td>\n",
       "      <td>456.0</td>\n",
       "      <td>402.0</td>\n",
       "      <td>405.0</td>\n",
       "      <td>389.0</td>\n",
       "      <td>356.0</td>\n",
       "      <td>0</td>\n",
       "      <td>0</td>\n",
       "      <td>0</td>\n",
       "      <td>0</td>\n",
       "      <td>1</td>\n",
       "    </tr>\n",
       "    <tr>\n",
       "      <td>97</td>\n",
       "      <td>5492.0</td>\n",
       "      <td>5736.0</td>\n",
       "      <td>5891.0</td>\n",
       "      <td>7423.0</td>\n",
       "      <td>6190.0</td>\n",
       "      <td>4758.0</td>\n",
       "      <td>0</td>\n",
       "      <td>0</td>\n",
       "      <td>0</td>\n",
       "      <td>1</td>\n",
       "      <td>0</td>\n",
       "    </tr>\n",
       "    <tr>\n",
       "      <td>98</td>\n",
       "      <td>229.0</td>\n",
       "      <td>139.0</td>\n",
       "      <td>43.0</td>\n",
       "      <td>29.0</td>\n",
       "      <td>73.0</td>\n",
       "      <td>59.0</td>\n",
       "      <td>1</td>\n",
       "      <td>0</td>\n",
       "      <td>0</td>\n",
       "      <td>0</td>\n",
       "      <td>0</td>\n",
       "    </tr>\n",
       "    <tr>\n",
       "      <td>99</td>\n",
       "      <td>2686.0</td>\n",
       "      <td>2701.0</td>\n",
       "      <td>2607.0</td>\n",
       "      <td>2654.0</td>\n",
       "      <td>2749.0</td>\n",
       "      <td>2529.0</td>\n",
       "      <td>0</td>\n",
       "      <td>0</td>\n",
       "      <td>0</td>\n",
       "      <td>1</td>\n",
       "      <td>0</td>\n",
       "    </tr>\n",
       "  </tbody>\n",
       "</table>\n",
       "<p>100 rows × 11 columns</p>\n",
       "</div>"
      ],
      "text/plain": [
       "      blue   green     red     nir   swir1   swir2  wofs  bosque  wofs_bosque  \\\n",
       "0    286.0   197.0    96.0    83.0   116.0    95.0     1       0            0   \n",
       "1    280.0   217.0   108.0    83.0   118.0    96.0     1       0            0   \n",
       "2   3011.0  2996.0  2900.0  4186.0  1683.0  1373.0     0       0            0   \n",
       "3   3576.0  3303.0  3313.0  3369.0  2637.0  2339.0     0       0            0   \n",
       "4   1398.0  1345.0  1311.0  1389.0  1633.0  1355.0     0       0            0   \n",
       "..     ...     ...     ...     ...     ...     ...   ...     ...          ...   \n",
       "95  1720.0  1848.0  1722.0  1650.0  1838.0  1476.0     0       0            0   \n",
       "96   584.0   456.0   402.0   405.0   389.0   356.0     0       0            0   \n",
       "97  5492.0  5736.0  5891.0  7423.0  6190.0  4758.0     0       0            0   \n",
       "98   229.0   139.0    43.0    29.0    73.0    59.0     1       0            0   \n",
       "99  2686.0  2701.0  2607.0  2654.0  2749.0  2529.0     0       0            0   \n",
       "\n",
       "    cloud  ninguno  \n",
       "0       0        0  \n",
       "1       0        0  \n",
       "2       1        0  \n",
       "3       1        0  \n",
       "4       0        1  \n",
       "..    ...      ...  \n",
       "95      1        0  \n",
       "96      0        1  \n",
       "97      1        0  \n",
       "98      0        0  \n",
       "99      1        0  \n",
       "\n",
       "[100 rows x 11 columns]"
      ]
     },
     "execution_count": 2,
     "metadata": {},
     "output_type": "execute_result"
    }
   ],
   "source": [
    "path = './satellite_dataset-con-nubes.csv'\n",
    "\n",
    "satellite = pd.read_csv(path)\n",
    "satellite.head(100)"
   ]
  },
  {
   "cell_type": "markdown",
   "metadata": {},
   "source": [
    "# Filtro de valores negativos\n",
    "Se realiza una filtro de las columnas que en alguna banda contengan un valor negativo porque el clasificador multinomial Naive bayes no funciona bien con esta información."
   ]
  },
  {
   "cell_type": "code",
   "execution_count": 3,
   "metadata": {},
   "outputs": [],
   "source": [
    "satellite = satellite[satellite[\"blue\"] > 0]\n",
    "satellite = satellite[satellite[\"red\"] > 0]\n",
    "satellite = satellite[satellite[\"green\"] > 0]\n",
    "satellite = satellite[satellite[\"nir\"] > 0]\n",
    "satellite = satellite[satellite[\"swir1\"] > 0]\n",
    "satellite = satellite[satellite[\"swir2\"] > 0]"
   ]
  },
  {
   "cell_type": "code",
   "execution_count": 4,
   "metadata": {},
   "outputs": [],
   "source": [
    "#satellite['wofs'].value_counts()\n",
    "#satellite['bosque'].value_counts()\n",
    "#satellite['wofs_bosque'].value_counts()\n",
    "#satellite['cloud'].value_counts()\n",
    "#satellite['ninguno'].value_counts()"
   ]
  },
  {
   "cell_type": "markdown",
   "metadata": {},
   "source": [
    "# Se reemplaza los valores en columnas de clases\n",
    "Como parte de preparación de los datos para crear el modelo se deben hacer algunos ajustes a la forma en que el dataset muestra la infiromación.Como se puede observar el dataset, las columnas de las clases se encuentran categorizadas por un valor binario. Lo que se realiza a continuación es reemplazar estos valores binarios por NaN en caso de ser \"Cero\" y el nombre de la clase en caso de ser \"Uno\"."
   ]
  },
  {
   "cell_type": "code",
   "execution_count": 5,
   "metadata": {},
   "outputs": [],
   "source": [
    "# Reemplazar el valor de columna Wofs por NaN(0) y Wofs(1)\n",
    "satellite['wofs'] = satellite['wofs'].replace(0,np.nan)\n",
    "satellite['wofs'] = satellite['wofs'].replace(1,'wofs')\n"
   ]
  },
  {
   "cell_type": "code",
   "execution_count": 6,
   "metadata": {},
   "outputs": [],
   "source": [
    "# Reemplazar el valor de columna bosque por NaN(0) y bosque(1)\n",
    "satellite['bosque'] = satellite['bosque'].replace(0,np.nan)\n",
    "satellite['bosque'] = satellite['bosque'].replace(1,'bosque')"
   ]
  },
  {
   "cell_type": "code",
   "execution_count": 7,
   "metadata": {},
   "outputs": [],
   "source": [
    "# Reemplazar el valor de columna wofs_bosque por NaN(0) y wofs_bosque(1)\n",
    "satellite['wofs_bosque'] = satellite['wofs_bosque'].replace(0,np.nan)\n",
    "satellite['wofs_bosque'] = satellite['wofs_bosque'].replace(1,'wofs_bosque')"
   ]
  },
  {
   "cell_type": "code",
   "execution_count": 8,
   "metadata": {},
   "outputs": [],
   "source": [
    "# Reemplazar el valor de columna ninguno por NaN(0) y ninguno(1)\n",
    "satellite['ninguno'] = satellite['ninguno'].replace(0,np.nan)\n",
    "satellite['ninguno'] = satellite['ninguno'].replace(1,'ninguno')"
   ]
  },
  {
   "cell_type": "code",
   "execution_count": 9,
   "metadata": {},
   "outputs": [],
   "source": [
    "# Reemplazar el valor de columna ninguno por NaN(0) y cloud(1)\n",
    "satellite['cloud'] = satellite['cloud'].replace(0,np.nan)\n",
    "satellite['cloud'] = satellite['cloud'].replace(1,'cloud')"
   ]
  },
  {
   "cell_type": "markdown",
   "metadata": {},
   "source": [
    "# Nueva columna de clasificación\n",
    "Como ultima parte para la preparación de los datos debemos tener la clasificación en una sola columna. Procedemos a crearla con el nombre \"label\" y alli asignaremos el valor categorizado de cada conjunto de atributos."
   ]
  },
  {
   "cell_type": "code",
   "execution_count": 10,
   "metadata": {},
   "outputs": [
    {
     "data": {
      "text/html": [
       "<div>\n",
       "<style scoped>\n",
       "    .dataframe tbody tr th:only-of-type {\n",
       "        vertical-align: middle;\n",
       "    }\n",
       "\n",
       "    .dataframe tbody tr th {\n",
       "        vertical-align: top;\n",
       "    }\n",
       "\n",
       "    .dataframe thead th {\n",
       "        text-align: right;\n",
       "    }\n",
       "</style>\n",
       "<table border=\"1\" class=\"dataframe\">\n",
       "  <thead>\n",
       "    <tr style=\"text-align: right;\">\n",
       "      <th></th>\n",
       "      <th>blue</th>\n",
       "      <th>green</th>\n",
       "      <th>red</th>\n",
       "      <th>nir</th>\n",
       "      <th>swir1</th>\n",
       "      <th>swir2</th>\n",
       "      <th>wofs</th>\n",
       "      <th>bosque</th>\n",
       "      <th>wofs_bosque</th>\n",
       "      <th>cloud</th>\n",
       "      <th>ninguno</th>\n",
       "      <th>label</th>\n",
       "    </tr>\n",
       "  </thead>\n",
       "  <tbody>\n",
       "    <tr>\n",
       "      <td>0</td>\n",
       "      <td>286.0</td>\n",
       "      <td>197.0</td>\n",
       "      <td>96.0</td>\n",
       "      <td>83.0</td>\n",
       "      <td>116.0</td>\n",
       "      <td>95.0</td>\n",
       "      <td>wofs</td>\n",
       "      <td>NaN</td>\n",
       "      <td>NaN</td>\n",
       "      <td>NaN</td>\n",
       "      <td>NaN</td>\n",
       "      <td>wofs</td>\n",
       "    </tr>\n",
       "    <tr>\n",
       "      <td>1</td>\n",
       "      <td>280.0</td>\n",
       "      <td>217.0</td>\n",
       "      <td>108.0</td>\n",
       "      <td>83.0</td>\n",
       "      <td>118.0</td>\n",
       "      <td>96.0</td>\n",
       "      <td>wofs</td>\n",
       "      <td>NaN</td>\n",
       "      <td>NaN</td>\n",
       "      <td>NaN</td>\n",
       "      <td>NaN</td>\n",
       "      <td>wofs</td>\n",
       "    </tr>\n",
       "    <tr>\n",
       "      <td>2</td>\n",
       "      <td>3011.0</td>\n",
       "      <td>2996.0</td>\n",
       "      <td>2900.0</td>\n",
       "      <td>4186.0</td>\n",
       "      <td>1683.0</td>\n",
       "      <td>1373.0</td>\n",
       "      <td>NaN</td>\n",
       "      <td>NaN</td>\n",
       "      <td>NaN</td>\n",
       "      <td>cloud</td>\n",
       "      <td>NaN</td>\n",
       "      <td>cloud</td>\n",
       "    </tr>\n",
       "    <tr>\n",
       "      <td>3</td>\n",
       "      <td>3576.0</td>\n",
       "      <td>3303.0</td>\n",
       "      <td>3313.0</td>\n",
       "      <td>3369.0</td>\n",
       "      <td>2637.0</td>\n",
       "      <td>2339.0</td>\n",
       "      <td>NaN</td>\n",
       "      <td>NaN</td>\n",
       "      <td>NaN</td>\n",
       "      <td>cloud</td>\n",
       "      <td>NaN</td>\n",
       "      <td>cloud</td>\n",
       "    </tr>\n",
       "    <tr>\n",
       "      <td>4</td>\n",
       "      <td>1398.0</td>\n",
       "      <td>1345.0</td>\n",
       "      <td>1311.0</td>\n",
       "      <td>1389.0</td>\n",
       "      <td>1633.0</td>\n",
       "      <td>1355.0</td>\n",
       "      <td>NaN</td>\n",
       "      <td>NaN</td>\n",
       "      <td>NaN</td>\n",
       "      <td>NaN</td>\n",
       "      <td>ninguno</td>\n",
       "      <td>ninguno</td>\n",
       "    </tr>\n",
       "    <tr>\n",
       "      <td>5</td>\n",
       "      <td>328.0</td>\n",
       "      <td>232.0</td>\n",
       "      <td>118.0</td>\n",
       "      <td>96.0</td>\n",
       "      <td>124.0</td>\n",
       "      <td>95.0</td>\n",
       "      <td>wofs</td>\n",
       "      <td>NaN</td>\n",
       "      <td>NaN</td>\n",
       "      <td>NaN</td>\n",
       "      <td>NaN</td>\n",
       "      <td>wofs</td>\n",
       "    </tr>\n",
       "    <tr>\n",
       "      <td>6</td>\n",
       "      <td>230.0</td>\n",
       "      <td>203.0</td>\n",
       "      <td>105.0</td>\n",
       "      <td>96.0</td>\n",
       "      <td>129.0</td>\n",
       "      <td>105.0</td>\n",
       "      <td>wofs</td>\n",
       "      <td>NaN</td>\n",
       "      <td>NaN</td>\n",
       "      <td>NaN</td>\n",
       "      <td>NaN</td>\n",
       "      <td>wofs</td>\n",
       "    </tr>\n",
       "    <tr>\n",
       "      <td>7</td>\n",
       "      <td>218.0</td>\n",
       "      <td>317.0</td>\n",
       "      <td>142.0</td>\n",
       "      <td>125.0</td>\n",
       "      <td>169.0</td>\n",
       "      <td>150.0</td>\n",
       "      <td>wofs</td>\n",
       "      <td>NaN</td>\n",
       "      <td>NaN</td>\n",
       "      <td>NaN</td>\n",
       "      <td>NaN</td>\n",
       "      <td>wofs</td>\n",
       "    </tr>\n",
       "    <tr>\n",
       "      <td>8</td>\n",
       "      <td>6702.0</td>\n",
       "      <td>6782.0</td>\n",
       "      <td>7018.0</td>\n",
       "      <td>7304.0</td>\n",
       "      <td>6323.0</td>\n",
       "      <td>5154.0</td>\n",
       "      <td>NaN</td>\n",
       "      <td>NaN</td>\n",
       "      <td>NaN</td>\n",
       "      <td>cloud</td>\n",
       "      <td>NaN</td>\n",
       "      <td>cloud</td>\n",
       "    </tr>\n",
       "    <tr>\n",
       "      <td>9</td>\n",
       "      <td>2866.0</td>\n",
       "      <td>2807.0</td>\n",
       "      <td>2806.0</td>\n",
       "      <td>2901.0</td>\n",
       "      <td>3267.0</td>\n",
       "      <td>2668.0</td>\n",
       "      <td>NaN</td>\n",
       "      <td>NaN</td>\n",
       "      <td>NaN</td>\n",
       "      <td>cloud</td>\n",
       "      <td>NaN</td>\n",
       "      <td>cloud</td>\n",
       "    </tr>\n",
       "    <tr>\n",
       "      <td>10</td>\n",
       "      <td>4682.0</td>\n",
       "      <td>4869.0</td>\n",
       "      <td>4784.0</td>\n",
       "      <td>5231.0</td>\n",
       "      <td>4318.0</td>\n",
       "      <td>3072.0</td>\n",
       "      <td>NaN</td>\n",
       "      <td>NaN</td>\n",
       "      <td>NaN</td>\n",
       "      <td>cloud</td>\n",
       "      <td>NaN</td>\n",
       "      <td>cloud</td>\n",
       "    </tr>\n",
       "    <tr>\n",
       "      <td>11</td>\n",
       "      <td>241.0</td>\n",
       "      <td>266.0</td>\n",
       "      <td>127.0</td>\n",
       "      <td>1156.0</td>\n",
       "      <td>341.0</td>\n",
       "      <td>129.0</td>\n",
       "      <td>NaN</td>\n",
       "      <td>bosque</td>\n",
       "      <td>NaN</td>\n",
       "      <td>NaN</td>\n",
       "      <td>NaN</td>\n",
       "      <td>bosque</td>\n",
       "    </tr>\n",
       "    <tr>\n",
       "      <td>12</td>\n",
       "      <td>100.0</td>\n",
       "      <td>254.0</td>\n",
       "      <td>142.0</td>\n",
       "      <td>1004.0</td>\n",
       "      <td>456.0</td>\n",
       "      <td>236.0</td>\n",
       "      <td>NaN</td>\n",
       "      <td>bosque</td>\n",
       "      <td>NaN</td>\n",
       "      <td>NaN</td>\n",
       "      <td>NaN</td>\n",
       "      <td>bosque</td>\n",
       "    </tr>\n",
       "    <tr>\n",
       "      <td>13</td>\n",
       "      <td>5969.0</td>\n",
       "      <td>6137.0</td>\n",
       "      <td>6251.0</td>\n",
       "      <td>7166.0</td>\n",
       "      <td>5648.0</td>\n",
       "      <td>4379.0</td>\n",
       "      <td>NaN</td>\n",
       "      <td>NaN</td>\n",
       "      <td>NaN</td>\n",
       "      <td>cloud</td>\n",
       "      <td>NaN</td>\n",
       "      <td>cloud</td>\n",
       "    </tr>\n",
       "    <tr>\n",
       "      <td>14</td>\n",
       "      <td>6500.0</td>\n",
       "      <td>6588.0</td>\n",
       "      <td>6696.0</td>\n",
       "      <td>6850.0</td>\n",
       "      <td>5156.0</td>\n",
       "      <td>4107.0</td>\n",
       "      <td>NaN</td>\n",
       "      <td>NaN</td>\n",
       "      <td>NaN</td>\n",
       "      <td>cloud</td>\n",
       "      <td>NaN</td>\n",
       "      <td>cloud</td>\n",
       "    </tr>\n",
       "    <tr>\n",
       "      <td>15</td>\n",
       "      <td>1541.0</td>\n",
       "      <td>1450.0</td>\n",
       "      <td>1409.0</td>\n",
       "      <td>2846.0</td>\n",
       "      <td>1827.0</td>\n",
       "      <td>1268.0</td>\n",
       "      <td>NaN</td>\n",
       "      <td>NaN</td>\n",
       "      <td>NaN</td>\n",
       "      <td>cloud</td>\n",
       "      <td>NaN</td>\n",
       "      <td>cloud</td>\n",
       "    </tr>\n",
       "    <tr>\n",
       "      <td>16</td>\n",
       "      <td>1826.0</td>\n",
       "      <td>1623.0</td>\n",
       "      <td>1593.0</td>\n",
       "      <td>1635.0</td>\n",
       "      <td>1432.0</td>\n",
       "      <td>1197.0</td>\n",
       "      <td>NaN</td>\n",
       "      <td>NaN</td>\n",
       "      <td>NaN</td>\n",
       "      <td>cloud</td>\n",
       "      <td>NaN</td>\n",
       "      <td>cloud</td>\n",
       "    </tr>\n",
       "    <tr>\n",
       "      <td>17</td>\n",
       "      <td>178.0</td>\n",
       "      <td>465.0</td>\n",
       "      <td>264.0</td>\n",
       "      <td>4109.0</td>\n",
       "      <td>1557.0</td>\n",
       "      <td>534.0</td>\n",
       "      <td>NaN</td>\n",
       "      <td>bosque</td>\n",
       "      <td>NaN</td>\n",
       "      <td>NaN</td>\n",
       "      <td>NaN</td>\n",
       "      <td>bosque</td>\n",
       "    </tr>\n",
       "    <tr>\n",
       "      <td>18</td>\n",
       "      <td>4673.0</td>\n",
       "      <td>4564.0</td>\n",
       "      <td>4520.0</td>\n",
       "      <td>5229.0</td>\n",
       "      <td>3554.0</td>\n",
       "      <td>2615.0</td>\n",
       "      <td>NaN</td>\n",
       "      <td>NaN</td>\n",
       "      <td>NaN</td>\n",
       "      <td>cloud</td>\n",
       "      <td>NaN</td>\n",
       "      <td>cloud</td>\n",
       "    </tr>\n",
       "    <tr>\n",
       "      <td>19</td>\n",
       "      <td>1573.0</td>\n",
       "      <td>1560.0</td>\n",
       "      <td>1508.0</td>\n",
       "      <td>1522.0</td>\n",
       "      <td>1665.0</td>\n",
       "      <td>1484.0</td>\n",
       "      <td>NaN</td>\n",
       "      <td>NaN</td>\n",
       "      <td>NaN</td>\n",
       "      <td>cloud</td>\n",
       "      <td>NaN</td>\n",
       "      <td>cloud</td>\n",
       "    </tr>\n",
       "  </tbody>\n",
       "</table>\n",
       "</div>"
      ],
      "text/plain": [
       "      blue   green     red     nir   swir1   swir2  wofs  bosque wofs_bosque  \\\n",
       "0    286.0   197.0    96.0    83.0   116.0    95.0  wofs     NaN         NaN   \n",
       "1    280.0   217.0   108.0    83.0   118.0    96.0  wofs     NaN         NaN   \n",
       "2   3011.0  2996.0  2900.0  4186.0  1683.0  1373.0   NaN     NaN         NaN   \n",
       "3   3576.0  3303.0  3313.0  3369.0  2637.0  2339.0   NaN     NaN         NaN   \n",
       "4   1398.0  1345.0  1311.0  1389.0  1633.0  1355.0   NaN     NaN         NaN   \n",
       "5    328.0   232.0   118.0    96.0   124.0    95.0  wofs     NaN         NaN   \n",
       "6    230.0   203.0   105.0    96.0   129.0   105.0  wofs     NaN         NaN   \n",
       "7    218.0   317.0   142.0   125.0   169.0   150.0  wofs     NaN         NaN   \n",
       "8   6702.0  6782.0  7018.0  7304.0  6323.0  5154.0   NaN     NaN         NaN   \n",
       "9   2866.0  2807.0  2806.0  2901.0  3267.0  2668.0   NaN     NaN         NaN   \n",
       "10  4682.0  4869.0  4784.0  5231.0  4318.0  3072.0   NaN     NaN         NaN   \n",
       "11   241.0   266.0   127.0  1156.0   341.0   129.0   NaN  bosque         NaN   \n",
       "12   100.0   254.0   142.0  1004.0   456.0   236.0   NaN  bosque         NaN   \n",
       "13  5969.0  6137.0  6251.0  7166.0  5648.0  4379.0   NaN     NaN         NaN   \n",
       "14  6500.0  6588.0  6696.0  6850.0  5156.0  4107.0   NaN     NaN         NaN   \n",
       "15  1541.0  1450.0  1409.0  2846.0  1827.0  1268.0   NaN     NaN         NaN   \n",
       "16  1826.0  1623.0  1593.0  1635.0  1432.0  1197.0   NaN     NaN         NaN   \n",
       "17   178.0   465.0   264.0  4109.0  1557.0   534.0   NaN  bosque         NaN   \n",
       "18  4673.0  4564.0  4520.0  5229.0  3554.0  2615.0   NaN     NaN         NaN   \n",
       "19  1573.0  1560.0  1508.0  1522.0  1665.0  1484.0   NaN     NaN         NaN   \n",
       "\n",
       "    cloud  ninguno    label  \n",
       "0     NaN      NaN     wofs  \n",
       "1     NaN      NaN     wofs  \n",
       "2   cloud      NaN    cloud  \n",
       "3   cloud      NaN    cloud  \n",
       "4     NaN  ninguno  ninguno  \n",
       "5     NaN      NaN     wofs  \n",
       "6     NaN      NaN     wofs  \n",
       "7     NaN      NaN     wofs  \n",
       "8   cloud      NaN    cloud  \n",
       "9   cloud      NaN    cloud  \n",
       "10  cloud      NaN    cloud  \n",
       "11    NaN      NaN   bosque  \n",
       "12    NaN      NaN   bosque  \n",
       "13  cloud      NaN    cloud  \n",
       "14  cloud      NaN    cloud  \n",
       "15  cloud      NaN    cloud  \n",
       "16  cloud      NaN    cloud  \n",
       "17    NaN      NaN   bosque  \n",
       "18  cloud      NaN    cloud  \n",
       "19  cloud      NaN    cloud  "
      ]
     },
     "execution_count": 10,
     "metadata": {},
     "output_type": "execute_result"
    }
   ],
   "source": [
    "#Se crea una nueva columna para almacenar el valor de etiqueta\n",
    "satellite['label']=np.nan\n",
    "\n",
    "#Se indica en la columna 'label', la clasificacion de la columna 'wofs'. Se esribe \"Wofs\" en columna 'label' si en  \n",
    "#la columna 'wofs' esta este valor\n",
    "for label in [col for col in satellite.columns if 'wofs' in col]:\n",
    "    satellite['label'].fillna(satellite[label],inplace=True)\n",
    "    \n",
    "#Se indica en la columna 'label', la clasificacion de la columna 'bosque'. Se esribe \"bosque\" en columna 'label' si en  \n",
    "#la columna 'bosque' esta este valor\n",
    "for label in [col for col in satellite.columns if 'bosque' in col]:\n",
    "    satellite['label'].fillna(satellite[label],inplace=True)\n",
    "    \n",
    "#Se indica en la columna 'label', la clasificacion de la columna 'wofs_bosque'. Se esribe \"wofs_bosque\" en columna 'label' si en  \n",
    "#la columna 'wofs_bosque' esta este valor\n",
    "for label in [col for col in satellite.columns if 'wofs_bosque' in col]:\n",
    "    satellite['label'].fillna(satellite[label],inplace=True)\n",
    "    \n",
    "#Se indica en la columna 'label', la clasificacion de la columna 'ninguno'. Se esribe \"ninguno\" en columna 'label' si en  \n",
    "#la columna 'ninguno' esta este valor\n",
    "for label in [col for col in satellite.columns if 'ninguno' in col]:\n",
    "    satellite['label'].fillna(satellite[label],inplace=True)\n",
    "    \n",
    "#Se indica en la columna 'label', la clasificacion de la columna 'cloud'. Se esribe \"cloud\" en columna 'label' si en  \n",
    "#la columna 'cloud' esta este valor\n",
    "for label in [col for col in satellite.columns if 'cloud' in col]:\n",
    "    satellite['label'].fillna(satellite[label],inplace=True)\n",
    "satellite.head(20)"
   ]
  },
  {
   "cell_type": "markdown",
   "metadata": {},
   "source": [
    "wofs\n",
    "cloud\n",
    "ninguno\n",
    "boque\n",
    "wofs_bosque"
   ]
  },
  {
   "cell_type": "code",
   "execution_count": 11,
   "metadata": {
    "scrolled": true
   },
   "outputs": [
    {
     "data": {
      "text/plain": [
       "cloud          538313\n",
       "wofs           288423\n",
       "bosque          99236\n",
       "ninguno         61378\n",
       "wofs_bosque       300\n",
       "Name: label, dtype: int64"
      ]
     },
     "execution_count": 11,
     "metadata": {},
     "output_type": "execute_result"
    }
   ],
   "source": [
    "# Se crea el conjunto de clasificacion y el de entrenamiento\n",
    "Y = satellite[\"label\"]\n",
    "X = satellite.drop(columns=[\"label\",\"wofs\",\"bosque\",\"wofs_bosque\",\"cloud\",\"ninguno\"], axis=1)\n",
    "Y.value_counts()"
   ]
  },
  {
   "cell_type": "markdown",
   "metadata": {},
   "source": [
    "# Se crean los conjuntos de entrenamiento y de prueba\n",
    "Para hacer esto se deben dividir los datos en 4 conjuntos de datos de la siguiente manera: Conjuntos de entrenamiento(X_train, y_train) y Conjunto de test(X_test, y_test)"
   ]
  },
  {
   "cell_type": "code",
   "execution_count": 12,
   "metadata": {},
   "outputs": [],
   "source": [
    "# Se dividen los datos en los conjuntos de Train y test\n",
    "X_train, X_test, y_train, y_test = train_test_split(\n",
    "    X,\n",
    "    Y,\n",
    "    test_size=0.3,\n",
    "    random_state=0\n",
    ")"
   ]
  },
  {
   "cell_type": "code",
   "execution_count": 13,
   "metadata": {},
   "outputs": [
    {
     "data": {
      "text/html": [
       "<div>\n",
       "<style scoped>\n",
       "    .dataframe tbody tr th:only-of-type {\n",
       "        vertical-align: middle;\n",
       "    }\n",
       "\n",
       "    .dataframe tbody tr th {\n",
       "        vertical-align: top;\n",
       "    }\n",
       "\n",
       "    .dataframe thead th {\n",
       "        text-align: right;\n",
       "    }\n",
       "</style>\n",
       "<table border=\"1\" class=\"dataframe\">\n",
       "  <thead>\n",
       "    <tr style=\"text-align: right;\">\n",
       "      <th></th>\n",
       "      <th>blue</th>\n",
       "      <th>green</th>\n",
       "      <th>red</th>\n",
       "      <th>nir</th>\n",
       "      <th>swir1</th>\n",
       "      <th>swir2</th>\n",
       "    </tr>\n",
       "  </thead>\n",
       "  <tbody>\n",
       "    <tr>\n",
       "      <td>441018</td>\n",
       "      <td>4415.0</td>\n",
       "      <td>4694.0</td>\n",
       "      <td>4728.0</td>\n",
       "      <td>4888.0</td>\n",
       "      <td>4886.0</td>\n",
       "      <td>4312.0</td>\n",
       "    </tr>\n",
       "    <tr>\n",
       "      <td>738664</td>\n",
       "      <td>3464.0</td>\n",
       "      <td>3533.0</td>\n",
       "      <td>3523.0</td>\n",
       "      <td>4645.0</td>\n",
       "      <td>3161.0</td>\n",
       "      <td>2128.0</td>\n",
       "    </tr>\n",
       "    <tr>\n",
       "      <td>472244</td>\n",
       "      <td>393.0</td>\n",
       "      <td>334.0</td>\n",
       "      <td>238.0</td>\n",
       "      <td>220.0</td>\n",
       "      <td>319.0</td>\n",
       "      <td>257.0</td>\n",
       "    </tr>\n",
       "    <tr>\n",
       "      <td>574853</td>\n",
       "      <td>5000.0</td>\n",
       "      <td>5063.0</td>\n",
       "      <td>5114.0</td>\n",
       "      <td>5233.0</td>\n",
       "      <td>5074.0</td>\n",
       "      <td>4151.0</td>\n",
       "    </tr>\n",
       "    <tr>\n",
       "      <td>434050</td>\n",
       "      <td>2950.0</td>\n",
       "      <td>2903.0</td>\n",
       "      <td>2836.0</td>\n",
       "      <td>3711.0</td>\n",
       "      <td>2514.0</td>\n",
       "      <td>1761.0</td>\n",
       "    </tr>\n",
       "    <tr>\n",
       "      <td>...</td>\n",
       "      <td>...</td>\n",
       "      <td>...</td>\n",
       "      <td>...</td>\n",
       "      <td>...</td>\n",
       "      <td>...</td>\n",
       "      <td>...</td>\n",
       "    </tr>\n",
       "    <tr>\n",
       "      <td>518086</td>\n",
       "      <td>430.0</td>\n",
       "      <td>299.0</td>\n",
       "      <td>187.0</td>\n",
       "      <td>148.0</td>\n",
       "      <td>159.0</td>\n",
       "      <td>130.0</td>\n",
       "    </tr>\n",
       "    <tr>\n",
       "      <td>950980</td>\n",
       "      <td>112.0</td>\n",
       "      <td>293.0</td>\n",
       "      <td>162.0</td>\n",
       "      <td>1484.0</td>\n",
       "      <td>748.0</td>\n",
       "      <td>378.0</td>\n",
       "    </tr>\n",
       "    <tr>\n",
       "      <td>712658</td>\n",
       "      <td>4317.0</td>\n",
       "      <td>4643.0</td>\n",
       "      <td>4346.0</td>\n",
       "      <td>4060.0</td>\n",
       "      <td>2553.0</td>\n",
       "      <td>1465.0</td>\n",
       "    </tr>\n",
       "    <tr>\n",
       "      <td>921580</td>\n",
       "      <td>1513.0</td>\n",
       "      <td>1520.0</td>\n",
       "      <td>1432.0</td>\n",
       "      <td>1400.0</td>\n",
       "      <td>1641.0</td>\n",
       "      <td>1449.0</td>\n",
       "    </tr>\n",
       "    <tr>\n",
       "      <td>234064</td>\n",
       "      <td>4288.0</td>\n",
       "      <td>4478.0</td>\n",
       "      <td>4556.0</td>\n",
       "      <td>5162.0</td>\n",
       "      <td>3723.0</td>\n",
       "      <td>2976.0</td>\n",
       "    </tr>\n",
       "  </tbody>\n",
       "</table>\n",
       "<p>296295 rows × 6 columns</p>\n",
       "</div>"
      ],
      "text/plain": [
       "          blue   green     red     nir   swir1   swir2\n",
       "441018  4415.0  4694.0  4728.0  4888.0  4886.0  4312.0\n",
       "738664  3464.0  3533.0  3523.0  4645.0  3161.0  2128.0\n",
       "472244   393.0   334.0   238.0   220.0   319.0   257.0\n",
       "574853  5000.0  5063.0  5114.0  5233.0  5074.0  4151.0\n",
       "434050  2950.0  2903.0  2836.0  3711.0  2514.0  1761.0\n",
       "...        ...     ...     ...     ...     ...     ...\n",
       "518086   430.0   299.0   187.0   148.0   159.0   130.0\n",
       "950980   112.0   293.0   162.0  1484.0   748.0   378.0\n",
       "712658  4317.0  4643.0  4346.0  4060.0  2553.0  1465.0\n",
       "921580  1513.0  1520.0  1432.0  1400.0  1641.0  1449.0\n",
       "234064  4288.0  4478.0  4556.0  5162.0  3723.0  2976.0\n",
       "\n",
       "[296295 rows x 6 columns]"
      ]
     },
     "execution_count": 13,
     "metadata": {},
     "output_type": "execute_result"
    }
   ],
   "source": [
    "X_test"
   ]
  },
  {
   "cell_type": "code",
   "execution_count": 14,
   "metadata": {},
   "outputs": [
    {
     "data": {
      "text/plain": [
       "441018     cloud\n",
       "738664     cloud\n",
       "472244      wofs\n",
       "574853     cloud\n",
       "434050     cloud\n",
       "           ...  \n",
       "518086      wofs\n",
       "950980    bosque\n",
       "712658     cloud\n",
       "921580     cloud\n",
       "234064     cloud\n",
       "Name: label, Length: 296295, dtype: object"
      ]
     },
     "execution_count": 14,
     "metadata": {},
     "output_type": "execute_result"
    }
   ],
   "source": [
    "y_test"
   ]
  },
  {
   "cell_type": "markdown",
   "metadata": {},
   "source": [
    "# Naive Bayes para multiples capas\n",
    "La clasificación multicapa del algoritmo Naive Bayes es conocida como \"Clasificación Naive Bayes Multinomial\". Como se puede apreciar la clasificación de nuestro conjunto de caracteristicas puede tener 4 valores: wofs, bosque, wofs_bosque y ninguno. \n",
    "En esta parte de creación del modelo se evaluaran dos variaciones del clasificador Naive Bayes: Gausiano y multinomial. En el analisis de resultados se contrastaran los resultados obtenidos para cada uno de ellos."
   ]
  },
  {
   "cell_type": "markdown",
   "metadata": {},
   "source": [
    "### Multinomial"
   ]
  },
  {
   "cell_type": "code",
   "execution_count": 15,
   "metadata": {},
   "outputs": [],
   "source": [
    "#Create a Gaussian Classifier\n",
    "gnb = MultinomialNB()"
   ]
  },
  {
   "cell_type": "code",
   "execution_count": 16,
   "metadata": {},
   "outputs": [
    {
     "data": {
      "text/plain": [
       "MultinomialNB(alpha=1.0, class_prior=None, fit_prior=True)"
      ]
     },
     "execution_count": 16,
     "metadata": {},
     "output_type": "execute_result"
    }
   ],
   "source": [
    "#Train the model using the training sets\n",
    "gnb.fit(X_train, y_train)"
   ]
  },
  {
   "cell_type": "code",
   "execution_count": 17,
   "metadata": {},
   "outputs": [],
   "source": [
    "#Predict the response for test dataset\n",
    "y_pred = gnb.predict(X_test)"
   ]
  },
  {
   "cell_type": "code",
   "execution_count": 18,
   "metadata": {},
   "outputs": [
    {
     "data": {
      "text/plain": [
       "Counter({'ninguno': 45250,\n",
       "         'cloud': 133091,\n",
       "         'wofs': 83475,\n",
       "         'bosque': 30659,\n",
       "         'wofs_bosque': 3820})"
      ]
     },
     "execution_count": 18,
     "metadata": {},
     "output_type": "execute_result"
    }
   ],
   "source": [
    "Counter(y_pred)"
   ]
  },
  {
   "cell_type": "code",
   "execution_count": 19,
   "metadata": {},
   "outputs": [
    {
     "data": {
      "text/plain": [
       "array([[ 28721,      1,    320,      2,    551],\n",
       "       [    43, 120350,  39851,    240,   1295],\n",
       "       [  1895,   8902,   4897,   1003,   1646],\n",
       "       [     0,   3826,    175,  82221,    278],\n",
       "       [     0,     12,      7,      9,     50]], dtype=int64)"
      ]
     },
     "execution_count": 19,
     "metadata": {},
     "output_type": "execute_result"
    }
   ],
   "source": [
    "#wofs\n",
    "#cloud\n",
    "#ninguno\n",
    "#bosque\n",
    "#wofs_bosque\n",
    "confusion_matrix(y_test, y_pred)"
   ]
  },
  {
   "cell_type": "code",
   "execution_count": 20,
   "metadata": {},
   "outputs": [
    {
     "name": "stdout",
     "output_type": "stream",
     "text": [
      "              precision    recall  f1-score   support\n",
      "\n",
      "      bosque       0.94      0.97      0.95     29595\n",
      "       cloud       0.90      0.74      0.82    161779\n",
      "     ninguno       0.11      0.27      0.15     18343\n",
      "        wofs       0.98      0.95      0.97     86500\n",
      " wofs_bosque       0.01      0.64      0.03        78\n",
      "\n",
      "    accuracy                           0.80    296295\n",
      "   macro avg       0.59      0.71      0.58    296295\n",
      "weighted avg       0.88      0.80      0.83    296295\n",
      "\n"
     ]
    }
   ],
   "source": [
    "print(classification_report(y_test, y_pred))"
   ]
  },
  {
   "cell_type": "code",
   "execution_count": 21,
   "metadata": {},
   "outputs": [
    {
     "name": "stdout",
     "output_type": "stream",
     "text": [
      "Accuracy: 0.7973101132317454\n"
     ]
    }
   ],
   "source": [
    "# Model Accuracy\n",
    "print(\"Accuracy:\",metrics.accuracy_score(y_test, y_pred))"
   ]
  },
  {
   "cell_type": "code",
   "execution_count": 22,
   "metadata": {},
   "outputs": [
    {
     "data": {
      "text/plain": [
       "['model_nb_multinomial.joblib']"
      ]
     },
     "execution_count": 22,
     "metadata": {},
     "output_type": "execute_result"
    }
   ],
   "source": [
    "joblib.dump(gnb, 'model_nb_multinomial.joblib') "
   ]
  },
  {
   "cell_type": "markdown",
   "metadata": {},
   "source": [
    "### Gaussiano"
   ]
  },
  {
   "cell_type": "code",
   "execution_count": 23,
   "metadata": {},
   "outputs": [],
   "source": [
    "#Create a Gaussian Classifier\n",
    "gnb = GaussianNB()"
   ]
  },
  {
   "cell_type": "code",
   "execution_count": 24,
   "metadata": {},
   "outputs": [
    {
     "data": {
      "text/plain": [
       "GaussianNB(priors=None, var_smoothing=1e-09)"
      ]
     },
     "execution_count": 24,
     "metadata": {},
     "output_type": "execute_result"
    }
   ],
   "source": [
    "#Train the model using the training sets\n",
    "gnb.fit(X_train, y_train)"
   ]
  },
  {
   "cell_type": "code",
   "execution_count": 25,
   "metadata": {},
   "outputs": [],
   "source": [
    "#Predict the response for test dataset\n",
    "y_pred = gnb.predict(X_test)"
   ]
  },
  {
   "cell_type": "code",
   "execution_count": 26,
   "metadata": {},
   "outputs": [
    {
     "data": {
      "text/plain": [
       "Counter({'cloud': 135465,\n",
       "         'wofs': 84790,\n",
       "         'bosque': 29890,\n",
       "         'ninguno': 44934,\n",
       "         'wofs_bosque': 1216})"
      ]
     },
     "execution_count": 26,
     "metadata": {},
     "output_type": "execute_result"
    }
   ],
   "source": [
    "Counter(y_pred)"
   ]
  },
  {
   "cell_type": "code",
   "execution_count": 27,
   "metadata": {},
   "outputs": [
    {
     "data": {
      "text/plain": [
       "array([[ 27133,     74,   1321,    349,    718],\n",
       "       [    68, 134215,  27495,      1,      0],\n",
       "       [  2570,   1176,  13427,   1065,    105],\n",
       "       [    95,      0,   2685,  83335,    385],\n",
       "       [    24,      0,      6,     40,      8]], dtype=int64)"
      ]
     },
     "execution_count": 27,
     "metadata": {},
     "output_type": "execute_result"
    }
   ],
   "source": [
    "#wofs\n",
    "#cloud\n",
    "#ninguno\n",
    "#bosque\n",
    "#wofs_bosque\n",
    "confusion_matrix(y_test, y_pred)"
   ]
  },
  {
   "cell_type": "code",
   "execution_count": 28,
   "metadata": {},
   "outputs": [
    {
     "name": "stdout",
     "output_type": "stream",
     "text": [
      "              precision    recall  f1-score   support\n",
      "\n",
      "      bosque       0.91      0.92      0.91     29595\n",
      "       cloud       0.99      0.83      0.90    161779\n",
      "     ninguno       0.30      0.73      0.42     18343\n",
      "        wofs       0.98      0.96      0.97     86500\n",
      " wofs_bosque       0.01      0.10      0.01        78\n",
      "\n",
      "    accuracy                           0.87    296295\n",
      "   macro avg       0.64      0.71      0.65    296295\n",
      "weighted avg       0.94      0.87      0.89    296295\n",
      "\n"
     ]
    }
   ],
   "source": [
    "print(classification_report(y_test, y_pred))"
   ]
  },
  {
   "cell_type": "code",
   "execution_count": 29,
   "metadata": {},
   "outputs": [
    {
     "name": "stdout",
     "output_type": "stream",
     "text": [
      "Accuracy: 0.8711520612902681\n"
     ]
    }
   ],
   "source": [
    "# Model Accuracy\n",
    "print(\"Accuracy:\",metrics.accuracy_score(y_test, y_pred))"
   ]
  },
  {
   "cell_type": "code",
   "execution_count": 30,
   "metadata": {},
   "outputs": [
    {
     "data": {
      "text/plain": [
       "['model_nb_gaussiano.joblib']"
      ]
     },
     "execution_count": 30,
     "metadata": {},
     "output_type": "execute_result"
    }
   ],
   "source": [
    "joblib.dump(gnb, 'model_nb_gaussiano.joblib') "
   ]
  },
  {
   "cell_type": "markdown",
   "metadata": {},
   "source": [
    "## Analisis de resultados y conclusiones\n",
    "\n",
    "El rendmiento obtenido con el modelo Multinomial llega a ser del 79.73% y el rendimiento con el modelo Gausiano alcanza el 87.11%. Por lo que logramos determinar que en este escenario funciona mejor el modelo Gassiano que el Multinomial por aproimadamente 8 puntos de diferencia. Revisando la matriz de confusión logramos evidenciar que el modelo Multinomial confunde mucho de los elementos de la clase 3(Ninguno) siendo esto logico porque los valores de caracteristicas de entrada.\n",
    "\n",
    "**Multinomial**\n",
    "\n",
    "**Accuracy:** 79.73%\n",
    "\n",
    "**Matriz de predicción**\n",
    "\n",
    "| Clase\\Predicción | WOFS  | Cloud  | Ninguno | Bosque | WOFS_Bosque |\n",
    "|------------------|-------|--------|---------|--------|-------------|\n",
    "| WOFS             | 28721 | 1      | 320     | 2      | 551         |\n",
    "| Cloud            | 43    | 120350 | 39851   | 240    | 1295        |\n",
    "| Ninguno          | 1895  | 8902   | 4897    | 1003   | 1646        |\n",
    "| Bosque           | 0     | 3826   | 175     | 82221  | 278         |\n",
    "| WOFS_Bosque      | 0     | 12     | 7       | 9      | 50          |\n",
    "       \n",
    "**Gaussiano**\n",
    "\n",
    "**Accuracy:** 87.11%\n",
    "\n",
    "**Matriz de predicción**\n",
    "\n",
    "| Clase\\Predicción | WOFS  | Cloud  | Ninguno | Bosque | WOFS_Bosque |\n",
    "|------------------|-------|--------|---------|--------|-------------|\n",
    "| WOFS             | 27133 | 74     | 1321    | 349    | 718         |\n",
    "| Cloud            | 68    | 134215 | 27495   | 1      | 0           |\n",
    "| Ninguno          | 2570  | 1176   | 13427   | 1065   | 105         |\n",
    "| Bosque           | 95    | 0      | 2685    | 8335   | 385         |\n",
    "| WOFS_Bosque      | 24    | 0      | 6       | 40     | 8           |\n",
    "\n",
    "En el Modelo multinomial las clases ninguno y wofs_bosque tienen muy bajas estadisticas de presicion y recall por las siguentes razones: una razón de forma general para obtener tan bajas estadísticas usando el modelo multinomiál es que el trabaja mejor con datos descretos, es decir, valores que esten en un rango de predefinido, por el contrario los datos de características de nuestro dataset se encuentran en valores continuos.\n",
    "En el modelo Gaussiano obtuvimos mejores características por la razón mencionada anteriormente. Sin embargo logramos apreciar que hay 2 clases(ninguno y wofs_bosque) que no estan teniendo buenas estadísticas de predicción(Precision y recall). Las razones a las que podemos llegar para esto son las siguientes: la clase wofs_bosque(Clase donde se categorizan los pixeles que se encuentran en un rango de valores que se pueden clasificar como Bosque y Agua) es una clase que se encuentra desbalanceada comparada con la cantidad de datos que otras clases tienen. Sin embargo como esta clase no es lo suficientemente determinante para nuestro ejercicio de clasificación decidimos dejarla de esta manera.\n",
    "Por otro lado la clasificación “ninguno” puede estar presentando un bajo recall comparado con sus demas clases porque es una clasificación donde pueden estar una gran diversidad de valores haciendo que este modelo no generalice bien para esta clase particular."
   ]
  },
  {
   "cell_type": "markdown",
   "metadata": {},
   "source": [
    "# Referencias\n",
    "https://www.datacamp.com/community/tutorials/naive-bayes-scikit-learn\n",
    "\n",
    "https://datascience.stackexchange.com/questions/40345/how-to-convert-multiple-columns-into-single-columns-in-pandas\n",
    "\n",
    "https://stackoverflow.com/questions/13295735/how-can-i-replace-all-the-nan-values-with-zeros-in-a-column-of-a-pandas-datafra"
   ]
  },
  {
   "cell_type": "code",
   "execution_count": null,
   "metadata": {},
   "outputs": [],
   "source": []
  }
 ],
 "metadata": {
  "kernelspec": {
   "display_name": "Python 3",
   "language": "python",
   "name": "python3"
  },
  "language_info": {
   "codemirror_mode": {
    "name": "ipython",
    "version": 3
   },
   "file_extension": ".py",
   "mimetype": "text/x-python",
   "name": "python",
   "nbconvert_exporter": "python",
   "pygments_lexer": "ipython3",
   "version": "3.6.5"
  }
 },
 "nbformat": 4,
 "nbformat_minor": 2
}
