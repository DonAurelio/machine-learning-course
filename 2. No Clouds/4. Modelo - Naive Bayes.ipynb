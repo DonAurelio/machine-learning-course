{
 "cells": [
  {
   "cell_type": "markdown",
   "metadata": {},
   "source": [
    "# Modelo Naive Bayes (Multinomial y Gaussiano)\n",
    "\n",
    "En el presente notebook se construyen dos modelos Multinomial y Gaussiano a partir del conjunto de datos que sigue \n",
    "la estructura de la tabla mostrada abajo. Para esta tabla **blue**, **green**, **red**, **nir**, **swir1** y \n",
    "**swir2** son las características de los pixeles de una escena landsat y **wofs**, **bosque**, **wofs_bosque** y  \n",
    "**ninguno** son las clases a la cual pertence casa pixel. Un pixel solo pertenece a una única clase.\n",
    "\n",
    "\n",
    "| blue | green | red | nir | swir1 | swir2 | wofs | bosque | wofs_bosque | ninguno  |\n",
    "|------|-------|-----|-----|-------|-------|------|--------|-------------|----------|\n",
    "|      |       |     |     |       |       |      |        |             |          |\n",
    "\n",
    "\n",
    "* El modelo generado para Multinomial es guardado en el archivo **model_nb_multinomial.joblib** \n",
    "* El modelo generado para Gaussiano es guardado en el archivo **model_nb_gaussiano.joblib** "
   ]
  },
  {
   "cell_type": "code",
   "execution_count": 1,
   "metadata": {},
   "outputs": [
    {
     "name": "stderr",
     "output_type": "stream",
     "text": [
      "/home/datacube/.local/lib/python3.6/site-packages/sklearn/externals/joblib/__init__.py:15: DeprecationWarning: sklearn.externals.joblib is deprecated in 0.21 and will be removed in 0.23. Please import this functionality directly from joblib, which can be installed with: pip install joblib. If this warning is raised when loading pickled models, you may need to re-serialize those models with scikit-learn 0.21+.\n",
      "  warnings.warn(msg, category=DeprecationWarning)\n"
     ]
    }
   ],
   "source": [
    "import os\n",
    "import pandas as pd\n",
    "import numpy as np\n",
    "from sklearn.model_selection import train_test_split\n",
    "from sklearn.linear_model import LassoCV\n",
    "from sklearn import datasets\n",
    "from collections import Counter\n",
    "\n",
    "from joblib import dump\n",
    "from sklearn.externals import joblib\n",
    "\n",
    "#from keras.models import model_from_json\n",
    "\n",
    "#Import Gaussian Naive Bayes model\n",
    "from sklearn.naive_bayes import GaussianNB\n",
    "from sklearn.naive_bayes import MultinomialNB\n",
    "\n",
    "#Import scikit-learn metrics module for accuracy calculation\n",
    "from sklearn import metrics\n",
    "from sklearn.metrics import confusion_matrix\n",
    "from sklearn.metrics import classification_report\n",
    "from sklearn.model_selection import cross_val_score\n"
   ]
  },
  {
   "cell_type": "markdown",
   "metadata": {},
   "source": [
    "# Se importa el Dataset sin informacion de nubes\n",
    "Como se ha descrito, las imagenes descargadas de los portales de imagenes satelitales presentan información en multiples bandas. Es con esta información que los algoritmos de clasificación pueden emitir un juicio para determinar a que tipo de información puede corresponder un pixel: bosque, no busque,nubes,agua, agua_bosque,ninguno.\n",
    "En este escenario se plantea probar el clasificador Naive Bayes con información de imagenes que NO contengan nubes. Se plantea este escenario con el fin de determinar el rendmiento del modelo con un problema de este estilo."
   ]
  },
  {
   "cell_type": "code",
   "execution_count": 2,
   "metadata": {
    "scrolled": true
   },
   "outputs": [
    {
     "data": {
      "text/html": [
       "<div>\n",
       "<style scoped>\n",
       "    .dataframe tbody tr th:only-of-type {\n",
       "        vertical-align: middle;\n",
       "    }\n",
       "\n",
       "    .dataframe tbody tr th {\n",
       "        vertical-align: top;\n",
       "    }\n",
       "\n",
       "    .dataframe thead th {\n",
       "        text-align: right;\n",
       "    }\n",
       "</style>\n",
       "<table border=\"1\" class=\"dataframe\">\n",
       "  <thead>\n",
       "    <tr style=\"text-align: right;\">\n",
       "      <th></th>\n",
       "      <th>blue</th>\n",
       "      <th>green</th>\n",
       "      <th>red</th>\n",
       "      <th>nir</th>\n",
       "      <th>swir1</th>\n",
       "      <th>swir2</th>\n",
       "      <th>wofs</th>\n",
       "      <th>bosque</th>\n",
       "      <th>wofs_bosque</th>\n",
       "      <th>ninguno</th>\n",
       "    </tr>\n",
       "  </thead>\n",
       "  <tbody>\n",
       "    <tr>\n",
       "      <th>0</th>\n",
       "      <td>272.0</td>\n",
       "      <td>172.0</td>\n",
       "      <td>74.0</td>\n",
       "      <td>61.0</td>\n",
       "      <td>81.0</td>\n",
       "      <td>62.0</td>\n",
       "      <td>1</td>\n",
       "      <td>0</td>\n",
       "      <td>0</td>\n",
       "      <td>0</td>\n",
       "    </tr>\n",
       "    <tr>\n",
       "      <th>1</th>\n",
       "      <td>172.0</td>\n",
       "      <td>158.0</td>\n",
       "      <td>71.0</td>\n",
       "      <td>62.0</td>\n",
       "      <td>107.0</td>\n",
       "      <td>92.0</td>\n",
       "      <td>1</td>\n",
       "      <td>0</td>\n",
       "      <td>0</td>\n",
       "      <td>0</td>\n",
       "    </tr>\n",
       "    <tr>\n",
       "      <th>2</th>\n",
       "      <td>172.0</td>\n",
       "      <td>104.0</td>\n",
       "      <td>14.0</td>\n",
       "      <td>1.0</td>\n",
       "      <td>44.0</td>\n",
       "      <td>39.0</td>\n",
       "      <td>1</td>\n",
       "      <td>0</td>\n",
       "      <td>0</td>\n",
       "      <td>0</td>\n",
       "    </tr>\n",
       "    <tr>\n",
       "      <th>3</th>\n",
       "      <td>255.0</td>\n",
       "      <td>202.0</td>\n",
       "      <td>103.0</td>\n",
       "      <td>87.0</td>\n",
       "      <td>128.0</td>\n",
       "      <td>104.0</td>\n",
       "      <td>1</td>\n",
       "      <td>0</td>\n",
       "      <td>0</td>\n",
       "      <td>0</td>\n",
       "    </tr>\n",
       "    <tr>\n",
       "      <th>4</th>\n",
       "      <td>255.0</td>\n",
       "      <td>197.0</td>\n",
       "      <td>100.0</td>\n",
       "      <td>86.0</td>\n",
       "      <td>113.0</td>\n",
       "      <td>92.0</td>\n",
       "      <td>1</td>\n",
       "      <td>0</td>\n",
       "      <td>0</td>\n",
       "      <td>0</td>\n",
       "    </tr>\n",
       "  </tbody>\n",
       "</table>\n",
       "</div>"
      ],
      "text/plain": [
       "    blue  green    red   nir  swir1  swir2  wofs  bosque  wofs_bosque  ninguno\n",
       "0  272.0  172.0   74.0  61.0   81.0   62.0     1       0            0        0\n",
       "1  172.0  158.0   71.0  62.0  107.0   92.0     1       0            0        0\n",
       "2  172.0  104.0   14.0   1.0   44.0   39.0     1       0            0        0\n",
       "3  255.0  202.0  103.0  87.0  128.0  104.0     1       0            0        0\n",
       "4  255.0  197.0  100.0  86.0  113.0   92.0     1       0            0        0"
      ]
     },
     "execution_count": 2,
     "metadata": {},
     "output_type": "execute_result"
    }
   ],
   "source": [
    "satellite = pd.read_csv('https://docs.google.com/uc?export=download&id=1S_TUJMTQvSIKcPe8O3m_DXNFEMV4AURN')\n",
    "satellite.head()"
   ]
  },
  {
   "cell_type": "markdown",
   "metadata": {},
   "source": [
    "# Filtro de valores negativos\n",
    "Se realiza una filtro de las columnas que en alguna banda contengan un valor negativo porque el clasificador multinomial Naive bayes no funciona bien con esta información."
   ]
  },
  {
   "cell_type": "code",
   "execution_count": 3,
   "metadata": {},
   "outputs": [],
   "source": [
    "satellite = satellite[satellite[\"blue\"] > 0]\n",
    "satellite = satellite[satellite[\"red\"] > 0]\n",
    "satellite = satellite[satellite[\"green\"] > 0]\n",
    "satellite = satellite[satellite[\"nir\"] > 0]\n",
    "satellite = satellite[satellite[\"swir1\"] > 0]\n",
    "satellite = satellite[satellite[\"swir2\"] > 0]"
   ]
  },
  {
   "cell_type": "code",
   "execution_count": 4,
   "metadata": {},
   "outputs": [],
   "source": [
    "#satellite['wofs'].value_counts()\n",
    "#satellite['bosque'].value_counts()\n",
    "#satellite['wofs_bosque'].value_counts()\n",
    "#satellite['cloud'].value_counts()\n",
    "#satellite['ninguno'].value_counts()"
   ]
  },
  {
   "cell_type": "markdown",
   "metadata": {},
   "source": [
    "# Se reemplaza los valores en columnas de clases\n",
    "Como parte de preparación de los datos para crear el modelo se deben hacer algunos ajustes a la forma en que el dataset muestra la infiromación.Como se puede observar el dataset, las columnas de las clases se encuentran categorizadas por un valor binario. Lo que se realiza a continuación es reemplazar estos valores binarios por NaN en caso de ser \"Cero\" y el nombre de la clase en caso de ser \"Uno\"."
   ]
  },
  {
   "cell_type": "code",
   "execution_count": 5,
   "metadata": {},
   "outputs": [],
   "source": [
    "# Reemplazar el valor de columna Wofs por NaN(0) y Wofs(1)\n",
    "satellite['wofs'] = satellite['wofs'].replace(0,np.nan)\n",
    "satellite['wofs'] = satellite['wofs'].replace(1,'wofs')\n"
   ]
  },
  {
   "cell_type": "code",
   "execution_count": 6,
   "metadata": {},
   "outputs": [],
   "source": [
    "# Reemplazar el valor de columna bosque por NaN(0) y bosque(1)\n",
    "satellite['bosque'] = satellite['bosque'].replace(0,np.nan)\n",
    "satellite['bosque'] = satellite['bosque'].replace(1,'bosque')"
   ]
  },
  {
   "cell_type": "code",
   "execution_count": 7,
   "metadata": {},
   "outputs": [],
   "source": [
    "# Reemplazar el valor de columna wofs_bosque por NaN(0) y wofs_bosque(1)\n",
    "satellite['wofs_bosque'] = satellite['wofs_bosque'].replace(0,np.nan)\n",
    "satellite['wofs_bosque'] = satellite['wofs_bosque'].replace(1,'wofs_bosque')"
   ]
  },
  {
   "cell_type": "code",
   "execution_count": 8,
   "metadata": {},
   "outputs": [],
   "source": [
    "# Reemplazar el valor de columna ninguno por NaN(0) y ninguno(1)\n",
    "satellite['ninguno'] = satellite['ninguno'].replace(0,np.nan)\n",
    "satellite['ninguno'] = satellite['ninguno'].replace(1,'ninguno')"
   ]
  },
  {
   "cell_type": "markdown",
   "metadata": {},
   "source": [
    "# Nueva columna de clasificación\n",
    "Como ultima parte para la preparación de los datos debemos tener la clasificación en una sola columna. Procedemos a crearla con el nombre \"label\" y alli asignaremos el valor categorizado de cada conjunto de atributos."
   ]
  },
  {
   "cell_type": "code",
   "execution_count": 9,
   "metadata": {},
   "outputs": [
    {
     "data": {
      "text/html": [
       "<div>\n",
       "<style scoped>\n",
       "    .dataframe tbody tr th:only-of-type {\n",
       "        vertical-align: middle;\n",
       "    }\n",
       "\n",
       "    .dataframe tbody tr th {\n",
       "        vertical-align: top;\n",
       "    }\n",
       "\n",
       "    .dataframe thead th {\n",
       "        text-align: right;\n",
       "    }\n",
       "</style>\n",
       "<table border=\"1\" class=\"dataframe\">\n",
       "  <thead>\n",
       "    <tr style=\"text-align: right;\">\n",
       "      <th></th>\n",
       "      <th>blue</th>\n",
       "      <th>green</th>\n",
       "      <th>red</th>\n",
       "      <th>nir</th>\n",
       "      <th>swir1</th>\n",
       "      <th>swir2</th>\n",
       "      <th>wofs</th>\n",
       "      <th>bosque</th>\n",
       "      <th>wofs_bosque</th>\n",
       "      <th>ninguno</th>\n",
       "      <th>label</th>\n",
       "    </tr>\n",
       "  </thead>\n",
       "  <tbody>\n",
       "    <tr>\n",
       "      <th>0</th>\n",
       "      <td>272.0</td>\n",
       "      <td>172.0</td>\n",
       "      <td>74.0</td>\n",
       "      <td>61.0</td>\n",
       "      <td>81.0</td>\n",
       "      <td>62.0</td>\n",
       "      <td>wofs</td>\n",
       "      <td>NaN</td>\n",
       "      <td>NaN</td>\n",
       "      <td>NaN</td>\n",
       "      <td>wofs</td>\n",
       "    </tr>\n",
       "    <tr>\n",
       "      <th>1</th>\n",
       "      <td>172.0</td>\n",
       "      <td>158.0</td>\n",
       "      <td>71.0</td>\n",
       "      <td>62.0</td>\n",
       "      <td>107.0</td>\n",
       "      <td>92.0</td>\n",
       "      <td>wofs</td>\n",
       "      <td>NaN</td>\n",
       "      <td>NaN</td>\n",
       "      <td>NaN</td>\n",
       "      <td>wofs</td>\n",
       "    </tr>\n",
       "    <tr>\n",
       "      <th>2</th>\n",
       "      <td>172.0</td>\n",
       "      <td>104.0</td>\n",
       "      <td>14.0</td>\n",
       "      <td>1.0</td>\n",
       "      <td>44.0</td>\n",
       "      <td>39.0</td>\n",
       "      <td>wofs</td>\n",
       "      <td>NaN</td>\n",
       "      <td>NaN</td>\n",
       "      <td>NaN</td>\n",
       "      <td>wofs</td>\n",
       "    </tr>\n",
       "    <tr>\n",
       "      <th>3</th>\n",
       "      <td>255.0</td>\n",
       "      <td>202.0</td>\n",
       "      <td>103.0</td>\n",
       "      <td>87.0</td>\n",
       "      <td>128.0</td>\n",
       "      <td>104.0</td>\n",
       "      <td>wofs</td>\n",
       "      <td>NaN</td>\n",
       "      <td>NaN</td>\n",
       "      <td>NaN</td>\n",
       "      <td>wofs</td>\n",
       "    </tr>\n",
       "    <tr>\n",
       "      <th>4</th>\n",
       "      <td>255.0</td>\n",
       "      <td>197.0</td>\n",
       "      <td>100.0</td>\n",
       "      <td>86.0</td>\n",
       "      <td>113.0</td>\n",
       "      <td>92.0</td>\n",
       "      <td>wofs</td>\n",
       "      <td>NaN</td>\n",
       "      <td>NaN</td>\n",
       "      <td>NaN</td>\n",
       "      <td>wofs</td>\n",
       "    </tr>\n",
       "    <tr>\n",
       "      <th>5</th>\n",
       "      <td>139.0</td>\n",
       "      <td>341.0</td>\n",
       "      <td>185.0</td>\n",
       "      <td>2804.0</td>\n",
       "      <td>1263.0</td>\n",
       "      <td>464.0</td>\n",
       "      <td>NaN</td>\n",
       "      <td>bosque</td>\n",
       "      <td>NaN</td>\n",
       "      <td>NaN</td>\n",
       "      <td>bosque</td>\n",
       "    </tr>\n",
       "    <tr>\n",
       "      <th>6</th>\n",
       "      <td>199.0</td>\n",
       "      <td>112.0</td>\n",
       "      <td>16.0</td>\n",
       "      <td>5.0</td>\n",
       "      <td>47.0</td>\n",
       "      <td>39.0</td>\n",
       "      <td>wofs</td>\n",
       "      <td>NaN</td>\n",
       "      <td>NaN</td>\n",
       "      <td>NaN</td>\n",
       "      <td>wofs</td>\n",
       "    </tr>\n",
       "    <tr>\n",
       "      <th>8</th>\n",
       "      <td>736.0</td>\n",
       "      <td>702.0</td>\n",
       "      <td>623.0</td>\n",
       "      <td>627.0</td>\n",
       "      <td>667.0</td>\n",
       "      <td>540.0</td>\n",
       "      <td>NaN</td>\n",
       "      <td>NaN</td>\n",
       "      <td>NaN</td>\n",
       "      <td>ninguno</td>\n",
       "      <td>ninguno</td>\n",
       "    </tr>\n",
       "    <tr>\n",
       "      <th>9</th>\n",
       "      <td>414.0</td>\n",
       "      <td>484.0</td>\n",
       "      <td>286.0</td>\n",
       "      <td>240.0</td>\n",
       "      <td>246.0</td>\n",
       "      <td>199.0</td>\n",
       "      <td>wofs</td>\n",
       "      <td>NaN</td>\n",
       "      <td>NaN</td>\n",
       "      <td>NaN</td>\n",
       "      <td>wofs</td>\n",
       "    </tr>\n",
       "    <tr>\n",
       "      <th>10</th>\n",
       "      <td>234.0</td>\n",
       "      <td>162.0</td>\n",
       "      <td>60.0</td>\n",
       "      <td>44.0</td>\n",
       "      <td>81.0</td>\n",
       "      <td>69.0</td>\n",
       "      <td>wofs</td>\n",
       "      <td>NaN</td>\n",
       "      <td>NaN</td>\n",
       "      <td>NaN</td>\n",
       "      <td>wofs</td>\n",
       "    </tr>\n",
       "    <tr>\n",
       "      <th>11</th>\n",
       "      <td>170.0</td>\n",
       "      <td>426.0</td>\n",
       "      <td>227.0</td>\n",
       "      <td>3469.0</td>\n",
       "      <td>1530.0</td>\n",
       "      <td>556.0</td>\n",
       "      <td>NaN</td>\n",
       "      <td>bosque</td>\n",
       "      <td>NaN</td>\n",
       "      <td>NaN</td>\n",
       "      <td>bosque</td>\n",
       "    </tr>\n",
       "    <tr>\n",
       "      <th>12</th>\n",
       "      <td>102.0</td>\n",
       "      <td>258.0</td>\n",
       "      <td>147.0</td>\n",
       "      <td>1736.0</td>\n",
       "      <td>684.0</td>\n",
       "      <td>258.0</td>\n",
       "      <td>NaN</td>\n",
       "      <td>bosque</td>\n",
       "      <td>NaN</td>\n",
       "      <td>NaN</td>\n",
       "      <td>bosque</td>\n",
       "    </tr>\n",
       "    <tr>\n",
       "      <th>13</th>\n",
       "      <td>165.0</td>\n",
       "      <td>355.0</td>\n",
       "      <td>211.0</td>\n",
       "      <td>2777.0</td>\n",
       "      <td>1156.0</td>\n",
       "      <td>452.0</td>\n",
       "      <td>NaN</td>\n",
       "      <td>bosque</td>\n",
       "      <td>NaN</td>\n",
       "      <td>NaN</td>\n",
       "      <td>bosque</td>\n",
       "    </tr>\n",
       "    <tr>\n",
       "      <th>14</th>\n",
       "      <td>218.0</td>\n",
       "      <td>129.0</td>\n",
       "      <td>32.0</td>\n",
       "      <td>25.0</td>\n",
       "      <td>69.0</td>\n",
       "      <td>54.0</td>\n",
       "      <td>wofs</td>\n",
       "      <td>NaN</td>\n",
       "      <td>NaN</td>\n",
       "      <td>NaN</td>\n",
       "      <td>wofs</td>\n",
       "    </tr>\n",
       "    <tr>\n",
       "      <th>15</th>\n",
       "      <td>300.0</td>\n",
       "      <td>203.0</td>\n",
       "      <td>106.0</td>\n",
       "      <td>86.0</td>\n",
       "      <td>128.0</td>\n",
       "      <td>104.0</td>\n",
       "      <td>wofs</td>\n",
       "      <td>NaN</td>\n",
       "      <td>NaN</td>\n",
       "      <td>NaN</td>\n",
       "      <td>wofs</td>\n",
       "    </tr>\n",
       "    <tr>\n",
       "      <th>17</th>\n",
       "      <td>261.0</td>\n",
       "      <td>204.0</td>\n",
       "      <td>112.0</td>\n",
       "      <td>97.0</td>\n",
       "      <td>123.0</td>\n",
       "      <td>100.0</td>\n",
       "      <td>wofs</td>\n",
       "      <td>NaN</td>\n",
       "      <td>NaN</td>\n",
       "      <td>NaN</td>\n",
       "      <td>wofs</td>\n",
       "    </tr>\n",
       "    <tr>\n",
       "      <th>19</th>\n",
       "      <td>97.0</td>\n",
       "      <td>343.0</td>\n",
       "      <td>159.0</td>\n",
       "      <td>2660.0</td>\n",
       "      <td>1020.0</td>\n",
       "      <td>329.0</td>\n",
       "      <td>NaN</td>\n",
       "      <td>bosque</td>\n",
       "      <td>NaN</td>\n",
       "      <td>NaN</td>\n",
       "      <td>bosque</td>\n",
       "    </tr>\n",
       "    <tr>\n",
       "      <th>20</th>\n",
       "      <td>198.0</td>\n",
       "      <td>191.0</td>\n",
       "      <td>102.0</td>\n",
       "      <td>99.0</td>\n",
       "      <td>142.0</td>\n",
       "      <td>120.0</td>\n",
       "      <td>wofs</td>\n",
       "      <td>NaN</td>\n",
       "      <td>NaN</td>\n",
       "      <td>NaN</td>\n",
       "      <td>wofs</td>\n",
       "    </tr>\n",
       "    <tr>\n",
       "      <th>21</th>\n",
       "      <td>871.0</td>\n",
       "      <td>818.0</td>\n",
       "      <td>719.0</td>\n",
       "      <td>733.0</td>\n",
       "      <td>780.0</td>\n",
       "      <td>613.0</td>\n",
       "      <td>NaN</td>\n",
       "      <td>NaN</td>\n",
       "      <td>NaN</td>\n",
       "      <td>ninguno</td>\n",
       "      <td>ninguno</td>\n",
       "    </tr>\n",
       "    <tr>\n",
       "      <th>22</th>\n",
       "      <td>274.0</td>\n",
       "      <td>232.0</td>\n",
       "      <td>124.0</td>\n",
       "      <td>104.0</td>\n",
       "      <td>133.0</td>\n",
       "      <td>108.0</td>\n",
       "      <td>wofs</td>\n",
       "      <td>NaN</td>\n",
       "      <td>NaN</td>\n",
       "      <td>NaN</td>\n",
       "      <td>wofs</td>\n",
       "    </tr>\n",
       "  </tbody>\n",
       "</table>\n",
       "</div>"
      ],
      "text/plain": [
       "     blue  green    red     nir   swir1  swir2  wofs  bosque wofs_bosque  \\\n",
       "0   272.0  172.0   74.0    61.0    81.0   62.0  wofs     NaN         NaN   \n",
       "1   172.0  158.0   71.0    62.0   107.0   92.0  wofs     NaN         NaN   \n",
       "2   172.0  104.0   14.0     1.0    44.0   39.0  wofs     NaN         NaN   \n",
       "3   255.0  202.0  103.0    87.0   128.0  104.0  wofs     NaN         NaN   \n",
       "4   255.0  197.0  100.0    86.0   113.0   92.0  wofs     NaN         NaN   \n",
       "5   139.0  341.0  185.0  2804.0  1263.0  464.0   NaN  bosque         NaN   \n",
       "6   199.0  112.0   16.0     5.0    47.0   39.0  wofs     NaN         NaN   \n",
       "8   736.0  702.0  623.0   627.0   667.0  540.0   NaN     NaN         NaN   \n",
       "9   414.0  484.0  286.0   240.0   246.0  199.0  wofs     NaN         NaN   \n",
       "10  234.0  162.0   60.0    44.0    81.0   69.0  wofs     NaN         NaN   \n",
       "11  170.0  426.0  227.0  3469.0  1530.0  556.0   NaN  bosque         NaN   \n",
       "12  102.0  258.0  147.0  1736.0   684.0  258.0   NaN  bosque         NaN   \n",
       "13  165.0  355.0  211.0  2777.0  1156.0  452.0   NaN  bosque         NaN   \n",
       "14  218.0  129.0   32.0    25.0    69.0   54.0  wofs     NaN         NaN   \n",
       "15  300.0  203.0  106.0    86.0   128.0  104.0  wofs     NaN         NaN   \n",
       "17  261.0  204.0  112.0    97.0   123.0  100.0  wofs     NaN         NaN   \n",
       "19   97.0  343.0  159.0  2660.0  1020.0  329.0   NaN  bosque         NaN   \n",
       "20  198.0  191.0  102.0    99.0   142.0  120.0  wofs     NaN         NaN   \n",
       "21  871.0  818.0  719.0   733.0   780.0  613.0   NaN     NaN         NaN   \n",
       "22  274.0  232.0  124.0   104.0   133.0  108.0  wofs     NaN         NaN   \n",
       "\n",
       "    ninguno    label  \n",
       "0       NaN     wofs  \n",
       "1       NaN     wofs  \n",
       "2       NaN     wofs  \n",
       "3       NaN     wofs  \n",
       "4       NaN     wofs  \n",
       "5       NaN   bosque  \n",
       "6       NaN     wofs  \n",
       "8   ninguno  ninguno  \n",
       "9       NaN     wofs  \n",
       "10      NaN     wofs  \n",
       "11      NaN   bosque  \n",
       "12      NaN   bosque  \n",
       "13      NaN   bosque  \n",
       "14      NaN     wofs  \n",
       "15      NaN     wofs  \n",
       "17      NaN     wofs  \n",
       "19      NaN   bosque  \n",
       "20      NaN     wofs  \n",
       "21  ninguno  ninguno  \n",
       "22      NaN     wofs  "
      ]
     },
     "execution_count": 9,
     "metadata": {},
     "output_type": "execute_result"
    }
   ],
   "source": [
    "#Se crea una nueva columna para almacenar el valor de etiqueta\n",
    "satellite['label']=np.nan\n",
    "\n",
    "#Se indica en la columna 'label', la clasificacion de la columna 'wofs'. Se esribe \"Wofs\" en columna 'label' si en  \n",
    "#la columna 'wofs' esta este valor\n",
    "for label in [col for col in satellite.columns if 'wofs' in col]:\n",
    "    satellite['label'].fillna(satellite[label],inplace=True)\n",
    "    \n",
    "#Se indica en la columna 'label', la clasificacion de la columna 'bosque'. Se esribe \"bosque\" en columna 'label' si en  \n",
    "#la columna 'bosque' esta este valor\n",
    "for label in [col for col in satellite.columns if 'bosque' in col]:\n",
    "    satellite['label'].fillna(satellite[label],inplace=True)\n",
    "    \n",
    "#Se indica en la columna 'label', la clasificacion de la columna 'wofs_bosque'. Se esribe \"wofs_bosque\" en columna 'label' si en  \n",
    "#la columna 'wofs_bosque' esta este valor\n",
    "for label in [col for col in satellite.columns if 'wofs_bosque' in col]:\n",
    "    satellite['label'].fillna(satellite[label],inplace=True)\n",
    "    \n",
    "#Se indica en la columna 'label', la clasificacion de la columna 'ninguno'. Se esribe \"ninguno\" en columna 'label' si en  \n",
    "#la columna 'ninguno' esta este valor\n",
    "for label in [col for col in satellite.columns if 'ninguno' in col]:\n",
    "    satellite['label'].fillna(satellite[label],inplace=True)\n",
    "    \n",
    "#Se indica en la columna 'label', la clasificacion de la columna 'cloud'. Se esribe \"cloud\" en columna 'label' si en  \n",
    "#la columna 'cloud' esta este valor\n",
    "for label in [col for col in satellite.columns if 'cloud' in col]:\n",
    "    satellite['label'].fillna(satellite[label],inplace=True)\n",
    "satellite.head(20)"
   ]
  },
  {
   "cell_type": "code",
   "execution_count": 10,
   "metadata": {},
   "outputs": [
    {
     "data": {
      "text/plain": [
       "wofs           709190\n",
       "bosque         192531\n",
       "ninguno         29327\n",
       "wofs_bosque       476\n",
       "Name: label, dtype: int64"
      ]
     },
     "execution_count": 10,
     "metadata": {},
     "output_type": "execute_result"
    }
   ],
   "source": [
    "# Se crea el conjunto de calsificacion y el de entrenamiento\n",
    "Y = satellite[\"label\"]\n",
    "# X = satellite.drop(columns=[\"label\",\"wofs\",\"bosque\",\"wofs_bosque\",\"cloud\",\"ninguno\"], axis=1)\n",
    "X = satellite.drop(columns=[\"label\",\"wofs\",\"bosque\",\"wofs_bosque\",\"ninguno\"], axis=1)\n",
    "Y.value_counts()"
   ]
  },
  {
   "cell_type": "markdown",
   "metadata": {},
   "source": [
    "# Se crean los conjuntos de entrenamiento y de prueba\n",
    "Para hacer esto se deben dividir los datos en 4 conjuntos de datos de la siguiente manera: Conjuntos de entrenamiento(X_train, y_train) y Conjunto de test(X_test, y_test)"
   ]
  },
  {
   "cell_type": "code",
   "execution_count": 11,
   "metadata": {},
   "outputs": [],
   "source": [
    "# Se dividen los datos en los conjuntos de Train y test\n",
    "X_train, X_test, y_train, y_test = train_test_split(\n",
    "    X,\n",
    "    Y,\n",
    "    test_size=0.3,\n",
    "    random_state=0\n",
    ")"
   ]
  },
  {
   "cell_type": "code",
   "execution_count": 12,
   "metadata": {},
   "outputs": [
    {
     "data": {
      "text/html": [
       "<div>\n",
       "<style scoped>\n",
       "    .dataframe tbody tr th:only-of-type {\n",
       "        vertical-align: middle;\n",
       "    }\n",
       "\n",
       "    .dataframe tbody tr th {\n",
       "        vertical-align: top;\n",
       "    }\n",
       "\n",
       "    .dataframe thead th {\n",
       "        text-align: right;\n",
       "    }\n",
       "</style>\n",
       "<table border=\"1\" class=\"dataframe\">\n",
       "  <thead>\n",
       "    <tr style=\"text-align: right;\">\n",
       "      <th></th>\n",
       "      <th>blue</th>\n",
       "      <th>green</th>\n",
       "      <th>red</th>\n",
       "      <th>nir</th>\n",
       "      <th>swir1</th>\n",
       "      <th>swir2</th>\n",
       "    </tr>\n",
       "  </thead>\n",
       "  <tbody>\n",
       "    <tr>\n",
       "      <th>872806</th>\n",
       "      <td>220.0</td>\n",
       "      <td>128.0</td>\n",
       "      <td>36.0</td>\n",
       "      <td>22.0</td>\n",
       "      <td>59.0</td>\n",
       "      <td>51.0</td>\n",
       "    </tr>\n",
       "    <tr>\n",
       "      <th>224269</th>\n",
       "      <td>281.0</td>\n",
       "      <td>177.0</td>\n",
       "      <td>80.0</td>\n",
       "      <td>59.0</td>\n",
       "      <td>83.0</td>\n",
       "      <td>68.0</td>\n",
       "    </tr>\n",
       "    <tr>\n",
       "      <th>125685</th>\n",
       "      <td>388.0</td>\n",
       "      <td>360.0</td>\n",
       "      <td>257.0</td>\n",
       "      <td>247.0</td>\n",
       "      <td>253.0</td>\n",
       "      <td>199.0</td>\n",
       "    </tr>\n",
       "    <tr>\n",
       "      <th>360405</th>\n",
       "      <td>189.0</td>\n",
       "      <td>521.0</td>\n",
       "      <td>282.0</td>\n",
       "      <td>3839.0</td>\n",
       "      <td>1620.0</td>\n",
       "      <td>575.0</td>\n",
       "    </tr>\n",
       "    <tr>\n",
       "      <th>388185</th>\n",
       "      <td>301.0</td>\n",
       "      <td>245.0</td>\n",
       "      <td>153.0</td>\n",
       "      <td>137.0</td>\n",
       "      <td>157.0</td>\n",
       "      <td>131.0</td>\n",
       "    </tr>\n",
       "    <tr>\n",
       "      <th>...</th>\n",
       "      <td>...</td>\n",
       "      <td>...</td>\n",
       "      <td>...</td>\n",
       "      <td>...</td>\n",
       "      <td>...</td>\n",
       "      <td>...</td>\n",
       "    </tr>\n",
       "    <tr>\n",
       "      <th>64888</th>\n",
       "      <td>548.0</td>\n",
       "      <td>556.0</td>\n",
       "      <td>468.0</td>\n",
       "      <td>473.0</td>\n",
       "      <td>614.0</td>\n",
       "      <td>511.0</td>\n",
       "    </tr>\n",
       "    <tr>\n",
       "      <th>205796</th>\n",
       "      <td>341.0</td>\n",
       "      <td>247.0</td>\n",
       "      <td>146.0</td>\n",
       "      <td>125.0</td>\n",
       "      <td>153.0</td>\n",
       "      <td>111.0</td>\n",
       "    </tr>\n",
       "    <tr>\n",
       "      <th>908170</th>\n",
       "      <td>220.0</td>\n",
       "      <td>409.0</td>\n",
       "      <td>270.0</td>\n",
       "      <td>3094.0</td>\n",
       "      <td>1416.0</td>\n",
       "      <td>562.0</td>\n",
       "    </tr>\n",
       "    <tr>\n",
       "      <th>87597</th>\n",
       "      <td>242.0</td>\n",
       "      <td>246.0</td>\n",
       "      <td>136.0</td>\n",
       "      <td>124.0</td>\n",
       "      <td>159.0</td>\n",
       "      <td>134.0</td>\n",
       "    </tr>\n",
       "    <tr>\n",
       "      <th>826113</th>\n",
       "      <td>172.0</td>\n",
       "      <td>112.0</td>\n",
       "      <td>26.0</td>\n",
       "      <td>3.0</td>\n",
       "      <td>50.0</td>\n",
       "      <td>44.0</td>\n",
       "    </tr>\n",
       "  </tbody>\n",
       "</table>\n",
       "<p>279458 rows × 6 columns</p>\n",
       "</div>"
      ],
      "text/plain": [
       "         blue  green    red     nir   swir1  swir2\n",
       "872806  220.0  128.0   36.0    22.0    59.0   51.0\n",
       "224269  281.0  177.0   80.0    59.0    83.0   68.0\n",
       "125685  388.0  360.0  257.0   247.0   253.0  199.0\n",
       "360405  189.0  521.0  282.0  3839.0  1620.0  575.0\n",
       "388185  301.0  245.0  153.0   137.0   157.0  131.0\n",
       "...       ...    ...    ...     ...     ...    ...\n",
       "64888   548.0  556.0  468.0   473.0   614.0  511.0\n",
       "205796  341.0  247.0  146.0   125.0   153.0  111.0\n",
       "908170  220.0  409.0  270.0  3094.0  1416.0  562.0\n",
       "87597   242.0  246.0  136.0   124.0   159.0  134.0\n",
       "826113  172.0  112.0   26.0     3.0    50.0   44.0\n",
       "\n",
       "[279458 rows x 6 columns]"
      ]
     },
     "execution_count": 12,
     "metadata": {},
     "output_type": "execute_result"
    }
   ],
   "source": [
    "X_test"
   ]
  },
  {
   "cell_type": "code",
   "execution_count": 13,
   "metadata": {},
   "outputs": [
    {
     "data": {
      "text/plain": [
       "872806       wofs\n",
       "224269       wofs\n",
       "125685       wofs\n",
       "360405     bosque\n",
       "388185       wofs\n",
       "           ...   \n",
       "64888     ninguno\n",
       "205796       wofs\n",
       "908170     bosque\n",
       "87597        wofs\n",
       "826113       wofs\n",
       "Name: label, Length: 279458, dtype: object"
      ]
     },
     "execution_count": 13,
     "metadata": {},
     "output_type": "execute_result"
    }
   ],
   "source": [
    "y_test"
   ]
  },
  {
   "cell_type": "markdown",
   "metadata": {},
   "source": [
    "# Naive Bayes para multiples capas\n",
    "La clasificación multicapa del algoritmo Naive Bayes es conocida como \"Clasificación Naive Bayes Multinomial\". Como se puede apreciar la clasificación de nuestro conjunto de caracteristicas puede tener 4 valores: wofs, bosque, wofs_bosque y ninguno. \n",
    "En esta parte de creación del modelo se evaluaran dos variaciones del clasificador Naive Bayes: Gausiano y multinomial. En el analisis de resultados se contrastaran los resultados obtenidos para cada uno de ellos."
   ]
  },
  {
   "cell_type": "markdown",
   "metadata": {},
   "source": [
    "# Multinomial"
   ]
  },
  {
   "cell_type": "code",
   "execution_count": 14,
   "metadata": {},
   "outputs": [],
   "source": [
    "#Create a Gaussian Classifier\n",
    "gnb = MultinomialNB()"
   ]
  },
  {
   "cell_type": "code",
   "execution_count": 15,
   "metadata": {},
   "outputs": [
    {
     "data": {
      "text/plain": [
       "MultinomialNB(alpha=1.0, class_prior=None, fit_prior=True)"
      ]
     },
     "execution_count": 15,
     "metadata": {},
     "output_type": "execute_result"
    }
   ],
   "source": [
    "#Train the model using the training sets\n",
    "gnb.fit(X_train, y_train)"
   ]
  },
  {
   "cell_type": "code",
   "execution_count": 16,
   "metadata": {},
   "outputs": [],
   "source": [
    "#Predict the response for test dataset\n",
    "y_pred = gnb.predict(X_test)"
   ]
  },
  {
   "cell_type": "code",
   "execution_count": 17,
   "metadata": {
    "scrolled": false
   },
   "outputs": [
    {
     "data": {
      "text/plain": [
       "Counter({'wofs': 212227, 'bosque': 58302, 'ninguno': 8083, 'wofs_bosque': 846})"
      ]
     },
     "execution_count": 17,
     "metadata": {},
     "output_type": "execute_result"
    }
   ],
   "source": [
    "Counter(y_pred)"
   ]
  },
  {
   "cell_type": "code",
   "execution_count": 18,
   "metadata": {
    "scrolled": false
   },
   "outputs": [
    {
     "data": {
      "text/plain": [
       "array([[ 57498,    235,      0,     80],\n",
       "       [   803,   6680,   1210,     84],\n",
       "       [     0,   1160, 210992,    576],\n",
       "       [     1,      8,     25,    106]])"
      ]
     },
     "execution_count": 18,
     "metadata": {},
     "output_type": "execute_result"
    }
   ],
   "source": [
    "confusion_matrix(y_test, y_pred)"
   ]
  },
  {
   "cell_type": "code",
   "execution_count": 19,
   "metadata": {},
   "outputs": [
    {
     "name": "stdout",
     "output_type": "stream",
     "text": [
      "              precision    recall  f1-score   support\n",
      "\n",
      "      bosque       0.99      0.99      0.99     57813\n",
      "     ninguno       0.83      0.76      0.79      8777\n",
      "        wofs       0.99      0.99      0.99    212728\n",
      " wofs_bosque       0.13      0.76      0.22       140\n",
      "\n",
      "    accuracy                           0.99    279458\n",
      "   macro avg       0.73      0.88      0.75    279458\n",
      "weighted avg       0.99      0.99      0.99    279458\n",
      "\n"
     ]
    }
   ],
   "source": [
    "print(classification_report(y_test, y_pred))"
   ]
  },
  {
   "cell_type": "code",
   "execution_count": 20,
   "metadata": {},
   "outputs": [
    {
     "name": "stdout",
     "output_type": "stream",
     "text": [
      "Accuracy: 0.9850353183662661\n"
     ]
    }
   ],
   "source": [
    "# Model Accuracy\n",
    "print(\"Accuracy:\",metrics.accuracy_score(y_test, y_pred))"
   ]
  },
  {
   "cell_type": "code",
   "execution_count": 21,
   "metadata": {
    "scrolled": false
   },
   "outputs": [],
   "source": [
    "#toBePersisted = dict({\n",
    "#    'metadata': {\n",
    "#        'name': 'NB_Multinomial'\n",
    "#    }\n",
    "#})\n",
    "#dump(toBePersisted, 'NB_Multinomial.joblib')"
   ]
  },
  {
   "cell_type": "code",
   "execution_count": 22,
   "metadata": {},
   "outputs": [
    {
     "data": {
      "text/plain": [
       "['model_nb_multinomial.joblib']"
      ]
     },
     "execution_count": 22,
     "metadata": {},
     "output_type": "execute_result"
    }
   ],
   "source": [
    "# joblib.dump(gnb, 'NB_Multinomial.joblib') \n",
    "joblib.dump(gnb, 'model_nb_multinomial.joblib') "
   ]
  },
  {
   "cell_type": "markdown",
   "metadata": {},
   "source": [
    "# Gaussiano"
   ]
  },
  {
   "cell_type": "code",
   "execution_count": 23,
   "metadata": {},
   "outputs": [],
   "source": [
    "#Create a Gaussian Classifier\n",
    "gnb = GaussianNB()"
   ]
  },
  {
   "cell_type": "code",
   "execution_count": 24,
   "metadata": {},
   "outputs": [
    {
     "data": {
      "text/plain": [
       "GaussianNB(priors=None, var_smoothing=1e-09)"
      ]
     },
     "execution_count": 24,
     "metadata": {},
     "output_type": "execute_result"
    }
   ],
   "source": [
    "#Train the model using the training sets\n",
    "gnb.fit(X_train, y_train)"
   ]
  },
  {
   "cell_type": "code",
   "execution_count": 25,
   "metadata": {},
   "outputs": [],
   "source": [
    "#Predict the response for test dataset\n",
    "y_pred = gnb.predict(X_test)"
   ]
  },
  {
   "cell_type": "code",
   "execution_count": 26,
   "metadata": {
    "scrolled": false
   },
   "outputs": [
    {
     "data": {
      "text/plain": [
       "Counter({'wofs': 205895,\n",
       "         'bosque': 54640,\n",
       "         'ninguno': 15566,\n",
       "         'wofs_bosque': 3357})"
      ]
     },
     "execution_count": 26,
     "metadata": {},
     "output_type": "execute_result"
    }
   ],
   "source": [
    "Counter(y_pred)"
   ]
  },
  {
   "cell_type": "code",
   "execution_count": 27,
   "metadata": {
    "scrolled": false
   },
   "outputs": [
    {
     "data": {
      "text/plain": [
       "array([[ 54306,   1897,     13,   1597],\n",
       "       [   320,   8068,    160,    229],\n",
       "       [     8,   5578, 205658,   1484],\n",
       "       [     6,     23,     64,     47]])"
      ]
     },
     "execution_count": 27,
     "metadata": {},
     "output_type": "execute_result"
    }
   ],
   "source": [
    "confusion_matrix(y_test, y_pred)"
   ]
  },
  {
   "cell_type": "code",
   "execution_count": 28,
   "metadata": {},
   "outputs": [
    {
     "name": "stdout",
     "output_type": "stream",
     "text": [
      "              precision    recall  f1-score   support\n",
      "\n",
      "      bosque       0.99      0.94      0.97     57813\n",
      "     ninguno       0.52      0.92      0.66      8777\n",
      "        wofs       1.00      0.97      0.98    212728\n",
      " wofs_bosque       0.01      0.34      0.03       140\n",
      "\n",
      "    accuracy                           0.96    279458\n",
      "   macro avg       0.63      0.79      0.66    279458\n",
      "weighted avg       0.98      0.96      0.97    279458\n",
      "\n"
     ]
    }
   ],
   "source": [
    "print(classification_report(y_test, y_pred))"
   ]
  },
  {
   "cell_type": "code",
   "execution_count": 29,
   "metadata": {},
   "outputs": [
    {
     "name": "stdout",
     "output_type": "stream",
     "text": [
      "Accuracy: 0.9592818956694745\n"
     ]
    }
   ],
   "source": [
    "# Model Accuracy\n",
    "print(\"Accuracy:\",metrics.accuracy_score(y_test, y_pred))"
   ]
  },
  {
   "cell_type": "code",
   "execution_count": 30,
   "metadata": {
    "scrolled": false
   },
   "outputs": [],
   "source": [
    "#toBePersisted = dict({\n",
    "#    'metadata': {\n",
    "#        'name': 'NB_Multinomial'\n",
    "#    }\n",
    "#})\n",
    "#dump(toBePersisted, 'NB_Multinomial.joblib')"
   ]
  },
  {
   "cell_type": "code",
   "execution_count": 31,
   "metadata": {},
   "outputs": [
    {
     "data": {
      "text/plain": [
       "['model_nb_gaussiano.joblib']"
      ]
     },
     "execution_count": 31,
     "metadata": {},
     "output_type": "execute_result"
    }
   ],
   "source": [
    "# joblib.dump(gnb, 'NB_Multinomial.joblib') \n",
    "joblib.dump(gnb, 'model_nb_gaussiano.joblib') "
   ]
  },
  {
   "cell_type": "markdown",
   "metadata": {},
   "source": [
    "## Analisis de resultados y conclusiones\n",
    "\n",
    "El rendmiento obtenido con el modelo Multinomial llega a ser del 98.50% y el rendimiento con el modelo Gausiano alcanza el 95.92%. Por lo que logramos determinar que el modelo Multinomial logra funcionar mejor por 3 puntos de diferencia. Revisando la matriz de confusión logramos determinar que la principal diferencia entre los modelos es que en el multinomial se confunde menos entre elementos de la clase 2(Ninguno) y la clase 3(WOFS - Agua).\n",
    "\n",
    "**MultinomialGNB**\n",
    "\n",
    "Accuracy: 98.50%\n",
    "\n",
    "| Clase\\Predicción | WOFS  | Bosque | Ninguno | WOFS_Bosque |\n",
    "|------------------|-------|--------|---------|-------------|\n",
    "| WOFS             | 57334 | 233    | 0       | 88          |\n",
    "| Bosque           | 824   | 6422   | 1270    | 88          |\n",
    "| Ninguno          | 0     | 1126   | 211310  | 514         |\n",
    "| WOFS_Bosque      | 0     | 4      | 18      | 100         |\n",
    "\n",
    "**GaussianMB**\n",
    "\n",
    "Accuracy: 95.92%\n",
    "\n",
    "| Clase\\Predicción | WOFS  | Bosque | Ninguno | WOFS_Bosque |\n",
    "|------------------|-------|--------|---------|-------------|\n",
    "| WOFS             | 54063 | 1858   | 14      | 1720        |\n",
    "| Bosque           | 298   | 7973   | 146     | 187         |\n",
    "| Ninguno          | 12    | 5767   | 205946  | 1225        |\n",
    "| WOFS_Bosque      | 2     | 24     | 52      | 44          |\n",
    "\n",
    "\n",
    "\n",
    "El modelo Multinomial en terminos generales esta ofreciendo mejor rendimiento que el modelo Gaussiano. Esta diferencia es causada principalmente por el hecho que el modelo Gaussiano se equivoca mas para datos que se encuentran clasificados como Ningun y WOFS_bosque.\n",
    "Por otro lado la clasificación “ninguno” puede estar presentando un bajo recall comparado con sus demas clases porque es una clasificación donde pueden estar una gran diversidad de valores haciendo que este modelo no generalice bien para esta clase particular.\n"
   ]
  },
  {
   "cell_type": "markdown",
   "metadata": {},
   "source": [
    "# Referencias\n",
    "https://www.datacamp.com/community/tutorials/naive-bayes-scikit-learn\n",
    "\n",
    "https://datascience.stackexchange.com/questions/40345/how-to-convert-multiple-columns-into-single-columns-in-pandas\n",
    "\n",
    "https://stackoverflow.com/questions/13295735/how-can-i-replace-all-the-nan-values-with-zeros-in-a-column-of-a-pandas-datafra"
   ]
  }
 ],
 "metadata": {
  "kernelspec": {
   "display_name": "Python 3",
   "language": "python",
   "name": "python3"
  },
  "language_info": {
   "codemirror_mode": {
    "name": "ipython",
    "version": 3
   },
   "file_extension": ".py",
   "mimetype": "text/x-python",
   "name": "python",
   "nbconvert_exporter": "python",
   "pygments_lexer": "ipython3",
   "version": "3.6.5"
  }
 },
 "nbformat": 4,
 "nbformat_minor": 2
}
