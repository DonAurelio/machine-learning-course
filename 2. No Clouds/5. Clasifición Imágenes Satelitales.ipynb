{
 "cells": [
  {
   "cell_type": "markdown",
   "metadata": {},
   "source": [
    "# Clasificación de Imágenes\n",
    "\n",
    "En el presente notebook se hace la clasificación de imágenes satelitales a partir de los modelos creados en los noteooks anteriores.\n",
    "\n",
    "* [Multi-layer Perceptron](#Clasificai%C3%B3n-Redes-Neuronales)\n",
    "* [Naive Bayes](#Clasificaci%C3%B3n-con-Naive-Bayes-(Multinomial))\n",
    "* [Naive Gaussiano](#Clasificaci%C3%B3n-con-Naive-Bayes-(Gaussiano))\n",
    "\n",
    "\n",
    "## Referencias\n",
    "\n",
    "1. http://cdcol.ideam.gov.co/profile/home/"
   ]
  },
  {
   "cell_type": "code",
   "execution_count": 1,
   "metadata": {},
   "outputs": [],
   "source": [
    "%matplotlib inline\n",
    "\n",
    "import xarray as xr\n",
    "import numpy as np\n",
    "import matplotlib.pyplot as plt\n",
    "from matplotlib.colors import ListedColormap"
   ]
  },
  {
   "cell_type": "markdown",
   "metadata": {},
   "source": [
    "## Carga de un Archivo TIF\n",
    "\n",
    "La función **open_rasterio** permite cargar los datos deun archivo Geotiff en un arreglo multidimensional. La forma del arreglo depende de cómo haya sido generado el archivo por parte del IDEAM."
   ]
  },
  {
   "cell_type": "code",
   "execution_count": 2,
   "metadata": {},
   "outputs": [],
   "source": [
    "from rasterio.plot import show\n",
    "import pandas as pd\n",
    "import numpy as np\n",
    "import xarray as xr\n",
    "\n",
    "# Wofs imports\n",
    "import gc\n",
    "import collections\n",
    "# Genrales\n",
    "import rasterio\n",
    "import os\n",
    "import glob\n",
    "import random\n",
    "\n",
    "# ## Carga de Archivos .tif\n",
    "\n",
    "# path = '../data/choco/LC080100562018011001T1-SC20191101092114'\n",
    "# path = '../data/choco/LC080100562018022701T1-SC20191101092059'\n",
    "\n",
    "def find_band_path(band_name,path):\n",
    "    lookup = path + '/*.tif'\n",
    "    bands_paths = glob.glob(lookup)\n",
    "    \n",
    "    condition = lambda file_name: band_name in file_name\n",
    "    result = list(filter(condition,bands_paths))\n",
    "\n",
    "    # result debería tener un único valor desde que \n",
    "    # un único path contiene el string que representa\n",
    "    # la variable band_name\n",
    "    assert len(result) == 1, 'Nombre de la banda incompleto'\n",
    "    return result.pop(0)\n",
    "\n",
    "def load_data_array(tif_path):\n",
    "    array = xr.open_rasterio(tif_path)\n",
    "    # Remueve la primer dimensión\n",
    "    # para obtener un arreglo de dos dimensiones\n",
    "    return array.squeeze(axis=0)\n",
    "\n",
    "\n",
    "def load_data(path,bands_mapping):\n",
    "    bands_dict = {}\n",
    "    for band_name, alias in bands_mapping:\n",
    "        bands_dict[alias] = load_data_array(find_band_path(band_name,path))\n",
    "        \n",
    "    return bands_dict"
   ]
  },
  {
   "cell_type": "code",
   "execution_count": 3,
   "metadata": {},
   "outputs": [
    {
     "name": "stdout",
     "output_type": "stream",
     "text": [
      "../../data/choco/LC080100562018022701T1-SC20191101092059\n"
     ]
    },
    {
     "data": {
      "text/plain": [
       "array([[[-9999, -9999, -9999, ..., -9999, -9999, -9999],\n",
       "        [-9999, -9999, -9999, ..., -9999, -9999, -9999],\n",
       "        [-9999, -9999, -9999, ..., -9999, -9999, -9999],\n",
       "        ...,\n",
       "        [-9999, -9999, -9999, ..., -9999, -9999, -9999],\n",
       "        [-9999, -9999, -9999, ..., -9999, -9999, -9999],\n",
       "        [-9999, -9999, -9999, ..., -9999, -9999, -9999]],\n",
       "\n",
       "       [[-9999, -9999, -9999, ..., -9999, -9999, -9999],\n",
       "        [-9999, -9999, -9999, ..., -9999, -9999, -9999],\n",
       "        [-9999, -9999, -9999, ..., -9999, -9999, -9999],\n",
       "        ...,\n",
       "        [-9999, -9999, -9999, ..., -9999, -9999, -9999],\n",
       "        [-9999, -9999, -9999, ..., -9999, -9999, -9999],\n",
       "        [-9999, -9999, -9999, ..., -9999, -9999, -9999]],\n",
       "\n",
       "       [[-9999, -9999, -9999, ..., -9999, -9999, -9999],\n",
       "        [-9999, -9999, -9999, ..., -9999, -9999, -9999],\n",
       "        [-9999, -9999, -9999, ..., -9999, -9999, -9999],\n",
       "        ...,\n",
       "        [-9999, -9999, -9999, ..., -9999, -9999, -9999],\n",
       "        [-9999, -9999, -9999, ..., -9999, -9999, -9999],\n",
       "        [-9999, -9999, -9999, ..., -9999, -9999, -9999]],\n",
       "\n",
       "       [[-9999, -9999, -9999, ..., -9999, -9999, -9999],\n",
       "        [-9999, -9999, -9999, ..., -9999, -9999, -9999],\n",
       "        [-9999, -9999, -9999, ..., -9999, -9999, -9999],\n",
       "        ...,\n",
       "        [-9999, -9999, -9999, ..., -9999, -9999, -9999],\n",
       "        [-9999, -9999, -9999, ..., -9999, -9999, -9999],\n",
       "        [-9999, -9999, -9999, ..., -9999, -9999, -9999]],\n",
       "\n",
       "       [[-9999, -9999, -9999, ..., -9999, -9999, -9999],\n",
       "        [-9999, -9999, -9999, ..., -9999, -9999, -9999],\n",
       "        [-9999, -9999, -9999, ..., -9999, -9999, -9999],\n",
       "        ...,\n",
       "        [-9999, -9999, -9999, ..., -9999, -9999, -9999],\n",
       "        [-9999, -9999, -9999, ..., -9999, -9999, -9999],\n",
       "        [-9999, -9999, -9999, ..., -9999, -9999, -9999]],\n",
       "\n",
       "       [[-9999, -9999, -9999, ..., -9999, -9999, -9999],\n",
       "        [-9999, -9999, -9999, ..., -9999, -9999, -9999],\n",
       "        [-9999, -9999, -9999, ..., -9999, -9999, -9999],\n",
       "        ...,\n",
       "        [-9999, -9999, -9999, ..., -9999, -9999, -9999],\n",
       "        [-9999, -9999, -9999, ..., -9999, -9999, -9999],\n",
       "        [-9999, -9999, -9999, ..., -9999, -9999, -9999]]], dtype=int16)"
      ]
     },
     "execution_count": 3,
     "metadata": {},
     "output_type": "execute_result"
    }
   ],
   "source": [
    "# path = '../../data/choco'\n",
    "path = '../../data/choco/LC080100562018022701T1-SC20191101092059'\n",
    "\n",
    "print(path)\n",
    "\n",
    "band_names = [\n",
    "    ('band2','blue'),\n",
    "    ('band3','green'),\n",
    "    ('band4','red'),\n",
    "    ('band5','nir'),\n",
    "    ('band6','swir1'),\n",
    "    ('band7','swir2'),\n",
    "    ('pixel_qa','pixel_qa'),\n",
    "]\n",
    "\n",
    "# | blue | green | red | nir | swir1 | swir2 | wofs | bosque |\n",
    "# |------|-------|-----|-----|-------|-------|------|--------|\n",
    "# |      |       |     |     |       |       |      |        |\n",
    "\n",
    "data_array = load_data(path,band_names)\n",
    "\n",
    "\n",
    "\n",
    "blue = data_array['blue'].values\n",
    "green = data_array['green'].values\n",
    "red = data_array['red'].values\n",
    "nir = data_array['nir'].values\n",
    "swir1 = data_array['swir1'].values\n",
    "swir2 = data_array['swir2'].values\n",
    "\n",
    "data = np.array([\n",
    "blue,\n",
    "green,\n",
    "red,\n",
    "nir,\n",
    "swir1,\n",
    "swir2]\n",
    ")\n",
    "\n",
    "data"
   ]
  },
  {
   "cell_type": "code",
   "execution_count": 4,
   "metadata": {},
   "outputs": [],
   "source": [
    "# Muestra de una banda de la imágen multi espectral\n",
    "# data[1].plot()"
   ]
  },
  {
   "cell_type": "markdown",
   "metadata": {},
   "source": [
    "## Transformación del Arreglo para la Clasificación\n",
    "\n",
    "La transformación consiste en transponer el arrleglo multidimensional de tal forma que los valores de las bandas queden en un arreglo y no dispersos en diferentes arreglos. El siguie ejemplo es una muestra de la salida anterior. El primer arreglo bidimencional (commienza con **275.5**) corresponde a los datos en latitud y longitud de la primera banda de la imagén. El segundo arreglo commienza con **181.**) corresponde a la segúnda banda de la imágen. \n",
    "\n",
    "```python\n",
    "[[ **275.5**,  260. ,  218. , ..., 1076. ,  999. ,  950.5],\n",
    "[ 325. ,  251. ,  264.5, ..., 1017. , 1002.5,  859. ],\n",
    "[ 278. ,  322. ,  262.5, ...,  961. ,  880.5,  801.5],\n",
    "...,\n",
    "[ 562. ,  599. ,  553. , ..., 1085.5, 1022. , 1139. ],\n",
    "[ 541. ,  564. ,  568. , ...,  879.5,  782. ,  803. ],\n",
    "[ 495. ,  509. ,  566. , ...,  973. ,  869. ,  793. ]],\n",
    "\n",
    "[[ **181.** ,  175.5,  155. , ..., 2120.5, 2009. , 1928. ],\n",
    "[ 205. ,  168.5,  178.5, ..., 2081. , 2016.5, 1807. ],\n",
    "[ 181. ,  185. ,  176. , ..., 2096. , 1915. , 1777. ],\n",
    "...,\n",
    "[ 815. ,  884. ,  815. , ..., 1032. , 1271. , 2090.5],\n",
    "[ 807. ,  855. ,  866. , ..., 1507. , 1274. , 1364. ],\n",
    "[ 699. ,  782. ,  852. , ..., 1195. , 1026. , 1370. ]]\n",
    "```\n",
    "\n",
    "El objetivo de este paso es que los valores de las bandas **275.5** **181.** queden en la misma lista para facilitar el procesamiento de la imágen. La salida entonces es algo similar a\n",
    "\n",
    "```python\n",
    "[[[ **275.5**,  **181.** ,  213.5,  377. ,  215. ,  213.5],\n",
    "    [ 325. ,  205. ,  251. ,  443. ,  254. ,  250. ],\n",
    "    [ 278. ,  181. ,  204. ,  406. ,  209. ,  224. ],\n",
    "    ...,\n",
    "```"
   ]
  },
  {
   "cell_type": "code",
   "execution_count": 5,
   "metadata": {},
   "outputs": [
    {
     "name": "stdout",
     "output_type": "stream",
     "text": [
      "Shape: (7611, 7761, 6)\n"
     ]
    },
    {
     "data": {
      "text/plain": [
       "array([[[-9999, -9999, -9999, -9999, -9999, -9999],\n",
       "        [-9999, -9999, -9999, -9999, -9999, -9999],\n",
       "        [-9999, -9999, -9999, -9999, -9999, -9999],\n",
       "        ...,\n",
       "        [-9999, -9999, -9999, -9999, -9999, -9999],\n",
       "        [-9999, -9999, -9999, -9999, -9999, -9999],\n",
       "        [-9999, -9999, -9999, -9999, -9999, -9999]],\n",
       "\n",
       "       [[-9999, -9999, -9999, -9999, -9999, -9999],\n",
       "        [-9999, -9999, -9999, -9999, -9999, -9999],\n",
       "        [-9999, -9999, -9999, -9999, -9999, -9999],\n",
       "        ...,\n",
       "        [-9999, -9999, -9999, -9999, -9999, -9999],\n",
       "        [-9999, -9999, -9999, -9999, -9999, -9999],\n",
       "        [-9999, -9999, -9999, -9999, -9999, -9999]],\n",
       "\n",
       "       [[-9999, -9999, -9999, -9999, -9999, -9999],\n",
       "        [-9999, -9999, -9999, -9999, -9999, -9999],\n",
       "        [-9999, -9999, -9999, -9999, -9999, -9999],\n",
       "        ...,\n",
       "        [-9999, -9999, -9999, -9999, -9999, -9999],\n",
       "        [-9999, -9999, -9999, -9999, -9999, -9999],\n",
       "        [-9999, -9999, -9999, -9999, -9999, -9999]],\n",
       "\n",
       "       ...,\n",
       "\n",
       "       [[-9999, -9999, -9999, -9999, -9999, -9999],\n",
       "        [-9999, -9999, -9999, -9999, -9999, -9999],\n",
       "        [-9999, -9999, -9999, -9999, -9999, -9999],\n",
       "        ...,\n",
       "        [-9999, -9999, -9999, -9999, -9999, -9999],\n",
       "        [-9999, -9999, -9999, -9999, -9999, -9999],\n",
       "        [-9999, -9999, -9999, -9999, -9999, -9999]],\n",
       "\n",
       "       [[-9999, -9999, -9999, -9999, -9999, -9999],\n",
       "        [-9999, -9999, -9999, -9999, -9999, -9999],\n",
       "        [-9999, -9999, -9999, -9999, -9999, -9999],\n",
       "        ...,\n",
       "        [-9999, -9999, -9999, -9999, -9999, -9999],\n",
       "        [-9999, -9999, -9999, -9999, -9999, -9999],\n",
       "        [-9999, -9999, -9999, -9999, -9999, -9999]],\n",
       "\n",
       "       [[-9999, -9999, -9999, -9999, -9999, -9999],\n",
       "        [-9999, -9999, -9999, -9999, -9999, -9999],\n",
       "        [-9999, -9999, -9999, -9999, -9999, -9999],\n",
       "        ...,\n",
       "        [-9999, -9999, -9999, -9999, -9999, -9999],\n",
       "        [-9999, -9999, -9999, -9999, -9999, -9999],\n",
       "        [-9999, -9999, -9999, -9999, -9999, -9999]]], dtype=int16)"
      ]
     },
     "execution_count": 5,
     "metadata": {},
     "output_type": "execute_result"
    }
   ],
   "source": [
    "inv = np.transpose(data)\n",
    "print('Shape:', inv.shape)\n",
    "inv"
   ]
  },
  {
   "cell_type": "markdown",
   "metadata": {},
   "source": [
    "## Clasificaión Redes Neuronales\n",
    "\n",
    "* Clase 0:Color azul oscuro (wofs): Agua\n",
    "* Clase 1:Color azul (bosque): Bosque\n",
    "* Clase 2:Color azul verde (wofs_bosque): Agua o Bosque\n",
    "* Clase 3:Color verde (cloud): Nubes\n",
    "* Clase 4:Color amarillo (ninguno): Ninguna de las coverturas anteriores. Puedes ser repreentar una urbanización."
   ]
  },
  {
   "cell_type": "code",
   "execution_count": 6,
   "metadata": {},
   "outputs": [
    {
     "name": "stderr",
     "output_type": "stream",
     "text": [
      "Using Theano backend.\n",
      "/home/datacube/.local/lib/python3.6/site-packages/tensorflow/python/framework/dtypes.py:516: FutureWarning: Passing (type, 1) or '1type' as a synonym of type is deprecated; in a future version of numpy, it will be understood as (type, (1,)) / '(1,)type'.\n",
      "  _np_qint8 = np.dtype([(\"qint8\", np.int8, 1)])\n",
      "/home/datacube/.local/lib/python3.6/site-packages/tensorflow/python/framework/dtypes.py:517: FutureWarning: Passing (type, 1) or '1type' as a synonym of type is deprecated; in a future version of numpy, it will be understood as (type, (1,)) / '(1,)type'.\n",
      "  _np_quint8 = np.dtype([(\"quint8\", np.uint8, 1)])\n",
      "/home/datacube/.local/lib/python3.6/site-packages/tensorflow/python/framework/dtypes.py:518: FutureWarning: Passing (type, 1) or '1type' as a synonym of type is deprecated; in a future version of numpy, it will be understood as (type, (1,)) / '(1,)type'.\n",
      "  _np_qint16 = np.dtype([(\"qint16\", np.int16, 1)])\n",
      "/home/datacube/.local/lib/python3.6/site-packages/tensorflow/python/framework/dtypes.py:519: FutureWarning: Passing (type, 1) or '1type' as a synonym of type is deprecated; in a future version of numpy, it will be understood as (type, (1,)) / '(1,)type'.\n",
      "  _np_quint16 = np.dtype([(\"quint16\", np.uint16, 1)])\n",
      "/home/datacube/.local/lib/python3.6/site-packages/tensorflow/python/framework/dtypes.py:520: FutureWarning: Passing (type, 1) or '1type' as a synonym of type is deprecated; in a future version of numpy, it will be understood as (type, (1,)) / '(1,)type'.\n",
      "  _np_qint32 = np.dtype([(\"qint32\", np.int32, 1)])\n",
      "/home/datacube/.local/lib/python3.6/site-packages/tensorflow/python/framework/dtypes.py:525: FutureWarning: Passing (type, 1) or '1type' as a synonym of type is deprecated; in a future version of numpy, it will be understood as (type, (1,)) / '(1,)type'.\n",
      "  np_resource = np.dtype([(\"resource\", np.ubyte, 1)])\n",
      "/usr/local/lib/python3.6/dist-packages/requests/__init__.py:91: RequestsDependencyWarning: urllib3 (1.25.7) or chardet (3.0.4) doesn't match a supported version!\n",
      "  RequestsDependencyWarning)\n",
      "/home/datacube/.local/lib/python3.6/site-packages/tensorboard/compat/tensorflow_stub/dtypes.py:541: FutureWarning: Passing (type, 1) or '1type' as a synonym of type is deprecated; in a future version of numpy, it will be understood as (type, (1,)) / '(1,)type'.\n",
      "  _np_qint8 = np.dtype([(\"qint8\", np.int8, 1)])\n",
      "/home/datacube/.local/lib/python3.6/site-packages/tensorboard/compat/tensorflow_stub/dtypes.py:542: FutureWarning: Passing (type, 1) or '1type' as a synonym of type is deprecated; in a future version of numpy, it will be understood as (type, (1,)) / '(1,)type'.\n",
      "  _np_quint8 = np.dtype([(\"quint8\", np.uint8, 1)])\n",
      "/home/datacube/.local/lib/python3.6/site-packages/tensorboard/compat/tensorflow_stub/dtypes.py:543: FutureWarning: Passing (type, 1) or '1type' as a synonym of type is deprecated; in a future version of numpy, it will be understood as (type, (1,)) / '(1,)type'.\n",
      "  _np_qint16 = np.dtype([(\"qint16\", np.int16, 1)])\n",
      "/home/datacube/.local/lib/python3.6/site-packages/tensorboard/compat/tensorflow_stub/dtypes.py:544: FutureWarning: Passing (type, 1) or '1type' as a synonym of type is deprecated; in a future version of numpy, it will be understood as (type, (1,)) / '(1,)type'.\n",
      "  _np_quint16 = np.dtype([(\"quint16\", np.uint16, 1)])\n",
      "/home/datacube/.local/lib/python3.6/site-packages/tensorboard/compat/tensorflow_stub/dtypes.py:545: FutureWarning: Passing (type, 1) or '1type' as a synonym of type is deprecated; in a future version of numpy, it will be understood as (type, (1,)) / '(1,)type'.\n",
      "  _np_qint32 = np.dtype([(\"qint32\", np.int32, 1)])\n",
      "/home/datacube/.local/lib/python3.6/site-packages/tensorboard/compat/tensorflow_stub/dtypes.py:550: FutureWarning: Passing (type, 1) or '1type' as a synonym of type is deprecated; in a future version of numpy, it will be understood as (type, (1,)) / '(1,)type'.\n",
      "  np_resource = np.dtype([(\"resource\", np.ubyte, 1)])\n"
     ]
    }
   ],
   "source": [
    "from keras.models import load_model\n",
    "model = load_model(\"model.h5\")"
   ]
  },
  {
   "cell_type": "code",
   "execution_count": 7,
   "metadata": {},
   "outputs": [
    {
     "name": "stdout",
     "output_type": "stream",
     "text": [
      "CPU times: user 1min 28s, sys: 581 ms, total: 1min 29s\n",
      "Wall time: 1min 29s\n"
     ]
    }
   ],
   "source": [
    "def compute(array):\n",
    "    probabilities = []\n",
    "    for i in range(0,array.shape[0]):\n",
    "        probabilities.append(model.predict(array[i]))\n",
    "    \n",
    "    result = np.array(probabilities)\n",
    "    # Axis = 2 es la dimesnion que contiene las probabilidad des \n",
    "    # de las predicciones realizadas sobre las bandas espectrales\n",
    "    result = np.argmax(result,axis=2)\n",
    "    result = np.transpose(result)\n",
    "    return result\n",
    "\n",
    "%time clasified = compute(inv)"
   ]
  },
  {
   "cell_type": "code",
   "execution_count": 8,
   "metadata": {},
   "outputs": [
    {
     "data": {
      "text/plain": [
       "array([[0, 0, 0, ..., 0, 0, 0],\n",
       "       [0, 0, 0, ..., 0, 0, 0],\n",
       "       [0, 0, 0, ..., 0, 0, 0],\n",
       "       ...,\n",
       "       [0, 0, 0, ..., 0, 0, 0],\n",
       "       [0, 0, 0, ..., 0, 0, 0],\n",
       "       [0, 0, 0, ..., 0, 0, 0]])"
      ]
     },
     "execution_count": 8,
     "metadata": {},
     "output_type": "execute_result"
    }
   ],
   "source": [
    "clasified"
   ]
  },
  {
   "cell_type": "markdown",
   "metadata": {},
   "source": [
    "## Predicciónes\n",
    "\n",
    "Como se puede observar en las predicciones generadas a partir de imagenes satelitales del rio amazonas, el modelo es capaz de predecir exitosamente la selva amazonica y las nubes. El agua del rio amazonas no es predecido correctamente, sin embargo, el modelo es capaz de detectar una anomalía en su area. Esto se puede deber a que los datos utilizados para el entrenamiento del modelo son de la costa del Chocó, por lo cual el color del agua es distinto. Corrimos el mismo algoritmo sobre imagenes de la costa en la Guajira, observamos que reconocia en mayor medida el color del mar, sin embargo, continuó prediciendo el agua como bosque en grandes areas."
   ]
  },
  {
   "cell_type": "code",
   "execution_count": 9,
   "metadata": {},
   "outputs": [
    {
     "data": {
      "image/png": "[encoded data removed]",
      "text/plain": [
       "<Figure size 432x288 with 2 Axes>"
      ]
     },
     "metadata": {
      "needs_background": "light"
     },
     "output_type": "display_data"
    }
   ],
   "source": [
    "# La imagen resultado no tiene sistema de coordenadas\n",
    "colors = [\"dodgerblue\", \"green\", \"darkcyan\", \"grey\",\"white\"]\n",
    "\n",
    "cmap = ListedColormap(colors)\n",
    "\n",
    "density_cmap = ListedColormap(colors,name='my_cmap')\n",
    "\n",
    "plt.imshow(clasified,cmap=density_cmap)\n",
    "plt.colorbar();\n",
    "plt.clim(-0.5,4.5)"
   ]
  },
  {
   "cell_type": "markdown",
   "metadata": {},
   "source": [
    "## Clasificación con Naive Bayes (Multinomial)"
   ]
  },
  {
   "cell_type": "code",
   "execution_count": 10,
   "metadata": {},
   "outputs": [
    {
     "name": "stderr",
     "output_type": "stream",
     "text": [
      "/home/datacube/.local/lib/python3.6/site-packages/sklearn/externals/joblib/__init__.py:15: DeprecationWarning: sklearn.externals.joblib is deprecated in 0.21 and will be removed in 0.23. Please import this functionality directly from joblib, which can be installed with: pip install joblib. If this warning is raised when loading pickled models, you may need to re-serialize those models with scikit-learn 0.21+.\n",
      "  warnings.warn(msg, category=DeprecationWarning)\n"
     ]
    }
   ],
   "source": [
    "from sklearn.model_selection import train_test_split\n",
    "from sklearn.linear_model import LassoCV\n",
    "from sklearn import datasets\n",
    "from collections import Counter\n",
    "\n",
    "from joblib import dump\n",
    "from sklearn.externals import joblib\n",
    "\n",
    "#from keras.models import model_from_json\n",
    "\n",
    "#Import Gaussian Naive Bayes model\n",
    "from sklearn.naive_bayes import GaussianNB\n",
    "from sklearn.naive_bayes import MultinomialNB\n",
    "\n",
    "#Import scikit-learn metrics module for accuracy calculation\n",
    "from sklearn import metrics\n",
    "from sklearn.metrics import confusion_matrix\n",
    "from sklearn.metrics import classification_report\n",
    "from sklearn.model_selection import cross_val_score"
   ]
  },
  {
   "cell_type": "code",
   "execution_count": 11,
   "metadata": {},
   "outputs": [],
   "source": [
    "nb_model_path = './model_nb_multinomial.joblib'\n",
    "nb_model = joblib.load(nb_model_path)"
   ]
  },
  {
   "cell_type": "code",
   "execution_count": 12,
   "metadata": {},
   "outputs": [
    {
     "data": {
      "text/plain": [
       "array(['ninguno'], dtype='<U11')"
      ]
     },
     "execution_count": 12,
     "metadata": {},
     "output_type": "execute_result"
    }
   ],
   "source": [
    "nb_model.predict([[4415.0,4694.0,4728.0,4888.0,4886.0,4312.0]])"
   ]
  },
  {
   "cell_type": "code",
   "execution_count": 13,
   "metadata": {},
   "outputs": [],
   "source": [
    "def compute_nb(array):\n",
    "    probabilities = []\n",
    "    for i in range(0,array.shape[0]):\n",
    "        probabilities.append(nb_model.predict(array[i]))\n",
    "    \n",
    "    result = np.array(probabilities)\n",
    "    # Axis = 2 es la dimesnion que contiene las probabilidad des \n",
    "    # de las predicciones realizadas sobre las bandas espectrales\n",
    "    result = np.transpose(result)\n",
    "    return result\n",
    "\n",
    "clasified_nb = compute_nb(inv)"
   ]
  },
  {
   "cell_type": "code",
   "execution_count": 14,
   "metadata": {
    "scrolled": true
   },
   "outputs": [
    {
     "data": {
      "text/plain": [
       "array([['bosque', 'bosque', 'bosque', ..., 'bosque', 'bosque', 'bosque'],\n",
       "       ['bosque', 'bosque', 'bosque', ..., 'bosque', 'bosque', 'bosque'],\n",
       "       ['bosque', 'bosque', 'bosque', ..., 'bosque', 'bosque', 'bosque'],\n",
       "       ...,\n",
       "       ['bosque', 'bosque', 'bosque', ..., 'bosque', 'bosque', 'bosque'],\n",
       "       ['bosque', 'bosque', 'bosque', ..., 'bosque', 'bosque', 'bosque'],\n",
       "       ['bosque', 'bosque', 'bosque', ..., 'bosque', 'bosque', 'bosque']],\n",
       "      dtype='<U11')"
      ]
     },
     "execution_count": 14,
     "metadata": {},
     "output_type": "execute_result"
    }
   ],
   "source": [
    "clasified_nb"
   ]
  },
  {
   "cell_type": "code",
   "execution_count": 15,
   "metadata": {},
   "outputs": [],
   "source": [
    "# El número corresponde con el orden en las columnas de las etiquetas \n",
    "# para el conjuto de entrenamiento\n",
    "\n",
    "clases = { \n",
    "    'wofs': 0,\n",
    "    'bosque': 1,\n",
    "    'wofs_bosque': 2,\n",
    "    'ninguno':3,\n",
    "    'cloud':4\n",
    "}\n",
    "\n",
    "for k,v in clases.items():\n",
    "    clasified_nb[clasified_nb == k] = v"
   ]
  },
  {
   "cell_type": "code",
   "execution_count": 16,
   "metadata": {},
   "outputs": [
    {
     "data": {
      "text/plain": [
       "array([[1, 1, 1, ..., 1, 1, 1],\n",
       "       [1, 1, 1, ..., 1, 1, 1],\n",
       "       [1, 1, 1, ..., 1, 1, 1],\n",
       "       ...,\n",
       "       [1, 1, 1, ..., 1, 1, 1],\n",
       "       [1, 1, 1, ..., 1, 1, 1],\n",
       "       [1, 1, 1, ..., 1, 1, 1]])"
      ]
     },
     "execution_count": 16,
     "metadata": {},
     "output_type": "execute_result"
    }
   ],
   "source": [
    "clasified_nb = clasified_nb.astype(int)\n",
    "clasified_nb"
   ]
  },
  {
   "cell_type": "code",
   "execution_count": 17,
   "metadata": {},
   "outputs": [],
   "source": [
    "# Define las coordenadas de los puntos\n",
    "coords = {'x':data_array['blue'].x.values,'y':data_array['blue'].y.values}\n",
    "\n",
    "# Define el orden de las dimensiones\n",
    "dims = ('y','x')\n",
    "\n",
    "# Define los metadatos o atributos\n",
    "attrs = {\n",
    "    'crs': data_array['blue'].crs,\n",
    "    'transform': data_array['blue'].transform\n",
    "}\n",
    "\n",
    "data_array_nb = xr.DataArray(data=clasified_nb,coords=coords,dims=dims)"
   ]
  },
  {
   "cell_type": "code",
   "execution_count": 18,
   "metadata": {},
   "outputs": [
    {
     "data": {
      "image/png": "[encoded data removed]",
      "text/plain": [
       "<Figure size 432x288 with 2 Axes>"
      ]
     },
     "metadata": {
      "needs_background": "light"
     },
     "output_type": "display_data"
    }
   ],
   "source": [
    "plt.imshow(data_array_nb,cmap=density_cmap)\n",
    "plt.colorbar();\n",
    "plt.clim(-0.5,4.5)\n"
   ]
  },
  {
   "cell_type": "code",
   "execution_count": 19,
   "metadata": {
    "scrolled": true
   },
   "outputs": [
    {
     "data": {
      "image/png": "[encoded data removed]",
      "text/plain": [
       "<Figure size 432x288 with 1 Axes>"
      ]
     },
     "metadata": {
      "needs_background": "light"
     },
     "output_type": "display_data"
    },
    {
     "data": {
      "text/plain": [
       "<matplotlib.axes._subplots.AxesSubplot at 0x7f01675cc748>"
      ]
     },
     "execution_count": 19,
     "metadata": {},
     "output_type": "execute_result"
    }
   ],
   "source": [
    "show(data_array_nb)"
   ]
  },
  {
   "cell_type": "code",
   "execution_count": 20,
   "metadata": {},
   "outputs": [],
   "source": [
    "plt.imsave('example_naive_bayes.png', data_array_nb,cmap=density_cmap)"
   ]
  },
  {
   "cell_type": "markdown",
   "metadata": {},
   "source": [
    "## Clasificación con Naive Bayes (Gaussiano)"
   ]
  },
  {
   "cell_type": "code",
   "execution_count": 21,
   "metadata": {},
   "outputs": [],
   "source": [
    "from sklearn.model_selection import train_test_split\n",
    "from sklearn.linear_model import LassoCV\n",
    "from sklearn import datasets\n",
    "from collections import Counter\n",
    "\n",
    "from joblib import dump\n",
    "from sklearn.externals import joblib\n",
    "\n",
    "#from keras.models import model_from_json\n",
    "\n",
    "#Import Gaussian Naive Bayes model\n",
    "from sklearn.naive_bayes import GaussianNB\n",
    "from sklearn.naive_bayes import MultinomialNB\n",
    "\n",
    "#Import scikit-learn metrics module for accuracy calculation\n",
    "from sklearn import metrics\n",
    "from sklearn.metrics import confusion_matrix\n",
    "from sklearn.metrics import classification_report\n",
    "from sklearn.model_selection import cross_val_score"
   ]
  },
  {
   "cell_type": "code",
   "execution_count": 22,
   "metadata": {},
   "outputs": [],
   "source": [
    "nb_model_path = './model_nb_gaussiano.joblib'\n",
    "nb_model = joblib.load(nb_model_path)"
   ]
  },
  {
   "cell_type": "code",
   "execution_count": 23,
   "metadata": {},
   "outputs": [
    {
     "data": {
      "text/plain": [
       "array(['ninguno'], dtype='<U11')"
      ]
     },
     "execution_count": 23,
     "metadata": {},
     "output_type": "execute_result"
    }
   ],
   "source": [
    "nb_model.predict([[4415.0,4694.0,4728.0,4888.0,4886.0,4312.0]])"
   ]
  },
  {
   "cell_type": "code",
   "execution_count": 24,
   "metadata": {},
   "outputs": [],
   "source": [
    "def compute_nb(array):\n",
    "    probabilities = []\n",
    "    for i in range(0,array.shape[0]):\n",
    "        probabilities.append(nb_model.predict(array[i]))\n",
    "    \n",
    "    result = np.array(probabilities)\n",
    "    # Axis = 2 es la dimesnion que contiene las probabilidad des \n",
    "    # de las predicciones realizadas sobre las bandas espectrales\n",
    "    result = np.transpose(result)\n",
    "    return result\n",
    "\n",
    "clasified_nb = compute_nb(inv)"
   ]
  },
  {
   "cell_type": "code",
   "execution_count": 25,
   "metadata": {
    "scrolled": true
   },
   "outputs": [
    {
     "data": {
      "text/plain": [
       "array([['ninguno', 'ninguno', 'ninguno', ..., 'ninguno', 'ninguno',\n",
       "        'ninguno'],\n",
       "       ['ninguno', 'ninguno', 'ninguno', ..., 'ninguno', 'ninguno',\n",
       "        'ninguno'],\n",
       "       ['ninguno', 'ninguno', 'ninguno', ..., 'ninguno', 'ninguno',\n",
       "        'ninguno'],\n",
       "       ...,\n",
       "       ['ninguno', 'ninguno', 'ninguno', ..., 'ninguno', 'ninguno',\n",
       "        'ninguno'],\n",
       "       ['ninguno', 'ninguno', 'ninguno', ..., 'ninguno', 'ninguno',\n",
       "        'ninguno'],\n",
       "       ['ninguno', 'ninguno', 'ninguno', ..., 'ninguno', 'ninguno',\n",
       "        'ninguno']], dtype='<U11')"
      ]
     },
     "execution_count": 25,
     "metadata": {},
     "output_type": "execute_result"
    }
   ],
   "source": [
    "clasified_nb"
   ]
  },
  {
   "cell_type": "code",
   "execution_count": 26,
   "metadata": {},
   "outputs": [],
   "source": [
    "# El número corresponde con el orden en las columnas de las etiquetas \n",
    "# para el conjuto de entrenamiento\n",
    "\n",
    "clases = { \n",
    "    'wofs': 0,\n",
    "    'bosque': 1,\n",
    "    'wofs_bosque': 2,\n",
    "    'ninguno':3,\n",
    "    'cloud':4\n",
    "}\n",
    "\n",
    "for k,v in clases.items():\n",
    "    clasified_nb[clasified_nb == k] = v"
   ]
  },
  {
   "cell_type": "code",
   "execution_count": 27,
   "metadata": {},
   "outputs": [
    {
     "data": {
      "text/plain": [
       "array([[3, 3, 3, ..., 3, 3, 3],\n",
       "       [3, 3, 3, ..., 3, 3, 3],\n",
       "       [3, 3, 3, ..., 3, 3, 3],\n",
       "       ...,\n",
       "       [3, 3, 3, ..., 3, 3, 3],\n",
       "       [3, 3, 3, ..., 3, 3, 3],\n",
       "       [3, 3, 3, ..., 3, 3, 3]])"
      ]
     },
     "execution_count": 27,
     "metadata": {},
     "output_type": "execute_result"
    }
   ],
   "source": [
    "clasified_nb = clasified_nb.astype(int)\n",
    "clasified_nb"
   ]
  },
  {
   "cell_type": "code",
   "execution_count": 28,
   "metadata": {},
   "outputs": [],
   "source": [
    "# Define las coordenadas de los puntos\n",
    "coords = {'x':data_array['blue'].x.values,'y':data_array['blue'].y.values}\n",
    "\n",
    "# Define el orden de las dimensiones\n",
    "dims = ('y','x')\n",
    "\n",
    "# Define los metadatos o atributos\n",
    "attrs = {\n",
    "    'crs': data_array['blue'].crs,\n",
    "    'transform': data_array['blue'].transform\n",
    "}\n",
    "\n",
    "data_array_nb = xr.DataArray(data=clasified_nb,coords=coords,dims=dims)"
   ]
  },
  {
   "cell_type": "code",
   "execution_count": 29,
   "metadata": {},
   "outputs": [
    {
     "data": {
      "image/png": "[encoded data removed]",
      "text/plain": [
       "<Figure size 432x288 with 2 Axes>"
      ]
     },
     "metadata": {
      "needs_background": "light"
     },
     "output_type": "display_data"
    }
   ],
   "source": [
    "plt.imshow(data_array_nb,cmap=density_cmap)\n",
    "plt.colorbar();\n",
    "plt.clim(-0.5,4.5)"
   ]
  },
  {
   "cell_type": "code",
   "execution_count": 30,
   "metadata": {
    "scrolled": false
   },
   "outputs": [
    {
     "data": {
      "image/png": "[encoded data removed]",
      "text/plain": [
       "<Figure size 432x288 with 1 Axes>"
      ]
     },
     "metadata": {
      "needs_background": "light"
     },
     "output_type": "display_data"
    },
    {
     "data": {
      "text/plain": [
       "<matplotlib.axes._subplots.AxesSubplot at 0x7f0167524b00>"
      ]
     },
     "execution_count": 30,
     "metadata": {},
     "output_type": "execute_result"
    }
   ],
   "source": [
    "show(data_array_nb)"
   ]
  },
  {
   "cell_type": "code",
   "execution_count": 31,
   "metadata": {},
   "outputs": [],
   "source": [
    "plt.imsave('example_naive_bayes_gaussiano.png', data_array_nb,cmap=density_cmap)"
   ]
  }
 ],
 "metadata": {
  "kernelspec": {
   "display_name": "Python 3",
   "language": "python",
   "name": "python3"
  },
  "language_info": {
   "codemirror_mode": {
    "name": "ipython",
    "version": 3
   },
   "file_extension": ".py",
   "mimetype": "text/x-python",
   "name": "python",
   "nbconvert_exporter": "python",
   "pygments_lexer": "ipython3",
   "version": "3.6.5"
  }
 },
 "nbformat": 4,
 "nbformat_minor": 2
}
