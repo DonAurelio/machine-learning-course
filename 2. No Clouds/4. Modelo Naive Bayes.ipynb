{
 "cells": [
  {
   "cell_type": "code",
   "execution_count": 1,
   "metadata": {},
   "outputs": [
    {
     "name": "stderr",
     "output_type": "stream",
     "text": [
      "C:\\Users\\a.larav\\AppData\\Local\\Continuum\\anaconda3\\lib\\site-packages\\sklearn\\externals\\joblib\\__init__.py:15: DeprecationWarning: sklearn.externals.joblib is deprecated in 0.21 and will be removed in 0.23. Please import this functionality directly from joblib, which can be installed with: pip install joblib. If this warning is raised when loading pickled models, you may need to re-serialize those models with scikit-learn 0.21+.\n",
      "  warnings.warn(msg, category=DeprecationWarning)\n"
     ]
    }
   ],
   "source": [
    "import os\n",
    "import pandas as pd\n",
    "import numpy as np\n",
    "from sklearn.model_selection import train_test_split\n",
    "from sklearn.linear_model import LassoCV\n",
    "from sklearn import datasets\n",
    "from collections import Counter\n",
    "\n",
    "from joblib import dump\n",
    "from sklearn.externals import joblib\n",
    "\n",
    "#from keras.models import model_from_json\n",
    "\n",
    "#Import Gaussian Naive Bayes model\n",
    "from sklearn.naive_bayes import GaussianNB\n",
    "from sklearn.naive_bayes import MultinomialNB\n",
    "\n",
    "#Import scikit-learn metrics module for accuracy calculation\n",
    "from sklearn import metrics\n",
    "from sklearn.metrics import confusion_matrix\n",
    "from sklearn.metrics import classification_report\n",
    "from sklearn.model_selection import cross_val_score\n"
   ]
  },
  {
   "cell_type": "markdown",
   "metadata": {},
   "source": [
    "# Se importa el Dataset sin informacion de nubes\n",
    "Como se ha descrito, las imagenes descargadas de los portales de imagenes satelitales presentan información en multiples bandas. Es con esta información que los algoritmos de clasificación pueden emitir un juicio para determinar a que tipo de información puede corresponder un pixel: bosque, no busque,nubes,agua, agua_bosque,ninguno.\n",
    "En este escenario se plantea probar el clasificador Naive Bayes con información de imagenes que NO contengan nubes. Se plantea este escenario con el fin de determinar el rendmiento del modelo con un problema de este estilo."
   ]
  },
  {
   "cell_type": "code",
   "execution_count": 2,
   "metadata": {
    "scrolled": true
   },
   "outputs": [
    {
     "data": {
      "text/html": [
       "<div>\n",
       "<style scoped>\n",
       "    .dataframe tbody tr th:only-of-type {\n",
       "        vertical-align: middle;\n",
       "    }\n",
       "\n",
       "    .dataframe tbody tr th {\n",
       "        vertical-align: top;\n",
       "    }\n",
       "\n",
       "    .dataframe thead th {\n",
       "        text-align: right;\n",
       "    }\n",
       "</style>\n",
       "<table border=\"1\" class=\"dataframe\">\n",
       "  <thead>\n",
       "    <tr style=\"text-align: right;\">\n",
       "      <th></th>\n",
       "      <th>blue</th>\n",
       "      <th>green</th>\n",
       "      <th>red</th>\n",
       "      <th>nir</th>\n",
       "      <th>swir1</th>\n",
       "      <th>swir2</th>\n",
       "      <th>wofs</th>\n",
       "      <th>bosque</th>\n",
       "      <th>wofs_bosque</th>\n",
       "      <th>ninguno</th>\n",
       "    </tr>\n",
       "  </thead>\n",
       "  <tbody>\n",
       "    <tr>\n",
       "      <td>0</td>\n",
       "      <td>203.0</td>\n",
       "      <td>131.0</td>\n",
       "      <td>36.0</td>\n",
       "      <td>21.0</td>\n",
       "      <td>61.0</td>\n",
       "      <td>46.0</td>\n",
       "      <td>1</td>\n",
       "      <td>0</td>\n",
       "      <td>0</td>\n",
       "      <td>0</td>\n",
       "    </tr>\n",
       "    <tr>\n",
       "      <td>1</td>\n",
       "      <td>207.0</td>\n",
       "      <td>137.0</td>\n",
       "      <td>39.0</td>\n",
       "      <td>27.0</td>\n",
       "      <td>71.0</td>\n",
       "      <td>59.0</td>\n",
       "      <td>1</td>\n",
       "      <td>0</td>\n",
       "      <td>0</td>\n",
       "      <td>0</td>\n",
       "    </tr>\n",
       "    <tr>\n",
       "      <td>2</td>\n",
       "      <td>393.0</td>\n",
       "      <td>325.0</td>\n",
       "      <td>217.0</td>\n",
       "      <td>200.0</td>\n",
       "      <td>254.0</td>\n",
       "      <td>176.0</td>\n",
       "      <td>1</td>\n",
       "      <td>0</td>\n",
       "      <td>0</td>\n",
       "      <td>0</td>\n",
       "    </tr>\n",
       "    <tr>\n",
       "      <td>3</td>\n",
       "      <td>269.0</td>\n",
       "      <td>201.0</td>\n",
       "      <td>58.0</td>\n",
       "      <td>11.0</td>\n",
       "      <td>51.0</td>\n",
       "      <td>43.0</td>\n",
       "      <td>1</td>\n",
       "      <td>0</td>\n",
       "      <td>0</td>\n",
       "      <td>0</td>\n",
       "    </tr>\n",
       "    <tr>\n",
       "      <td>4</td>\n",
       "      <td>194.0</td>\n",
       "      <td>218.0</td>\n",
       "      <td>112.0</td>\n",
       "      <td>103.0</td>\n",
       "      <td>153.0</td>\n",
       "      <td>130.0</td>\n",
       "      <td>1</td>\n",
       "      <td>0</td>\n",
       "      <td>0</td>\n",
       "      <td>0</td>\n",
       "    </tr>\n",
       "  </tbody>\n",
       "</table>\n",
       "</div>"
      ],
      "text/plain": [
       "    blue  green    red    nir  swir1  swir2  wofs  bosque  wofs_bosque  \\\n",
       "0  203.0  131.0   36.0   21.0   61.0   46.0     1       0            0   \n",
       "1  207.0  137.0   39.0   27.0   71.0   59.0     1       0            0   \n",
       "2  393.0  325.0  217.0  200.0  254.0  176.0     1       0            0   \n",
       "3  269.0  201.0   58.0   11.0   51.0   43.0     1       0            0   \n",
       "4  194.0  218.0  112.0  103.0  153.0  130.0     1       0            0   \n",
       "\n",
       "   ninguno  \n",
       "0        0  \n",
       "1        0  \n",
       "2        0  \n",
       "3        0  \n",
       "4        0  "
      ]
     },
     "execution_count": 2,
     "metadata": {},
     "output_type": "execute_result"
    }
   ],
   "source": [
    "path = './satellite_dataset-sin-nubes.csv'\n",
    "\n",
    "satellite = pd.read_csv(path)\n",
    "satellite.head()"
   ]
  },
  {
   "cell_type": "markdown",
   "metadata": {},
   "source": [
    "# Filtro de valores negativos\n",
    "Se realiza una filtro de las columnas que en alguna banda contengan un valor negativo porque el clasificador multinomial Naive bayes no funciona bien con esta información."
   ]
  },
  {
   "cell_type": "code",
   "execution_count": 3,
   "metadata": {},
   "outputs": [],
   "source": [
    "satellite = satellite[satellite[\"blue\"] > 0]\n",
    "satellite = satellite[satellite[\"red\"] > 0]\n",
    "satellite = satellite[satellite[\"green\"] > 0]\n",
    "satellite = satellite[satellite[\"nir\"] > 0]\n",
    "satellite = satellite[satellite[\"swir1\"] > 0]\n",
    "satellite = satellite[satellite[\"swir2\"] > 0]"
   ]
  },
  {
   "cell_type": "code",
   "execution_count": 4,
   "metadata": {},
   "outputs": [],
   "source": [
    "#satellite['wofs'].value_counts()\n",
    "#satellite['bosque'].value_counts()\n",
    "#satellite['wofs_bosque'].value_counts()\n",
    "#satellite['cloud'].value_counts()\n",
    "#satellite['ninguno'].value_counts()"
   ]
  },
  {
   "cell_type": "markdown",
   "metadata": {},
   "source": [
    "# Se reemplaza los valores en columnas de clases\n",
    "Como parte de preparación de los datos para crear el modelo se deben hacer algunos ajustes a la forma en que el dataset muestra la infiromación.Como se puede observar el dataset, las columnas de las clases se encuentran categorizadas por un valor binario. Lo que se realiza a continuación es reemplazar estos valores binarios por NaN en caso de ser \"Cero\" y el nombre de la clase en caso de ser \"Uno\"."
   ]
  },
  {
   "cell_type": "code",
   "execution_count": 5,
   "metadata": {},
   "outputs": [],
   "source": [
    "# Reemplazar el valor de columna Wofs por NaN(0) y Wofs(1)\n",
    "satellite['wofs'] = satellite['wofs'].replace(0,np.nan)\n",
    "satellite['wofs'] = satellite['wofs'].replace(1,'wofs')\n"
   ]
  },
  {
   "cell_type": "code",
   "execution_count": 6,
   "metadata": {},
   "outputs": [],
   "source": [
    "# Reemplazar el valor de columna bosque por NaN(0) y bosque(1)\n",
    "satellite['bosque'] = satellite['bosque'].replace(0,np.nan)\n",
    "satellite['bosque'] = satellite['bosque'].replace(1,'bosque')"
   ]
  },
  {
   "cell_type": "code",
   "execution_count": 7,
   "metadata": {},
   "outputs": [],
   "source": [
    "# Reemplazar el valor de columna wofs_bosque por NaN(0) y wofs_bosque(1)\n",
    "satellite['wofs_bosque'] = satellite['wofs_bosque'].replace(0,np.nan)\n",
    "satellite['wofs_bosque'] = satellite['wofs_bosque'].replace(1,'wofs_bosque')"
   ]
  },
  {
   "cell_type": "code",
   "execution_count": 8,
   "metadata": {},
   "outputs": [],
   "source": [
    "# Reemplazar el valor de columna ninguno por NaN(0) y ninguno(1)\n",
    "satellite['ninguno'] = satellite['ninguno'].replace(0,np.nan)\n",
    "satellite['ninguno'] = satellite['ninguno'].replace(1,'ninguno')"
   ]
  },
  {
   "cell_type": "code",
   "execution_count": null,
   "metadata": {},
   "outputs": [],
   "source": []
  },
  {
   "cell_type": "markdown",
   "metadata": {},
   "source": [
    "# Nueva columna de clasificación\n",
    "Como ultima parte para la preparación de los datos debemos tener la clasificación en una sola columna. Procedemos a crearla con el nombre \"label\" y alli asignaremos el valor categorizado de cada conjunto de atributos."
   ]
  },
  {
   "cell_type": "code",
   "execution_count": 9,
   "metadata": {},
   "outputs": [
    {
     "data": {
      "text/html": [
       "<div>\n",
       "<style scoped>\n",
       "    .dataframe tbody tr th:only-of-type {\n",
       "        vertical-align: middle;\n",
       "    }\n",
       "\n",
       "    .dataframe tbody tr th {\n",
       "        vertical-align: top;\n",
       "    }\n",
       "\n",
       "    .dataframe thead th {\n",
       "        text-align: right;\n",
       "    }\n",
       "</style>\n",
       "<table border=\"1\" class=\"dataframe\">\n",
       "  <thead>\n",
       "    <tr style=\"text-align: right;\">\n",
       "      <th></th>\n",
       "      <th>blue</th>\n",
       "      <th>green</th>\n",
       "      <th>red</th>\n",
       "      <th>nir</th>\n",
       "      <th>swir1</th>\n",
       "      <th>swir2</th>\n",
       "      <th>wofs</th>\n",
       "      <th>bosque</th>\n",
       "      <th>wofs_bosque</th>\n",
       "      <th>ninguno</th>\n",
       "      <th>label</th>\n",
       "    </tr>\n",
       "  </thead>\n",
       "  <tbody>\n",
       "    <tr>\n",
       "      <td>0</td>\n",
       "      <td>203.0</td>\n",
       "      <td>131.0</td>\n",
       "      <td>36.0</td>\n",
       "      <td>21.0</td>\n",
       "      <td>61.0</td>\n",
       "      <td>46.0</td>\n",
       "      <td>wofs</td>\n",
       "      <td>NaN</td>\n",
       "      <td>NaN</td>\n",
       "      <td>NaN</td>\n",
       "      <td>wofs</td>\n",
       "    </tr>\n",
       "    <tr>\n",
       "      <td>1</td>\n",
       "      <td>207.0</td>\n",
       "      <td>137.0</td>\n",
       "      <td>39.0</td>\n",
       "      <td>27.0</td>\n",
       "      <td>71.0</td>\n",
       "      <td>59.0</td>\n",
       "      <td>wofs</td>\n",
       "      <td>NaN</td>\n",
       "      <td>NaN</td>\n",
       "      <td>NaN</td>\n",
       "      <td>wofs</td>\n",
       "    </tr>\n",
       "    <tr>\n",
       "      <td>2</td>\n",
       "      <td>393.0</td>\n",
       "      <td>325.0</td>\n",
       "      <td>217.0</td>\n",
       "      <td>200.0</td>\n",
       "      <td>254.0</td>\n",
       "      <td>176.0</td>\n",
       "      <td>wofs</td>\n",
       "      <td>NaN</td>\n",
       "      <td>NaN</td>\n",
       "      <td>NaN</td>\n",
       "      <td>wofs</td>\n",
       "    </tr>\n",
       "    <tr>\n",
       "      <td>3</td>\n",
       "      <td>269.0</td>\n",
       "      <td>201.0</td>\n",
       "      <td>58.0</td>\n",
       "      <td>11.0</td>\n",
       "      <td>51.0</td>\n",
       "      <td>43.0</td>\n",
       "      <td>wofs</td>\n",
       "      <td>NaN</td>\n",
       "      <td>NaN</td>\n",
       "      <td>NaN</td>\n",
       "      <td>wofs</td>\n",
       "    </tr>\n",
       "    <tr>\n",
       "      <td>4</td>\n",
       "      <td>194.0</td>\n",
       "      <td>218.0</td>\n",
       "      <td>112.0</td>\n",
       "      <td>103.0</td>\n",
       "      <td>153.0</td>\n",
       "      <td>130.0</td>\n",
       "      <td>wofs</td>\n",
       "      <td>NaN</td>\n",
       "      <td>NaN</td>\n",
       "      <td>NaN</td>\n",
       "      <td>wofs</td>\n",
       "    </tr>\n",
       "    <tr>\n",
       "      <td>5</td>\n",
       "      <td>247.0</td>\n",
       "      <td>204.0</td>\n",
       "      <td>101.0</td>\n",
       "      <td>83.0</td>\n",
       "      <td>102.0</td>\n",
       "      <td>83.0</td>\n",
       "      <td>wofs</td>\n",
       "      <td>NaN</td>\n",
       "      <td>NaN</td>\n",
       "      <td>NaN</td>\n",
       "      <td>wofs</td>\n",
       "    </tr>\n",
       "    <tr>\n",
       "      <td>6</td>\n",
       "      <td>201.0</td>\n",
       "      <td>507.0</td>\n",
       "      <td>287.0</td>\n",
       "      <td>3934.0</td>\n",
       "      <td>1692.0</td>\n",
       "      <td>622.0</td>\n",
       "      <td>NaN</td>\n",
       "      <td>bosque</td>\n",
       "      <td>NaN</td>\n",
       "      <td>NaN</td>\n",
       "      <td>bosque</td>\n",
       "    </tr>\n",
       "    <tr>\n",
       "      <td>8</td>\n",
       "      <td>857.0</td>\n",
       "      <td>837.0</td>\n",
       "      <td>763.0</td>\n",
       "      <td>822.0</td>\n",
       "      <td>757.0</td>\n",
       "      <td>498.0</td>\n",
       "      <td>wofs</td>\n",
       "      <td>NaN</td>\n",
       "      <td>NaN</td>\n",
       "      <td>NaN</td>\n",
       "      <td>wofs</td>\n",
       "    </tr>\n",
       "    <tr>\n",
       "      <td>9</td>\n",
       "      <td>329.0</td>\n",
       "      <td>218.0</td>\n",
       "      <td>101.0</td>\n",
       "      <td>68.0</td>\n",
       "      <td>88.0</td>\n",
       "      <td>71.0</td>\n",
       "      <td>wofs</td>\n",
       "      <td>NaN</td>\n",
       "      <td>NaN</td>\n",
       "      <td>NaN</td>\n",
       "      <td>wofs</td>\n",
       "    </tr>\n",
       "    <tr>\n",
       "      <td>10</td>\n",
       "      <td>46.0</td>\n",
       "      <td>163.0</td>\n",
       "      <td>71.0</td>\n",
       "      <td>3.0</td>\n",
       "      <td>30.0</td>\n",
       "      <td>25.0</td>\n",
       "      <td>wofs</td>\n",
       "      <td>NaN</td>\n",
       "      <td>NaN</td>\n",
       "      <td>NaN</td>\n",
       "      <td>wofs</td>\n",
       "    </tr>\n",
       "    <tr>\n",
       "      <td>11</td>\n",
       "      <td>200.0</td>\n",
       "      <td>177.0</td>\n",
       "      <td>102.0</td>\n",
       "      <td>102.0</td>\n",
       "      <td>145.0</td>\n",
       "      <td>126.0</td>\n",
       "      <td>wofs</td>\n",
       "      <td>NaN</td>\n",
       "      <td>NaN</td>\n",
       "      <td>NaN</td>\n",
       "      <td>wofs</td>\n",
       "    </tr>\n",
       "    <tr>\n",
       "      <td>13</td>\n",
       "      <td>193.0</td>\n",
       "      <td>106.0</td>\n",
       "      <td>14.0</td>\n",
       "      <td>2.0</td>\n",
       "      <td>44.0</td>\n",
       "      <td>38.0</td>\n",
       "      <td>wofs</td>\n",
       "      <td>NaN</td>\n",
       "      <td>NaN</td>\n",
       "      <td>NaN</td>\n",
       "      <td>wofs</td>\n",
       "    </tr>\n",
       "    <tr>\n",
       "      <td>14</td>\n",
       "      <td>231.0</td>\n",
       "      <td>134.0</td>\n",
       "      <td>34.0</td>\n",
       "      <td>21.0</td>\n",
       "      <td>60.0</td>\n",
       "      <td>51.0</td>\n",
       "      <td>wofs</td>\n",
       "      <td>NaN</td>\n",
       "      <td>NaN</td>\n",
       "      <td>NaN</td>\n",
       "      <td>wofs</td>\n",
       "    </tr>\n",
       "    <tr>\n",
       "      <td>15</td>\n",
       "      <td>731.0</td>\n",
       "      <td>659.0</td>\n",
       "      <td>579.0</td>\n",
       "      <td>613.0</td>\n",
       "      <td>656.0</td>\n",
       "      <td>454.0</td>\n",
       "      <td>NaN</td>\n",
       "      <td>NaN</td>\n",
       "      <td>NaN</td>\n",
       "      <td>ninguno</td>\n",
       "      <td>ninguno</td>\n",
       "    </tr>\n",
       "    <tr>\n",
       "      <td>17</td>\n",
       "      <td>176.0</td>\n",
       "      <td>114.0</td>\n",
       "      <td>21.0</td>\n",
       "      <td>10.0</td>\n",
       "      <td>57.0</td>\n",
       "      <td>48.0</td>\n",
       "      <td>wofs</td>\n",
       "      <td>NaN</td>\n",
       "      <td>NaN</td>\n",
       "      <td>NaN</td>\n",
       "      <td>wofs</td>\n",
       "    </tr>\n",
       "    <tr>\n",
       "      <td>18</td>\n",
       "      <td>217.0</td>\n",
       "      <td>207.0</td>\n",
       "      <td>115.0</td>\n",
       "      <td>115.0</td>\n",
       "      <td>157.0</td>\n",
       "      <td>136.0</td>\n",
       "      <td>wofs</td>\n",
       "      <td>NaN</td>\n",
       "      <td>NaN</td>\n",
       "      <td>NaN</td>\n",
       "      <td>wofs</td>\n",
       "    </tr>\n",
       "    <tr>\n",
       "      <td>19</td>\n",
       "      <td>228.0</td>\n",
       "      <td>289.0</td>\n",
       "      <td>135.0</td>\n",
       "      <td>112.0</td>\n",
       "      <td>158.0</td>\n",
       "      <td>133.0</td>\n",
       "      <td>wofs</td>\n",
       "      <td>NaN</td>\n",
       "      <td>NaN</td>\n",
       "      <td>NaN</td>\n",
       "      <td>wofs</td>\n",
       "    </tr>\n",
       "    <tr>\n",
       "      <td>20</td>\n",
       "      <td>273.0</td>\n",
       "      <td>210.0</td>\n",
       "      <td>118.0</td>\n",
       "      <td>110.0</td>\n",
       "      <td>134.0</td>\n",
       "      <td>104.0</td>\n",
       "      <td>wofs</td>\n",
       "      <td>NaN</td>\n",
       "      <td>NaN</td>\n",
       "      <td>NaN</td>\n",
       "      <td>wofs</td>\n",
       "    </tr>\n",
       "    <tr>\n",
       "      <td>21</td>\n",
       "      <td>185.0</td>\n",
       "      <td>513.0</td>\n",
       "      <td>278.0</td>\n",
       "      <td>3596.0</td>\n",
       "      <td>1586.0</td>\n",
       "      <td>601.0</td>\n",
       "      <td>NaN</td>\n",
       "      <td>bosque</td>\n",
       "      <td>NaN</td>\n",
       "      <td>NaN</td>\n",
       "      <td>bosque</td>\n",
       "    </tr>\n",
       "    <tr>\n",
       "      <td>22</td>\n",
       "      <td>408.0</td>\n",
       "      <td>343.0</td>\n",
       "      <td>228.0</td>\n",
       "      <td>182.0</td>\n",
       "      <td>178.0</td>\n",
       "      <td>138.0</td>\n",
       "      <td>wofs</td>\n",
       "      <td>NaN</td>\n",
       "      <td>NaN</td>\n",
       "      <td>NaN</td>\n",
       "      <td>wofs</td>\n",
       "    </tr>\n",
       "  </tbody>\n",
       "</table>\n",
       "</div>"
      ],
      "text/plain": [
       "     blue  green    red     nir   swir1  swir2  wofs  bosque wofs_bosque  \\\n",
       "0   203.0  131.0   36.0    21.0    61.0   46.0  wofs     NaN         NaN   \n",
       "1   207.0  137.0   39.0    27.0    71.0   59.0  wofs     NaN         NaN   \n",
       "2   393.0  325.0  217.0   200.0   254.0  176.0  wofs     NaN         NaN   \n",
       "3   269.0  201.0   58.0    11.0    51.0   43.0  wofs     NaN         NaN   \n",
       "4   194.0  218.0  112.0   103.0   153.0  130.0  wofs     NaN         NaN   \n",
       "5   247.0  204.0  101.0    83.0   102.0   83.0  wofs     NaN         NaN   \n",
       "6   201.0  507.0  287.0  3934.0  1692.0  622.0   NaN  bosque         NaN   \n",
       "8   857.0  837.0  763.0   822.0   757.0  498.0  wofs     NaN         NaN   \n",
       "9   329.0  218.0  101.0    68.0    88.0   71.0  wofs     NaN         NaN   \n",
       "10   46.0  163.0   71.0     3.0    30.0   25.0  wofs     NaN         NaN   \n",
       "11  200.0  177.0  102.0   102.0   145.0  126.0  wofs     NaN         NaN   \n",
       "13  193.0  106.0   14.0     2.0    44.0   38.0  wofs     NaN         NaN   \n",
       "14  231.0  134.0   34.0    21.0    60.0   51.0  wofs     NaN         NaN   \n",
       "15  731.0  659.0  579.0   613.0   656.0  454.0   NaN     NaN         NaN   \n",
       "17  176.0  114.0   21.0    10.0    57.0   48.0  wofs     NaN         NaN   \n",
       "18  217.0  207.0  115.0   115.0   157.0  136.0  wofs     NaN         NaN   \n",
       "19  228.0  289.0  135.0   112.0   158.0  133.0  wofs     NaN         NaN   \n",
       "20  273.0  210.0  118.0   110.0   134.0  104.0  wofs     NaN         NaN   \n",
       "21  185.0  513.0  278.0  3596.0  1586.0  601.0   NaN  bosque         NaN   \n",
       "22  408.0  343.0  228.0   182.0   178.0  138.0  wofs     NaN         NaN   \n",
       "\n",
       "    ninguno    label  \n",
       "0       NaN     wofs  \n",
       "1       NaN     wofs  \n",
       "2       NaN     wofs  \n",
       "3       NaN     wofs  \n",
       "4       NaN     wofs  \n",
       "5       NaN     wofs  \n",
       "6       NaN   bosque  \n",
       "8       NaN     wofs  \n",
       "9       NaN     wofs  \n",
       "10      NaN     wofs  \n",
       "11      NaN     wofs  \n",
       "13      NaN     wofs  \n",
       "14      NaN     wofs  \n",
       "15  ninguno  ninguno  \n",
       "17      NaN     wofs  \n",
       "18      NaN     wofs  \n",
       "19      NaN     wofs  \n",
       "20      NaN     wofs  \n",
       "21      NaN   bosque  \n",
       "22      NaN     wofs  "
      ]
     },
     "execution_count": 9,
     "metadata": {},
     "output_type": "execute_result"
    }
   ],
   "source": [
    "#Se crea una nueva columna para almacenar el valor de etiqueta\n",
    "satellite['label']=np.nan\n",
    "\n",
    "#Se indica en la columna 'label', la clasificacion de la columna 'wofs'. Se esribe \"Wofs\" en columna 'label' si en  \n",
    "#la columna 'wofs' esta este valor\n",
    "for label in [col for col in satellite.columns if 'wofs' in col]:\n",
    "    satellite['label'].fillna(satellite[label],inplace=True)\n",
    "    \n",
    "#Se indica en la columna 'label', la clasificacion de la columna 'bosque'. Se esribe \"bosque\" en columna 'label' si en  \n",
    "#la columna 'bosque' esta este valor\n",
    "for label in [col for col in satellite.columns if 'bosque' in col]:\n",
    "    satellite['label'].fillna(satellite[label],inplace=True)\n",
    "    \n",
    "#Se indica en la columna 'label', la clasificacion de la columna 'wofs_bosque'. Se esribe \"wofs_bosque\" en columna 'label' si en  \n",
    "#la columna 'wofs_bosque' esta este valor\n",
    "for label in [col for col in satellite.columns if 'wofs_bosque' in col]:\n",
    "    satellite['label'].fillna(satellite[label],inplace=True)\n",
    "    \n",
    "#Se indica en la columna 'label', la clasificacion de la columna 'ninguno'. Se esribe \"ninguno\" en columna 'label' si en  \n",
    "#la columna 'ninguno' esta este valor\n",
    "for label in [col for col in satellite.columns if 'ninguno' in col]:\n",
    "    satellite['label'].fillna(satellite[label],inplace=True)\n",
    "    \n",
    "#Se indica en la columna 'label', la clasificacion de la columna 'cloud'. Se esribe \"cloud\" en columna 'label' si en  \n",
    "#la columna 'cloud' esta este valor\n",
    "for label in [col for col in satellite.columns if 'cloud' in col]:\n",
    "    satellite['label'].fillna(satellite[label],inplace=True)\n",
    "satellite.head(20)"
   ]
  },
  {
   "cell_type": "code",
   "execution_count": 10,
   "metadata": {},
   "outputs": [
    {
     "data": {
      "text/plain": [
       "wofs           708921\n",
       "bosque         192741\n",
       "ninguno         28991\n",
       "wofs_bosque       450\n",
       "Name: label, dtype: int64"
      ]
     },
     "execution_count": 10,
     "metadata": {},
     "output_type": "execute_result"
    }
   ],
   "source": [
    "# Se crea el conjunto de calsificacion y el de entrenamiento\n",
    "Y = satellite[\"label\"]\n",
    "# X = satellite.drop(columns=[\"label\",\"wofs\",\"bosque\",\"wofs_bosque\",\"cloud\",\"ninguno\"], axis=1)\n",
    "X = satellite.drop(columns=[\"label\",\"wofs\",\"bosque\",\"wofs_bosque\",\"ninguno\"], axis=1)\n",
    "Y.value_counts()"
   ]
  },
  {
   "cell_type": "markdown",
   "metadata": {},
   "source": [
    "# Se crean los conjuntos de entrenamiento y de prueba\n",
    "Para hacer esto se deben dividir los datos en 4 conjuntos de datos de la siguiente manera: Conjuntos de entrenamiento(X_train, y_train) y Conjunto de test(X_test, y_test)"
   ]
  },
  {
   "cell_type": "code",
   "execution_count": 11,
   "metadata": {},
   "outputs": [],
   "source": [
    "# Se dividen los datos en los conjuntos de Train y test\n",
    "X_train, X_test, y_train, y_test = train_test_split(\n",
    "    X,\n",
    "    Y,\n",
    "    test_size=0.3,\n",
    "    random_state=0\n",
    ")"
   ]
  },
  {
   "cell_type": "code",
   "execution_count": 12,
   "metadata": {},
   "outputs": [
    {
     "data": {
      "text/html": [
       "<div>\n",
       "<style scoped>\n",
       "    .dataframe tbody tr th:only-of-type {\n",
       "        vertical-align: middle;\n",
       "    }\n",
       "\n",
       "    .dataframe tbody tr th {\n",
       "        vertical-align: top;\n",
       "    }\n",
       "\n",
       "    .dataframe thead th {\n",
       "        text-align: right;\n",
       "    }\n",
       "</style>\n",
       "<table border=\"1\" class=\"dataframe\">\n",
       "  <thead>\n",
       "    <tr style=\"text-align: right;\">\n",
       "      <th></th>\n",
       "      <th>blue</th>\n",
       "      <th>green</th>\n",
       "      <th>red</th>\n",
       "      <th>nir</th>\n",
       "      <th>swir1</th>\n",
       "      <th>swir2</th>\n",
       "    </tr>\n",
       "  </thead>\n",
       "  <tbody>\n",
       "    <tr>\n",
       "      <td>790398</td>\n",
       "      <td>215.0</td>\n",
       "      <td>126.0</td>\n",
       "      <td>21.0</td>\n",
       "      <td>8.0</td>\n",
       "      <td>51.0</td>\n",
       "      <td>40.0</td>\n",
       "    </tr>\n",
       "    <tr>\n",
       "      <td>220120</td>\n",
       "      <td>78.0</td>\n",
       "      <td>238.0</td>\n",
       "      <td>114.0</td>\n",
       "      <td>1753.0</td>\n",
       "      <td>706.0</td>\n",
       "      <td>243.0</td>\n",
       "    </tr>\n",
       "    <tr>\n",
       "      <td>300512</td>\n",
       "      <td>373.0</td>\n",
       "      <td>306.0</td>\n",
       "      <td>184.0</td>\n",
       "      <td>153.0</td>\n",
       "      <td>158.0</td>\n",
       "      <td>122.0</td>\n",
       "    </tr>\n",
       "    <tr>\n",
       "      <td>408935</td>\n",
       "      <td>218.0</td>\n",
       "      <td>207.0</td>\n",
       "      <td>122.0</td>\n",
       "      <td>112.0</td>\n",
       "      <td>154.0</td>\n",
       "      <td>128.0</td>\n",
       "    </tr>\n",
       "    <tr>\n",
       "      <td>228058</td>\n",
       "      <td>268.0</td>\n",
       "      <td>179.0</td>\n",
       "      <td>80.0</td>\n",
       "      <td>64.0</td>\n",
       "      <td>99.0</td>\n",
       "      <td>76.0</td>\n",
       "    </tr>\n",
       "    <tr>\n",
       "      <td>...</td>\n",
       "      <td>...</td>\n",
       "      <td>...</td>\n",
       "      <td>...</td>\n",
       "      <td>...</td>\n",
       "      <td>...</td>\n",
       "      <td>...</td>\n",
       "    </tr>\n",
       "    <tr>\n",
       "      <td>156009</td>\n",
       "      <td>107.0</td>\n",
       "      <td>377.0</td>\n",
       "      <td>163.0</td>\n",
       "      <td>3289.0</td>\n",
       "      <td>1037.0</td>\n",
       "      <td>342.0</td>\n",
       "    </tr>\n",
       "    <tr>\n",
       "      <td>561845</td>\n",
       "      <td>311.0</td>\n",
       "      <td>220.0</td>\n",
       "      <td>107.0</td>\n",
       "      <td>78.0</td>\n",
       "      <td>110.0</td>\n",
       "      <td>88.0</td>\n",
       "    </tr>\n",
       "    <tr>\n",
       "      <td>505797</td>\n",
       "      <td>149.0</td>\n",
       "      <td>381.0</td>\n",
       "      <td>206.0</td>\n",
       "      <td>3086.0</td>\n",
       "      <td>1248.0</td>\n",
       "      <td>435.0</td>\n",
       "    </tr>\n",
       "    <tr>\n",
       "      <td>591760</td>\n",
       "      <td>153.0</td>\n",
       "      <td>382.0</td>\n",
       "      <td>215.0</td>\n",
       "      <td>2857.0</td>\n",
       "      <td>1233.0</td>\n",
       "      <td>454.0</td>\n",
       "    </tr>\n",
       "    <tr>\n",
       "      <td>637644</td>\n",
       "      <td>253.0</td>\n",
       "      <td>407.0</td>\n",
       "      <td>245.0</td>\n",
       "      <td>2945.0</td>\n",
       "      <td>1515.0</td>\n",
       "      <td>593.0</td>\n",
       "    </tr>\n",
       "  </tbody>\n",
       "</table>\n",
       "<p>279331 rows × 6 columns</p>\n",
       "</div>"
      ],
      "text/plain": [
       "         blue  green    red     nir   swir1  swir2\n",
       "790398  215.0  126.0   21.0     8.0    51.0   40.0\n",
       "220120   78.0  238.0  114.0  1753.0   706.0  243.0\n",
       "300512  373.0  306.0  184.0   153.0   158.0  122.0\n",
       "408935  218.0  207.0  122.0   112.0   154.0  128.0\n",
       "228058  268.0  179.0   80.0    64.0    99.0   76.0\n",
       "...       ...    ...    ...     ...     ...    ...\n",
       "156009  107.0  377.0  163.0  3289.0  1037.0  342.0\n",
       "561845  311.0  220.0  107.0    78.0   110.0   88.0\n",
       "505797  149.0  381.0  206.0  3086.0  1248.0  435.0\n",
       "591760  153.0  382.0  215.0  2857.0  1233.0  454.0\n",
       "637644  253.0  407.0  245.0  2945.0  1515.0  593.0\n",
       "\n",
       "[279331 rows x 6 columns]"
      ]
     },
     "execution_count": 12,
     "metadata": {},
     "output_type": "execute_result"
    }
   ],
   "source": [
    "X_test"
   ]
  },
  {
   "cell_type": "code",
   "execution_count": 13,
   "metadata": {},
   "outputs": [
    {
     "data": {
      "text/plain": [
       "790398      wofs\n",
       "220120    bosque\n",
       "300512      wofs\n",
       "408935      wofs\n",
       "228058      wofs\n",
       "           ...  \n",
       "156009    bosque\n",
       "561845      wofs\n",
       "505797    bosque\n",
       "591760    bosque\n",
       "637644    bosque\n",
       "Name: label, Length: 279331, dtype: object"
      ]
     },
     "execution_count": 13,
     "metadata": {},
     "output_type": "execute_result"
    }
   ],
   "source": [
    "y_test"
   ]
  },
  {
   "cell_type": "markdown",
   "metadata": {},
   "source": [
    "# Naive Bayes para multiples capas\n",
    "La clasificación multicapa del algoritmo Naive Bayes es conocida como \"Clasificación Naive Bayes Multinomial\". Como se puede apreciar la clasificación de nuestro conjunto de caracteristicas puede tener 4 valores: wofs, bosque, wofs_bosque y ninguno. \n",
    "En esta parte de creación del modelo se evaluaran dos variaciones del clasificador Naive Bayes: Gausiano y multinomial. En el analisis de resultados se contrastaran los resultados obtenidos para cada uno de ellos."
   ]
  },
  {
   "cell_type": "markdown",
   "metadata": {},
   "source": [
    "# Multinomial"
   ]
  },
  {
   "cell_type": "code",
   "execution_count": 14,
   "metadata": {},
   "outputs": [],
   "source": [
    "#Create a Gaussian Classifier\n",
    "gnb = MultinomialNB()"
   ]
  },
  {
   "cell_type": "code",
   "execution_count": 15,
   "metadata": {},
   "outputs": [
    {
     "data": {
      "text/plain": [
       "MultinomialNB(alpha=1.0, class_prior=None, fit_prior=True)"
      ]
     },
     "execution_count": 15,
     "metadata": {},
     "output_type": "execute_result"
    }
   ],
   "source": [
    "#Train the model using the training sets\n",
    "gnb.fit(X_train, y_train)"
   ]
  },
  {
   "cell_type": "code",
   "execution_count": 16,
   "metadata": {},
   "outputs": [],
   "source": [
    "#Predict the response for test dataset\n",
    "y_pred = gnb.predict(X_test)"
   ]
  },
  {
   "cell_type": "code",
   "execution_count": 17,
   "metadata": {
    "scrolled": false
   },
   "outputs": [
    {
     "data": {
      "text/plain": [
       "Counter({'wofs': 212598, 'bosque': 58158, 'ninguno': 7785, 'wofs_bosque': 790})"
      ]
     },
     "execution_count": 17,
     "metadata": {},
     "output_type": "execute_result"
    }
   ],
   "source": [
    "Counter(y_pred)"
   ]
  },
  {
   "cell_type": "code",
   "execution_count": 18,
   "metadata": {
    "scrolled": false
   },
   "outputs": [
    {
     "data": {
      "text/plain": [
       "array([[ 57334,    233,      0,     88],\n",
       "       [   824,   6422,   1270,     88],\n",
       "       [     0,   1126, 211310,    514],\n",
       "       [     0,      4,     18,    100]], dtype=int64)"
      ]
     },
     "execution_count": 18,
     "metadata": {},
     "output_type": "execute_result"
    }
   ],
   "source": [
    "confusion_matrix(y_test, y_pred)"
   ]
  },
  {
   "cell_type": "code",
   "execution_count": 19,
   "metadata": {},
   "outputs": [
    {
     "name": "stdout",
     "output_type": "stream",
     "text": [
      "              precision    recall  f1-score   support\n",
      "\n",
      "      bosque       0.99      0.99      0.99     57655\n",
      "     ninguno       0.82      0.75      0.78      8604\n",
      "        wofs       0.99      0.99      0.99    212950\n",
      " wofs_bosque       0.13      0.82      0.22       122\n",
      "\n",
      "    accuracy                           0.99    279331\n",
      "   macro avg       0.73      0.89      0.75    279331\n",
      "weighted avg       0.99      0.99      0.99    279331\n",
      "\n"
     ]
    }
   ],
   "source": [
    "print(classification_report(y_test, y_pred))"
   ]
  },
  {
   "cell_type": "code",
   "execution_count": 20,
   "metadata": {},
   "outputs": [
    {
     "name": "stdout",
     "output_type": "stream",
     "text": [
      "Accuracy: 0.9850893742549162\n"
     ]
    }
   ],
   "source": [
    "# Model Accuracy\n",
    "print(\"Accuracy:\",metrics.accuracy_score(y_test, y_pred))"
   ]
  },
  {
   "cell_type": "code",
   "execution_count": 21,
   "metadata": {
    "scrolled": false
   },
   "outputs": [],
   "source": [
    "#toBePersisted = dict({\n",
    "#    'metadata': {\n",
    "#        'name': 'NB_Multinomial'\n",
    "#    }\n",
    "#})\n",
    "#dump(toBePersisted, 'NB_Multinomial.joblib')"
   ]
  },
  {
   "cell_type": "code",
   "execution_count": 22,
   "metadata": {},
   "outputs": [],
   "source": [
    "# joblib.dump(gnb, 'NB_Multinomial.joblib') \n",
    "#joblib.dump(gnb, 'model_nb_multinomial.joblib') "
   ]
  },
  {
   "cell_type": "markdown",
   "metadata": {},
   "source": [
    "# Gaussiano"
   ]
  },
  {
   "cell_type": "code",
   "execution_count": 23,
   "metadata": {},
   "outputs": [],
   "source": [
    "#Create a Gaussian Classifier\n",
    "gnb = GaussianNB()"
   ]
  },
  {
   "cell_type": "code",
   "execution_count": 24,
   "metadata": {},
   "outputs": [
    {
     "data": {
      "text/plain": [
       "GaussianNB(priors=None, var_smoothing=1e-09)"
      ]
     },
     "execution_count": 24,
     "metadata": {},
     "output_type": "execute_result"
    }
   ],
   "source": [
    "#Train the model using the training sets\n",
    "gnb.fit(X_train, y_train)"
   ]
  },
  {
   "cell_type": "code",
   "execution_count": 25,
   "metadata": {},
   "outputs": [],
   "source": [
    "#Predict the response for test dataset\n",
    "y_pred = gnb.predict(X_test)"
   ]
  },
  {
   "cell_type": "code",
   "execution_count": 26,
   "metadata": {
    "scrolled": false
   },
   "outputs": [
    {
     "data": {
      "text/plain": [
       "Counter({'wofs': 206158,\n",
       "         'bosque': 54375,\n",
       "         'ninguno': 15622,\n",
       "         'wofs_bosque': 3176})"
      ]
     },
     "execution_count": 26,
     "metadata": {},
     "output_type": "execute_result"
    }
   ],
   "source": [
    "Counter(y_pred)"
   ]
  },
  {
   "cell_type": "code",
   "execution_count": 27,
   "metadata": {
    "scrolled": false
   },
   "outputs": [
    {
     "data": {
      "text/plain": [
       "array([[ 54063,   1858,     14,   1720],\n",
       "       [   298,   7973,    146,    187],\n",
       "       [    12,   5767, 205946,   1225],\n",
       "       [     2,     24,     52,     44]], dtype=int64)"
      ]
     },
     "execution_count": 27,
     "metadata": {},
     "output_type": "execute_result"
    }
   ],
   "source": [
    "confusion_matrix(y_test, y_pred)"
   ]
  },
  {
   "cell_type": "code",
   "execution_count": 28,
   "metadata": {},
   "outputs": [
    {
     "name": "stdout",
     "output_type": "stream",
     "text": [
      "              precision    recall  f1-score   support\n",
      "\n",
      "      bosque       0.99      0.94      0.97     57655\n",
      "     ninguno       0.51      0.93      0.66      8604\n",
      "        wofs       1.00      0.97      0.98    212950\n",
      " wofs_bosque       0.01      0.36      0.03       122\n",
      "\n",
      "    accuracy                           0.96    279331\n",
      "   macro avg       0.63      0.80      0.66    279331\n",
      "weighted avg       0.98      0.96      0.97    279331\n",
      "\n"
     ]
    }
   ],
   "source": [
    "print(classification_report(y_test, y_pred))"
   ]
  },
  {
   "cell_type": "code",
   "execution_count": 29,
   "metadata": {},
   "outputs": [
    {
     "name": "stdout",
     "output_type": "stream",
     "text": [
      "Accuracy: 0.9595283015490583\n"
     ]
    }
   ],
   "source": [
    "# Model Accuracy\n",
    "print(\"Accuracy:\",metrics.accuracy_score(y_test, y_pred))"
   ]
  },
  {
   "cell_type": "code",
   "execution_count": 30,
   "metadata": {
    "scrolled": false
   },
   "outputs": [],
   "source": [
    "#toBePersisted = dict({\n",
    "#    'metadata': {\n",
    "#        'name': 'NB_Multinomial'\n",
    "#    }\n",
    "#})\n",
    "#dump(toBePersisted, 'NB_Multinomial.joblib')"
   ]
  },
  {
   "cell_type": "code",
   "execution_count": 31,
   "metadata": {},
   "outputs": [],
   "source": [
    "# joblib.dump(gnb, 'NB_Multinomial.joblib') \n",
    "#joblib.dump(gnb, 'model_nb_multinomial.joblib') "
   ]
  },
  {
   "cell_type": "markdown",
   "metadata": {},
   "source": [
    "## Analisis de resultados y conclusiones\n",
    "\n",
    "El rendmiento obtenido con el modelo Multinomial llega a ser del 98.50% y el rendimiento con el modelo Gausiano alcanza el 95.92%. Por lo que logramos determinar que el modelo Multinomial logra funcionar mejor por 3 puntos de diferencia. Revisando la matriz de confusión logramos determinar que la principal diferencia entre los modelos es que en el multinomial se confunde menos entre elementos de la clase 2(Ninguno) y la clase 3(WOFS - Agua).\n",
    "\n",
    "**MultinomialGNB**\n",
    "\n",
    "Accuracy: 98.50%\n",
    "\n",
    "| Clase\\Predicción | WOFS  | Bosque | Ninguno | WOFS_Bosque |\n",
    "|------------------|-------|--------|---------|-------------|\n",
    "| WOFS             | 57334 | 233    | 0       | 88          |\n",
    "| Bosque           | 824   | 6422   | 1270    | 88          |\n",
    "| Ninguno          | 0     | 1126   | 211310  | 514         |\n",
    "| WOFS_Bosque      | 0     | 4      | 18      | 100         |\n",
    "\n",
    "**GaussianMB**\n",
    "\n",
    "Accuracy: 95.92%\n",
    "\n",
    "| Clase\\Predicción | WOFS  | Bosque | Ninguno | WOFS_Bosque |\n",
    "|------------------|-------|--------|---------|-------------|\n",
    "| WOFS             | 54063 | 1858   | 14      | 1720        |\n",
    "| Bosque           | 298   | 7973   | 146     | 187         |\n",
    "| Ninguno          | 12    | 5767   | 205946  | 1225        |\n",
    "| WOFS_Bosque      | 2     | 24     | 52      | 44          |\n",
    "\n",
    "\n",
    "\n",
    "El modelo Multinomial en terminos generales esta ofreciendo mejor rendimiento que el modelo Gaussiano. Esta diferencia es causada principalmente por el hecho que el modelo Gaussiano se equivoca mas para datos que se encuentran clasificados como Ningun y WOFS_bosque.\n",
    "Por otro lado la clasificación “ninguno” puede estar presentando un bajo recall comparado con sus demas clases porque es una clasificación donde pueden estar una gran diversidad de valores haciendo que este modelo no generalice bien para esta clase particular.\n"
   ]
  },
  {
   "cell_type": "markdown",
   "metadata": {},
   "source": [
    "# Referencias\n",
    "https://www.datacamp.com/community/tutorials/naive-bayes-scikit-learn\n",
    "\n",
    "https://datascience.stackexchange.com/questions/40345/how-to-convert-multiple-columns-into-single-columns-in-pandas\n",
    "\n",
    "https://stackoverflow.com/questions/13295735/how-can-i-replace-all-the-nan-values-with-zeros-in-a-column-of-a-pandas-datafra"
   ]
  },
  {
   "cell_type": "code",
   "execution_count": null,
   "metadata": {},
   "outputs": [],
   "source": []
  }
 ],
 "metadata": {
  "kernelspec": {
   "display_name": "Python 3",
   "language": "python",
   "name": "python3"
  },
  "language_info": {
   "codemirror_mode": {
    "name": "ipython",
    "version": 3
   },
   "file_extension": ".py",
   "mimetype": "text/x-python",
   "name": "python",
   "nbconvert_exporter": "python",
   "pygments_lexer": "ipython3",
   "version": "3.7.4"
  }
 },
 "nbformat": 4,
 "nbformat_minor": 2
}
