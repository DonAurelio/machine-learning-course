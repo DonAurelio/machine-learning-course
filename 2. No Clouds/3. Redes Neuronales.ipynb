{
 "cells": [
  {
   "cell_type": "markdown",
   "metadata": {},
   "source": [
    "# Modelo de Redes Neuronales\n",
    "\n",
    "El modelo de redes neuronales es construido a partir de un conjunto de datos con 4 clases: \n",
    "\n",
    "    * wofs\n",
    "    * bosque\n",
    "    * wofs_bosque\n",
    "    * ninguno"
   ]
  },
  {
   "cell_type": "code",
   "execution_count": 31,
   "metadata": {},
   "outputs": [],
   "source": [
    "%matplotlib inline\n",
    "from keras.datasets import fashion_mnist\n",
    "from keras.models import Sequential\n",
    "from keras import regularizers\n",
    "from sklearn.metrics import confusion_matrix\n",
    "from sklearn.model_selection import cross_val_score, train_test_split\n",
    "from sklearn.metrics import classification_report\n",
    "\n",
    "import keras\n",
    "import matplotlib.pyplot as plt\n",
    "from rasterio.plot import show\n",
    "import xarray as xr\n",
    "\n",
    "import gdal\n",
    "import rasterio\n",
    "import glob\n",
    "import os\n",
    "import numpy as np\n",
    "import pandas as pd\n",
    "import pandas_profiling as pp"
   ]
  },
  {
   "cell_type": "markdown",
   "metadata": {},
   "source": [
    "## Lectura del Dataset"
   ]
  },
  {
   "cell_type": "code",
   "execution_count": 2,
   "metadata": {},
   "outputs": [
    {
     "data": {
      "text/html": [
       "<div>\n",
       "<style scoped>\n",
       "    .dataframe tbody tr th:only-of-type {\n",
       "        vertical-align: middle;\n",
       "    }\n",
       "\n",
       "    .dataframe tbody tr th {\n",
       "        vertical-align: top;\n",
       "    }\n",
       "\n",
       "    .dataframe thead th {\n",
       "        text-align: right;\n",
       "    }\n",
       "</style>\n",
       "<table border=\"1\" class=\"dataframe\">\n",
       "  <thead>\n",
       "    <tr style=\"text-align: right;\">\n",
       "      <th></th>\n",
       "      <th>blue</th>\n",
       "      <th>green</th>\n",
       "      <th>red</th>\n",
       "      <th>nir</th>\n",
       "      <th>swir1</th>\n",
       "      <th>swir2</th>\n",
       "      <th>wofs</th>\n",
       "      <th>bosque</th>\n",
       "      <th>wofs_bosque</th>\n",
       "      <th>ninguno</th>\n",
       "    </tr>\n",
       "  </thead>\n",
       "  <tbody>\n",
       "    <tr>\n",
       "      <th>0</th>\n",
       "      <td>272.0</td>\n",
       "      <td>172.0</td>\n",
       "      <td>74.0</td>\n",
       "      <td>61.0</td>\n",
       "      <td>81.0</td>\n",
       "      <td>62.0</td>\n",
       "      <td>1</td>\n",
       "      <td>0</td>\n",
       "      <td>0</td>\n",
       "      <td>0</td>\n",
       "    </tr>\n",
       "    <tr>\n",
       "      <th>1</th>\n",
       "      <td>172.0</td>\n",
       "      <td>158.0</td>\n",
       "      <td>71.0</td>\n",
       "      <td>62.0</td>\n",
       "      <td>107.0</td>\n",
       "      <td>92.0</td>\n",
       "      <td>1</td>\n",
       "      <td>0</td>\n",
       "      <td>0</td>\n",
       "      <td>0</td>\n",
       "    </tr>\n",
       "    <tr>\n",
       "      <th>2</th>\n",
       "      <td>172.0</td>\n",
       "      <td>104.0</td>\n",
       "      <td>14.0</td>\n",
       "      <td>1.0</td>\n",
       "      <td>44.0</td>\n",
       "      <td>39.0</td>\n",
       "      <td>1</td>\n",
       "      <td>0</td>\n",
       "      <td>0</td>\n",
       "      <td>0</td>\n",
       "    </tr>\n",
       "    <tr>\n",
       "      <th>3</th>\n",
       "      <td>255.0</td>\n",
       "      <td>202.0</td>\n",
       "      <td>103.0</td>\n",
       "      <td>87.0</td>\n",
       "      <td>128.0</td>\n",
       "      <td>104.0</td>\n",
       "      <td>1</td>\n",
       "      <td>0</td>\n",
       "      <td>0</td>\n",
       "      <td>0</td>\n",
       "    </tr>\n",
       "    <tr>\n",
       "      <th>4</th>\n",
       "      <td>255.0</td>\n",
       "      <td>197.0</td>\n",
       "      <td>100.0</td>\n",
       "      <td>86.0</td>\n",
       "      <td>113.0</td>\n",
       "      <td>92.0</td>\n",
       "      <td>1</td>\n",
       "      <td>0</td>\n",
       "      <td>0</td>\n",
       "      <td>0</td>\n",
       "    </tr>\n",
       "  </tbody>\n",
       "</table>\n",
       "</div>"
      ],
      "text/plain": [
       "    blue  green    red   nir  swir1  swir2  wofs  bosque  wofs_bosque  ninguno\n",
       "0  272.0  172.0   74.0  61.0   81.0   62.0     1       0            0        0\n",
       "1  172.0  158.0   71.0  62.0  107.0   92.0     1       0            0        0\n",
       "2  172.0  104.0   14.0   1.0   44.0   39.0     1       0            0        0\n",
       "3  255.0  202.0  103.0  87.0  128.0  104.0     1       0            0        0\n",
       "4  255.0  197.0  100.0  86.0  113.0   92.0     1       0            0        0"
      ]
     },
     "execution_count": 2,
     "metadata": {},
     "output_type": "execute_result"
    }
   ],
   "source": [
    "data = pd.read_csv('./satellite_dataset-sin-nubes.csv')\n",
    "data.head()"
   ]
  },
  {
   "cell_type": "code",
   "execution_count": 30,
   "metadata": {},
   "outputs": [
    {
     "name": "stdout",
     "output_type": "stream",
     "text": [
      "<class 'pandas.core.frame.DataFrame'>\n",
      "RangeIndex: 1000000 entries, 0 to 999999\n",
      "Data columns (total 10 columns):\n",
      "blue           1000000 non-null float64\n",
      "green          1000000 non-null float64\n",
      "red            1000000 non-null float64\n",
      "nir            1000000 non-null float64\n",
      "swir1          1000000 non-null float64\n",
      "swir2          1000000 non-null float64\n",
      "wofs           1000000 non-null int64\n",
      "bosque         1000000 non-null int64\n",
      "wofs_bosque    1000000 non-null int64\n",
      "ninguno        1000000 non-null int64\n",
      "dtypes: float64(6), int64(4)\n",
      "memory usage: 76.3 MB\n"
     ]
    }
   ],
   "source": [
    "data.info()"
   ]
  },
  {
   "cell_type": "code",
   "execution_count": 3,
   "metadata": {
    "scrolled": false
   },
   "outputs": [],
   "source": [
    "# pp.ProfileReport(data)"
   ]
  },
  {
   "cell_type": "code",
   "execution_count": 4,
   "metadata": {},
   "outputs": [
    {
     "data": {
      "text/html": [
       "<div>\n",
       "<style scoped>\n",
       "    .dataframe tbody tr th:only-of-type {\n",
       "        vertical-align: middle;\n",
       "    }\n",
       "\n",
       "    .dataframe tbody tr th {\n",
       "        vertical-align: top;\n",
       "    }\n",
       "\n",
       "    .dataframe thead th {\n",
       "        text-align: right;\n",
       "    }\n",
       "</style>\n",
       "<table border=\"1\" class=\"dataframe\">\n",
       "  <thead>\n",
       "    <tr style=\"text-align: right;\">\n",
       "      <th></th>\n",
       "      <th>blue</th>\n",
       "      <th>green</th>\n",
       "      <th>red</th>\n",
       "      <th>nir</th>\n",
       "      <th>swir1</th>\n",
       "      <th>swir2</th>\n",
       "    </tr>\n",
       "  </thead>\n",
       "  <tbody>\n",
       "    <tr>\n",
       "      <th>0</th>\n",
       "      <td>272.0</td>\n",
       "      <td>172.0</td>\n",
       "      <td>74.0</td>\n",
       "      <td>61.0</td>\n",
       "      <td>81.0</td>\n",
       "      <td>62.0</td>\n",
       "    </tr>\n",
       "    <tr>\n",
       "      <th>1</th>\n",
       "      <td>172.0</td>\n",
       "      <td>158.0</td>\n",
       "      <td>71.0</td>\n",
       "      <td>62.0</td>\n",
       "      <td>107.0</td>\n",
       "      <td>92.0</td>\n",
       "    </tr>\n",
       "    <tr>\n",
       "      <th>2</th>\n",
       "      <td>172.0</td>\n",
       "      <td>104.0</td>\n",
       "      <td>14.0</td>\n",
       "      <td>1.0</td>\n",
       "      <td>44.0</td>\n",
       "      <td>39.0</td>\n",
       "    </tr>\n",
       "    <tr>\n",
       "      <th>3</th>\n",
       "      <td>255.0</td>\n",
       "      <td>202.0</td>\n",
       "      <td>103.0</td>\n",
       "      <td>87.0</td>\n",
       "      <td>128.0</td>\n",
       "      <td>104.0</td>\n",
       "    </tr>\n",
       "    <tr>\n",
       "      <th>4</th>\n",
       "      <td>255.0</td>\n",
       "      <td>197.0</td>\n",
       "      <td>100.0</td>\n",
       "      <td>86.0</td>\n",
       "      <td>113.0</td>\n",
       "      <td>92.0</td>\n",
       "    </tr>\n",
       "  </tbody>\n",
       "</table>\n",
       "</div>"
      ],
      "text/plain": [
       "    blue  green    red   nir  swir1  swir2\n",
       "0  272.0  172.0   74.0  61.0   81.0   62.0\n",
       "1  172.0  158.0   71.0  62.0  107.0   92.0\n",
       "2  172.0  104.0   14.0   1.0   44.0   39.0\n",
       "3  255.0  202.0  103.0  87.0  128.0  104.0\n",
       "4  255.0  197.0  100.0  86.0  113.0   92.0"
      ]
     },
     "execution_count": 4,
     "metadata": {},
     "output_type": "execute_result"
    }
   ],
   "source": [
    "dataset_X = data.drop(columns=['wofs','bosque','wofs_bosque','ninguno'], axis=1)\n",
    "dataset_X.head()"
   ]
  },
  {
   "cell_type": "code",
   "execution_count": 5,
   "metadata": {},
   "outputs": [
    {
     "data": {
      "text/html": [
       "<div>\n",
       "<style scoped>\n",
       "    .dataframe tbody tr th:only-of-type {\n",
       "        vertical-align: middle;\n",
       "    }\n",
       "\n",
       "    .dataframe tbody tr th {\n",
       "        vertical-align: top;\n",
       "    }\n",
       "\n",
       "    .dataframe thead th {\n",
       "        text-align: right;\n",
       "    }\n",
       "</style>\n",
       "<table border=\"1\" class=\"dataframe\">\n",
       "  <thead>\n",
       "    <tr style=\"text-align: right;\">\n",
       "      <th></th>\n",
       "      <th>wofs</th>\n",
       "      <th>bosque</th>\n",
       "      <th>wofs_bosque</th>\n",
       "      <th>ninguno</th>\n",
       "    </tr>\n",
       "  </thead>\n",
       "  <tbody>\n",
       "    <tr>\n",
       "      <th>0</th>\n",
       "      <td>1</td>\n",
       "      <td>0</td>\n",
       "      <td>0</td>\n",
       "      <td>0</td>\n",
       "    </tr>\n",
       "    <tr>\n",
       "      <th>1</th>\n",
       "      <td>1</td>\n",
       "      <td>0</td>\n",
       "      <td>0</td>\n",
       "      <td>0</td>\n",
       "    </tr>\n",
       "    <tr>\n",
       "      <th>2</th>\n",
       "      <td>1</td>\n",
       "      <td>0</td>\n",
       "      <td>0</td>\n",
       "      <td>0</td>\n",
       "    </tr>\n",
       "    <tr>\n",
       "      <th>3</th>\n",
       "      <td>1</td>\n",
       "      <td>0</td>\n",
       "      <td>0</td>\n",
       "      <td>0</td>\n",
       "    </tr>\n",
       "    <tr>\n",
       "      <th>4</th>\n",
       "      <td>1</td>\n",
       "      <td>0</td>\n",
       "      <td>0</td>\n",
       "      <td>0</td>\n",
       "    </tr>\n",
       "  </tbody>\n",
       "</table>\n",
       "</div>"
      ],
      "text/plain": [
       "   wofs  bosque  wofs_bosque  ninguno\n",
       "0     1       0            0        0\n",
       "1     1       0            0        0\n",
       "2     1       0            0        0\n",
       "3     1       0            0        0\n",
       "4     1       0            0        0"
      ]
     },
     "execution_count": 5,
     "metadata": {},
     "output_type": "execute_result"
    }
   ],
   "source": [
    "dataset_Y = data[['wofs','bosque','wofs_bosque','ninguno']]\n",
    "dataset_Y.head()"
   ]
  },
  {
   "cell_type": "code",
   "execution_count": 23,
   "metadata": {},
   "outputs": [],
   "source": [
    "X_train, X_test, y_train, y_test = train_test_split(dataset_X, dataset_Y, test_size=0.2, random_state=0)\n",
    "X_train = X_train.to_numpy()\n",
    "X_test = X_test.to_numpy()\n",
    "y_train = y_train.to_numpy()\n",
    "y_test = y_test.to_numpy()"
   ]
  },
  {
   "cell_type": "code",
   "execution_count": 24,
   "metadata": {},
   "outputs": [
    {
     "name": "stdout",
     "output_type": "stream",
     "text": [
      "Model: \"sequential_4\"\n",
      "_________________________________________________________________\n",
      "Layer (type)                 Output Shape              Param #   \n",
      "=================================================================\n",
      "dense_7 (Dense)              (None, 9)                 63        \n",
      "_________________________________________________________________\n",
      "dense_8 (Dense)              (None, 4)                 40        \n",
      "=================================================================\n",
      "Total params: 103\n",
      "Trainable params: 103\n",
      "Non-trainable params: 0\n",
      "_________________________________________________________________\n",
      "Epoch 1/15\n",
      "800000/800000 [==============================] - 10s 12us/step - loss: 3.6297 - accuracy: 0.7733\n",
      "Epoch 2/15\n",
      "800000/800000 [==============================] - 10s 13us/step - loss: 3.5746 - accuracy: 0.7771\n",
      "Epoch 3/15\n",
      "800000/800000 [==============================] - 10s 13us/step - loss: 3.5577 - accuracy: 0.7780\n",
      "Epoch 4/15\n",
      "800000/800000 [==============================] - 10s 13us/step - loss: 3.5050 - accuracy: 0.7792\n",
      "Epoch 5/15\n",
      "800000/800000 [==============================] - 10s 12us/step - loss: 3.2665 - accuracy: 0.7898\n",
      "Epoch 6/15\n",
      "800000/800000 [==============================] - 10s 13us/step - loss: 3.1909 - accuracy: 0.7927\n",
      "Epoch 7/15\n",
      "800000/800000 [==============================] - 10s 12us/step - loss: 3.1886 - accuracy: 0.7933\n",
      "Epoch 8/15\n",
      "800000/800000 [==============================] - 10s 13us/step - loss: 3.1881 - accuracy: 0.7935\n",
      "Epoch 9/15\n",
      "800000/800000 [==============================] - 10s 12us/step - loss: 3.1876 - accuracy: 0.7936\n",
      "Epoch 10/15\n",
      "800000/800000 [==============================] - 10s 13us/step - loss: 3.1872 - accuracy: 0.7938\n",
      "Epoch 11/15\n",
      "800000/800000 [==============================] - 10s 13us/step - loss: 3.1869 - accuracy: 0.7938\n",
      "Epoch 12/15\n",
      "800000/800000 [==============================] - 10s 13us/step - loss: 3.1420 - accuracy: 0.7960\n",
      "Epoch 13/15\n",
      "800000/800000 [==============================] - 10s 13us/step - loss: 0.0947 - accuracy: 0.9766\n",
      "Epoch 14/15\n",
      "800000/800000 [==============================] - 10s 13us/step - loss: 0.0848 - accuracy: 0.9773\n",
      "Epoch 15/15\n",
      "800000/800000 [==============================] - 10s 13us/step - loss: 0.0824 - accuracy: 0.9776\n",
      "\n",
      "Test accuracy: 0.9794149994850159\n"
     ]
    }
   ],
   "source": [
    "# DEFINICIÓN DEL MODELO\n",
    "# Hay dos maneras de construir modelos en Keras: Secuencial y Funcional\n",
    "# El modelo secuencial permite construir modelos capa por capa.\n",
    "# El modelo funcional permite construir modelos mas complicados.\n",
    "\n",
    "# La capa Flaten transforma los datos de un arreglo bidimensional de 28x28 a un arreglo \n",
    "# unidimensional de 784 posiciones(28x28) esto solo formatea el conjutno de datos\n",
    "\n",
    "# La capa Dense significa que cada neurona en una capa esta conectada a todas las neuronas \n",
    "# localizadas en la capa anterior y con todas en la siguiente capa.\n",
    "\n",
    "model = keras.Sequential([\n",
    "#     keras.layers.Flatten(input_shape=(6,)),\n",
    "    keras.layers.Dense(9,input_dim=6, activation='relu'),\n",
    "    keras.layers.Dense(4, activation='softmax')\n",
    "])\n",
    "\n",
    "# CONFIGURACIÓN DE PARÁMETROS\n",
    "# La compilación del modelo comprende la configuración de parámetros \n",
    "# usados durante el entrenamiento: algori tmo de optimización, medida \n",
    "# de exactitud, etc.\n",
    "\n",
    "# optimizer: Adam es un algoitmo de optimización. Además es un método de tasa de aprendizaje adaptativo, \n",
    "# loss: calcula la diferencia entre la salida y la variable objetivo. Mide la precisión del modelo durante \n",
    "# el entrenamiento y queremos minimizar esta función.\n",
    "# metrics: Son las métricas que se desan calcular durante el entrenamiento. mide la fracción de imágenes que \n",
    "# están clasificadas correctamente.\n",
    "\n",
    "model.compile(\n",
    "    optimizer='adam',\n",
    "    loss='categorical_crossentropy',\n",
    "    metrics=['accuracy']\n",
    ")\n",
    "\n",
    "# Resumen de parámetros del modelo\n",
    "model.summary()\n",
    "\n",
    "# ENTRENAMIENTO\n",
    "model.fit(X_train, y_train, epochs=15)\n",
    "\n",
    "# EVALUACIÓN\n",
    "test_loss, test_acc = model.evaluate(X_test, y_test, verbose=2)\n",
    "print('\\nTest accuracy:', test_acc)"
   ]
  },
  {
   "cell_type": "code",
   "execution_count": 32,
   "metadata": {},
   "outputs": [],
   "source": [
    "model.save('model_nn_1.h5')"
   ]
  },
  {
   "cell_type": "code",
   "execution_count": 26,
   "metadata": {},
   "outputs": [
    {
     "data": {
      "text/plain": [
       "array([0, 0, 1, ..., 0, 0, 1])"
      ]
     },
     "execution_count": 26,
     "metadata": {},
     "output_type": "execute_result"
    }
   ],
   "source": [
    "y_pred = model.predict(X_test)\n",
    "y_pred_classes = np.argmax(y_pred,axis=1)\n",
    "y_pred_classes"
   ]
  },
  {
   "cell_type": "code",
   "execution_count": 27,
   "metadata": {},
   "outputs": [
    {
     "data": {
      "text/plain": [
       "array([0, 0, 1, ..., 0, 0, 1])"
      ]
     },
     "execution_count": 27,
     "metadata": {},
     "output_type": "execute_result"
    }
   ],
   "source": [
    "y_test_classes = np.argmax(y_test,axis=1)\n",
    "y_test_classes"
   ]
  },
  {
   "cell_type": "markdown",
   "metadata": {},
   "source": [
    "## Matrix de Confusión\n",
    "\n",
    "* Clase 0 (wofs): Agua\n",
    "* Clase 1 (bosque): Bosque\n",
    "* Clase 2 (wofs_bosque): Agua o Bosque\n",
    "* Clase 3 (ninguno): Ninguna de las coverturas anteriores. Puedes ser repreentar una urbanización."
   ]
  },
  {
   "cell_type": "code",
   "execution_count": 28,
   "metadata": {},
   "outputs": [
    {
     "data": {
      "text/plain": [
       "array([[150647,      6,      0,    184],\n",
       "       [   117,  39275,      0,    820],\n",
       "       [   376,      2,      0,     28],\n",
       "       [  1100,   1484,      0,   5961]])"
      ]
     },
     "execution_count": 28,
     "metadata": {},
     "output_type": "execute_result"
    }
   ],
   "source": [
    "confusion_matrix(y_test_classes, y_pred_classes)"
   ]
  },
  {
   "cell_type": "markdown",
   "metadata": {},
   "source": [
    "## Precisión y Recall\n",
    "\n",
    "* Clase 0 (wofs): Agua\n",
    "* Clase 1 (bosque): Bosque\n",
    "* Clase 2 (wofs_bosque): Agua o Bosque\n",
    "* Clase 3 (ninguno): Ninguna de las coverturas anteriores. Puedes ser repreentar una urbanización."
   ]
  },
  {
   "cell_type": "code",
   "execution_count": 29,
   "metadata": {},
   "outputs": [
    {
     "name": "stdout",
     "output_type": "stream",
     "text": [
      "              precision    recall  f1-score   support\n",
      "\n",
      "           0       0.99      1.00      0.99    150837\n",
      "           1       0.96      0.98      0.97     40212\n",
      "           2       0.00      0.00      0.00       406\n",
      "           3       0.85      0.70      0.77      8545\n",
      "\n",
      "    accuracy                           0.98    200000\n",
      "   macro avg       0.70      0.67      0.68    200000\n",
      "weighted avg       0.98      0.98      0.98    200000\n",
      "\n"
     ]
    }
   ],
   "source": [
    "print(classification_report(y_test_classes, y_pred_classes))"
   ]
  },
  {
   "cell_type": "markdown",
   "metadata": {},
   "source": [
    "# Análisis y Conclusiones\n",
    "\n",
    "La Clase 2 (agua_bosque) presenta poca representación en el conjunto de datos en general. En particular, esta clase representa el 0.203% del del conjunto de test. Es por ello que el modelo no logra obtener información relevante para ésta clase en particular. Esto se refleja en la baja medida de precisión y recall, es decir, el modelo no logra identificar algúna instancia para esta clase.\n",
    "\n",
    "Así mismo, la Clase (ninguno) que representa el 4.2725% del conjunto de test. A pesar de la poca representación, se logra tener una precisión y recall de 85% y 70% respectivamente. Probablemente, aquellas instancias de esta clase seleccionadas para el entrenamiento son bastante representativas.\n",
    "\n",
    "Las clases 0 (agua) y 1 (bosque) que son mayoritarias en el número de instancias presentes en el conjunto de datos. Esto se refleja de iguál forma en el conjunto de test con una representación de 75.41% y 20.11% respectivamente. Finalmente, presentan majores medidas de clasificación y recall.\n",
    "\n",
    "## Conclusiones\n",
    "\n",
    "* La falta de balance en las clases genera sesgo en el modelo generado, es por ello que se obtienen mejores medidas de precisión y recall para aquéllas clases mayoritarias (clases 0 y 1). \n",
    "\n",
    "* Existen instancias significativas para la clase 3 (ninguno) que permiten al modelo percibir información relevante para la generalización, de lo anterior se tiene que a pesar de tener poca representación esta clase, se logran medidas de precisión y recall por encima del 50%."
   ]
  }
 ],
 "metadata": {
  "kernelspec": {
   "display_name": "Python 3",
   "language": "python",
   "name": "python3"
  },
  "language_info": {
   "codemirror_mode": {
    "name": "ipython",
    "version": 3
   },
   "file_extension": ".py",
   "mimetype": "text/x-python",
   "name": "python",
   "nbconvert_exporter": "python",
   "pygments_lexer": "ipython3",
   "version": "3.6.5"
  }
 },
 "nbformat": 4,
 "nbformat_minor": 2
}
