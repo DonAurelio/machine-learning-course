{
 "cells": [
  {
   "cell_type": "code",
   "execution_count": 1,
   "metadata": {},
   "outputs": [],
   "source": [
    "%matplotlib inline\n",
    "import numpy as np\n",
    "import xarray as xr\n",
    "# Wofs imports\n",
    "import gc\n",
    "import collections\n",
    "\n",
    "from rasterio.plot import show\n",
    "from rasterio.plot import plotting_extent\n",
    "from rasterio.mask import mask\n",
    "\n",
    "from PIL import Image\n",
    "import rasterio\n",
    "import os"
   ]
  },
  {
   "cell_type": "markdown",
   "metadata": {},
   "source": [
    "## Limpieza de datos\n",
    "\n",
    "Para optimizar el entrenamiento y el testeo de los datos se cambia el valor de todo pixel con nubes a 9999. De esta forma, el pixel es excluido del entrenamiento y el testeo de los modelos. Esto permite reducir la cantidad de datos a solo las characteristicas del suelo y el agua. Se realiza este filtrado utilizando el mapa de nubes ofrecido por USGS presente en la banda "
   ]
  },
  {
   "cell_type": "markdown",
   "metadata": {},
   "source": [
    "### Cloud mask"
   ]
  },
  {
   "cell_type": "code",
   "execution_count": 2,
   "metadata": {},
   "outputs": [],
   "source": [
    "def cloud_mask(band_data_array,band_pixel_qa):\n",
    "    \"\"\"\n",
    "    Enmascara o hace igual a NaN aquellos pixeles que no son \n",
    "    relevantes para el análisis, como aquellos pixeles donde se\n",
    "    presentan nubes, nieve en todas sus modalidades.\n",
    "    \"\"\"\n",
    "    \n",
    "    nodata=-9999\n",
    "    \n",
    "    # VALORES VALIDOS PARA ANALISIS PRESENTES EN \n",
    "    # LA BANDA PIXEL_QA\n",
    "    \n",
    "    # Para este caso únicamente nos interesa conservar \n",
    "    # aquellos pixeles cuya obvercación es clara y \n",
    "    # además pixeles que pueden mostrar información \n",
    "    # acerca del agua\n",
    "    clear = [322, 386, 834, 898, 1346]\n",
    "    water = [324, 388, 836, 900, 1348]\n",
    "    valid_values = clear + water\n",
    "\n",
    "    # Aquellos pixeles cuyos valor esten en valid_values tendran un\n",
    "    # valor de True en la corrspondiente posición en la matrix mask_1 \n",
    "    # indicando que son pixeles validos para analisis. Aquellos pixeles \n",
    "    # cuyos valores no esten en valid_values tendran un valor de False \n",
    "    # en mask_1.\n",
    "    mask_1 = np.isin(band_pixel_qa.values, valid_values)\n",
    "\n",
    "    # Marca como True aquellos pixeles que tienen información, es decir, \n",
    "    # no son igual a nodata=-9999.\n",
    "    has_information = band_data_array != nodata\n",
    "\n",
    "    # Aquellos pixeles que tienen información (has_information[i][j] = True)\n",
    "    # y son pixeles validos mask_1[i][j] = True, seguirán siendo válidos, es\n",
    "    # decir, mask_2[i][j] = True. En caso contrarion mask_2[i][j] = False.\n",
    "    mask_2 = np.logical_and(has_information,mask_1)\n",
    "\n",
    "    # Para pixeles validos mask_2[i][j] = True, entonces \n",
    "    # new_band_data_array[i][j] = band_data_array[i][j]. \n",
    "    # En caso contrario, new_band_data_array[i][j] = NaN.\n",
    "    new_band_data_array = np.where(mask_2,band_data_array,np.nan)\n",
    "    return new_band_data_array"
   ]
  },
  {
   "cell_type": "markdown",
   "metadata": {},
   "source": [
    "### NDVI"
   ]
  },
  {
   "cell_type": "code",
   "execution_count": 3,
   "metadata": {},
   "outputs": [],
   "source": [
    "def ndvi(xarr0):\n",
    "\n",
    "    # Obteniendo los valores de las bandas. \n",
    "    # los valores son np.array\n",
    "    period_red = xarr0[\"red\"].values\n",
    "    period_nir = xarr0[\"nir\"].values\n",
    "\n",
    "    # Si los pixeles en 'red' o 'nir' tiene valoes NaN entonces \n",
    "    # mask_nan = True\n",
    "    mask_nan=np.logical_or(np.isnan(period_red), np.isnan(period_nir))\n",
    "\n",
    "    # NDVI computation\n",
    "    period_nvdi = (period_nir-period_red) / (period_nir+period_red)\n",
    "\n",
    "    # Remover pixeles invalidos\n",
    "    period_nvdi[mask_nan] = np.nan\n",
    "\n",
    "    # Remover valores mayores de 1 e inferiores a -1\n",
    "    # Ya que el indice está definido entre -1 y 1.\n",
    "    period_nvdi[period_nvdi>1] = np.nan\n",
    "    period_nvdi[period_nvdi<-1] = np.nan\n",
    "\n",
    "    data_array = xr.DataArray(data=period_nvdi)\n",
    "    return data_array"
   ]
  },
  {
   "cell_type": "code",
   "execution_count": 4,
   "metadata": {},
   "outputs": [],
   "source": [
    "def forest_noForest(ndvi_data_og):\n",
    "    ndvi_data = ndvi_data_og.copy(deep=True)\n",
    "    # Dado que bosque no bosque es una clasificación\n",
    "    # binaria, los valores son número enteros \n",
    "    # por lo tanto nodata no puede ser igual a NaN\n",
    "    nodata = -9999\n",
    "\n",
    "#     ndvi_data.reindex(y=list(reversed(ndvi_data.y)))\n",
    "    ndvi_data = ndvi_data.squeeze(['dim_0'])\n",
    "    nvdi_array = ndvi_data.values\n",
    "\n",
    "    # Umbral de Bosque\n",
    "    ndvi_threshold = 0.7\n",
    "\n",
    "    # Tasa de Vegetación \n",
    "    vegetation_rate = 0.3\n",
    "\n",
    "    # Tamaño de Ventana\n",
    "    slice_size = 2\n",
    "\n",
    "    height = nvdi_array.shape[0]\n",
    "    width = nvdi_array.shape[1]\n",
    "    bosque_nobosque=np.full(nvdi_array.shape, -1)\n",
    "    for y1 in range(0, height, slice_size):\n",
    "        for x1 in range(0, width, slice_size):\n",
    "            x2 = x1 + slice_size\n",
    "            y2 = y1 + slice_size\n",
    "            if(x2 > width):\n",
    "                x2 = width\n",
    "            if(y2 > height):\n",
    "                y2 = height\n",
    "            submatrix = nvdi_array[y1:y2,x1:x2]\n",
    "            ok_pixels = np.count_nonzero(~np.isnan(submatrix))\n",
    "            if ok_pixels==0:\n",
    "                bosque_nobosque[y1:y2,x1:x2] = nodata\n",
    "            elif np.nansum(submatrix>ndvi_threshold)/ok_pixels >= vegetation_rate :\n",
    "                bosque_nobosque[y1:y2,x1:x2] = 1\n",
    "            else:\n",
    "                bosque_nobosque[y1:y2,x1:x2] = 0\n",
    "\n",
    "    # Los valores que son iguales a nodata=-9999 los \n",
    "    # los convertimos a 0 (no bosque)\n",
    "    mask_nan=np.isin(bosque_nobosque,[nodata])\n",
    "    bosque_nobosque[mask_nan] = 0\n",
    "\n",
    "    data_array_bosque = xr.DataArray(data=bosque_nobosque)\n",
    "    return data_array_bosque"
   ]
  },
  {
   "cell_type": "markdown",
   "metadata": {},
   "source": [
    "### WOFS"
   ]
  },
  {
   "cell_type": "code",
   "execution_count": 5,
   "metadata": {},
   "outputs": [],
   "source": [
    "def wofs_classify(dataset_in, clean_mask=None, no_data=-9999, enforce_float64=False):\n",
    "    \"\"\"\n",
    "    Description:\n",
    "      Performs WOfS algorithm on given dataset. If no clean mask is given, the 'cf_mask'\n",
    "      variable must be included in the input dataset, as it will be used to create a \n",
    "      clean mask\n",
    "    Assumption:\n",
    "      - The WOfS algorithm is defined for Landsat 5/Landsat 7 \n",
    "    References:\n",
    "      - Mueller, et al. (2015) \"Water observations from space: Mapping surface water from \n",
    "        25 years of Landsat imagery across Australia.\" Remote Sensing of Environment.\n",
    "      - https://github.com/GeoscienceAustralia/eo-tools/blob/stable/eotools/water_classifier.py\n",
    "    -----\n",
    "    Inputs:\n",
    "      dataset_in (xarray.Dataset) - dataset retrieved from the Data Cube; should contain\n",
    "        coordinates: time, latitude, longitude\n",
    "        variables: blue, green, red, nir, swir1, swir2\n",
    "        If user does not provide a clean_mask, dataset_in must also include the cf_mask\n",
    "        variable\n",
    "    Optional Inputs:\n",
    "      clean_mask (nd numpy array with dtype boolean) - true for values user considers clean;\n",
    "        if user does not provide a clean mask, one will be created using cfmask\n",
    "      no_data (int/float) - no data pixel value; default: -9999\n",
    "      enforce_float64 (boolean) - flag to indicate whether or not to enforce float64 calculations;\n",
    "        will use float32 if false\n",
    "    Output:\n",
    "      dataset_out (xarray.DataArray) - wofs water classification results: 0 - not water; 1 - water\n",
    "    \"\"\"\n",
    "    \n",
    "    def _band_ratio(a, b):\n",
    "        \"\"\"\n",
    "        Calculates a normalized ratio index\n",
    "        \"\"\"\n",
    "        return (a - b) / (a + b)\n",
    "        \n",
    "    def _run_regression(band1, band2, band3, band4, band5, band7):\n",
    "        \"\"\"\n",
    "        Regression analysis based on Australia's training data\n",
    "        TODO: Return type\n",
    "        \"\"\"\n",
    "        \n",
    "        # Compute normalized ratio indices\n",
    "        ndi_52 = _band_ratio(band5, band2)\n",
    "        ndi_43 = _band_ratio(band4, band3)\n",
    "        ndi_72 = _band_ratio(band7, band2)\n",
    "        \n",
    "        #classified = np.ones(shape, dtype='uint8')\n",
    "        \n",
    "        classified = np.full(shape, no_data)\n",
    "      \n",
    "        # Start with the tree's left branch, finishing nodes as needed\n",
    "        \n",
    "        # Left branch\n",
    "        r1 = ndi_52 <= -0.01\n",
    "\n",
    "        r2 = band1 <= 2083.5\n",
    "        classified[r1 & ~r2] = 0 #Node 3\n",
    "\n",
    "        r3 = band7 <= 323.5\n",
    "        _tmp = r1 & r2\n",
    "        _tmp2 = _tmp & r3\n",
    "        _tmp &= ~r3\n",
    "\n",
    "        r4 = ndi_43 <= 0.61\n",
    "        classified[_tmp2 & r4] = 1 #Node 6\n",
    "        classified[_tmp2 & ~r4] = 0 #Node 7\n",
    "\n",
    "        r5 = band1 <= 1400.5\n",
    "        _tmp2 = _tmp & ~r5\n",
    "\n",
    "        r6 = ndi_43 <= -0.01\n",
    "        classified[_tmp2 & r6] = 1 #Node 10\n",
    "        classified[_tmp2 & ~r6] = 0 #Node 11\n",
    "\n",
    "        _tmp &= r5\n",
    "\n",
    "        r7 = ndi_72 <= -0.23\n",
    "        _tmp2 = _tmp & ~r7\n",
    "\n",
    "        r8 = band1 <= 379\n",
    "        classified[_tmp2 & r8] = 1 #Node 14\n",
    "        classified[_tmp2 & ~r8] = 0 #Node 15\n",
    "\n",
    "        _tmp &= r7\n",
    "\n",
    "        r9 = ndi_43 <= 0.22\n",
    "        classified[_tmp & r9] = 1 #Node 17\n",
    "        _tmp &= ~r9\n",
    "\n",
    "        r10 = band1 <= 473\n",
    "        classified[_tmp & r10] = 1 #Node 19\n",
    "        classified[_tmp & ~r10] = 0 #Node 20\n",
    "\n",
    "        # Left branch complete; cleanup\n",
    "        del r2, r3, r4, r5, r6, r7, r8, r9, r10\n",
    "        gc.collect()\n",
    "        \n",
    "        # Right branch of regression tree\n",
    "        r1 = ~r1\n",
    "\n",
    "        r11 = ndi_52 <= 0.23\n",
    "        _tmp = r1 & r11\n",
    "\n",
    "        r12 = band1 <= 334.5\n",
    "        _tmp2 = _tmp & ~r12\n",
    "        classified[_tmp2] = 0 #Node 23\n",
    "\n",
    "        _tmp &= r12\n",
    "\n",
    "        r13 = ndi_43 <= 0.54\n",
    "        _tmp2 = _tmp & ~r13\n",
    "        classified[_tmp2] = 0 #Node 25\n",
    "\n",
    "        _tmp &= r13\n",
    "\n",
    "        r14 = ndi_52 <= 0.12\n",
    "        _tmp2 = _tmp & r14\n",
    "        classified[_tmp2] = 1 #Node 27\n",
    "\n",
    "        _tmp &= ~r14\n",
    "\n",
    "        r15 = band3 <= 364.5\n",
    "        _tmp2 = _tmp & r15\n",
    "\n",
    "        r16 = band1 <= 129.5\n",
    "        classified[_tmp2 & r16] = 1 #Node 31\n",
    "        classified[_tmp2 & ~r16] = 0 #Node 32\n",
    "\n",
    "        _tmp &= ~r15\n",
    "\n",
    "        r17 = band1 <= 300.5\n",
    "        _tmp2 = _tmp & ~r17\n",
    "        _tmp &= r17\n",
    "        classified[_tmp] = 1 #Node 33\n",
    "        classified[_tmp2] = 0 #Node 34\n",
    "\n",
    "        _tmp = r1 & ~r11\n",
    "\n",
    "        r18 = ndi_52 <= 0.34\n",
    "        classified[_tmp & ~r18] = 0 #Node 36\n",
    "        _tmp &= r18\n",
    "\n",
    "        r19 = band1 <= 249.5\n",
    "        classified[_tmp & ~r19] = 0 #Node 38\n",
    "        _tmp &= r19\n",
    "\n",
    "        r20 = ndi_43 <= 0.45\n",
    "        classified[_tmp & ~r20] = 0 #Node 40\n",
    "        _tmp &= r20\n",
    "\n",
    "        r21 = band3 <= 364.5\n",
    "        classified[_tmp & ~r21] = 0 #Node 42\n",
    "        _tmp &= r21\n",
    "\n",
    "        r22 = band1 <= 129.5\n",
    "        classified[_tmp & r22] = 1 #Node 44\n",
    "        classified[_tmp & ~r22] = 0 #Node 45\n",
    "\n",
    "        # Completed regression tree\n",
    "        \n",
    "        return classified\n",
    "    \n",
    "    # Extract dataset bands needed for calculations\n",
    "    blue = dataset_in[\"blue\"]\n",
    "    green = dataset_in[\"green\"]\n",
    "    red = dataset_in[\"red\"]\n",
    "    nir = dataset_in[\"nir\"]\n",
    "    swir1 = dataset_in[\"swir1\"]\n",
    "    swir2 = dataset_in[\"swir2\"]\n",
    "    \n",
    "    # Enforce float calculations - float64 if user specified, otherwise float32 will do\n",
    "    dtype = blue.values.dtype # This assumes all dataset bands will have\n",
    "                              # the same dtype (should be a reasonable\n",
    "                              # assumption)\n",
    "\n",
    "    if enforce_float64:\n",
    "        if dtype != 'float64':\n",
    "            blue.values = blue.values.astype('float64')\n",
    "            green.values = green.values.astype('float64')\n",
    "            red.values = red.values.astype('float64')\n",
    "            nir.values = nir.values.astype('float64')\n",
    "            swir1.values = swir1.values.astype('float64')\n",
    "            swir2.values = swir2.values.astype('float64')\n",
    "    else:\n",
    "        if dtype == 'float64':\n",
    "            pass\n",
    "        elif dtype != 'float32':\n",
    "            blue.values = blue.values.astype('float32')\n",
    "            green.values = green.values.astype('float32')\n",
    "            red.values = red.values.astype('float32')\n",
    "            nir.values = nir.values.astype('float32')\n",
    "            swir1.values = swir1.values.astype('float32')\n",
    "            swir2.values = swir2.values.astype('float32')\n",
    "    \n",
    "    shape = blue.values.shape\n",
    "    classified = _run_regression(blue.values, green.values, red.values, \n",
    "                                 nir.values, swir1.values, swir2.values)\n",
    "\n",
    "    classified_clean = np.full(classified.shape, no_data)\n",
    "    classified_clean[clean_mask] = classified[clean_mask] # Contains data for clear pixels\n",
    "    dataset_out = xr.DataArray(classified_clean)\n",
    "    return dataset_out"
   ]
  },
  {
   "cell_type": "code",
   "execution_count": 6,
   "metadata": {},
   "outputs": [
    {
     "name": "stdout",
     "output_type": "stream",
     "text": [
      "LC08_L1TP_004063_20150820_20170406_01_T2_MTL.txt\n",
      "LC08_L1TP_004063_20150820_20170406_01_T2_ANG.txt\n",
      "LC08_L1TP_004063_20150820_20170406_01_T2.xml\n",
      "LC08_L1TP_004063_20150820_20170406_01_T2_pixel_qa.tif\n",
      "LC08_L1TP_004063_20150820_20170406_01_T2_sr_band1.tif\n",
      "LC08_L1TP_004063_20150820_20170406_01_T2_sr_aerosol.tif\n",
      "LC08_L1TP_004063_20150820_20170406_01_T2_radsat_qa.tif\n",
      "LC08_L1TP_004063_20150820_20170406_01_T2_sr_band7.tif\n",
      "LC08_L1TP_004063_20150820_20170406_01_T2_sr_band5.tif\n",
      "LC08_L1TP_004063_20150820_20170406_01_T2_sr_band2.tif\n",
      "LC08_L1TP_004063_20150820_20170406_01_T2_sr_band6.tif\n",
      "LC08_L1TP_004063_20150820_20170406_01_T2_sr_band3.tif\n",
      "LC08_L1TP_004063_20150820_20170406_01_T2_sr_band4.tif\n",
      "LC08_L1TP_009059_20160825_20170322_01_T1.xml\n",
      "LC08_L1TP_009059_20160825_20170322_01_T1_radsat_qa.tif\n",
      "LC08_L1TP_009059_20160825_20170322_01_T1_sr_band3.tif\n",
      "LC08_L1TP_009059_20160825_20170322_01_T1_sr_band6.tif\n",
      "LC08_L1TP_009059_20160825_20170322_01_T1_sr_band7.tif\n",
      "LC08_L1TP_009059_20160825_20170322_01_T1_sr_band2.tif\n",
      "LC08_L1TP_009059_20160825_20170322_01_T1_sr_band1.tif\n",
      "LC08_L1TP_009059_20160825_20170322_01_T1_MTL.txt\n",
      "LC08_L1TP_009059_20160825_20170322_01_T1_sr_band5.tif\n",
      "LC08_L1TP_009059_20160825_20170322_01_T1_sr_aerosol.tif\n",
      "LC08_L1TP_009059_20160825_20170322_01_T1_ANG.txt\n",
      "LC08_L1TP_009059_20160825_20170322_01_T1_pixel_qa.tif\n",
      "LC08_L1TP_009059_20160825_20170322_01_T1_sr_band4.tif\n",
      "LC08_L1TP_010056_20180227_20180308_01_T1_sr_band5.tif\n",
      "LC08_L1TP_010056_20180227_20180308_01_T1_ANG.txt\n",
      "LC08_L1TP_010056_20180227_20180308_01_T1_radsat_qa.tif\n",
      "LC08_L1TP_010056_20180227_20180308_01_T1_sr_band3.tif\n",
      "LC08_L1TP_010056_20180227_20180308_01_T1_sr_aerosol.tif\n",
      "LC08_L1TP_010056_20180227_20180308_01_T1_sr_band4.tif\n",
      "LC08_L1TP_010056_20180227_20180308_01_T1_sr_band2.tif\n",
      "LC08_L1TP_010056_20180227_20180308_01_T1_sr_band1.tif\n",
      "LC08_L1TP_010056_20180227_20180308_01_T1_sr_band7.tif\n",
      "LC08_L1TP_010056_20180227_20180308_01_T1.xml\n",
      "LC08_L1TP_010056_20180227_20180308_01_T1_sr_band6.tif\n",
      "LC08_L1TP_010056_20180227_20180308_01_T1_MTL.txt\n",
      "LC08_L1TP_010056_20180227_20180308_01_T1_pixel_qa.tif\n"
     ]
    }
   ],
   "source": [
    "img_folder_list = os.listdir(\"./data/\")\n",
    "current_img_dict = {}\n",
    "for img_folder in img_folder_list:\n",
    "    img_list = os.listdir(\"./data/\"+img_folder+\"/\")\n",
    "    for img in img_list:\n",
    "        print(img)\n",
    "        if img.endswith(\".tif\"):\n",
    "            sat_img = xr.open_rasterio(\"./data/\"+img_folder+\"/\"+img)\n",
    "            if \"band2\" in img:\n",
    "                current_img_dict[\"blue\"] = sat_img\n",
    "            elif \"band3\" in img:\n",
    "                current_img_dict[\"green\"] = sat_img\n",
    "            elif \"band4\" in img:\n",
    "                current_img_dict[\"red\"] = sat_img\n",
    "            elif \"band5\" in img:\n",
    "                current_img_dict[\"nir\"] = sat_img\n",
    "            elif \"band6\" in img:\n",
    "                current_img_dict[\"swir1\"] = sat_img\n",
    "            elif \"band7\" in img:\n",
    "                current_img_dict[\"swir2\"] = sat_img\n",
    "            elif \"pixel_qa\" in img:\n",
    "                current_img_dict[\"pixel_qa\"] = sat_img"
   ]
  },
  {
   "cell_type": "code",
   "execution_count": 7,
   "metadata": {},
   "outputs": [],
   "source": [
    "bands = ['blue','green','red','nir','swir1','swir2']\n",
    "for band in bands:\n",
    "    current_img_dict[band].values = cloud_mask(\n",
    "        band_data_array=current_img_dict[band],\n",
    "        band_pixel_qa=current_img_dict['pixel_qa']\n",
    "    )"
   ]
  },
  {
   "cell_type": "code",
   "execution_count": 8,
   "metadata": {},
   "outputs": [
    {
     "name": "stderr",
     "output_type": "stream",
     "text": [
      "/home/estudiante/fcrv/jupyter_notebooks/data_analisis_env_py2/lib/python2.7/site-packages/ipykernel_launcher.py:34: RuntimeWarning: divide by zero encountered in divide\n",
      "/home/estudiante/fcrv/jupyter_notebooks/data_analisis_env_py2/lib/python2.7/site-packages/ipykernel_launcher.py:54: RuntimeWarning: invalid value encountered in less_equal\n",
      "/home/estudiante/fcrv/jupyter_notebooks/data_analisis_env_py2/lib/python2.7/site-packages/ipykernel_launcher.py:56: RuntimeWarning: invalid value encountered in less_equal\n",
      "/home/estudiante/fcrv/jupyter_notebooks/data_analisis_env_py2/lib/python2.7/site-packages/ipykernel_launcher.py:59: RuntimeWarning: invalid value encountered in less_equal\n",
      "/home/estudiante/fcrv/jupyter_notebooks/data_analisis_env_py2/lib/python2.7/site-packages/ipykernel_launcher.py:64: RuntimeWarning: invalid value encountered in less_equal\n",
      "/home/estudiante/fcrv/jupyter_notebooks/data_analisis_env_py2/lib/python2.7/site-packages/ipykernel_launcher.py:68: RuntimeWarning: invalid value encountered in less_equal\n",
      "/home/estudiante/fcrv/jupyter_notebooks/data_analisis_env_py2/lib/python2.7/site-packages/ipykernel_launcher.py:71: RuntimeWarning: invalid value encountered in less_equal\n",
      "/home/estudiante/fcrv/jupyter_notebooks/data_analisis_env_py2/lib/python2.7/site-packages/ipykernel_launcher.py:77: RuntimeWarning: invalid value encountered in less_equal\n",
      "/home/estudiante/fcrv/jupyter_notebooks/data_analisis_env_py2/lib/python2.7/site-packages/ipykernel_launcher.py:80: RuntimeWarning: invalid value encountered in less_equal\n",
      "/home/estudiante/fcrv/jupyter_notebooks/data_analisis_env_py2/lib/python2.7/site-packages/ipykernel_launcher.py:86: RuntimeWarning: invalid value encountered in less_equal\n",
      "/home/estudiante/fcrv/jupyter_notebooks/data_analisis_env_py2/lib/python2.7/site-packages/ipykernel_launcher.py:90: RuntimeWarning: invalid value encountered in less_equal\n",
      "/home/estudiante/fcrv/jupyter_notebooks/data_analisis_env_py2/lib/python2.7/site-packages/ipykernel_launcher.py:101: RuntimeWarning: invalid value encountered in less_equal\n",
      "/home/estudiante/fcrv/jupyter_notebooks/data_analisis_env_py2/lib/python2.7/site-packages/ipykernel_launcher.py:104: RuntimeWarning: invalid value encountered in less_equal\n",
      "/home/estudiante/fcrv/jupyter_notebooks/data_analisis_env_py2/lib/python2.7/site-packages/ipykernel_launcher.py:110: RuntimeWarning: invalid value encountered in less_equal\n",
      "/home/estudiante/fcrv/jupyter_notebooks/data_analisis_env_py2/lib/python2.7/site-packages/ipykernel_launcher.py:116: RuntimeWarning: invalid value encountered in less_equal\n",
      "/home/estudiante/fcrv/jupyter_notebooks/data_analisis_env_py2/lib/python2.7/site-packages/ipykernel_launcher.py:122: RuntimeWarning: invalid value encountered in less_equal\n",
      "/home/estudiante/fcrv/jupyter_notebooks/data_analisis_env_py2/lib/python2.7/site-packages/ipykernel_launcher.py:125: RuntimeWarning: invalid value encountered in less_equal\n",
      "/home/estudiante/fcrv/jupyter_notebooks/data_analisis_env_py2/lib/python2.7/site-packages/ipykernel_launcher.py:131: RuntimeWarning: invalid value encountered in less_equal\n",
      "/home/estudiante/fcrv/jupyter_notebooks/data_analisis_env_py2/lib/python2.7/site-packages/ipykernel_launcher.py:139: RuntimeWarning: invalid value encountered in less_equal\n",
      "/home/estudiante/fcrv/jupyter_notebooks/data_analisis_env_py2/lib/python2.7/site-packages/ipykernel_launcher.py:143: RuntimeWarning: invalid value encountered in less_equal\n",
      "/home/estudiante/fcrv/jupyter_notebooks/data_analisis_env_py2/lib/python2.7/site-packages/ipykernel_launcher.py:147: RuntimeWarning: invalid value encountered in less_equal\n",
      "/home/estudiante/fcrv/jupyter_notebooks/data_analisis_env_py2/lib/python2.7/site-packages/ipykernel_launcher.py:151: RuntimeWarning: invalid value encountered in less_equal\n",
      "/home/estudiante/fcrv/jupyter_notebooks/data_analisis_env_py2/lib/python2.7/site-packages/ipykernel_launcher.py:155: RuntimeWarning: invalid value encountered in less_equal\n"
     ]
    }
   ],
   "source": [
    "wofs_results = wofs_classify(current_img_dict)\n",
    "current_img_dict[\"wofs\"] = wofs_results"
   ]
  },
  {
   "cell_type": "code",
   "execution_count": 9,
   "metadata": {},
   "outputs": [],
   "source": [
    "#wofs_results.plot()"
   ]
  },
  {
   "cell_type": "code",
   "execution_count": 10,
   "metadata": {},
   "outputs": [
    {
     "data": {
      "text/plain": [
       "<xarray.DataArray (dim_0: 1, dim_1: 7761, dim_2: 7611)>\n",
       "array([[[0, 0, ..., 0, 0],\n",
       "        [0, 0, ..., 0, 0],\n",
       "        ...,\n",
       "        [0, 0, ..., 0, 0],\n",
       "        [0, 0, ..., 0, 0]]])\n",
       "Dimensions without coordinates: dim_0, dim_1, dim_2"
      ]
     },
     "execution_count": 10,
     "metadata": {},
     "output_type": "execute_result"
    }
   ],
   "source": [
    "# show(wofs_results)\n",
    "wofs_results"
   ]
  },
  {
   "cell_type": "code",
   "execution_count": 11,
   "metadata": {},
   "outputs": [
    {
     "name": "stderr",
     "output_type": "stream",
     "text": [
      "/home/estudiante/fcrv/jupyter_notebooks/data_analisis_env_py2/lib/python2.7/site-packages/ipykernel_launcher.py:13: RuntimeWarning: divide by zero encountered in divide\n",
      "  del sys.path[0]\n",
      "/home/estudiante/fcrv/jupyter_notebooks/data_analisis_env_py2/lib/python2.7/site-packages/ipykernel_launcher.py:20: RuntimeWarning: invalid value encountered in greater\n",
      "/home/estudiante/fcrv/jupyter_notebooks/data_analisis_env_py2/lib/python2.7/site-packages/ipykernel_launcher.py:21: RuntimeWarning: invalid value encountered in less\n"
     ]
    }
   ],
   "source": [
    "ndvi_results = ndvi(current_img_dict)"
   ]
  },
  {
   "cell_type": "code",
   "execution_count": 12,
   "metadata": {},
   "outputs": [
    {
     "data": {
      "text/plain": [
       "<xarray.DataArray (dim_0: 1, dim_1: 7761, dim_2: 7611)>\n",
       "array([[[nan, nan, ..., nan, nan],\n",
       "        [nan, nan, ..., nan, nan],\n",
       "        ...,\n",
       "        [nan, nan, ..., nan, nan],\n",
       "        [nan, nan, ..., nan, nan]]])\n",
       "Dimensions without coordinates: dim_0, dim_1, dim_2"
      ]
     },
     "execution_count": 12,
     "metadata": {},
     "output_type": "execute_result"
    }
   ],
   "source": [
    "# ndvi_results.plot()\n",
    "ndvi_results"
   ]
  },
  {
   "cell_type": "code",
   "execution_count": 13,
   "metadata": {},
   "outputs": [
    {
     "data": {
      "image/png": "[encoded data removed]",
      "text/plain": [
       "<Figure size 432x288 with 1 Axes>"
      ]
     },
     "metadata": {
      "needs_background": "light"
     },
     "output_type": "display_data"
    },
    {
     "data": {
      "text/plain": [
       "<matplotlib.axes._subplots.AxesSubplot at 0x7fa83cb40310>"
      ]
     },
     "execution_count": 13,
     "metadata": {},
     "output_type": "execute_result"
    }
   ],
   "source": [
    "show(ndvi_results)"
   ]
  },
  {
   "cell_type": "code",
   "execution_count": 14,
   "metadata": {},
   "outputs": [
    {
     "name": "stderr",
     "output_type": "stream",
     "text": [
      "/home/estudiante/fcrv/jupyter_notebooks/data_analisis_env_py2/lib/python2.7/site-packages/ipykernel_launcher.py:36: RuntimeWarning: invalid value encountered in greater\n"
     ]
    }
   ],
   "source": [
    "forest_noForest_results = forest_noForest(ndvi_results)\n",
    "current_img_dict[\"forest_noForest\"] = forest_noForest_results"
   ]
  },
  {
   "cell_type": "code",
   "execution_count": 15,
   "metadata": {},
   "outputs": [],
   "source": [
    "# show(forest_noForest_results)"
   ]
  },
  {
   "cell_type": "code",
   "execution_count": 16,
   "metadata": {},
   "outputs": [
    {
     "ename": "KeyError",
     "evalue": "'dim_0'",
     "output_type": "error",
     "traceback": [
      "\u001b[0;31m---------------------------------------------------------------------------\u001b[0m",
      "\u001b[0;31mKeyError\u001b[0m                                  Traceback (most recent call last)",
      "\u001b[0;32m<ipython-input-16-ff070851557e>\u001b[0m in \u001b[0;36m<module>\u001b[0;34m()\u001b[0m\n\u001b[1;32m      1\u001b[0m \u001b[0;32mfor\u001b[0m \u001b[0mpair\u001b[0m \u001b[0;32min\u001b[0m \u001b[0mcurrent_img_dict\u001b[0m\u001b[0;34m.\u001b[0m\u001b[0mitems\u001b[0m\u001b[0;34m(\u001b[0m\u001b[0;34m)\u001b[0m\u001b[0;34m:\u001b[0m\u001b[0;34m\u001b[0m\u001b[0m\n\u001b[0;32m----> 2\u001b[0;31m     \u001b[0mpair\u001b[0m\u001b[0;34m[\u001b[0m\u001b[0;36m1\u001b[0m\u001b[0;34m]\u001b[0m \u001b[0;34m=\u001b[0m \u001b[0mpair\u001b[0m\u001b[0;34m[\u001b[0m\u001b[0;36m1\u001b[0m\u001b[0;34m]\u001b[0m\u001b[0;34m.\u001b[0m\u001b[0msqueeze\u001b[0m\u001b[0;34m(\u001b[0m\u001b[0;34m[\u001b[0m\u001b[0;34m'dim_0'\u001b[0m\u001b[0;34m]\u001b[0m\u001b[0;34m)\u001b[0m\u001b[0;34m\u001b[0m\u001b[0m\n\u001b[0m\u001b[1;32m      3\u001b[0m \u001b[0mdata_lists\u001b[0m \u001b[0;34m=\u001b[0m \u001b[0;34m[\u001b[0m\u001b[0;34m]\u001b[0m\u001b[0;34m\u001b[0m\u001b[0m\n\u001b[1;32m      4\u001b[0m \u001b[0mimage_shape\u001b[0m \u001b[0;34m=\u001b[0m \u001b[0mcurrent_img_dict\u001b[0m\u001b[0;34m[\u001b[0m\u001b[0;34m\"blue\"\u001b[0m\u001b[0;34m]\u001b[0m\u001b[0;34m.\u001b[0m\u001b[0mshape\u001b[0m\u001b[0;34m\u001b[0m\u001b[0m\n\u001b[1;32m      5\u001b[0m \u001b[0;32mfor\u001b[0m \u001b[0mi\u001b[0m \u001b[0;32min\u001b[0m \u001b[0mrange\u001b[0m\u001b[0;34m(\u001b[0m\u001b[0;36m0\u001b[0m\u001b[0;34m,\u001b[0m\u001b[0mimage_shape\u001b[0m\u001b[0;34m[\u001b[0m\u001b[0;36m0\u001b[0m\u001b[0;34m]\u001b[0m\u001b[0;34m)\u001b[0m\u001b[0;34m:\u001b[0m\u001b[0;34m\u001b[0m\u001b[0m\n",
      "\u001b[0;32m/home/estudiante/fcrv/jupyter_notebooks/data_analisis_env_py2/local/lib/python2.7/site-packages/xarray/core/common.pyc\u001b[0m in \u001b[0;36msqueeze\u001b[0;34m(self, dim, drop, axis)\u001b[0m\n\u001b[1;32m    269\u001b[0m         \u001b[0mnumpy\u001b[0m\u001b[0;34m.\u001b[0m\u001b[0msqueeze\u001b[0m\u001b[0;34m\u001b[0m\u001b[0m\n\u001b[1;32m    270\u001b[0m         \"\"\"\n\u001b[0;32m--> 271\u001b[0;31m         \u001b[0mdims\u001b[0m \u001b[0;34m=\u001b[0m \u001b[0mget_squeeze_dims\u001b[0m\u001b[0;34m(\u001b[0m\u001b[0mself\u001b[0m\u001b[0;34m,\u001b[0m \u001b[0mdim\u001b[0m\u001b[0;34m,\u001b[0m \u001b[0maxis\u001b[0m\u001b[0;34m)\u001b[0m\u001b[0;34m\u001b[0m\u001b[0m\n\u001b[0m\u001b[1;32m    272\u001b[0m         \u001b[0;32mreturn\u001b[0m \u001b[0mself\u001b[0m\u001b[0;34m.\u001b[0m\u001b[0misel\u001b[0m\u001b[0;34m(\u001b[0m\u001b[0mdrop\u001b[0m\u001b[0;34m=\u001b[0m\u001b[0mdrop\u001b[0m\u001b[0;34m,\u001b[0m \u001b[0;34m**\u001b[0m\u001b[0;34m{\u001b[0m\u001b[0md\u001b[0m\u001b[0;34m:\u001b[0m \u001b[0;36m0\u001b[0m \u001b[0;32mfor\u001b[0m \u001b[0md\u001b[0m \u001b[0;32min\u001b[0m \u001b[0mdims\u001b[0m\u001b[0;34m}\u001b[0m\u001b[0;34m)\u001b[0m\u001b[0;34m\u001b[0m\u001b[0m\n\u001b[1;32m    273\u001b[0m \u001b[0;34m\u001b[0m\u001b[0m\n",
      "\u001b[0;32m/home/estudiante/fcrv/jupyter_notebooks/data_analisis_env_py2/local/lib/python2.7/site-packages/xarray/core/common.pyc\u001b[0m in \u001b[0;36mget_squeeze_dims\u001b[0;34m(xarray_obj, dim, axis)\u001b[0m\n\u001b[1;32m    235\u001b[0m             \u001b[0malldims\u001b[0m \u001b[0;34m=\u001b[0m \u001b[0mlist\u001b[0m\u001b[0;34m(\u001b[0m\u001b[0mxarray_obj\u001b[0m\u001b[0;34m.\u001b[0m\u001b[0msizes\u001b[0m\u001b[0;34m.\u001b[0m\u001b[0mkeys\u001b[0m\u001b[0;34m(\u001b[0m\u001b[0;34m)\u001b[0m\u001b[0;34m)\u001b[0m\u001b[0;34m\u001b[0m\u001b[0m\n\u001b[1;32m    236\u001b[0m             \u001b[0mdim\u001b[0m \u001b[0;34m=\u001b[0m \u001b[0;34m[\u001b[0m\u001b[0malldims\u001b[0m\u001b[0;34m[\u001b[0m\u001b[0ma\u001b[0m\u001b[0;34m]\u001b[0m \u001b[0;32mfor\u001b[0m \u001b[0ma\u001b[0m \u001b[0;32min\u001b[0m \u001b[0maxis\u001b[0m\u001b[0;34m]\u001b[0m\u001b[0;34m\u001b[0m\u001b[0m\n\u001b[0;32m--> 237\u001b[0;31m         \u001b[0;32mif\u001b[0m \u001b[0many\u001b[0m\u001b[0;34m(\u001b[0m\u001b[0mxarray_obj\u001b[0m\u001b[0;34m.\u001b[0m\u001b[0msizes\u001b[0m\u001b[0;34m[\u001b[0m\u001b[0mk\u001b[0m\u001b[0;34m]\u001b[0m \u001b[0;34m>\u001b[0m \u001b[0;36m1\u001b[0m \u001b[0;32mfor\u001b[0m \u001b[0mk\u001b[0m \u001b[0;32min\u001b[0m \u001b[0mdim\u001b[0m\u001b[0;34m)\u001b[0m\u001b[0;34m:\u001b[0m\u001b[0;34m\u001b[0m\u001b[0m\n\u001b[0m\u001b[1;32m    238\u001b[0m             raise ValueError('cannot select a dimension to squeeze out '\n\u001b[1;32m    239\u001b[0m                              'which has length greater than one')\n",
      "\u001b[0;32m/home/estudiante/fcrv/jupyter_notebooks/data_analisis_env_py2/local/lib/python2.7/site-packages/xarray/core/common.pyc\u001b[0m in \u001b[0;36m<genexpr>\u001b[0;34m((k,))\u001b[0m\n\u001b[1;32m    235\u001b[0m             \u001b[0malldims\u001b[0m \u001b[0;34m=\u001b[0m \u001b[0mlist\u001b[0m\u001b[0;34m(\u001b[0m\u001b[0mxarray_obj\u001b[0m\u001b[0;34m.\u001b[0m\u001b[0msizes\u001b[0m\u001b[0;34m.\u001b[0m\u001b[0mkeys\u001b[0m\u001b[0;34m(\u001b[0m\u001b[0;34m)\u001b[0m\u001b[0;34m)\u001b[0m\u001b[0;34m\u001b[0m\u001b[0m\n\u001b[1;32m    236\u001b[0m             \u001b[0mdim\u001b[0m \u001b[0;34m=\u001b[0m \u001b[0;34m[\u001b[0m\u001b[0malldims\u001b[0m\u001b[0;34m[\u001b[0m\u001b[0ma\u001b[0m\u001b[0;34m]\u001b[0m \u001b[0;32mfor\u001b[0m \u001b[0ma\u001b[0m \u001b[0;32min\u001b[0m \u001b[0maxis\u001b[0m\u001b[0;34m]\u001b[0m\u001b[0;34m\u001b[0m\u001b[0m\n\u001b[0;32m--> 237\u001b[0;31m         \u001b[0;32mif\u001b[0m \u001b[0many\u001b[0m\u001b[0;34m(\u001b[0m\u001b[0mxarray_obj\u001b[0m\u001b[0;34m.\u001b[0m\u001b[0msizes\u001b[0m\u001b[0;34m[\u001b[0m\u001b[0mk\u001b[0m\u001b[0;34m]\u001b[0m \u001b[0;34m>\u001b[0m \u001b[0;36m1\u001b[0m \u001b[0;32mfor\u001b[0m \u001b[0mk\u001b[0m \u001b[0;32min\u001b[0m \u001b[0mdim\u001b[0m\u001b[0;34m)\u001b[0m\u001b[0;34m:\u001b[0m\u001b[0;34m\u001b[0m\u001b[0m\n\u001b[0m\u001b[1;32m    238\u001b[0m             raise ValueError('cannot select a dimension to squeeze out '\n\u001b[1;32m    239\u001b[0m                              'which has length greater than one')\n",
      "\u001b[0;32m/home/estudiante/fcrv/jupyter_notebooks/data_analisis_env_py2/local/lib/python2.7/site-packages/xarray/core/utils.pyc\u001b[0m in \u001b[0;36m__getitem__\u001b[0;34m(self, key)\u001b[0m\n\u001b[1;32m    315\u001b[0m \u001b[0;34m\u001b[0m\u001b[0m\n\u001b[1;32m    316\u001b[0m     \u001b[0;32mdef\u001b[0m \u001b[0m__getitem__\u001b[0m\u001b[0;34m(\u001b[0m\u001b[0mself\u001b[0m\u001b[0;34m,\u001b[0m \u001b[0mkey\u001b[0m\u001b[0;34m)\u001b[0m\u001b[0;34m:\u001b[0m\u001b[0;34m\u001b[0m\u001b[0m\n\u001b[0;32m--> 317\u001b[0;31m         \u001b[0;32mreturn\u001b[0m \u001b[0mself\u001b[0m\u001b[0;34m.\u001b[0m\u001b[0mmapping\u001b[0m\u001b[0;34m[\u001b[0m\u001b[0mkey\u001b[0m\u001b[0;34m]\u001b[0m\u001b[0;34m\u001b[0m\u001b[0m\n\u001b[0m\u001b[1;32m    318\u001b[0m \u001b[0;34m\u001b[0m\u001b[0m\n\u001b[1;32m    319\u001b[0m     \u001b[0;32mdef\u001b[0m \u001b[0m__iter__\u001b[0m\u001b[0;34m(\u001b[0m\u001b[0mself\u001b[0m\u001b[0;34m)\u001b[0m\u001b[0;34m:\u001b[0m\u001b[0;34m\u001b[0m\u001b[0m\n",
      "\u001b[0;31mKeyError\u001b[0m: 'dim_0'"
     ]
    }
   ],
   "source": [
    "for pair in current_img_dict.items():\n",
    "    pair[1] = pair[1].squeeze(['dim_0'])\n",
    "data_lists = []\n",
    "image_shape = current_img_dict[\"blue\"].shape\n",
    "for i in range(0,image_shape[0]):\n",
    "    new_list = []\n",
    "    data_lists.append(new_list)\n",
    "    for j in range(0,image_shape[1]):\n",
    "        data_lists.append(current_img_dict[\"blue\"].values[i,j])\n",
    "        \n"
   ]
  }
 ],
 "metadata": {
  "celltoolbar": "Raw Cell Format",
  "kernelspec": {
   "display_name": "Python 2",
   "language": "python",
   "name": "python2"
  },
  "language_info": {
   "codemirror_mode": {
    "name": "ipython",
    "version": 2
   },
   "file_extension": ".py",
   "mimetype": "text/x-python",
   "name": "python",
   "nbconvert_exporter": "python",
   "pygments_lexer": "ipython2",
   "version": "2.7.12"
  }
 },
 "nbformat": 4,
 "nbformat_minor": 2
}
