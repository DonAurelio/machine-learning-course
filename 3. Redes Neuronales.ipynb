{
 "cells": [
  {
   "cell_type": "code",
   "execution_count": 1,
   "metadata": {},
   "outputs": [
    {
     "name": "stderr",
     "output_type": "stream",
     "text": [
      "Using TensorFlow backend.\n",
      "/home/datacube/.local/lib/python3.6/site-packages/tensorflow/python/framework/dtypes.py:516: FutureWarning: Passing (type, 1) or '1type' as a synonym of type is deprecated; in a future version of numpy, it will be understood as (type, (1,)) / '(1,)type'.\n",
      "  _np_qint8 = np.dtype([(\"qint8\", np.int8, 1)])\n",
      "/home/datacube/.local/lib/python3.6/site-packages/tensorflow/python/framework/dtypes.py:517: FutureWarning: Passing (type, 1) or '1type' as a synonym of type is deprecated; in a future version of numpy, it will be understood as (type, (1,)) / '(1,)type'.\n",
      "  _np_quint8 = np.dtype([(\"quint8\", np.uint8, 1)])\n",
      "/home/datacube/.local/lib/python3.6/site-packages/tensorflow/python/framework/dtypes.py:518: FutureWarning: Passing (type, 1) or '1type' as a synonym of type is deprecated; in a future version of numpy, it will be understood as (type, (1,)) / '(1,)type'.\n",
      "  _np_qint16 = np.dtype([(\"qint16\", np.int16, 1)])\n",
      "/home/datacube/.local/lib/python3.6/site-packages/tensorflow/python/framework/dtypes.py:519: FutureWarning: Passing (type, 1) or '1type' as a synonym of type is deprecated; in a future version of numpy, it will be understood as (type, (1,)) / '(1,)type'.\n",
      "  _np_quint16 = np.dtype([(\"quint16\", np.uint16, 1)])\n",
      "/home/datacube/.local/lib/python3.6/site-packages/tensorflow/python/framework/dtypes.py:520: FutureWarning: Passing (type, 1) or '1type' as a synonym of type is deprecated; in a future version of numpy, it will be understood as (type, (1,)) / '(1,)type'.\n",
      "  _np_qint32 = np.dtype([(\"qint32\", np.int32, 1)])\n",
      "/home/datacube/.local/lib/python3.6/site-packages/tensorflow/python/framework/dtypes.py:525: FutureWarning: Passing (type, 1) or '1type' as a synonym of type is deprecated; in a future version of numpy, it will be understood as (type, (1,)) / '(1,)type'.\n",
      "  np_resource = np.dtype([(\"resource\", np.ubyte, 1)])\n",
      "/home/datacube/.local/lib/python3.6/site-packages/tensorboard/compat/tensorflow_stub/dtypes.py:541: FutureWarning: Passing (type, 1) or '1type' as a synonym of type is deprecated; in a future version of numpy, it will be understood as (type, (1,)) / '(1,)type'.\n",
      "  _np_qint8 = np.dtype([(\"qint8\", np.int8, 1)])\n",
      "/home/datacube/.local/lib/python3.6/site-packages/tensorboard/compat/tensorflow_stub/dtypes.py:542: FutureWarning: Passing (type, 1) or '1type' as a synonym of type is deprecated; in a future version of numpy, it will be understood as (type, (1,)) / '(1,)type'.\n",
      "  _np_quint8 = np.dtype([(\"quint8\", np.uint8, 1)])\n",
      "/home/datacube/.local/lib/python3.6/site-packages/tensorboard/compat/tensorflow_stub/dtypes.py:543: FutureWarning: Passing (type, 1) or '1type' as a synonym of type is deprecated; in a future version of numpy, it will be understood as (type, (1,)) / '(1,)type'.\n",
      "  _np_qint16 = np.dtype([(\"qint16\", np.int16, 1)])\n",
      "/home/datacube/.local/lib/python3.6/site-packages/tensorboard/compat/tensorflow_stub/dtypes.py:544: FutureWarning: Passing (type, 1) or '1type' as a synonym of type is deprecated; in a future version of numpy, it will be understood as (type, (1,)) / '(1,)type'.\n",
      "  _np_quint16 = np.dtype([(\"quint16\", np.uint16, 1)])\n",
      "/home/datacube/.local/lib/python3.6/site-packages/tensorboard/compat/tensorflow_stub/dtypes.py:545: FutureWarning: Passing (type, 1) or '1type' as a synonym of type is deprecated; in a future version of numpy, it will be understood as (type, (1,)) / '(1,)type'.\n",
      "  _np_qint32 = np.dtype([(\"qint32\", np.int32, 1)])\n",
      "/home/datacube/.local/lib/python3.6/site-packages/tensorboard/compat/tensorflow_stub/dtypes.py:550: FutureWarning: Passing (type, 1) or '1type' as a synonym of type is deprecated; in a future version of numpy, it will be understood as (type, (1,)) / '(1,)type'.\n",
      "  np_resource = np.dtype([(\"resource\", np.ubyte, 1)])\n"
     ]
    }
   ],
   "source": [
    "%matplotlib inline\n",
    "from keras.datasets import fashion_mnist\n",
    "from keras.models import Sequential\n",
    "from keras import regularizers\n",
    "from sklearn.metrics import confusion_matrix\n",
    "from sklearn.model_selection import cross_val_score, train_test_split\n",
    "\n",
    "import keras\n",
    "import matplotlib.pyplot as plt\n",
    "from rasterio.plot import show\n",
    "import xarray as xr\n",
    "\n",
    "import gdal\n",
    "import rasterio\n",
    "import glob\n",
    "import os\n",
    "import numpy as np\n",
    "import pandas as pd\n",
    "import pandas_profiling as pp"
   ]
  },
  {
   "cell_type": "code",
   "execution_count": 2,
   "metadata": {},
   "outputs": [
    {
     "data": {
      "text/html": [
       "<div>\n",
       "<style scoped>\n",
       "    .dataframe tbody tr th:only-of-type {\n",
       "        vertical-align: middle;\n",
       "    }\n",
       "\n",
       "    .dataframe tbody tr th {\n",
       "        vertical-align: top;\n",
       "    }\n",
       "\n",
       "    .dataframe thead th {\n",
       "        text-align: right;\n",
       "    }\n",
       "</style>\n",
       "<table border=\"1\" class=\"dataframe\">\n",
       "  <thead>\n",
       "    <tr style=\"text-align: right;\">\n",
       "      <th></th>\n",
       "      <th>blue</th>\n",
       "      <th>green</th>\n",
       "      <th>red</th>\n",
       "      <th>nir</th>\n",
       "      <th>swir1</th>\n",
       "      <th>swir2</th>\n",
       "      <th>wofs</th>\n",
       "      <th>bosque</th>\n",
       "      <th>wofs_bosque</th>\n",
       "      <th>ninguno</th>\n",
       "    </tr>\n",
       "  </thead>\n",
       "  <tbody>\n",
       "    <tr>\n",
       "      <th>0</th>\n",
       "      <td>203.0</td>\n",
       "      <td>131.0</td>\n",
       "      <td>36.0</td>\n",
       "      <td>21.0</td>\n",
       "      <td>61.0</td>\n",
       "      <td>46.0</td>\n",
       "      <td>1</td>\n",
       "      <td>0</td>\n",
       "      <td>0</td>\n",
       "      <td>0</td>\n",
       "    </tr>\n",
       "    <tr>\n",
       "      <th>1</th>\n",
       "      <td>207.0</td>\n",
       "      <td>137.0</td>\n",
       "      <td>39.0</td>\n",
       "      <td>27.0</td>\n",
       "      <td>71.0</td>\n",
       "      <td>59.0</td>\n",
       "      <td>1</td>\n",
       "      <td>0</td>\n",
       "      <td>0</td>\n",
       "      <td>0</td>\n",
       "    </tr>\n",
       "    <tr>\n",
       "      <th>2</th>\n",
       "      <td>393.0</td>\n",
       "      <td>325.0</td>\n",
       "      <td>217.0</td>\n",
       "      <td>200.0</td>\n",
       "      <td>254.0</td>\n",
       "      <td>176.0</td>\n",
       "      <td>1</td>\n",
       "      <td>0</td>\n",
       "      <td>0</td>\n",
       "      <td>0</td>\n",
       "    </tr>\n",
       "    <tr>\n",
       "      <th>3</th>\n",
       "      <td>269.0</td>\n",
       "      <td>201.0</td>\n",
       "      <td>58.0</td>\n",
       "      <td>11.0</td>\n",
       "      <td>51.0</td>\n",
       "      <td>43.0</td>\n",
       "      <td>1</td>\n",
       "      <td>0</td>\n",
       "      <td>0</td>\n",
       "      <td>0</td>\n",
       "    </tr>\n",
       "    <tr>\n",
       "      <th>4</th>\n",
       "      <td>194.0</td>\n",
       "      <td>218.0</td>\n",
       "      <td>112.0</td>\n",
       "      <td>103.0</td>\n",
       "      <td>153.0</td>\n",
       "      <td>130.0</td>\n",
       "      <td>1</td>\n",
       "      <td>0</td>\n",
       "      <td>0</td>\n",
       "      <td>0</td>\n",
       "    </tr>\n",
       "  </tbody>\n",
       "</table>\n",
       "</div>"
      ],
      "text/plain": [
       "    blue  green    red    nir  swir1  swir2  wofs  bosque  wofs_bosque  \\\n",
       "0  203.0  131.0   36.0   21.0   61.0   46.0     1       0            0   \n",
       "1  207.0  137.0   39.0   27.0   71.0   59.0     1       0            0   \n",
       "2  393.0  325.0  217.0  200.0  254.0  176.0     1       0            0   \n",
       "3  269.0  201.0   58.0   11.0   51.0   43.0     1       0            0   \n",
       "4  194.0  218.0  112.0  103.0  153.0  130.0     1       0            0   \n",
       "\n",
       "   ninguno  \n",
       "0        0  \n",
       "1        0  \n",
       "2        0  \n",
       "3        0  \n",
       "4        0  "
      ]
     },
     "execution_count": 2,
     "metadata": {},
     "output_type": "execute_result"
    }
   ],
   "source": [
    "data = pd.read_csv('./satellite_dataset.csv')\n",
    "data.head()"
   ]
  },
  {
   "cell_type": "code",
   "execution_count": 3,
   "metadata": {
    "scrolled": false
   },
   "outputs": [],
   "source": [
    "# pp.ProfileReport(data)"
   ]
  },
  {
   "cell_type": "code",
   "execution_count": 4,
   "metadata": {},
   "outputs": [
    {
     "data": {
      "text/html": [
       "<div>\n",
       "<style scoped>\n",
       "    .dataframe tbody tr th:only-of-type {\n",
       "        vertical-align: middle;\n",
       "    }\n",
       "\n",
       "    .dataframe tbody tr th {\n",
       "        vertical-align: top;\n",
       "    }\n",
       "\n",
       "    .dataframe thead th {\n",
       "        text-align: right;\n",
       "    }\n",
       "</style>\n",
       "<table border=\"1\" class=\"dataframe\">\n",
       "  <thead>\n",
       "    <tr style=\"text-align: right;\">\n",
       "      <th></th>\n",
       "      <th>blue</th>\n",
       "      <th>green</th>\n",
       "      <th>red</th>\n",
       "      <th>nir</th>\n",
       "      <th>swir1</th>\n",
       "      <th>swir2</th>\n",
       "    </tr>\n",
       "  </thead>\n",
       "  <tbody>\n",
       "    <tr>\n",
       "      <th>0</th>\n",
       "      <td>203.0</td>\n",
       "      <td>131.0</td>\n",
       "      <td>36.0</td>\n",
       "      <td>21.0</td>\n",
       "      <td>61.0</td>\n",
       "      <td>46.0</td>\n",
       "    </tr>\n",
       "    <tr>\n",
       "      <th>1</th>\n",
       "      <td>207.0</td>\n",
       "      <td>137.0</td>\n",
       "      <td>39.0</td>\n",
       "      <td>27.0</td>\n",
       "      <td>71.0</td>\n",
       "      <td>59.0</td>\n",
       "    </tr>\n",
       "    <tr>\n",
       "      <th>2</th>\n",
       "      <td>393.0</td>\n",
       "      <td>325.0</td>\n",
       "      <td>217.0</td>\n",
       "      <td>200.0</td>\n",
       "      <td>254.0</td>\n",
       "      <td>176.0</td>\n",
       "    </tr>\n",
       "    <tr>\n",
       "      <th>3</th>\n",
       "      <td>269.0</td>\n",
       "      <td>201.0</td>\n",
       "      <td>58.0</td>\n",
       "      <td>11.0</td>\n",
       "      <td>51.0</td>\n",
       "      <td>43.0</td>\n",
       "    </tr>\n",
       "    <tr>\n",
       "      <th>4</th>\n",
       "      <td>194.0</td>\n",
       "      <td>218.0</td>\n",
       "      <td>112.0</td>\n",
       "      <td>103.0</td>\n",
       "      <td>153.0</td>\n",
       "      <td>130.0</td>\n",
       "    </tr>\n",
       "  </tbody>\n",
       "</table>\n",
       "</div>"
      ],
      "text/plain": [
       "    blue  green    red    nir  swir1  swir2\n",
       "0  203.0  131.0   36.0   21.0   61.0   46.0\n",
       "1  207.0  137.0   39.0   27.0   71.0   59.0\n",
       "2  393.0  325.0  217.0  200.0  254.0  176.0\n",
       "3  269.0  201.0   58.0   11.0   51.0   43.0\n",
       "4  194.0  218.0  112.0  103.0  153.0  130.0"
      ]
     },
     "execution_count": 4,
     "metadata": {},
     "output_type": "execute_result"
    }
   ],
   "source": [
    "dataset_X = data.drop(columns=['wofs','bosque','wofs_bosque','ninguno'], axis=1)\n",
    "dataset_X.head()"
   ]
  },
  {
   "cell_type": "code",
   "execution_count": 5,
   "metadata": {},
   "outputs": [
    {
     "data": {
      "text/html": [
       "<div>\n",
       "<style scoped>\n",
       "    .dataframe tbody tr th:only-of-type {\n",
       "        vertical-align: middle;\n",
       "    }\n",
       "\n",
       "    .dataframe tbody tr th {\n",
       "        vertical-align: top;\n",
       "    }\n",
       "\n",
       "    .dataframe thead th {\n",
       "        text-align: right;\n",
       "    }\n",
       "</style>\n",
       "<table border=\"1\" class=\"dataframe\">\n",
       "  <thead>\n",
       "    <tr style=\"text-align: right;\">\n",
       "      <th></th>\n",
       "      <th>wofs</th>\n",
       "      <th>bosque</th>\n",
       "      <th>wofs_bosque</th>\n",
       "      <th>ninguno</th>\n",
       "    </tr>\n",
       "  </thead>\n",
       "  <tbody>\n",
       "    <tr>\n",
       "      <th>0</th>\n",
       "      <td>1</td>\n",
       "      <td>0</td>\n",
       "      <td>0</td>\n",
       "      <td>0</td>\n",
       "    </tr>\n",
       "    <tr>\n",
       "      <th>1</th>\n",
       "      <td>1</td>\n",
       "      <td>0</td>\n",
       "      <td>0</td>\n",
       "      <td>0</td>\n",
       "    </tr>\n",
       "    <tr>\n",
       "      <th>2</th>\n",
       "      <td>1</td>\n",
       "      <td>0</td>\n",
       "      <td>0</td>\n",
       "      <td>0</td>\n",
       "    </tr>\n",
       "    <tr>\n",
       "      <th>3</th>\n",
       "      <td>1</td>\n",
       "      <td>0</td>\n",
       "      <td>0</td>\n",
       "      <td>0</td>\n",
       "    </tr>\n",
       "    <tr>\n",
       "      <th>4</th>\n",
       "      <td>1</td>\n",
       "      <td>0</td>\n",
       "      <td>0</td>\n",
       "      <td>0</td>\n",
       "    </tr>\n",
       "  </tbody>\n",
       "</table>\n",
       "</div>"
      ],
      "text/plain": [
       "   wofs  bosque  wofs_bosque  ninguno\n",
       "0     1       0            0        0\n",
       "1     1       0            0        0\n",
       "2     1       0            0        0\n",
       "3     1       0            0        0\n",
       "4     1       0            0        0"
      ]
     },
     "execution_count": 5,
     "metadata": {},
     "output_type": "execute_result"
    }
   ],
   "source": [
    "dataset_Y = data[['wofs','bosque','wofs_bosque','ninguno']]\n",
    "dataset_Y.head()"
   ]
  },
  {
   "cell_type": "code",
   "execution_count": 6,
   "metadata": {},
   "outputs": [],
   "source": [
    "X_train, X_test, y_train, y_test = train_test_split(dataset_X, dataset_Y, test_size=0.2)\n",
    "X_train = X_train.to_numpy()\n",
    "X_test = X_test.to_numpy()\n",
    "y_train = y_train.to_numpy()\n",
    "y_test = y_test.to_numpy()"
   ]
  },
  {
   "cell_type": "code",
   "execution_count": 7,
   "metadata": {},
   "outputs": [
    {
     "name": "stdout",
     "output_type": "stream",
     "text": [
      "Model: \"sequential_1\"\n",
      "_________________________________________________________________\n",
      "Layer (type)                 Output Shape              Param #   \n",
      "=================================================================\n",
      "dense_1 (Dense)              (None, 128)               896       \n",
      "_________________________________________________________________\n",
      "dense_2 (Dense)              (None, 4)                 516       \n",
      "=================================================================\n",
      "Total params: 1,412\n",
      "Trainable params: 1,412\n",
      "Non-trainable params: 0\n",
      "_________________________________________________________________\n",
      "WARNING:tensorflow:From /home/datacube/.local/lib/python3.6/site-packages/keras/backend/tensorflow_backend.py:422: The name tf.global_variables is deprecated. Please use tf.compat.v1.global_variables instead.\n",
      "\n",
      "Epoch 1/15\n",
      "800000/800000 [==============================] - 21s 27us/step - loss: 0.2807 - accuracy: 0.9739\n",
      "Epoch 2/15\n",
      "800000/800000 [==============================] - 21s 27us/step - loss: 0.0514 - accuracy: 0.9810\n",
      "Epoch 3/15\n",
      "800000/800000 [==============================] - 21s 26us/step - loss: 0.0513 - accuracy: 0.9814\n",
      "Epoch 4/15\n",
      "800000/800000 [==============================] - 21s 26us/step - loss: 0.0490 - accuracy: 0.9822\n",
      "Epoch 5/15\n",
      "800000/800000 [==============================] - 21s 26us/step - loss: 0.0498 - accuracy: 0.9823\n",
      "Epoch 6/15\n",
      "800000/800000 [==============================] - 21s 26us/step - loss: 0.0490 - accuracy: 0.9828\n",
      "Epoch 7/15\n",
      "800000/800000 [==============================] - 21s 26us/step - loss: 0.0490 - accuracy: 0.9830\n",
      "Epoch 8/15\n",
      "800000/800000 [==============================] - 21s 26us/step - loss: 0.0499 - accuracy: 0.9829\n",
      "Epoch 9/15\n",
      "800000/800000 [==============================] - 21s 26us/step - loss: 0.0472 - accuracy: 0.9830\n",
      "Epoch 10/15\n",
      "800000/800000 [==============================] - 21s 26us/step - loss: 0.0478 - accuracy: 0.9832\n",
      "Epoch 11/15\n",
      "800000/800000 [==============================] - 21s 26us/step - loss: 0.0475 - accuracy: 0.9834\n",
      "Epoch 12/15\n",
      "800000/800000 [==============================] - 21s 26us/step - loss: 0.0466 - accuracy: 0.98350s - loss: 0\n",
      "Epoch 13/15\n",
      "800000/800000 [==============================] - 21s 26us/step - loss: 0.0473 - accuracy: 0.98340s - loss: 0.0473 - accuracy: 0.98\n",
      "Epoch 14/15\n",
      "800000/800000 [==============================] - 21s 26us/step - loss: 0.0478 - accuracy: 0.9836\n",
      "Epoch 15/15\n",
      "800000/800000 [==============================] - 21s 26us/step - loss: 0.0459 - accuracy: 0.9835\n",
      "\n",
      "Test accuracy: 0.9841349720954895\n"
     ]
    }
   ],
   "source": [
    "# DEFINICIÓN DEL MODELO\n",
    "# Hay dos maneras de construir modelos en Keras: Secuencial y Funcional\n",
    "# El modelo secuencial permite construir modelos capa por capa.\n",
    "# El modelo funcional permite construir modelos mas complicados.\n",
    "\n",
    "# La capa Flaten transforma los datos de un arreglo bidimensional de 28x28 a un arreglo \n",
    "# unidimensional de 784 posiciones(28x28) esto solo formatea el conjutno de datos\n",
    "\n",
    "# La capa Dense significa que cada neurona en una capa esta conectada a todas las neuronas \n",
    "# localizadas en la capa anterior y con todas en la siguiente capa.\n",
    "\n",
    "model = keras.Sequential([\n",
    "#     keras.layers.Flatten(input_shape=(6,)),\n",
    "    keras.layers.Dense(128,input_dim=6, activation='relu'),\n",
    "    keras.layers.Dense(4, activation='softmax')\n",
    "])\n",
    "\n",
    "# CONFIGURACIÓN DE PARÁMETROS\n",
    "# La compilación del modelo comprende la configuración de parámetros \n",
    "# usados durante el entrenamiento: algori tmo de optimización, medida \n",
    "# de exactitud, etc.\n",
    "\n",
    "# optimizer: Adam es un algoitmo de optimización. Además es un método de tasa de aprendizaje adaptativo, \n",
    "# loss: calcula la diferencia entre la salida y la variable objetivo. Mide la precisión del modelo durante \n",
    "# el entrenamiento y queremos minimizar esta función.\n",
    "# metrics: Son las métricas que se desan calcular durante el entrenamiento. mide la fracción de imágenes que \n",
    "# están clasificadas correctamente.\n",
    "\n",
    "model.compile(\n",
    "    optimizer='adam',\n",
    "    loss='categorical_crossentropy',\n",
    "    metrics=['accuracy']\n",
    ")\n",
    "\n",
    "# Resumen de parámetros del modelo\n",
    "model.summary()\n",
    "\n",
    "# ENTRENAMIENTO\n",
    "model.fit(X_train, y_train, epochs=15)\n",
    "\n",
    "# EVALUACIÓN\n",
    "test_loss, test_acc = model.evaluate(X_test, y_test, verbose=2)\n",
    "print('\\nTest accuracy:', test_acc)"
   ]
  },
  {
   "cell_type": "code",
   "execution_count": 8,
   "metadata": {},
   "outputs": [],
   "source": [
    "model.save('my_model.h5')"
   ]
  },
  {
   "cell_type": "code",
   "execution_count": 9,
   "metadata": {},
   "outputs": [
    {
     "data": {
      "text/plain": [
       "array([[1, 0, 0, 0],\n",
       "       [1, 0, 0, 0],\n",
       "       [1, 0, 0, 0],\n",
       "       ...,\n",
       "       [0, 0, 0, 1],\n",
       "       [1, 0, 0, 0],\n",
       "       [1, 0, 0, 0]])"
      ]
     },
     "execution_count": 9,
     "metadata": {},
     "output_type": "execute_result"
    }
   ],
   "source": [
    "y_train"
   ]
  },
  {
   "cell_type": "code",
   "execution_count": 10,
   "metadata": {},
   "outputs": [
    {
     "data": {
      "text/plain": [
       "array([[437., 326., 234., 231., 272., 205.],\n",
       "       [240., 227., 126., 118., 148., 121.],\n",
       "       [274., 238., 140., 121., 149., 119.],\n",
       "       ...,\n",
       "       [175.,  98.,   3.,  -7.,  47.,  40.],\n",
       "       [184., 162.,  84.,  80., 124., 102.],\n",
       "       [269., 174.,  70.,  50.,  81.,  62.]])"
      ]
     },
     "execution_count": 10,
     "metadata": {},
     "output_type": "execute_result"
    }
   ],
   "source": [
    "X_train"
   ]
  },
  {
   "cell_type": "code",
   "execution_count": 11,
   "metadata": {},
   "outputs": [],
   "source": [
    "def predict_with_class(model,instance=[]):\n",
    "    proba = model.predict([[ instance ]])\n",
    "    index = np.argmax(proba)\n",
    "    # classes = ['agua','bosque','agua_o_bosque','ninguno']\n",
    "    classes = [1,2,3,4]\n",
    "    return classes[index]"
   ]
  },
  {
   "cell_type": "code",
   "execution_count": 12,
   "metadata": {},
   "outputs": [
    {
     "data": {
      "text/plain": [
       "1"
      ]
     },
     "execution_count": 12,
     "metadata": {},
     "output_type": "execute_result"
    }
   ],
   "source": [
    "predict_with_class(model,[267,175,70,52,87,73])"
   ]
  },
  {
   "cell_type": "code",
   "execution_count": 13,
   "metadata": {},
   "outputs": [
    {
     "data": {
      "text/plain": [
       "{'green': <xarray.DataArray 'green' (y: 3687, x: 3705)>\n",
       " array([[ 275.5,  260. ,  218. , ..., 1076. ,  999. ,  950.5],\n",
       "        [ 325. ,  251. ,  264.5, ..., 1017. , 1002.5,  859. ],\n",
       "        [ 278. ,  322. ,  262.5, ...,  961. ,  880.5,  801.5],\n",
       "        ...,\n",
       "        [ 562. ,  599. ,  553. , ..., 1085.5, 1022. , 1139. ],\n",
       "        [ 541. ,  564. ,  568. , ...,  879.5,  782. ,  803. ],\n",
       "        [ 495. ,  509. ,  566. , ...,  973. ,  869. ,  793. ]], dtype=float32)\n",
       " Coordinates:\n",
       "   * x        (x) float64 -73.0 -73.0 -73.0 -73.0 -73.0 -73.0 -73.0 -73.0 ...\n",
       "   * y        (y) float64 12.0 12.0 12.0 12.0 12.0 12.0 12.0 12.0 12.0 12.0 ...\n",
       " Attributes:\n",
       "     crs:        +init=epsg:4326\n",
       "     transform:  (0.0002699949999999989, 0.0, -73.00016812, 0.0, -0.0002713020...,\n",
       " 'swir2': <xarray.DataArray 'swir2' (y: 3687, x: 3705)>\n",
       " array([[ 181. ,  175.5,  155. , ..., 2120.5, 2009. , 1928. ],\n",
       "        [ 205. ,  168.5,  178.5, ..., 2081. , 2016.5, 1807. ],\n",
       "        [ 181. ,  185. ,  176. , ..., 2096. , 1915. , 1777. ],\n",
       "        ...,\n",
       "        [ 815. ,  884. ,  815. , ..., 1032. , 1271. , 2090.5],\n",
       "        [ 807. ,  855. ,  866. , ..., 1507. , 1274. , 1364. ],\n",
       "        [ 699. ,  782. ,  852. , ..., 1195. , 1026. , 1370. ]], dtype=float32)\n",
       " Coordinates:\n",
       "   * x        (x) float64 -73.0 -73.0 -73.0 -73.0 -73.0 -73.0 -73.0 -73.0 ...\n",
       "   * y        (y) float64 12.0 12.0 12.0 12.0 12.0 12.0 12.0 12.0 12.0 12.0 ...\n",
       " Attributes:\n",
       "     crs:        +init=epsg:4326\n",
       "     transform:  (0.0002699949999999989, 0.0, -73.00016812, 0.0, -0.0002713020...,\n",
       " 'nir': <xarray.DataArray 'nir' (y: 3687, x: 3705)>\n",
       " array([[ 213.5,  196.5,  153. , ..., 2378. , 2290. , 2236. ],\n",
       "        [ 251. ,  196.5,  194.5, ..., 2366. , 2334.5, 2140. ],\n",
       "        [ 204. ,  245. ,  195. , ..., 2306. , 2188.5, 2111.5],\n",
       "        ...,\n",
       "        [3948. , 3969. , 4103. , ..., 4025.5, 3753. , 3041. ],\n",
       "        [4188. , 3996. , 4070. , ..., 3046.5, 2967.5, 2902.5],\n",
       "        [4174. , 3999. , 3925. , ..., 2581. , 2745. , 2749. ]], dtype=float32)\n",
       " Coordinates:\n",
       "   * x        (x) float64 -73.0 -73.0 -73.0 -73.0 -73.0 -73.0 -73.0 -73.0 ...\n",
       "   * y        (y) float64 12.0 12.0 12.0 12.0 12.0 12.0 12.0 12.0 12.0 12.0 ...\n",
       " Attributes:\n",
       "     crs:        +init=epsg:4326\n",
       "     transform:  (0.0002699949999999989, 0.0, -73.00016812, 0.0, -0.0002713020...,\n",
       " 'blue': <xarray.DataArray 'blue' (y: 3687, x: 3705)>\n",
       " array([[377. , 372. , 322. , ..., 639.5, 608.5, 593.5],\n",
       "        [443. , 367.5, 361. , ..., 630.5, 630. , 559.5],\n",
       "        [406. , 405. , 354.5, ..., 600.5, 563.5, 520. ],\n",
       "        ...,\n",
       "        [227. , 258. , 230. , ..., 431. , 434. , 731.5],\n",
       "        [214. , 230. , 254. , ..., 434.5, 396.5, 406. ],\n",
       "        [202. , 211. , 238. , ..., 478. , 384. , 412. ]], dtype=float32)\n",
       " Coordinates:\n",
       "   * x        (x) float64 -73.0 -73.0 -73.0 -73.0 -73.0 -73.0 -73.0 -73.0 ...\n",
       "   * y        (y) float64 12.0 12.0 12.0 12.0 12.0 12.0 12.0 12.0 12.0 12.0 ...\n",
       " Attributes:\n",
       "     crs:        +init=epsg:4326\n",
       "     transform:  (0.0002699949999999989, 0.0, -73.00016812, 0.0, -0.0002713020...,\n",
       " 'red': <xarray.DataArray 'red' (y: 3687, x: 3705)>\n",
       " array([[ 215. ,  197. ,  157. , ..., 1364.5, 1287. , 1197.5],\n",
       "        [ 254. ,  189. ,  196.5, ..., 1316. , 1293. , 1096.5],\n",
       "        [ 209. ,  244. ,  202. , ..., 1261. , 1144. , 1026. ],\n",
       "        ...,\n",
       "        [ 348. ,  377. ,  331. , ...,  879.5,  898.5, 1263. ],\n",
       "        [ 332. ,  375. ,  366. , ...,  986.5,  880. ,  864. ],\n",
       "        [ 291. ,  323. ,  390. , ..., 1122. ,  838. ,  757. ]], dtype=float32)\n",
       " Coordinates:\n",
       "   * x        (x) float64 -73.0 -73.0 -73.0 -73.0 -73.0 -73.0 -73.0 -73.0 ...\n",
       "   * y        (y) float64 12.0 12.0 12.0 12.0 12.0 12.0 12.0 12.0 12.0 12.0 ...\n",
       " Attributes:\n",
       "     crs:        +init=epsg:4326\n",
       "     transform:  (0.0002699949999999989, 0.0, -73.00016812, 0.0, -0.0002713020...,\n",
       " 'swir1': <xarray.DataArray 'swir1' (y: 3687, x: 3705)>\n",
       " array([[ 213.5,  209.5,  174. , ..., 3082. , 2968.5, 2879. ],\n",
       "        [ 250. ,  202.5,  212. , ..., 3088. , 2990. , 2769. ],\n",
       "        [ 224. ,  233. ,  201.5, ..., 3104.5, 2929.5, 2784. ],\n",
       "        ...,\n",
       "        [1914. , 1992. , 1931. , ..., 2083. , 2328.5, 3018. ],\n",
       "        [1986. , 2067. , 1990. , ..., 2491. , 2154. , 2241.5],\n",
       "        [1816. , 1924. , 2060. , ..., 2012. , 1811. , 2165. ]], dtype=float32)\n",
       " Coordinates:\n",
       "   * x        (x) float64 -73.0 -73.0 -73.0 -73.0 -73.0 -73.0 -73.0 -73.0 ...\n",
       "   * y        (y) float64 12.0 12.0 12.0 12.0 12.0 12.0 12.0 12.0 12.0 12.0 ...\n",
       " Attributes:\n",
       "     crs:        +init=epsg:4326\n",
       "     transform:  (0.0002699949999999989, 0.0, -73.00016812, 0.0, -0.0002713020...}"
      ]
     },
     "execution_count": 13,
     "metadata": {},
     "output_type": "execute_result"
    }
   ],
   "source": [
    "path = '../data/prueba/pequena.tif'\n",
    "\n",
    "def get_bands_positions(path):\n",
    "    \"\"\"\n",
    "    Permite obtener las posiciones y los nombres de las bandas\n",
    "    a partir de los metadatos de la imágen tif.\n",
    "    \n",
    "    [(1, 'green'), (2, 'swir2'), (3, 'nir'), (4, 'blue'), (5, 'red'), (6, 'swir1')]\n",
    "    \"\"\"\n",
    "    ds = gdal.Open(path)\n",
    "    # Extracción de los metadatos del tif\n",
    "    metadata = ds.GetMetadata()\n",
    "    # Extracción de la posición y nombre de las bandas\n",
    "    positions = [ (int(k[-1]) - 1,v) for k,v in metadata.items() if 'Band_' in k ]\n",
    "    \n",
    "    return positions\n",
    "\n",
    "\n",
    "def load_ideam_geotif(path):\n",
    "    \n",
    "    positions = get_bands_positions(path)\n",
    "    \n",
    "    data_array = xr.open_rasterio(path)\n",
    "\n",
    "    # Define las coordenadas de los puntos\n",
    "    coords = { \n",
    "        'x':data_array.x.values, \n",
    "        'y':data_array.y.values \n",
    "    }\n",
    "    \n",
    "    # Define el orden de las dimensiones\n",
    "    dims = ('y','x')\n",
    "    \n",
    "    # Define los metadatos o atributos\n",
    "    attrs = {\n",
    "        'crs': data_array.crs,\n",
    "        'transform': data_array.transform\n",
    "    }\n",
    "    \n",
    "    data = {}\n",
    "    for band_index, band_name in positions:\n",
    "        data[band_name] = xr.DataArray(\n",
    "            data=data_array.values[band_index], \n",
    "            coords=coords, \n",
    "            dims=dims, \n",
    "            name=band_name, \n",
    "            attrs=attrs\n",
    "        )\n",
    "    \n",
    "    return data\n",
    "\n",
    "tif = load_ideam_geotif(path)\n",
    "tif"
   ]
  },
  {
   "cell_type": "code",
   "execution_count": 14,
   "metadata": {},
   "outputs": [
    {
     "data": {
      "text/plain": [
       "array([[[ 275.5,  260. ,  218. , ..., 1076. ,  999. ,  950.5],\n",
       "        [ 325. ,  251. ,  264.5, ..., 1017. , 1002.5,  859. ],\n",
       "        [ 278. ,  322. ,  262.5, ...,  961. ,  880.5,  801.5],\n",
       "        ...,\n",
       "        [ 562. ,  599. ,  553. , ..., 1085.5, 1022. , 1139. ],\n",
       "        [ 541. ,  564. ,  568. , ...,  879.5,  782. ,  803. ],\n",
       "        [ 495. ,  509. ,  566. , ...,  973. ,  869. ,  793. ]],\n",
       "\n",
       "       [[ 181. ,  175.5,  155. , ..., 2120.5, 2009. , 1928. ],\n",
       "        [ 205. ,  168.5,  178.5, ..., 2081. , 2016.5, 1807. ],\n",
       "        [ 181. ,  185. ,  176. , ..., 2096. , 1915. , 1777. ],\n",
       "        ...,\n",
       "        [ 815. ,  884. ,  815. , ..., 1032. , 1271. , 2090.5],\n",
       "        [ 807. ,  855. ,  866. , ..., 1507. , 1274. , 1364. ],\n",
       "        [ 699. ,  782. ,  852. , ..., 1195. , 1026. , 1370. ]],\n",
       "\n",
       "       [[ 213.5,  196.5,  153. , ..., 2378. , 2290. , 2236. ],\n",
       "        [ 251. ,  196.5,  194.5, ..., 2366. , 2334.5, 2140. ],\n",
       "        [ 204. ,  245. ,  195. , ..., 2306. , 2188.5, 2111.5],\n",
       "        ...,\n",
       "        [3948. , 3969. , 4103. , ..., 4025.5, 3753. , 3041. ],\n",
       "        [4188. , 3996. , 4070. , ..., 3046.5, 2967.5, 2902.5],\n",
       "        [4174. , 3999. , 3925. , ..., 2581. , 2745. , 2749. ]],\n",
       "\n",
       "       [[ 377. ,  372. ,  322. , ...,  639.5,  608.5,  593.5],\n",
       "        [ 443. ,  367.5,  361. , ...,  630.5,  630. ,  559.5],\n",
       "        [ 406. ,  405. ,  354.5, ...,  600.5,  563.5,  520. ],\n",
       "        ...,\n",
       "        [ 227. ,  258. ,  230. , ...,  431. ,  434. ,  731.5],\n",
       "        [ 214. ,  230. ,  254. , ...,  434.5,  396.5,  406. ],\n",
       "        [ 202. ,  211. ,  238. , ...,  478. ,  384. ,  412. ]],\n",
       "\n",
       "       [[ 215. ,  197. ,  157. , ..., 1364.5, 1287. , 1197.5],\n",
       "        [ 254. ,  189. ,  196.5, ..., 1316. , 1293. , 1096.5],\n",
       "        [ 209. ,  244. ,  202. , ..., 1261. , 1144. , 1026. ],\n",
       "        ...,\n",
       "        [ 348. ,  377. ,  331. , ...,  879.5,  898.5, 1263. ],\n",
       "        [ 332. ,  375. ,  366. , ...,  986.5,  880. ,  864. ],\n",
       "        [ 291. ,  323. ,  390. , ..., 1122. ,  838. ,  757. ]],\n",
       "\n",
       "       [[ 213.5,  209.5,  174. , ..., 3082. , 2968.5, 2879. ],\n",
       "        [ 250. ,  202.5,  212. , ..., 3088. , 2990. , 2769. ],\n",
       "        [ 224. ,  233. ,  201.5, ..., 3104.5, 2929.5, 2784. ],\n",
       "        ...,\n",
       "        [1914. , 1992. , 1931. , ..., 2083. , 2328.5, 3018. ],\n",
       "        [1986. , 2067. , 1990. , ..., 2491. , 2154. , 2241.5],\n",
       "        [1816. , 1924. , 2060. , ..., 2012. , 1811. , 2165. ]]],\n",
       "      dtype=float32)"
      ]
     },
     "execution_count": 14,
     "metadata": {},
     "output_type": "execute_result"
    }
   ],
   "source": [
    "path = '../data/prueba/pequena.tif'\n",
    "data = xr.open_rasterio(path)\n",
    "inv = data[dict(band=slice(0, 6))].values\n",
    "inv"
   ]
  },
  {
   "cell_type": "code",
   "execution_count": 15,
   "metadata": {},
   "outputs": [],
   "source": [
    "def predict(*instance):\n",
    "    print(instance)\n",
    "    proba = model.predict([[ instance ]])\n",
    "    index = np.argmax(proba)\n",
    "    # classes = ['agua','bosque','agua_o_bosque','ninguno']\n",
    "    classes = [1,2,3,4]\n",
    "    return classes[index]"
   ]
  },
  {
   "cell_type": "code",
   "execution_count": 16,
   "metadata": {},
   "outputs": [],
   "source": [
    "# from dask.distributed import Client, progress\n",
    "# from distributed.diagnostics import progress\n",
    "\n",
    "# import dask.array as da\n",
    "# from time import sleep\n",
    "\n",
    "# import warnings\n",
    "# warnings.filterwarnings(action='ignore')\n",
    "\n",
    "# import logging\n",
    "# logger = logging.getLogger(\"distributed.utils_perf\")\n",
    "# logger.setLevel(logging.ERROR)\n",
    "\n",
    "# from dask.diagnostics import ProgressBar\n",
    "# ProgressBar().register()\n",
    "\n",
    "# client = Client(processes=False, threads_per_worker=4,n_workers=1, memory_limit='2GB')\n",
    "# client"
   ]
  },
  {
   "cell_type": "code",
   "execution_count": 17,
   "metadata": {},
   "outputs": [],
   "source": [
    "# data = xr.open_rasterio('../data/prueba/pequena.tif',chunks={'band': 6, 'x': 1024, 'y': 1024})\n",
    "# data.variable.data"
   ]
  },
  {
   "cell_type": "code",
   "execution_count": 18,
   "metadata": {},
   "outputs": [],
   "source": [
    "# import warnings\n",
    "# warnings.filterwarnings('once')\n",
    "\n",
    "# # import logging\n",
    "# # logger = logging.getLogger(\"distributed.utils_perf\")\n",
    "# # logger.setLevel(logging.ERROR)\n",
    "\n",
    "# from dask.diagnostics import ProgressBar\n",
    "# ProgressBar().register()\n",
    "\n",
    "# def hola(*instance):\n",
    "#     print(instance)\n",
    "#     return 1\n",
    "\n",
    "# with ProgressBar():\n",
    "# client = Client(processes=False, threads_per_worker=1,n_workers=1, memory_limit='2GB')\n",
    "# client\n",
    "# future = np.apply_along_axis(predict, 0, data)\n",
    "# future.compute()"
   ]
  },
  {
   "cell_type": "code",
   "execution_count": 19,
   "metadata": {},
   "outputs": [],
   "source": [
    "# np.apply_along_axis(predict, 0, inv)"
   ]
  },
  {
   "cell_type": "code",
   "execution_count": 20,
   "metadata": {},
   "outputs": [],
   "source": [
    "# np.apply_along_axis(sum, 0, inv)"
   ]
  },
  {
   "cell_type": "code",
   "execution_count": 21,
   "metadata": {},
   "outputs": [],
   "source": [
    "# blue\tgreen\tred\tnir\tswir1\tswir2\n",
    "# function = lambda *args,**kwags: print(list(args))\n",
    "# xr.apply_ufunc(function, tif['blue'].values, tif['green'].values,tif['red'].values,tif['nir'].values,tif['swir1'].values,tif['swir2'].values)"
   ]
  },
  {
   "cell_type": "code",
   "execution_count": 22,
   "metadata": {},
   "outputs": [],
   "source": [
    "# vpredict([tif['blue'].values, tif['green'].values,tif['red'].values,tif['nir'].values,tif['swir1'].values,tif['swir2'].values])"
   ]
  },
  {
   "cell_type": "code",
   "execution_count": 23,
   "metadata": {},
   "outputs": [],
   "source": [
    "# sum([tif['blue'].values, tif['green'].values,tif['red'].values,tif['nir'].values,tif['swir1'].values,tif['swir2'].values])"
   ]
  },
  {
   "cell_type": "code",
   "execution_count": 24,
   "metadata": {},
   "outputs": [],
   "source": [
    "# tif['green'].values"
   ]
  },
  {
   "cell_type": "code",
   "execution_count": 25,
   "metadata": {},
   "outputs": [],
   "source": [
    "# len(tif)"
   ]
  },
  {
   "cell_type": "code",
   "execution_count": 26,
   "metadata": {},
   "outputs": [],
   "source": [
    "# tif['red'].plot()"
   ]
  },
  {
   "cell_type": "code",
   "execution_count": 27,
   "metadata": {},
   "outputs": [],
   "source": [
    "# shape = tif['red'].shape\n",
    "# result = np.zeros(shape=shape)\n",
    "# shape"
   ]
  },
  {
   "cell_type": "code",
   "execution_count": 28,
   "metadata": {},
   "outputs": [],
   "source": [
    "# max_data = 27667864\n",
    "# max_data = 10000\n",
    "# len(np.indices((7373, 7408))[0])\n",
    "# data_points = np.argwhere(~np.isnan(tif['blue'].values))\n",
    "# data_points\n",
    "# data_points = random.sample(list(data_points), max_data)\n",
    "# data_points = list(data_points)[:max_data]\n",
    "\n",
    "# data_list = \n",
    "# def process(i,j):\n",
    "# for i,j in data_points:\n",
    "# def compute():\n",
    "#     shape_i = tif['blue'].shape[0]\n",
    "#     shape_j = tif['blue'].shape[1]\n",
    "\n",
    "#     for i in range(shape_i):\n",
    "#         for j in range(shape_j):\n",
    "#             blue = tif['blue'].values[i,j]\n",
    "#             green = tif['green'].values[i,j]\n",
    "#             red = tif['red'].values[i,j]\n",
    "#             nir = tif['nir'].values[i,j]\n",
    "#             swir1 = tif['swir1'].values[i,j]\n",
    "#             swir2 = tif['swir2'].values[i,j]\n",
    "#             instance = [blue,green,red,nir,swir1,swir2]\n",
    "#             result[i,j] = predict_with_class(model,instance)\n",
    "#     #         result[i,j] = 1\n",
    "\n",
    "# %time compute()"
   ]
  },
  {
   "cell_type": "code",
   "execution_count": 29,
   "metadata": {},
   "outputs": [],
   "source": [
    "# show(result)"
   ]
  },
  {
   "cell_type": "code",
   "execution_count": 30,
   "metadata": {},
   "outputs": [],
   "source": [
    "# result"
   ]
  },
  {
   "cell_type": "code",
   "execution_count": 31,
   "metadata": {},
   "outputs": [],
   "source": [
    "# from dask.distributed import Client, progress\n",
    "# import dask.array as da"
   ]
  },
  {
   "cell_type": "code",
   "execution_count": 32,
   "metadata": {},
   "outputs": [],
   "source": [
    "# client = Client(processes=False, threads_per_worker=4,n_workers=1, memory_limit='20GB')\n",
    "# client"
   ]
  },
  {
   "cell_type": "code",
   "execution_count": 33,
   "metadata": {},
   "outputs": [],
   "source": [
    "# x = da.random.random((10000, 10000), chunks=(1000, 1000))\n",
    "# type(x)"
   ]
  },
  {
   "cell_type": "code",
   "execution_count": 34,
   "metadata": {},
   "outputs": [],
   "source": [
    "# y = x + x.T\n",
    "# z = y[::2, 5000:].mean(axis=1)\n",
    "# z"
   ]
  },
  {
   "cell_type": "code",
   "execution_count": 35,
   "metadata": {},
   "outputs": [],
   "source": [
    "# y.compute()"
   ]
  }
 ],
 "metadata": {
  "kernelspec": {
   "display_name": "Python 3",
   "language": "python",
   "name": "python3"
  },
  "language_info": {
   "codemirror_mode": {
    "name": "ipython",
    "version": 3
   },
   "file_extension": ".py",
   "mimetype": "text/x-python",
   "name": "python",
   "nbconvert_exporter": "python",
   "pygments_lexer": "ipython3",
   "version": "3.6.5"
  }
 },
 "nbformat": 4,
 "nbformat_minor": 2
}
