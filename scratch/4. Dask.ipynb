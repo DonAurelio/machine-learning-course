{
 "cells": [
  {
   "cell_type": "code",
   "execution_count": 1,
   "metadata": {},
   "outputs": [],
   "source": [
    "%matplotlib inline\n",
    "\n",
    "from dask.distributed import Client, progress\n",
    "import dask.array as da\n",
    "import xarray as xr\n",
    "\n",
    "\n",
    "import matplotlib.pyplot as plt\n",
    "import numpy as np\n",
    "\n",
    "import warnings\n",
    "warnings.filterwarnings('once')\n",
    "\n",
    "import logging\n",
    "logger = logging.getLogger(\"distributed.utils_perf\")\n",
    "logger.setLevel(logging.ERROR)\n",
    "\n",
    "from dask.diagnostics import ProgressBar"
   ]
  },
  {
   "cell_type": "code",
   "execution_count": null,
   "metadata": {},
   "outputs": [],
   "source": [
    "client = Client(processes=False, threads_per_worker=4,n_workers=1, memory_limit='2GB')\n",
    "\n",
    "client"
   ]
  },
  {
   "cell_type": "code",
   "execution_count": null,
   "metadata": {},
   "outputs": [],
   "source": [
    "data = xr.open_rasterio('../data/prueba/pequena.tif',chunks={'band': 6, 'x': 1024, 'y': 1024})\n",
    "data.variable.data"
   ]
  },
  {
   "cell_type": "code",
   "execution_count": null,
   "metadata": {},
   "outputs": [],
   "source": [
    "from keras.models import load_model\n",
    "model = load_model('my_model.h5')\n",
    "\n",
    "def predict_with_class(model,instance=[]):\n",
    "    proba = model.predict([[ instance ]])\n",
    "    index = np.argmax(proba)\n",
    "    # classes = ['agua','bosque','agua_o_bosque','ninguno']\n",
    "    classes = [1,2,3,4]\n",
    "    return classes[index]\n",
    "\n",
    "def predict(*instance):\n",
    "    print(instance,len(instance[0]))\n",
    "    if len(instance) == 6:\n",
    "        proba = model.predict([[ instance ]])\n",
    "        index = np.argmax(proba)\n",
    "        # classes = ['agua','bosque','agua_o_bosque','ninguno']\n",
    "        classes = [1,2,3,4]\n",
    "        return classes[index]\n",
    "    return -1"
   ]
  },
  {
   "cell_type": "code",
   "execution_count": null,
   "metadata": {},
   "outputs": [],
   "source": [
    "import dask.array as da\n",
    "from time import sleep\n",
    "from distributed.diagnostics import progress\n",
    "\n",
    "from dask.diagnostics import ProgressBar\n",
    "ProgressBar().register()\n",
    "\n",
    "def hola(*instance):\n",
    "    print(instance)\n",
    "    return 1\n",
    "\n",
    "# with ProgressBar():\n",
    "# da.apply_along_axis(sum, 0, data).compute()\n",
    "future = da.apply_along_axis(predict, 0, data)\n",
    "future.compute()"
   ]
  },
  {
   "cell_type": "code",
   "execution_count": null,
   "metadata": {},
   "outputs": [],
   "source": [
    "data[1].values"
   ]
  },
  {
   "cell_type": "code",
   "execution_count": null,
   "metadata": {},
   "outputs": [],
   "source": [
    "print(data[0].values) \n",
    "print(data[1].values) \n",
    "print(data[2].values) \n",
    "print(data[3].values) \n",
    "print(data[4].values) \n",
    "print(data[5].values) "
   ]
  },
  {
   "cell_type": "code",
   "execution_count": null,
   "metadata": {},
   "outputs": [],
   "source": [
    "print('Pixel Band Value:', data[0][0][0])\n",
    "print('Pixel Band Value:', data[1][0][0])\n",
    "print('Pixel Band Value:', data[2][0][0])\n",
    "print('Pixel Band Value:', data[3][0][0])\n",
    "print('Pixel Band Value:', data[4][0][0])\n",
    "print('Pixel Band Value:', data[5][0][0])"
   ]
  },
  {
   "cell_type": "code",
   "execution_count": null,
   "metadata": {},
   "outputs": [],
   "source": [
    "data[dict(band=slice(1, 6))].values"
   ]
  },
  {
   "cell_type": "code",
   "execution_count": null,
   "metadata": {},
   "outputs": [],
   "source": [
    "inv = data[dict(band=slice(1, 6))].values\n",
    "inv"
   ]
  },
  {
   "cell_type": "code",
   "execution_count": null,
   "metadata": {},
   "outputs": [],
   "source": [
    "np.apply_along_axis(sum, 0, inv)"
   ]
  },
  {
   "cell_type": "code",
   "execution_count": null,
   "metadata": {},
   "outputs": [],
   "source": [
    "function = lambda *args,**kwags: sum(list(args))\n",
    "xr.apply_ufunc(function, inv[0], inv[1],inv[2],inv[3],inv[4])"
   ]
  },
  {
   "cell_type": "code",
   "execution_count": null,
   "metadata": {},
   "outputs": [],
   "source": []
  },
  {
   "cell_type": "code",
   "execution_count": null,
   "metadata": {},
   "outputs": [],
   "source": [
    "# inv = data[dict(band=slice(1, 6))]\n",
    "# inv.shape"
   ]
  },
  {
   "cell_type": "code",
   "execution_count": null,
   "metadata": {},
   "outputs": [],
   "source": [
    "# function = lambda *args,**kwags: sum(list(args))\n",
    "# inv.apply_ufunc(function,dim=0)"
   ]
  },
  {
   "cell_type": "code",
   "execution_count": null,
   "metadata": {},
   "outputs": [],
   "source": [
    "slice(1, 6)"
   ]
  },
  {
   "cell_type": "code",
   "execution_count": null,
   "metadata": {},
   "outputs": [],
   "source": [
    "# from spectral import *\n",
    "\n",
    "# img = open_image('../data/prueba/pequena.tif')\n",
    "# view = imshow(img, (29, 19, 9))\n",
    "\n",
    "import rasterio\n",
    "from rasterio.plot import show\n",
    "src = rasterio.open('../data/prueba/pequena.tif')\n",
    "\n",
    "show(src)\n",
    "# src"
   ]
  },
  {
   "cell_type": "markdown",
   "metadata": {},
   "source": [
    "* https://gis.stackexchange.com/questions/306164/how-to-visualize-multiband-imagery-using-rasterio/306195\n",
    "* https://examples.dask.org/applications/satellite-imagery-geotiff.html\n",
    "* https://rabernat.github.io/research_computing/xarray.html"
   ]
  },
  {
   "cell_type": "code",
   "execution_count": null,
   "metadata": {},
   "outputs": [],
   "source": [
    "import rasterio\n",
    "import numpy as np\n",
    "import matplotlib.pyplot as plt\n",
    "\n",
    "# Open the file:\n",
    "raster = rasterio.open('../data/prueba/pequena.tif')\n",
    "\n",
    "# Normalize bands into 0.0 - 1.0 scale\n",
    "def normalize(array):\n",
    "    array_min, array_max = array.min(), array.max()\n",
    "    return (array - array_min) / (array_max - array_min)\n",
    "\n",
    "# Convert to numpy arrays\n",
    "nir = raster.read(4)\n",
    "red = raster.read(3)\n",
    "green = raster.read(2)\n",
    "\n",
    "# Normalize band DN\n",
    "nir_norm = normalize(nir)\n",
    "red_norm = normalize(red)\n",
    "green_norm = normalize(green)\n",
    "\n",
    "# Stack bands\n",
    "nrg = np.dstack((nir_norm, red_norm, green_norm))\n",
    "\n",
    "# View the color composite\n",
    "plt.imshow(nrg)"
   ]
  },
  {
   "cell_type": "code",
   "execution_count": null,
   "metadata": {},
   "outputs": [],
   "source": [
    "red = xr.open_rasterio('../data/prueba/pequena.tif', chunks={'band': 1, 'x': 1024, 'y': 1024})"
   ]
  },
  {
   "cell_type": "code",
   "execution_count": null,
   "metadata": {},
   "outputs": [],
   "source": [
    "red[0].variable.data"
   ]
  }
 ],
 "metadata": {
  "kernelspec": {
   "display_name": "Python 3",
   "language": "python",
   "name": "python3"
  },
  "language_info": {
   "codemirror_mode": {
    "name": "ipython",
    "version": 3
   },
   "file_extension": ".py",
   "mimetype": "text/x-python",
   "name": "python",
   "nbconvert_exporter": "python",
   "pygments_lexer": "ipython3",
   "version": "3.6.5"
  }
 },
 "nbformat": 4,
 "nbformat_minor": 2
}
