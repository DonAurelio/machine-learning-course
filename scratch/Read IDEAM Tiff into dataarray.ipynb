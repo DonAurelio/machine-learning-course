{
 "cells": [
  {
   "cell_type": "code",
   "execution_count": null,
   "metadata": {},
   "outputs": [],
   "source": [
    "path = '../data/prueba/pequena.tif'\n",
    "\n",
    "def get_bands_positions(path):\n",
    "    \"\"\"\n",
    "    Permite obtener las posiciones y los nombres de las bandas\n",
    "    a partir de los metadatos de la imágen tif.\n",
    "    \n",
    "    [(1, 'green'), (2, 'swir2'), (3, 'nir'), (4, 'blue'), (5, 'red'), (6, 'swir1')]\n",
    "    \"\"\"\n",
    "    ds = gdal.Open(path)\n",
    "    # Extracción de los metadatos del tif\n",
    "    metadata = ds.GetMetadata()\n",
    "    # Extracción de la posición y nombre de las bandas\n",
    "    positions = [ (int(k[-1]) - 1,v) for k,v in metadata.items() if 'Band_' in k ]\n",
    "    \n",
    "    return positions\n",
    "\n",
    "\n",
    "def load_ideam_geotif(path):\n",
    "    \n",
    "    positions = get_bands_positions(path)\n",
    "    \n",
    "    data_array = xr.open_rasterio(path)\n",
    "\n",
    "    # Define las coordenadas de los puntos\n",
    "    coords = { \n",
    "        'x':data_array.x.values, \n",
    "        'y':data_array.y.values \n",
    "    }\n",
    "    \n",
    "    # Define el orden de las dimensiones\n",
    "    dims = ('y','x')\n",
    "    \n",
    "    # Define los metadatos o atributos\n",
    "    attrs = {\n",
    "        'crs': data_array.crs,\n",
    "        'transform': data_array.transform\n",
    "    }\n",
    "    \n",
    "    data = {}\n",
    "    for band_index, band_name in positions:\n",
    "        data[band_name] = xr.DataArray(\n",
    "            data=data_array.values[band_index], \n",
    "            coords=coords, \n",
    "            dims=dims, \n",
    "            name=band_name, \n",
    "            attrs=attrs\n",
    "        )\n",
    "    \n",
    "    return data\n",
    "\n",
    "tif = load_ideam_geotif(path)\n",
    "tif\n"
   ]
  }
 ],
 "metadata": {
  "kernelspec": {
   "display_name": "Python 3",
   "language": "python",
   "name": "python3"
  },
  "language_info": {
   "codemirror_mode": {
    "name": "ipython",
    "version": 3
   },
   "file_extension": ".py",
   "mimetype": "text/x-python",
   "name": "python",
   "nbconvert_exporter": "python",
   "pygments_lexer": "ipython3",
   "version": "3.6.5"
  }
 },
 "nbformat": 4,
 "nbformat_minor": 2
}
